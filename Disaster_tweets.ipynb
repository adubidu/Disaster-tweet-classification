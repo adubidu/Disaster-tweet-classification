{
 "cells": [
  {
   "cell_type": "code",
   "execution_count": 897,
   "metadata": {},
   "outputs": [],
   "source": [
    "import pandas as pd\n",
    "import numpy as np\n",
    "import seaborn as sb\n",
    "import plotly.graph_objects as go\n",
    "import matplotlib.pyplot  as plt\n",
    "import plotly.express as px\n",
    "from collections import Counter\n",
    "import re\n",
    "import unidecode\n",
    "from nltk.corpus import stopwords\n",
    "from nltk.stem import PorterStemmer\n",
    "import nltk \n",
    "import string     \n",
    "from sklearn.feature_extraction.text import TfidfVectorizer,CountVectorizer\n",
    "from sklearn.model_selection import train_test_split\n",
    "from sklearn.metrics import classification_report,f1_score,confusion_matrix\n",
    "from sklearn.pipeline import Pipeline\n",
    "from sklearn.ensemble import RandomForestClassifier\n",
    "from sklearn.linear_model import LogisticRegression\n",
    "from sklearn.metrics import accuracy_score\n",
    "from sklearn.neighbors import KNeighborsClassifier\n",
    "from sklearn.naive_bayes import GaussianNB,MultinomialNB\n",
    "from sklearn.svm import SVC\n",
    "from sklearn.tree import DecisionTreeClassifier\n",
    "import warnings \n",
    "warnings.filterwarnings(\"ignore\")"
   ]
  },
  {
   "cell_type": "code",
   "execution_count": 898,
   "metadata": {},
   "outputs": [],
   "source": [
    "train = pd.read_csv('Disaster_train.csv')"
   ]
  },
  {
   "cell_type": "code",
   "execution_count": 899,
   "metadata": {},
   "outputs": [
    {
     "data": {
      "text/html": [
       "<div>\n",
       "<style scoped>\n",
       "    .dataframe tbody tr th:only-of-type {\n",
       "        vertical-align: middle;\n",
       "    }\n",
       "\n",
       "    .dataframe tbody tr th {\n",
       "        vertical-align: top;\n",
       "    }\n",
       "\n",
       "    .dataframe thead th {\n",
       "        text-align: right;\n",
       "    }\n",
       "</style>\n",
       "<table border=\"1\" class=\"dataframe\">\n",
       "  <thead>\n",
       "    <tr style=\"text-align: right;\">\n",
       "      <th></th>\n",
       "      <th>id</th>\n",
       "      <th>keyword</th>\n",
       "      <th>location</th>\n",
       "      <th>text</th>\n",
       "      <th>target</th>\n",
       "    </tr>\n",
       "  </thead>\n",
       "  <tbody>\n",
       "    <tr>\n",
       "      <td>0</td>\n",
       "      <td>1</td>\n",
       "      <td>NaN</td>\n",
       "      <td>NaN</td>\n",
       "      <td>Our Deeds are the Reason of this #earthquake M...</td>\n",
       "      <td>1</td>\n",
       "    </tr>\n",
       "    <tr>\n",
       "      <td>1</td>\n",
       "      <td>4</td>\n",
       "      <td>NaN</td>\n",
       "      <td>NaN</td>\n",
       "      <td>Forest fire near La Ronge Sask. Canada</td>\n",
       "      <td>1</td>\n",
       "    </tr>\n",
       "    <tr>\n",
       "      <td>2</td>\n",
       "      <td>5</td>\n",
       "      <td>NaN</td>\n",
       "      <td>NaN</td>\n",
       "      <td>All residents asked to 'shelter in place' are ...</td>\n",
       "      <td>1</td>\n",
       "    </tr>\n",
       "    <tr>\n",
       "      <td>3</td>\n",
       "      <td>6</td>\n",
       "      <td>NaN</td>\n",
       "      <td>NaN</td>\n",
       "      <td>13,000 people receive #wildfires evacuation or...</td>\n",
       "      <td>1</td>\n",
       "    </tr>\n",
       "    <tr>\n",
       "      <td>4</td>\n",
       "      <td>7</td>\n",
       "      <td>NaN</td>\n",
       "      <td>NaN</td>\n",
       "      <td>Just got sent this photo from Ruby #Alaska as ...</td>\n",
       "      <td>1</td>\n",
       "    </tr>\n",
       "  </tbody>\n",
       "</table>\n",
       "</div>"
      ],
      "text/plain": [
       "   id keyword location                                               text  \\\n",
       "0   1     NaN      NaN  Our Deeds are the Reason of this #earthquake M...   \n",
       "1   4     NaN      NaN             Forest fire near La Ronge Sask. Canada   \n",
       "2   5     NaN      NaN  All residents asked to 'shelter in place' are ...   \n",
       "3   6     NaN      NaN  13,000 people receive #wildfires evacuation or...   \n",
       "4   7     NaN      NaN  Just got sent this photo from Ruby #Alaska as ...   \n",
       "\n",
       "   target  \n",
       "0       1  \n",
       "1       1  \n",
       "2       1  \n",
       "3       1  \n",
       "4       1  "
      ]
     },
     "execution_count": 899,
     "metadata": {},
     "output_type": "execute_result"
    }
   ],
   "source": [
    "#Glance at the train data\n",
    "train.head()"
   ]
  },
  {
   "cell_type": "code",
   "execution_count": 5,
   "metadata": {},
   "outputs": [],
   "source": [
    "test = pd.read_csv('Disaster_test.csv')"
   ]
  },
  {
   "cell_type": "code",
   "execution_count": 6,
   "metadata": {},
   "outputs": [
    {
     "data": {
      "text/html": [
       "<div>\n",
       "<style scoped>\n",
       "    .dataframe tbody tr th:only-of-type {\n",
       "        vertical-align: middle;\n",
       "    }\n",
       "\n",
       "    .dataframe tbody tr th {\n",
       "        vertical-align: top;\n",
       "    }\n",
       "\n",
       "    .dataframe thead th {\n",
       "        text-align: right;\n",
       "    }\n",
       "</style>\n",
       "<table border=\"1\" class=\"dataframe\">\n",
       "  <thead>\n",
       "    <tr style=\"text-align: right;\">\n",
       "      <th></th>\n",
       "      <th>id</th>\n",
       "      <th>keyword</th>\n",
       "      <th>location</th>\n",
       "      <th>text</th>\n",
       "    </tr>\n",
       "  </thead>\n",
       "  <tbody>\n",
       "    <tr>\n",
       "      <td>0</td>\n",
       "      <td>0</td>\n",
       "      <td>NaN</td>\n",
       "      <td>NaN</td>\n",
       "      <td>Just happened a terrible car crash</td>\n",
       "    </tr>\n",
       "    <tr>\n",
       "      <td>1</td>\n",
       "      <td>2</td>\n",
       "      <td>NaN</td>\n",
       "      <td>NaN</td>\n",
       "      <td>Heard about #earthquake is different cities, s...</td>\n",
       "    </tr>\n",
       "    <tr>\n",
       "      <td>2</td>\n",
       "      <td>3</td>\n",
       "      <td>NaN</td>\n",
       "      <td>NaN</td>\n",
       "      <td>there is a forest fire at spot pond, geese are...</td>\n",
       "    </tr>\n",
       "    <tr>\n",
       "      <td>3</td>\n",
       "      <td>9</td>\n",
       "      <td>NaN</td>\n",
       "      <td>NaN</td>\n",
       "      <td>Apocalypse lighting. #Spokane #wildfires</td>\n",
       "    </tr>\n",
       "    <tr>\n",
       "      <td>4</td>\n",
       "      <td>11</td>\n",
       "      <td>NaN</td>\n",
       "      <td>NaN</td>\n",
       "      <td>Typhoon Soudelor kills 28 in China and Taiwan</td>\n",
       "    </tr>\n",
       "  </tbody>\n",
       "</table>\n",
       "</div>"
      ],
      "text/plain": [
       "   id keyword location                                               text\n",
       "0   0     NaN      NaN                 Just happened a terrible car crash\n",
       "1   2     NaN      NaN  Heard about #earthquake is different cities, s...\n",
       "2   3     NaN      NaN  there is a forest fire at spot pond, geese are...\n",
       "3   9     NaN      NaN           Apocalypse lighting. #Spokane #wildfires\n",
       "4  11     NaN      NaN      Typhoon Soudelor kills 28 in China and Taiwan"
      ]
     },
     "execution_count": 6,
     "metadata": {},
     "output_type": "execute_result"
    }
   ],
   "source": [
    "#Glance at the test data\n",
    "test.head()"
   ]
  },
  {
   "cell_type": "code",
   "execution_count": 275,
   "metadata": {},
   "outputs": [
    {
     "name": "stdout",
     "output_type": "stream",
     "text": [
      "(7613, 5)\n",
      "(3263, 4)\n"
     ]
    }
   ],
   "source": [
    "#Checking the shape of train and test data\n",
    "print(train.shape)\n",
    "print(test.shape)"
   ]
  },
  {
   "cell_type": "code",
   "execution_count": 8,
   "metadata": {},
   "outputs": [
    {
     "data": {
      "text/html": [
       "<div>\n",
       "<style scoped>\n",
       "    .dataframe tbody tr th:only-of-type {\n",
       "        vertical-align: middle;\n",
       "    }\n",
       "\n",
       "    .dataframe tbody tr th {\n",
       "        vertical-align: top;\n",
       "    }\n",
       "\n",
       "    .dataframe thead th {\n",
       "        text-align: right;\n",
       "    }\n",
       "</style>\n",
       "<table border=\"1\" class=\"dataframe\">\n",
       "  <thead>\n",
       "    <tr style=\"text-align: right;\">\n",
       "      <th></th>\n",
       "      <th>id</th>\n",
       "      <th>keyword</th>\n",
       "      <th>location</th>\n",
       "      <th>text</th>\n",
       "      <th>target</th>\n",
       "    </tr>\n",
       "  </thead>\n",
       "  <tbody>\n",
       "    <tr>\n",
       "      <td>0</td>\n",
       "      <td>1</td>\n",
       "      <td>NaN</td>\n",
       "      <td>NaN</td>\n",
       "      <td>Our Deeds are the Reason of this #earthquake M...</td>\n",
       "      <td>1</td>\n",
       "    </tr>\n",
       "    <tr>\n",
       "      <td>1</td>\n",
       "      <td>4</td>\n",
       "      <td>NaN</td>\n",
       "      <td>NaN</td>\n",
       "      <td>Forest fire near La Ronge Sask. Canada</td>\n",
       "      <td>1</td>\n",
       "    </tr>\n",
       "    <tr>\n",
       "      <td>2</td>\n",
       "      <td>5</td>\n",
       "      <td>NaN</td>\n",
       "      <td>NaN</td>\n",
       "      <td>All residents asked to 'shelter in place' are ...</td>\n",
       "      <td>1</td>\n",
       "    </tr>\n",
       "    <tr>\n",
       "      <td>3</td>\n",
       "      <td>6</td>\n",
       "      <td>NaN</td>\n",
       "      <td>NaN</td>\n",
       "      <td>13,000 people receive #wildfires evacuation or...</td>\n",
       "      <td>1</td>\n",
       "    </tr>\n",
       "    <tr>\n",
       "      <td>4</td>\n",
       "      <td>7</td>\n",
       "      <td>NaN</td>\n",
       "      <td>NaN</td>\n",
       "      <td>Just got sent this photo from Ruby #Alaska as ...</td>\n",
       "      <td>1</td>\n",
       "    </tr>\n",
       "  </tbody>\n",
       "</table>\n",
       "</div>"
      ],
      "text/plain": [
       "   id keyword location                                               text  \\\n",
       "0   1     NaN      NaN  Our Deeds are the Reason of this #earthquake M...   \n",
       "1   4     NaN      NaN             Forest fire near La Ronge Sask. Canada   \n",
       "2   5     NaN      NaN  All residents asked to 'shelter in place' are ...   \n",
       "3   6     NaN      NaN  13,000 people receive #wildfires evacuation or...   \n",
       "4   7     NaN      NaN  Just got sent this photo from Ruby #Alaska as ...   \n",
       "\n",
       "   target  \n",
       "0       1  \n",
       "1       1  \n",
       "2       1  \n",
       "3       1  \n",
       "4       1  "
      ]
     },
     "execution_count": 8,
     "metadata": {},
     "output_type": "execute_result"
    }
   ],
   "source": [
    "#Let's focus on train data set first\n",
    "train.head()"
   ]
  },
  {
   "cell_type": "code",
   "execution_count": 542,
   "metadata": {},
   "outputs": [
    {
     "data": {
      "text/plain": [
       "id             0\n",
       "keyword       61\n",
       "location    2533\n",
       "text           0\n",
       "target         0\n",
       "dtype: int64"
      ]
     },
     "execution_count": 542,
     "metadata": {},
     "output_type": "execute_result"
    }
   ],
   "source": [
    "#Code to check missing values in train dataset\n",
    "train.isnull().sum()"
   ]
  },
  {
   "cell_type": "code",
   "execution_count": 10,
   "metadata": {},
   "outputs": [
    {
     "data": {
      "text/plain": [
       "<BarContainer object of 5 artists>"
      ]
     },
     "execution_count": 10,
     "metadata": {},
     "output_type": "execute_result"
    },
    {
     "data": {
      "image/png": "[encoded data removed]",
      "text/plain": [
       "<Figure size 1152x576 with 1 Axes>"
      ]
     },
     "metadata": {
      "needs_background": "light"
     },
     "output_type": "display_data"
    }
   ],
   "source": [
    "#Plotting the missing values\n",
    "null_counts = train.isnull().sum()\n",
    "plt.figure(figsize=(16,8))\n",
    "plt.xticks(np.arange(len(null_counts)),null_counts.index,rotation='vertical')\n",
    "plt.ylabel('fraction of rows with missing data')\n",
    "plt.bar(np.arange(len(null_counts)),null_counts)"
   ]
  },
  {
   "cell_type": "code",
   "execution_count": 277,
   "metadata": {},
   "outputs": [
    {
     "data": {
      "text/html": [
       "<div>\n",
       "<style scoped>\n",
       "    .dataframe tbody tr th:only-of-type {\n",
       "        vertical-align: middle;\n",
       "    }\n",
       "\n",
       "    .dataframe tbody tr th {\n",
       "        vertical-align: top;\n",
       "    }\n",
       "\n",
       "    .dataframe thead th {\n",
       "        text-align: right;\n",
       "    }\n",
       "</style>\n",
       "<table border=\"1\" class=\"dataframe\">\n",
       "  <thead>\n",
       "    <tr style=\"text-align: right;\">\n",
       "      <th></th>\n",
       "      <th>location</th>\n",
       "    </tr>\n",
       "  </thead>\n",
       "  <tbody>\n",
       "    <tr>\n",
       "      <td>USA</td>\n",
       "      <td>104</td>\n",
       "    </tr>\n",
       "    <tr>\n",
       "      <td>New York</td>\n",
       "      <td>71</td>\n",
       "    </tr>\n",
       "    <tr>\n",
       "      <td>United States</td>\n",
       "      <td>50</td>\n",
       "    </tr>\n",
       "    <tr>\n",
       "      <td>London</td>\n",
       "      <td>45</td>\n",
       "    </tr>\n",
       "    <tr>\n",
       "      <td>Canada</td>\n",
       "      <td>29</td>\n",
       "    </tr>\n",
       "  </tbody>\n",
       "</table>\n",
       "</div>"
      ],
      "text/plain": [
       "               location\n",
       "USA                 104\n",
       "New York             71\n",
       "United States        50\n",
       "London               45\n",
       "Canada               29"
      ]
     },
     "execution_count": 277,
     "metadata": {},
     "output_type": "execute_result"
    }
   ],
   "source": [
    "#Count of location\n",
    "ax = train['location'].value_counts()\n",
    "df_loc = pd.DataFrame(ax)\n",
    "df_loc.head()"
   ]
  },
  {
   "cell_type": "code",
   "execution_count": 900,
   "metadata": {},
   "outputs": [],
   "source": [
    "#Filling the missing values for location using 'Other_location'\n",
    "train['location'].fillna(value = 'Other_location',inplace=True)"
   ]
  },
  {
   "cell_type": "code",
   "execution_count": 901,
   "metadata": {},
   "outputs": [],
   "source": [
    "#Handling missing values for keyword column\n",
    "train['keyword'].fillna(value = 'Unknown',inplace=True)"
   ]
  },
  {
   "cell_type": "code",
   "execution_count": 902,
   "metadata": {},
   "outputs": [
    {
     "data": {
      "text/plain": [
       "id          0\n",
       "keyword     0\n",
       "location    0\n",
       "text        0\n",
       "target      0\n",
       "dtype: int64"
      ]
     },
     "execution_count": 902,
     "metadata": {},
     "output_type": "execute_result"
    }
   ],
   "source": [
    "train.isnull().sum()"
   ]
  },
  {
   "cell_type": "code",
   "execution_count": 15,
   "metadata": {},
   "outputs": [
    {
     "data": {
      "text/plain": [
       "0    4342\n",
       "1    3271\n",
       "Name: target, dtype: int64"
      ]
     },
     "execution_count": 15,
     "metadata": {},
     "output_type": "execute_result"
    }
   ],
   "source": [
    "train['target'].value_counts()"
   ]
  },
  {
   "cell_type": "code",
   "execution_count": 16,
   "metadata": {},
   "outputs": [
    {
     "data": {
      "text/plain": [
       "<BarContainer object of 2 artists>"
      ]
     },
     "execution_count": 16,
     "metadata": {},
     "output_type": "execute_result"
    },
    {
     "data": {
      "image/png": "[encoded data removed]",
      "text/plain": [
       "<Figure size 1152x576 with 1 Axes>"
      ]
     },
     "metadata": {
      "needs_background": "light"
     },
     "output_type": "display_data"
    }
   ],
   "source": [
    "#Checking the number of target variables\n",
    "target = train['target'].value_counts()\n",
    "plt.figure(figsize=(16,8))\n",
    "plt.xticks(np.arange(len(target)),target.index,rotation='vertical')\n",
    "plt.ylabel('Count of missing data')\n",
    "plt.bar(np.arange(len(target)),target)"
   ]
  },
  {
   "cell_type": "code",
   "execution_count": 17,
   "metadata": {},
   "outputs": [],
   "source": [
    "df_loc.head()\n",
    "df_loc.to_excel('Loc.xlsx')"
   ]
  },
  {
   "cell_type": "code",
   "execution_count": 903,
   "metadata": {},
   "outputs": [
    {
     "data": {
      "text/html": [
       "<div>\n",
       "<style scoped>\n",
       "    .dataframe tbody tr th:only-of-type {\n",
       "        vertical-align: middle;\n",
       "    }\n",
       "\n",
       "    .dataframe tbody tr th {\n",
       "        vertical-align: top;\n",
       "    }\n",
       "\n",
       "    .dataframe thead th {\n",
       "        text-align: right;\n",
       "    }\n",
       "</style>\n",
       "<table border=\"1\" class=\"dataframe\">\n",
       "  <thead>\n",
       "    <tr style=\"text-align: right;\">\n",
       "      <th></th>\n",
       "      <th>id</th>\n",
       "      <th>keyword</th>\n",
       "      <th>location</th>\n",
       "      <th>text</th>\n",
       "      <th>target</th>\n",
       "    </tr>\n",
       "  </thead>\n",
       "  <tbody>\n",
       "    <tr>\n",
       "      <td>0</td>\n",
       "      <td>1</td>\n",
       "      <td>Unknown</td>\n",
       "      <td>Other_location</td>\n",
       "      <td>Our Deeds are the Reason of this #earthquake M...</td>\n",
       "      <td>1</td>\n",
       "    </tr>\n",
       "    <tr>\n",
       "      <td>1</td>\n",
       "      <td>4</td>\n",
       "      <td>Unknown</td>\n",
       "      <td>Other_location</td>\n",
       "      <td>Forest fire near La Ronge Sask. Canada</td>\n",
       "      <td>1</td>\n",
       "    </tr>\n",
       "    <tr>\n",
       "      <td>2</td>\n",
       "      <td>5</td>\n",
       "      <td>Unknown</td>\n",
       "      <td>Other_location</td>\n",
       "      <td>All residents asked to 'shelter in place' are ...</td>\n",
       "      <td>1</td>\n",
       "    </tr>\n",
       "    <tr>\n",
       "      <td>3</td>\n",
       "      <td>6</td>\n",
       "      <td>Unknown</td>\n",
       "      <td>Other_location</td>\n",
       "      <td>13,000 people receive #wildfires evacuation or...</td>\n",
       "      <td>1</td>\n",
       "    </tr>\n",
       "    <tr>\n",
       "      <td>4</td>\n",
       "      <td>7</td>\n",
       "      <td>Unknown</td>\n",
       "      <td>Other_location</td>\n",
       "      <td>Just got sent this photo from Ruby #Alaska as ...</td>\n",
       "      <td>1</td>\n",
       "    </tr>\n",
       "  </tbody>\n",
       "</table>\n",
       "</div>"
      ],
      "text/plain": [
       "   id  keyword        location  \\\n",
       "0   1  Unknown  Other_location   \n",
       "1   4  Unknown  Other_location   \n",
       "2   5  Unknown  Other_location   \n",
       "3   6  Unknown  Other_location   \n",
       "4   7  Unknown  Other_location   \n",
       "\n",
       "                                                text  target  \n",
       "0  Our Deeds are the Reason of this #earthquake M...       1  \n",
       "1             Forest fire near La Ronge Sask. Canada       1  \n",
       "2  All residents asked to 'shelter in place' are ...       1  \n",
       "3  13,000 people receive #wildfires evacuation or...       1  \n",
       "4  Just got sent this photo from Ruby #Alaska as ...       1  "
      ]
     },
     "execution_count": 903,
     "metadata": {},
     "output_type": "execute_result"
    }
   ],
   "source": [
    "train.head()"
   ]
  },
  {
   "cell_type": "code",
   "execution_count": 19,
   "metadata": {},
   "outputs": [
    {
     "name": "stdout",
     "output_type": "stream",
     "text": [
      "[42, 39, 39, 39]\n",
      "['Unknown', 'derailment', 'outbreak', 'wreckage']\n"
     ]
    }
   ],
   "source": [
    "#Checking the most number of keywords in disaster tweets\n",
    "df_disaster = pd.DataFrame(train[train['target']==1].keyword)\n",
    "r = Counter(df_disaster['keyword'])\n",
    "r = dict(r.most_common())\n",
    "r_count = list(r.values())\n",
    "print(r_count[0:4])\n",
    "r_values = list(r.keys())\n",
    "print(r_values[0:4])"
   ]
  },
  {
   "cell_type": "code",
   "execution_count": 20,
   "metadata": {},
   "outputs": [],
   "source": [
    "#Merging the dataframes to produce a keyword-frequency dataframe \n",
    "dis1 = pd.DataFrame(r_values[0:20],columns = ['Keywords'])\n",
    "dis2 = pd.DataFrame(r_count[0:20],columns = ['Frequency'])\n",
    "dis3 = pd.concat([dis1,dis2],axis=1)"
   ]
  },
  {
   "cell_type": "code",
   "execution_count": 21,
   "metadata": {},
   "outputs": [],
   "source": [
    "#Top\n",
    "a = pd.DataFrame(train[train['target']==0])\n",
    "b = Counter(a['keyword'])\n",
    "b = dict(b.most_common())\n",
    "b_value = list(b.keys())\n",
    "d1 = pd.DataFrame(b_value[0:20],columns=['Keywords'])\n",
    "b_count = list(b.values())\n",
    "d2 = pd.DataFrame(b_count[0:20],columns=['Frequency'])"
   ]
  },
  {
   "cell_type": "code",
   "execution_count": 22,
   "metadata": {},
   "outputs": [],
   "source": [
    "d3 = pd.concat([d1,d2],axis = 1)"
   ]
  },
  {
   "cell_type": "code",
   "execution_count": 23,
   "metadata": {},
   "outputs": [],
   "source": [
    "d3.to_excel('d3.xlsx')"
   ]
  },
  {
   "cell_type": "code",
   "execution_count": 42,
   "metadata": {},
   "outputs": [
    {
     "data": {
      "text/html": [
       "<div>\n",
       "<style scoped>\n",
       "    .dataframe tbody tr th:only-of-type {\n",
       "        vertical-align: middle;\n",
       "    }\n",
       "\n",
       "    .dataframe tbody tr th {\n",
       "        vertical-align: top;\n",
       "    }\n",
       "\n",
       "    .dataframe thead th {\n",
       "        text-align: right;\n",
       "    }\n",
       "</style>\n",
       "<table border=\"1\" class=\"dataframe\">\n",
       "  <thead>\n",
       "    <tr style=\"text-align: right;\">\n",
       "      <th></th>\n",
       "      <th>id</th>\n",
       "      <th>keyword</th>\n",
       "      <th>location</th>\n",
       "      <th>text</th>\n",
       "      <th>target</th>\n",
       "    </tr>\n",
       "  </thead>\n",
       "  <tbody>\n",
       "    <tr>\n",
       "      <td>0</td>\n",
       "      <td>1</td>\n",
       "      <td>Unknown</td>\n",
       "      <td>Other_location</td>\n",
       "      <td>Our Deeds are the Reason of this #earthquake M...</td>\n",
       "      <td>1</td>\n",
       "    </tr>\n",
       "    <tr>\n",
       "      <td>1</td>\n",
       "      <td>4</td>\n",
       "      <td>Unknown</td>\n",
       "      <td>Other_location</td>\n",
       "      <td>Forest fire near La Ronge Sask. Canada</td>\n",
       "      <td>1</td>\n",
       "    </tr>\n",
       "    <tr>\n",
       "      <td>2</td>\n",
       "      <td>5</td>\n",
       "      <td>Unknown</td>\n",
       "      <td>Other_location</td>\n",
       "      <td>All residents asked to 'shelter in place' are ...</td>\n",
       "      <td>1</td>\n",
       "    </tr>\n",
       "    <tr>\n",
       "      <td>3</td>\n",
       "      <td>6</td>\n",
       "      <td>Unknown</td>\n",
       "      <td>Other_location</td>\n",
       "      <td>13,000 people receive #wildfires evacuation or...</td>\n",
       "      <td>1</td>\n",
       "    </tr>\n",
       "    <tr>\n",
       "      <td>4</td>\n",
       "      <td>7</td>\n",
       "      <td>Unknown</td>\n",
       "      <td>Other_location</td>\n",
       "      <td>Just got sent this photo from Ruby #Alaska as ...</td>\n",
       "      <td>1</td>\n",
       "    </tr>\n",
       "  </tbody>\n",
       "</table>\n",
       "</div>"
      ],
      "text/plain": [
       "   id  keyword        location  \\\n",
       "0   1  Unknown  Other_location   \n",
       "1   4  Unknown  Other_location   \n",
       "2   5  Unknown  Other_location   \n",
       "3   6  Unknown  Other_location   \n",
       "4   7  Unknown  Other_location   \n",
       "\n",
       "                                                text  target  \n",
       "0  Our Deeds are the Reason of this #earthquake M...       1  \n",
       "1             Forest fire near La Ronge Sask. Canada       1  \n",
       "2  All residents asked to 'shelter in place' are ...       1  \n",
       "3  13,000 people receive #wildfires evacuation or...       1  \n",
       "4  Just got sent this photo from Ruby #Alaska as ...       1  "
      ]
     },
     "execution_count": 42,
     "metadata": {},
     "output_type": "execute_result"
    }
   ],
   "source": [
    "#Checking the length of tweets(number of cahracters) in disaster as well as non-disaster\n",
    "train.head()"
   ]
  },
  {
   "cell_type": "code",
   "execution_count": 50,
   "metadata": {},
   "outputs": [],
   "source": [
    "df_0 = train[train['target'] == 0]\n",
    "df_1 = train[train['target'] == 1]"
   ]
  },
  {
   "cell_type": "code",
   "execution_count": 53,
   "metadata": {},
   "outputs": [
    {
     "name": "stderr",
     "output_type": "stream",
     "text": [
      "/Users/adwait/opt/anaconda3/lib/python3.7/site-packages/ipykernel_launcher.py:1: SettingWithCopyWarning:\n",
      "\n",
      "\n",
      "A value is trying to be set on a copy of a slice from a DataFrame.\n",
      "Try using .loc[row_indexer,col_indexer] = value instead\n",
      "\n",
      "See the caveats in the documentation: http://pandas.pydata.org/pandas-docs/stable/user_guide/indexing.html#returning-a-view-versus-a-copy\n",
      "\n",
      "/Users/adwait/opt/anaconda3/lib/python3.7/site-packages/ipykernel_launcher.py:2: SettingWithCopyWarning:\n",
      "\n",
      "\n",
      "A value is trying to be set on a copy of a slice from a DataFrame.\n",
      "Try using .loc[row_indexer,col_indexer] = value instead\n",
      "\n",
      "See the caveats in the documentation: http://pandas.pydata.org/pandas-docs/stable/user_guide/indexing.html#returning-a-view-versus-a-copy\n",
      "\n"
     ]
    }
   ],
   "source": [
    "#Using len function to check the length of each tweet\n",
    "df_0['length'] = df_0['text'].str.len()\n",
    "df_1['length'] = df_1['text'].str.len()"
   ]
  },
  {
   "cell_type": "code",
   "execution_count": 56,
   "metadata": {},
   "outputs": [],
   "source": [
    "#Writing to an excel file to visualise in tableau\n",
    "df_0.to_excel('df_0.xlsx')"
   ]
  },
  {
   "cell_type": "code",
   "execution_count": 57,
   "metadata": {},
   "outputs": [],
   "source": [
    "#Writing to an excel file to visualise in tableau\n",
    "df_1.to_excel('df_1.xlsx')"
   ]
  },
  {
   "cell_type": "code",
   "execution_count": 546,
   "metadata": {},
   "outputs": [
    {
     "data": {
      "text/html": [
       "<div>\n",
       "<style scoped>\n",
       "    .dataframe tbody tr th:only-of-type {\n",
       "        vertical-align: middle;\n",
       "    }\n",
       "\n",
       "    .dataframe tbody tr th {\n",
       "        vertical-align: top;\n",
       "    }\n",
       "\n",
       "    .dataframe thead th {\n",
       "        text-align: right;\n",
       "    }\n",
       "</style>\n",
       "<table border=\"1\" class=\"dataframe\">\n",
       "  <thead>\n",
       "    <tr style=\"text-align: right;\">\n",
       "      <th></th>\n",
       "      <th>id</th>\n",
       "      <th>keyword</th>\n",
       "      <th>location</th>\n",
       "      <th>text</th>\n",
       "      <th>target</th>\n",
       "    </tr>\n",
       "  </thead>\n",
       "  <tbody>\n",
       "    <tr>\n",
       "      <td>0</td>\n",
       "      <td>1</td>\n",
       "      <td>Unknown</td>\n",
       "      <td>Other_location</td>\n",
       "      <td>Our Deeds are the Reason of this #earthquake M...</td>\n",
       "      <td>1</td>\n",
       "    </tr>\n",
       "    <tr>\n",
       "      <td>1</td>\n",
       "      <td>4</td>\n",
       "      <td>Unknown</td>\n",
       "      <td>Other_location</td>\n",
       "      <td>Forest fire near La Ronge Sask. Canada</td>\n",
       "      <td>1</td>\n",
       "    </tr>\n",
       "    <tr>\n",
       "      <td>2</td>\n",
       "      <td>5</td>\n",
       "      <td>Unknown</td>\n",
       "      <td>Other_location</td>\n",
       "      <td>All residents asked to 'shelter in place' are ...</td>\n",
       "      <td>1</td>\n",
       "    </tr>\n",
       "    <tr>\n",
       "      <td>3</td>\n",
       "      <td>6</td>\n",
       "      <td>Unknown</td>\n",
       "      <td>Other_location</td>\n",
       "      <td>13,000 people receive #wildfires evacuation or...</td>\n",
       "      <td>1</td>\n",
       "    </tr>\n",
       "    <tr>\n",
       "      <td>4</td>\n",
       "      <td>7</td>\n",
       "      <td>Unknown</td>\n",
       "      <td>Other_location</td>\n",
       "      <td>Just got sent this photo from Ruby #Alaska as ...</td>\n",
       "      <td>1</td>\n",
       "    </tr>\n",
       "  </tbody>\n",
       "</table>\n",
       "</div>"
      ],
      "text/plain": [
       "   id  keyword        location  \\\n",
       "0   1  Unknown  Other_location   \n",
       "1   4  Unknown  Other_location   \n",
       "2   5  Unknown  Other_location   \n",
       "3   6  Unknown  Other_location   \n",
       "4   7  Unknown  Other_location   \n",
       "\n",
       "                                                text  target  \n",
       "0  Our Deeds are the Reason of this #earthquake M...       1  \n",
       "1             Forest fire near La Ronge Sask. Canada       1  \n",
       "2  All residents asked to 'shelter in place' are ...       1  \n",
       "3  13,000 people receive #wildfires evacuation or...       1  \n",
       "4  Just got sent this photo from Ruby #Alaska as ...       1  "
      ]
     },
     "execution_count": 546,
     "metadata": {},
     "output_type": "execute_result"
    }
   ],
   "source": [
    "train.head()    "
   ]
  },
  {
   "cell_type": "code",
   "execution_count": 61,
   "metadata": {},
   "outputs": [
    {
     "data": {
      "text/html": [
       "<div>\n",
       "<style scoped>\n",
       "    .dataframe tbody tr th:only-of-type {\n",
       "        vertical-align: middle;\n",
       "    }\n",
       "\n",
       "    .dataframe tbody tr th {\n",
       "        vertical-align: top;\n",
       "    }\n",
       "\n",
       "    .dataframe thead th {\n",
       "        text-align: right;\n",
       "    }\n",
       "</style>\n",
       "<table border=\"1\" class=\"dataframe\">\n",
       "  <thead>\n",
       "    <tr style=\"text-align: right;\">\n",
       "      <th></th>\n",
       "      <th>id</th>\n",
       "      <th>keyword</th>\n",
       "      <th>location</th>\n",
       "      <th>text</th>\n",
       "      <th>target</th>\n",
       "      <th>length</th>\n",
       "    </tr>\n",
       "  </thead>\n",
       "  <tbody>\n",
       "    <tr>\n",
       "      <td>15</td>\n",
       "      <td>23</td>\n",
       "      <td>Unknown</td>\n",
       "      <td>Other_location</td>\n",
       "      <td>What's up man?</td>\n",
       "      <td>0</td>\n",
       "      <td>14</td>\n",
       "    </tr>\n",
       "    <tr>\n",
       "      <td>16</td>\n",
       "      <td>24</td>\n",
       "      <td>Unknown</td>\n",
       "      <td>Other_location</td>\n",
       "      <td>I love fruits</td>\n",
       "      <td>0</td>\n",
       "      <td>13</td>\n",
       "    </tr>\n",
       "    <tr>\n",
       "      <td>17</td>\n",
       "      <td>25</td>\n",
       "      <td>Unknown</td>\n",
       "      <td>Other_location</td>\n",
       "      <td>Summer is lovely</td>\n",
       "      <td>0</td>\n",
       "      <td>16</td>\n",
       "    </tr>\n",
       "    <tr>\n",
       "      <td>18</td>\n",
       "      <td>26</td>\n",
       "      <td>Unknown</td>\n",
       "      <td>Other_location</td>\n",
       "      <td>My car is so fast</td>\n",
       "      <td>0</td>\n",
       "      <td>17</td>\n",
       "    </tr>\n",
       "    <tr>\n",
       "      <td>19</td>\n",
       "      <td>28</td>\n",
       "      <td>Unknown</td>\n",
       "      <td>Other_location</td>\n",
       "      <td>What a goooooooaaaaaal!!!!!!</td>\n",
       "      <td>0</td>\n",
       "      <td>28</td>\n",
       "    </tr>\n",
       "  </tbody>\n",
       "</table>\n",
       "</div>"
      ],
      "text/plain": [
       "    id  keyword        location                          text  target  length\n",
       "15  23  Unknown  Other_location                What's up man?       0      14\n",
       "16  24  Unknown  Other_location                 I love fruits       0      13\n",
       "17  25  Unknown  Other_location              Summer is lovely       0      16\n",
       "18  26  Unknown  Other_location             My car is so fast       0      17\n",
       "19  28  Unknown  Other_location  What a goooooooaaaaaal!!!!!!       0      28"
      ]
     },
     "execution_count": 61,
     "metadata": {},
     "output_type": "execute_result"
    }
   ],
   "source": [
    "df_0.head()"
   ]
  },
  {
   "cell_type": "code",
   "execution_count": 70,
   "metadata": {},
   "outputs": [
    {
     "name": "stderr",
     "output_type": "stream",
     "text": [
      "/Users/adwait/opt/anaconda3/lib/python3.7/site-packages/ipykernel_launcher.py:2: SettingWithCopyWarning:\n",
      "\n",
      "\n",
      "A value is trying to be set on a copy of a slice from a DataFrame.\n",
      "Try using .loc[row_indexer,col_indexer] = value instead\n",
      "\n",
      "See the caveats in the documentation: http://pandas.pydata.org/pandas-docs/stable/user_guide/indexing.html#returning-a-view-versus-a-copy\n",
      "\n",
      "/Users/adwait/opt/anaconda3/lib/python3.7/site-packages/ipykernel_launcher.py:3: SettingWithCopyWarning:\n",
      "\n",
      "\n",
      "A value is trying to be set on a copy of a slice from a DataFrame.\n",
      "Try using .loc[row_indexer,col_indexer] = value instead\n",
      "\n",
      "See the caveats in the documentation: http://pandas.pydata.org/pandas-docs/stable/user_guide/indexing.html#returning-a-view-versus-a-copy\n",
      "\n"
     ]
    }
   ],
   "source": [
    "#Word count\n",
    "df_0['char_count'] = df_0['text'].apply(lambda x : len(str(x).split()))\n",
    "df_1['char_count'] = df_1['text'].apply(lambda x : len(str(x).split()))"
   ]
  },
  {
   "cell_type": "code",
   "execution_count": 67,
   "metadata": {},
   "outputs": [
    {
     "data": {
      "text/html": [
       "<div>\n",
       "<style scoped>\n",
       "    .dataframe tbody tr th:only-of-type {\n",
       "        vertical-align: middle;\n",
       "    }\n",
       "\n",
       "    .dataframe tbody tr th {\n",
       "        vertical-align: top;\n",
       "    }\n",
       "\n",
       "    .dataframe thead th {\n",
       "        text-align: right;\n",
       "    }\n",
       "</style>\n",
       "<table border=\"1\" class=\"dataframe\">\n",
       "  <thead>\n",
       "    <tr style=\"text-align: right;\">\n",
       "      <th></th>\n",
       "      <th>id</th>\n",
       "      <th>keyword</th>\n",
       "      <th>location</th>\n",
       "      <th>text</th>\n",
       "      <th>target</th>\n",
       "      <th>length</th>\n",
       "      <th>char_count</th>\n",
       "    </tr>\n",
       "  </thead>\n",
       "  <tbody>\n",
       "    <tr>\n",
       "      <td>15</td>\n",
       "      <td>23</td>\n",
       "      <td>Unknown</td>\n",
       "      <td>Other_location</td>\n",
       "      <td>What's up man?</td>\n",
       "      <td>0</td>\n",
       "      <td>14</td>\n",
       "      <td>3</td>\n",
       "    </tr>\n",
       "    <tr>\n",
       "      <td>16</td>\n",
       "      <td>24</td>\n",
       "      <td>Unknown</td>\n",
       "      <td>Other_location</td>\n",
       "      <td>I love fruits</td>\n",
       "      <td>0</td>\n",
       "      <td>13</td>\n",
       "      <td>3</td>\n",
       "    </tr>\n",
       "    <tr>\n",
       "      <td>17</td>\n",
       "      <td>25</td>\n",
       "      <td>Unknown</td>\n",
       "      <td>Other_location</td>\n",
       "      <td>Summer is lovely</td>\n",
       "      <td>0</td>\n",
       "      <td>16</td>\n",
       "      <td>3</td>\n",
       "    </tr>\n",
       "    <tr>\n",
       "      <td>18</td>\n",
       "      <td>26</td>\n",
       "      <td>Unknown</td>\n",
       "      <td>Other_location</td>\n",
       "      <td>My car is so fast</td>\n",
       "      <td>0</td>\n",
       "      <td>17</td>\n",
       "      <td>5</td>\n",
       "    </tr>\n",
       "    <tr>\n",
       "      <td>19</td>\n",
       "      <td>28</td>\n",
       "      <td>Unknown</td>\n",
       "      <td>Other_location</td>\n",
       "      <td>What a goooooooaaaaaal!!!!!!</td>\n",
       "      <td>0</td>\n",
       "      <td>28</td>\n",
       "      <td>3</td>\n",
       "    </tr>\n",
       "  </tbody>\n",
       "</table>\n",
       "</div>"
      ],
      "text/plain": [
       "    id  keyword        location                          text  target  length  \\\n",
       "15  23  Unknown  Other_location                What's up man?       0      14   \n",
       "16  24  Unknown  Other_location                 I love fruits       0      13   \n",
       "17  25  Unknown  Other_location              Summer is lovely       0      16   \n",
       "18  26  Unknown  Other_location             My car is so fast       0      17   \n",
       "19  28  Unknown  Other_location  What a goooooooaaaaaal!!!!!!       0      28   \n",
       "\n",
       "    char_count  \n",
       "15           3  \n",
       "16           3  \n",
       "17           3  \n",
       "18           5  \n",
       "19           3  "
      ]
     },
     "execution_count": 67,
     "metadata": {},
     "output_type": "execute_result"
    }
   ],
   "source": [
    "df_0.head()"
   ]
  },
  {
   "cell_type": "code",
   "execution_count": 71,
   "metadata": {},
   "outputs": [
    {
     "data": {
      "text/html": [
       "<div>\n",
       "<style scoped>\n",
       "    .dataframe tbody tr th:only-of-type {\n",
       "        vertical-align: middle;\n",
       "    }\n",
       "\n",
       "    .dataframe tbody tr th {\n",
       "        vertical-align: top;\n",
       "    }\n",
       "\n",
       "    .dataframe thead th {\n",
       "        text-align: right;\n",
       "    }\n",
       "</style>\n",
       "<table border=\"1\" class=\"dataframe\">\n",
       "  <thead>\n",
       "    <tr style=\"text-align: right;\">\n",
       "      <th></th>\n",
       "      <th>id</th>\n",
       "      <th>keyword</th>\n",
       "      <th>location</th>\n",
       "      <th>text</th>\n",
       "      <th>target</th>\n",
       "      <th>length</th>\n",
       "      <th>char_count</th>\n",
       "    </tr>\n",
       "  </thead>\n",
       "  <tbody>\n",
       "    <tr>\n",
       "      <td>0</td>\n",
       "      <td>1</td>\n",
       "      <td>Unknown</td>\n",
       "      <td>Other_location</td>\n",
       "      <td>Our Deeds are the Reason of this #earthquake M...</td>\n",
       "      <td>1</td>\n",
       "      <td>69</td>\n",
       "      <td>13</td>\n",
       "    </tr>\n",
       "    <tr>\n",
       "      <td>1</td>\n",
       "      <td>4</td>\n",
       "      <td>Unknown</td>\n",
       "      <td>Other_location</td>\n",
       "      <td>Forest fire near La Ronge Sask. Canada</td>\n",
       "      <td>1</td>\n",
       "      <td>38</td>\n",
       "      <td>7</td>\n",
       "    </tr>\n",
       "    <tr>\n",
       "      <td>2</td>\n",
       "      <td>5</td>\n",
       "      <td>Unknown</td>\n",
       "      <td>Other_location</td>\n",
       "      <td>All residents asked to 'shelter in place' are ...</td>\n",
       "      <td>1</td>\n",
       "      <td>133</td>\n",
       "      <td>22</td>\n",
       "    </tr>\n",
       "    <tr>\n",
       "      <td>3</td>\n",
       "      <td>6</td>\n",
       "      <td>Unknown</td>\n",
       "      <td>Other_location</td>\n",
       "      <td>13,000 people receive #wildfires evacuation or...</td>\n",
       "      <td>1</td>\n",
       "      <td>65</td>\n",
       "      <td>8</td>\n",
       "    </tr>\n",
       "    <tr>\n",
       "      <td>4</td>\n",
       "      <td>7</td>\n",
       "      <td>Unknown</td>\n",
       "      <td>Other_location</td>\n",
       "      <td>Just got sent this photo from Ruby #Alaska as ...</td>\n",
       "      <td>1</td>\n",
       "      <td>88</td>\n",
       "      <td>16</td>\n",
       "    </tr>\n",
       "  </tbody>\n",
       "</table>\n",
       "</div>"
      ],
      "text/plain": [
       "   id  keyword        location  \\\n",
       "0   1  Unknown  Other_location   \n",
       "1   4  Unknown  Other_location   \n",
       "2   5  Unknown  Other_location   \n",
       "3   6  Unknown  Other_location   \n",
       "4   7  Unknown  Other_location   \n",
       "\n",
       "                                                text  target  length  \\\n",
       "0  Our Deeds are the Reason of this #earthquake M...       1      69   \n",
       "1             Forest fire near La Ronge Sask. Canada       1      38   \n",
       "2  All residents asked to 'shelter in place' are ...       1     133   \n",
       "3  13,000 people receive #wildfires evacuation or...       1      65   \n",
       "4  Just got sent this photo from Ruby #Alaska as ...       1      88   \n",
       "\n",
       "   char_count  \n",
       "0          13  \n",
       "1           7  \n",
       "2          22  \n",
       "3           8  \n",
       "4          16  "
      ]
     },
     "execution_count": 71,
     "metadata": {},
     "output_type": "execute_result"
    }
   ],
   "source": [
    "df_1.head()"
   ]
  },
  {
   "cell_type": "code",
   "execution_count": 72,
   "metadata": {},
   "outputs": [],
   "source": [
    "#Writing file for tableau visualisations\n",
    "df_0.to_excel('df_00.xlsx')\n",
    "df_1.to_excel('df_11.xlsx')"
   ]
  },
  {
   "cell_type": "code",
   "execution_count": 84,
   "metadata": {},
   "outputs": [
    {
     "name": "stderr",
     "output_type": "stream",
     "text": [
      "/Users/adwait/opt/anaconda3/lib/python3.7/site-packages/ipykernel_launcher.py:2: SettingWithCopyWarning:\n",
      "\n",
      "\n",
      "A value is trying to be set on a copy of a slice from a DataFrame.\n",
      "Try using .loc[row_indexer,col_indexer] = value instead\n",
      "\n",
      "See the caveats in the documentation: http://pandas.pydata.org/pandas-docs/stable/user_guide/indexing.html#returning-a-view-versus-a-copy\n",
      "\n",
      "/Users/adwait/opt/anaconda3/lib/python3.7/site-packages/ipykernel_launcher.py:3: SettingWithCopyWarning:\n",
      "\n",
      "\n",
      "A value is trying to be set on a copy of a slice from a DataFrame.\n",
      "Try using .loc[row_indexer,col_indexer] = value instead\n",
      "\n",
      "See the caveats in the documentation: http://pandas.pydata.org/pandas-docs/stable/user_guide/indexing.html#returning-a-view-versus-a-copy\n",
      "\n"
     ]
    }
   ],
   "source": [
    "#Code to check the unique words in the tweet\n",
    "df_0['unique'] = df_0['text'].apply(lambda x : len(set(str(x).split())))\n",
    "df_1['unique'] = df_1['text'].apply(lambda x : len(set(str(x).split())))"
   ]
  },
  {
   "cell_type": "code",
   "execution_count": 85,
   "metadata": {},
   "outputs": [],
   "source": [
    "#Writing file for tableau visualisations\n",
    "df_0.to_excel('df_000.xlsx')\n",
    "df_1.to_excel('df_111.xlsx')"
   ]
  },
  {
   "cell_type": "code",
   "execution_count": 108,
   "metadata": {},
   "outputs": [
    {
     "name": "stderr",
     "output_type": "stream",
     "text": [
      "/Users/adwait/opt/anaconda3/lib/python3.7/site-packages/ipykernel_launcher.py:1: SettingWithCopyWarning:\n",
      "\n",
      "\n",
      "A value is trying to be set on a copy of a slice from a DataFrame.\n",
      "Try using .loc[row_indexer,col_indexer] = value instead\n",
      "\n",
      "See the caveats in the documentation: http://pandas.pydata.org/pandas-docs/stable/user_guide/indexing.html#returning-a-view-versus-a-copy\n",
      "\n",
      "/Users/adwait/opt/anaconda3/lib/python3.7/site-packages/ipykernel_launcher.py:2: SettingWithCopyWarning:\n",
      "\n",
      "\n",
      "A value is trying to be set on a copy of a slice from a DataFrame.\n",
      "Try using .loc[row_indexer,col_indexer] = value instead\n",
      "\n",
      "See the caveats in the documentation: http://pandas.pydata.org/pandas-docs/stable/user_guide/indexing.html#returning-a-view-versus-a-copy\n",
      "\n"
     ]
    }
   ],
   "source": [
    "df_0['mention'] = df_0['text'].apply(lambda x : len([word for word in x.split() if word.startswith(\"@\")]))\n",
    "df_1['mention'] = df_1['text'].apply(lambda x : len([word for word in x.split() if word.startswith(\"@\")]))"
   ]
  },
  {
   "cell_type": "code",
   "execution_count": 110,
   "metadata": {},
   "outputs": [
    {
     "name": "stdout",
     "output_type": "stream",
     "text": [
      "1795\n",
      "869\n"
     ]
    }
   ],
   "source": [
    "#To check the number of mentions\n",
    "print(df_0['mention'].sum())\n",
    "print(df_1['mention'].sum())"
   ]
  },
  {
   "cell_type": "code",
   "execution_count": 113,
   "metadata": {},
   "outputs": [
    {
     "name": "stderr",
     "output_type": "stream",
     "text": [
      "/Users/adwait/opt/anaconda3/lib/python3.7/site-packages/ipykernel_launcher.py:3: SettingWithCopyWarning:\n",
      "\n",
      "\n",
      "A value is trying to be set on a copy of a slice from a DataFrame.\n",
      "Try using .loc[row_indexer,col_indexer] = value instead\n",
      "\n",
      "See the caveats in the documentation: http://pandas.pydata.org/pandas-docs/stable/user_guide/indexing.html#returning-a-view-versus-a-copy\n",
      "\n",
      "/Users/adwait/opt/anaconda3/lib/python3.7/site-packages/ipykernel_launcher.py:4: SettingWithCopyWarning:\n",
      "\n",
      "\n",
      "A value is trying to be set on a copy of a slice from a DataFrame.\n",
      "Try using .loc[row_indexer,col_indexer] = value instead\n",
      "\n",
      "See the caveats in the documentation: http://pandas.pydata.org/pandas-docs/stable/user_guide/indexing.html#returning-a-view-versus-a-copy\n",
      "\n"
     ]
    }
   ],
   "source": [
    "#Finding hashtagged words\n",
    "#Finding words with # attached to it\n",
    "df_0['#'] = df_0['text'].apply(lambda x : ' '.join([word for word in x.split() if word.startswith('#')]))\n",
    "df_1['#'] = df_1['text'].apply(lambda x : ' '.join([word for word in x.split() if word.startswith('#')]))"
   ]
  },
  {
   "cell_type": "code",
   "execution_count": 129,
   "metadata": {},
   "outputs": [],
   "source": [
    "def hashtag_extract(x):\n",
    "    hashtags = []\n",
    "    # Loop over the words in the tweet\n",
    "    for i in x:\n",
    "        ht = re.findall(r\"#(\\w+)\", i)\n",
    "        hashtags.append(ht)\n",
    "\n",
    "    return hashtags\n",
    "\n",
    "hash0 = hashtag_extract(df_0['text'])\n",
    "\n",
    "# extracting hashtags from disaster tweets\n",
    "hash1 = hashtag_extract(df_1['text'])\n",
    "\n",
    "# Converting a multidimensional list to a 1-D list\n",
    "hash0 = sum(hash0,[])\n",
    "hash1 = sum(hash1,[])"
   ]
  },
  {
   "cell_type": "code",
   "execution_count": 130,
   "metadata": {},
   "outputs": [],
   "source": [
    "hash00 = Counter(hash0)\n",
    "a = dict(hash00.most_common())"
   ]
  },
  {
   "cell_type": "code",
   "execution_count": 131,
   "metadata": {},
   "outputs": [
    {
     "data": {
      "text/plain": [
       "{'hot': 18,\n",
       " 'prebreak': 17,\n",
       " 'best': 17,\n",
       " 'news': 15,\n",
       " 'GBBO': 13,\n",
       " 'islam': 11,\n",
       " 'NowPlaying': 10,\n",
       " 'nowplaying': 10,\n",
       " 'jobs': 9,\n",
       " 'EDM': 8,\n",
       " 'DnB': 8,\n",
       " 'Beyhive': 8,\n",
       " 'Directioners': 8,\n",
       " 'RT': 7,\n",
       " 'Dubstep': 7,\n",
       " 'TrapMusic': 7,\n",
       " 'Dance': 7,\n",
       " 'Ices': 7,\n",
       " 'animalrescue': 7,\n",
       " 'MTVHottest': 6,\n",
       " 'hiring': 6,\n",
       " 'Job': 6,\n",
       " 'job': 6,\n",
       " 'Nursing': 6,\n",
       " 'Handbag': 5,\n",
       " 'Womens': 5,\n",
       " 'IranDeal': 5,\n",
       " 'Seattle': 5,\n",
       " 'Emmerdale': 5,\n",
       " 'Fashion': 5,\n",
       " 'SoundCloud': 5,\n",
       " 'Jobs': 5,\n",
       " 'News': 5,\n",
       " 'nsfw': 4,\n",
       " 'LGBT': 4,\n",
       " 'kindle': 4,\n",
       " 'BB17': 4,\n",
       " 'fashion': 4,\n",
       " 'BlueJays': 4,\n",
       " 'Chemical': 4,\n",
       " 'Dependency': 4,\n",
       " 'business': 4,\n",
       " 'technology': 4,\n",
       " 'course': 4,\n",
       " 'np': 4,\n",
       " '1': 4,\n",
       " 'SummerFate': 4,\n",
       " 'Hiring': 4,\n",
       " 'ProphetMuhammad': 4,\n",
       " 'art': 4,\n",
       " 'Afterlife': 4,\n",
       " '7': 4,\n",
       " 'RAmag': 4,\n",
       " 'Models': 4,\n",
       " 'Mayhem': 4,\n",
       " 'Mets': 3,\n",
       " 'PBBan': 3,\n",
       " 'ARMAGEDDON': 3,\n",
       " 'UltimaLucha': 3,\n",
       " 'US': 3,\n",
       " 'TBT': 3,\n",
       " 'HarryBeCareful': 3,\n",
       " 'cool': 3,\n",
       " 'rockin': 3,\n",
       " 'ArtistsUnited': 3,\n",
       " 'FETTILOOTCH': 3,\n",
       " 'SLANGLUCCI': 3,\n",
       " 'emmerdale': 3,\n",
       " 'tubestrike': 3,\n",
       " 'Military': 3,\n",
       " 'GamerGate': 3,\n",
       " 'veterans': 3,\n",
       " 'OTRAMETLIFE': 3,\n",
       " 'sex': 3,\n",
       " 'Allah': 3,\n",
       " 'shoes': 3,\n",
       " 'PantherAttack': 3,\n",
       " 'military': 3,\n",
       " 'RIOT': 3,\n",
       " 'BlowMandyUp': 3,\n",
       " 'oil': 3,\n",
       " 'BBC': 3,\n",
       " 'CNN': 3,\n",
       " 'Islam': 3,\n",
       " 'Truth': 3,\n",
       " 'god': 3,\n",
       " 'ISIS': 3,\n",
       " 'terrorism': 3,\n",
       " 'Quran': 3,\n",
       " 'Lies': 3,\n",
       " 'KerrickTrial': 3,\n",
       " 'mufc': 2,\n",
       " 'FantasticFour': 2,\n",
       " 'gilbert23': 2,\n",
       " 'DoubleCups': 2,\n",
       " 'Love': 2,\n",
       " 'TrueLove': 2,\n",
       " 'romance': 2,\n",
       " 'Voodoo': 2,\n",
       " 'seduction': 2,\n",
       " 'Astrology': 2,\n",
       " 'RTRRT': 2,\n",
       " 'LOTZ': 2,\n",
       " 'apocalypse': 2,\n",
       " 'Armageddon': 2,\n",
       " '5SOSFAM': 2,\n",
       " 'VideoVeranoMTV': 2,\n",
       " 'Avalanche': 2,\n",
       " 'NHL': 2,\n",
       " 'GOPDebate': 2,\n",
       " 'world': 2,\n",
       " 'socialmedia': 2,\n",
       " 'listenlive': 2,\n",
       " 'handbag': 2,\n",
       " 'style': 2,\n",
       " 'arts': 2,\n",
       " 'oped': 2,\n",
       " 'ENGvAUS': 2,\n",
       " 'infosec': 2,\n",
       " 'LoseIt': 2,\n",
       " 'atk': 2,\n",
       " 'StandwithPP': 2,\n",
       " 'Denver': 2,\n",
       " 'preparedness': 2,\n",
       " 'Insurance': 2,\n",
       " 'IMDb': 2,\n",
       " 'savebees': 2,\n",
       " 'Radio': 2,\n",
       " 'Vancouver': 2,\n",
       " 'Tech': 2,\n",
       " 'innovation': 2,\n",
       " 'Listen': 2,\n",
       " 'WorstSummerJob': 2,\n",
       " 'nikeplus': 2,\n",
       " 'fitness': 2,\n",
       " 'USA': 2,\n",
       " 'AFC': 2,\n",
       " 'AskCharley': 2,\n",
       " 'CecilTheLion': 2,\n",
       " 'Demolition': 2,\n",
       " 'AllLivesMatter': 2,\n",
       " 'IdentityTheft': 2,\n",
       " 'Kindle': 2,\n",
       " '4': 2,\n",
       " 'Destroy': 2,\n",
       " 'Free': 2,\n",
       " 'porn': 2,\n",
       " 'thisiswhywecanthavenicethings': 2,\n",
       " 'bancodeseries': 2,\n",
       " 'Shelli': 2,\n",
       " 'MissionHills': 2,\n",
       " 'Healthcare': 2,\n",
       " 'Kodiak': 2,\n",
       " 'FIFA16': 2,\n",
       " 'UK': 2,\n",
       " 'TubeStrike': 2,\n",
       " 'photo': 2,\n",
       " 'puppy': 2,\n",
       " 'tcot': 2,\n",
       " 'LuchaUnderground': 2,\n",
       " 'priceless': 2,\n",
       " 'FARRAKHAN': 2,\n",
       " 'QUOTE': 2,\n",
       " 'wealth': 2,\n",
       " 'forever': 2,\n",
       " 'Hellfire': 2,\n",
       " 'Reflect': 2,\n",
       " 'Cowboys': 2,\n",
       " '4PlayThursdays': 2,\n",
       " 'NoSurrender': 2,\n",
       " 'blessed': 2,\n",
       " 'ushanka': 2,\n",
       " 'environment': 2,\n",
       " 'BakeOffFriends': 2,\n",
       " 'nuclear': 2,\n",
       " 'JonVoyage': 2,\n",
       " 'startup': 2,\n",
       " 'onlinecommunities': 2,\n",
       " 'reddit': 2,\n",
       " 'radiation': 2,\n",
       " 'refugees': 2,\n",
       " '360WiseNews': 2,\n",
       " 'quote': 2,\n",
       " 'trading': 2,\n",
       " 'forex': 2,\n",
       " 'MetroFmTalk': 2,\n",
       " 'Chile': 2,\n",
       " 'traumatised': 2,\n",
       " 'thankU': 2,\n",
       " 'sing': 2,\n",
       " 'tsunami': 2,\n",
       " 'computer': 2,\n",
       " 'TheGame': 2,\n",
       " 'Trump': 2,\n",
       " 'Sale': 2,\n",
       " 'metal': 1,\n",
       " 'personalinjury': 1,\n",
       " 'solicitor': 1,\n",
       " 'OtleyHour': 1,\n",
       " 'stlouis': 1,\n",
       " 'caraccidentlawyer': 1,\n",
       " 'ArrestPastorNganga': 1,\n",
       " 'GrowingUpSpoiled': 1,\n",
       " 'WisdomWed': 1,\n",
       " 'lifehacks': 1,\n",
       " 'silverwood': 1,\n",
       " 'aftershock': 1,\n",
       " 'book': 1,\n",
       " 'now': 1,\n",
       " 'wdyouth': 1,\n",
       " 'biblestudy': 1,\n",
       " 'justsaying': 1,\n",
       " 'randomthought': 1,\n",
       " 'ems': 1,\n",
       " 'paramedics': 1,\n",
       " 'ambulance': 1,\n",
       " 'Fant4stic': 1,\n",
       " 'LGM': 1,\n",
       " 'AZ': 1,\n",
       " 'WildHorses': 1,\n",
       " 'TantoNationalForest': 1,\n",
       " 'SaltRiverWildHorses': 1,\n",
       " 'sciencefiction': 1,\n",
       " 'warmbodies': 1,\n",
       " 'etcPB': 1,\n",
       " '1008pla': 1,\n",
       " 'eonlinechat': 1,\n",
       " '1008planet': 1,\n",
       " 'startrek': 1,\n",
       " 'tos': 1,\n",
       " 'Entertainment': 1,\n",
       " 'BruceWillis': 1,\n",
       " 'DVD': 1,\n",
       " 'eBay': 1,\n",
       " 'Auction': 1,\n",
       " 'PREPPERS': 1,\n",
       " 'DOOMSDAY': 1,\n",
       " 'shtf': 1,\n",
       " 'preppertalk': 1,\n",
       " 'survival': 1,\n",
       " '2A': 1,\n",
       " 'prepper': 1,\n",
       " 'Christians': 1,\n",
       " 'Israel': 1,\n",
       " 'CUFI': 1,\n",
       " 'preseasonworkouts': 1,\n",
       " 'InterestRateRise': 1,\n",
       " 'TheReal': 1,\n",
       " 'Queens': 1,\n",
       " 'FanArmyFaceOff': 1,\n",
       " 'IndiaKoMunTorJawabDo': 1,\n",
       " 'MTVSummerStar': 1,\n",
       " 'NOWPLAYING': 1,\n",
       " 'cbcto': 1,\n",
       " 'Vegetarian': 1,\n",
       " 'Vegan': 1,\n",
       " 'GoVegan': 1,\n",
       " 'UniteBlue': 1,\n",
       " 'Spotlight': 1,\n",
       " 'WNIAGospel': 1,\n",
       " '7NewsAdl': 1,\n",
       " 'tbt': 1,\n",
       " 'pugprobs': 1,\n",
       " 'robotcoingame': 1,\n",
       " 'Bitcoin': 1,\n",
       " 'FreeBitcoin': 1,\n",
       " 'WeLoveLA': 1,\n",
       " 'NHLDucks': 1,\n",
       " 'SportsRoadhouse': 1,\n",
       " 'Colorado': 1,\n",
       " 'Hockey': 1,\n",
       " '171': 1,\n",
       " 'weddinghour': 1,\n",
       " 'entretenimento': 1,\n",
       " 'Video': 1,\n",
       " '124': 1,\n",
       " 'BTS': 1,\n",
       " 'Tb': 1,\n",
       " 'throwback': 1,\n",
       " 'SFGiants': 1,\n",
       " 'DU19': 1,\n",
       " 'Warcraft': 1,\n",
       " 'LonePine': 1,\n",
       " 'Gallipoli': 1,\n",
       " 'WW1': 1,\n",
       " 'NewsInTweets': 1,\n",
       " 'frontpage': 1,\n",
       " 'Bioterror': 1,\n",
       " 'RickPerry': 1,\n",
       " 'BreakingNews': 1,\n",
       " 'dvd': 1,\n",
       " 'Pathogen': 1,\n",
       " 'Bioterrorism': 1,\n",
       " 'Infectious': 1,\n",
       " 'Ebola': 1,\n",
       " 'digitalhealth': 1,\n",
       " 'hcsm': 1,\n",
       " 'raisinfingers': 1,\n",
       " 'Family': 1,\n",
       " 'Cleveland': 1,\n",
       " 'StandUp': 1,\n",
       " 'thisispublichealth': 1,\n",
       " 'ArtisteOfTheWeekFact': 1,\n",
       " 'Conversations': 1,\n",
       " 'coast2coastdjs': 1,\n",
       " 'Jiwonle': 1,\n",
       " 'HipHop': 1,\n",
       " 'ClubBanger': 1,\n",
       " 'Weddings': 1,\n",
       " 'stoponesounds': 1,\n",
       " 'airwaves': 1,\n",
       " 'Hinatobot': 1,\n",
       " 'escorts': 1,\n",
       " 'gfe': 1,\n",
       " 'DUBAI': 1,\n",
       " 'arizona': 1,\n",
       " 'realestate': 1,\n",
       " 'oomf': 1,\n",
       " '2fast2furious': 1,\n",
       " 'SUN': 1,\n",
       " 'Earth': 1,\n",
       " 'CatfishMTV': 1,\n",
       " 'WBC2015': 1,\n",
       " 'Catfish': 1,\n",
       " 'HarperANetflixShow': 1,\n",
       " 'elxn42': 1,\n",
       " 'stopharper': 1,\n",
       " 'doping': 1,\n",
       " 'ZippoLine': 1,\n",
       " 'moveit': 1,\n",
       " 'CLE': 1,\n",
       " 'overwatch': 1,\n",
       " 'LWB': 1,\n",
       " 'SpeakingFromExperience': 1,\n",
       " 'RolandoNaBeats': 1,\n",
       " 'win': 1,\n",
       " 'bbloggers': 1,\n",
       " 'stephenking': 1,\n",
       " 'thedarktower': 1,\n",
       " 'boxing': 1,\n",
       " 'bloodymonday': 1,\n",
       " 'tvshowtime': 1,\n",
       " 'mystery': 1,\n",
       " 'MusicAdvisory': 1,\n",
       " 'givebackkalinwhiteaccount': 1,\n",
       " 'PiperWearsThePants': 1,\n",
       " 'charmed': 1,\n",
       " 'Republicans': 1,\n",
       " '9973': 1,\n",
       " 'trollingtilMeekdiss': 1,\n",
       " 'VuzuHustle': 1,\n",
       " 'OVOFest': 1,\n",
       " 'ZIPHIMUP': 1,\n",
       " 'bestseller': 1,\n",
       " 'concert': 1,\n",
       " 'moving2k15': 1,\n",
       " 'expertwhiner': 1,\n",
       " 'cutekitten': 1,\n",
       " 'catsofinstagram': 1,\n",
       " 'summerinsweden': 1,\n",
       " 'katt': 1,\n",
       " 'katterpÌ': 1,\n",
       " 'dumle': 1,\n",
       " 'dagens': 1,\n",
       " 'Norge2040': 1,\n",
       " 'whatcanthedo': 1,\n",
       " 'MLB': 1,\n",
       " 'date': 1,\n",
       " 'AfricansInSF': 1,\n",
       " 'BeyondGPS': 1,\n",
       " 'Collapse': 1,\n",
       " 'Ashes': 1,\n",
       " 'rdg': 1,\n",
       " 'RedSox': 1,\n",
       " 'myfitnesspal': 1,\n",
       " 'CubsTalk': 1,\n",
       " 'LetsFootball': 1,\n",
       " 'letsFootball': 1,\n",
       " 'fat': 1,\n",
       " 'burnfat': 1,\n",
       " 'skinny': 1,\n",
       " 'workout': 1,\n",
       " 'ika': 1,\n",
       " 'tuning': 1,\n",
       " 'diet': 1,\n",
       " 'KCA': 1,\n",
       " 'VoteJKT48ID': 1,\n",
       " 'BooRadleyVanCullen': 1,\n",
       " 'spain': 1,\n",
       " 'FrancisUnderwood': 1,\n",
       " 'HoC': 1,\n",
       " 'casualties': 1,\n",
       " 'Wave': 1,\n",
       " 'Casualty': 1,\n",
       " 'AIDS': 1,\n",
       " 'amicospizzato': 1,\n",
       " 'seeyouatamicos': 1,\n",
       " 'Homealone2': 1,\n",
       " 'film4': 1,\n",
       " 'France': 1,\n",
       " 'Russia': 1,\n",
       " 'Diversification': 1,\n",
       " 'pjnet': 1,\n",
       " 'tcotåÊ': 1,\n",
       " 'ccot': 1,\n",
       " 'Borrowers': 1,\n",
       " 'interest': 1,\n",
       " 'catastrophe': 1,\n",
       " 'iphone': 1,\n",
       " 'twist': 1,\n",
       " 'VMAs': 1,\n",
       " 'PixelsMovie': 1,\n",
       " 'spark': 1,\n",
       " 'song': 1,\n",
       " 'Catastrophe': 1,\n",
       " 'Results': 1,\n",
       " 'gbbo': 1,\n",
       " 'Wolves': 1,\n",
       " 'SaveDenaliWolves': 1,\n",
       " 'real': 1,\n",
       " 'PieceOfMe': 1,\n",
       " 'Defendant': 1,\n",
       " 'Catastrophic': 1,\n",
       " 'watersafety': 1,\n",
       " 'USAR2015': 1,\n",
       " 'USAR15': 1,\n",
       " 'RUOR': 1,\n",
       " 'Savebees': 1,\n",
       " 'yr': 1,\n",
       " 'heat': 1,\n",
       " 'cold': 1,\n",
       " 'tough': 1,\n",
       " 'crossfit': 1,\n",
       " 'Humble': 1,\n",
       " 'thinkpink': 1,\n",
       " 'magichairbump': 1,\n",
       " 'Internet': 1,\n",
       " 'Nieuws': 1,\n",
       " 'ROH3': 1,\n",
       " 'JFB': 1,\n",
       " 'TFB': 1,\n",
       " 'alrasyid448ItuRasya': 1,\n",
       " 'ROH3SmantiBatam': 1,\n",
       " 'I': 1,\n",
       " 'after': 1,\n",
       " 'love': 1,\n",
       " 'pluto': 1,\n",
       " 'nlccollide': 1,\n",
       " 'wogc': 1,\n",
       " 'ISEA2015': 1,\n",
       " 'wattys2015': 1,\n",
       " 'Wattpad': 1,\n",
       " 'teenfiction': 1,\n",
       " 'ihave44episodesofGG': 1,\n",
       " 'nojoke': 1,\n",
       " 'yagitudeh': 1,\n",
       " 'simple': 1,\n",
       " 'Alaskaseafood': 1,\n",
       " 'askforalaska': 1,\n",
       " 'JustinBieber': 1,\n",
       " 'HarryStyles': 1,\n",
       " 'Cern': 1,\n",
       " 'BODY': 1,\n",
       " 'SHOP': 1,\n",
       " 'gadgets': 1,\n",
       " 'gadget': 1,\n",
       " 'Windows10': 1,\n",
       " 'modestmouseremix': 1,\n",
       " 'truestory': 1,\n",
       " 'loveyouuuu': 1,\n",
       " 'aintsheperty': 1,\n",
       " 'MrRobinson': 1,\n",
       " 'TheSteveHarveyShow': 1,\n",
       " 'Crush': 1,\n",
       " 'EDWING': 1,\n",
       " 'AyekoRadio': 1,\n",
       " 'NetLabel': 1,\n",
       " 'ElectronicMusic': 1,\n",
       " 'listen': 1,\n",
       " 'CCMusic': 1,\n",
       " 'france': 1,\n",
       " 'wine': 1,\n",
       " 'DC': 1,\n",
       " 'BC': 1,\n",
       " 'freedom': 1,\n",
       " 'donthate': 1,\n",
       " 'BC19': 1,\n",
       " 'rewatchingthepilot': 1,\n",
       " 'TeamScorpion': 1,\n",
       " 'Cyclone': 1,\n",
       " 'Camera': 1,\n",
       " 'Art': 1,\n",
       " 'Photography': 1,\n",
       " '0215': 1,\n",
       " 'Vanuatu': 1,\n",
       " 'OOTD': 1,\n",
       " 'DoubleGhats': 1,\n",
       " 'NP': 1,\n",
       " 'pussy': 1,\n",
       " 'ass': 1,\n",
       " 'boobs': 1,\n",
       " 'asian': 1,\n",
       " 'nude': 1,\n",
       " 'QueensWharf': 1,\n",
       " 'Brisbane': 1,\n",
       " 'Govt': 1,\n",
       " 'Ethical': 1,\n",
       " 'danger': 1,\n",
       " 'st': 1,\n",
       " 'nonprofit': 1,\n",
       " 'IWasDisappointedBy': 1,\n",
       " 'dead': 1,\n",
       " 'summerfate': 1,\n",
       " 'PapiiChampoo': 1,\n",
       " 'Mullah': 1,\n",
       " 'superfood': 1,\n",
       " 'AdiosSuperBacterias': 1,\n",
       " 'baking': 1,\n",
       " 'cakes': 1,\n",
       " 'legionstrackandfield': 1,\n",
       " 'king': 1,\n",
       " 'Deluge': 1,\n",
       " 'Dumuzid': 1,\n",
       " 'Bible': 1,\n",
       " 'UnFML': 1,\n",
       " 'deluge': 1,\n",
       " 'GISHWHES': 1,\n",
       " 'b2b': 1,\n",
       " 'b2bagency': 1,\n",
       " 'ContentMarketing': 1,\n",
       " 'asae15': 1,\n",
       " 'assnchat': 1,\n",
       " 'MeditationByMSG': 1,\n",
       " 'novalismi': 1,\n",
       " 'badotweet': 1,\n",
       " 'inspiration': 1,\n",
       " 'Manhood': 1,\n",
       " 'Android': 1,\n",
       " 'androidgames': 1,\n",
       " 'gameinsight': 1,\n",
       " 'Babri': 1,\n",
       " 'charminar': 1,\n",
       " 'Telangana': 1,\n",
       " 'funtimes': 1,\n",
       " 'demolished': 1,\n",
       " 'Patriots': 1,\n",
       " 'CantMakeItUp': 1,\n",
       " 'PatriotsNation': 1,\n",
       " 'Workers': 1,\n",
       " 'Halifax': 1,\n",
       " 'burnaby': 1,\n",
       " 'changefortheworse': 1,\n",
       " 'WMATA': 1,\n",
       " 'Metro': 1,\n",
       " 'sms': 1,\n",
       " 'FreeSikhPoliticalPrisnors': 1,\n",
       " 'coya': 1,\n",
       " 'london': 1,\n",
       " 'blacklivesmatter': 1,\n",
       " 'DONZILLA': 1,\n",
       " 'Trump2016': 1,\n",
       " 'Adani': 1,\n",
       " 'Modi': 1,\n",
       " 'illustration': 1,\n",
       " 'subway': 1,\n",
       " 'writing': 1,\n",
       " 'TaxReturn': 1,\n",
       " 'CRI': 1,\n",
       " 'robertwelch': 1,\n",
       " 'OnThisDay': 1,\n",
       " 'FREE': 1,\n",
       " 'Thriller': 1,\n",
       " 'Suspense': 1,\n",
       " 'amreading': 1,\n",
       " 'listia': 1,\n",
       " 'Phoenix': 1,\n",
       " 'Arizona': 1,\n",
       " 'ORShow': 1,\n",
       " 'cliptv': 1,\n",
       " 'desolationofsmaug': 1,\n",
       " 'poze': 1,\n",
       " 'thehobbit': 1,\n",
       " 'Ashes2Ashes': 1,\n",
       " 'ShantaeForSmash': 1,\n",
       " 'Shantae': 1,\n",
       " 'ShantaeHalfGenieHero': 1,\n",
       " 'Nintendo': 1,\n",
       " 'YIAYplan': 1,\n",
       " 'Luck': 1,\n",
       " 'ReggaeBoyz': 1,\n",
       " 'copped': 1,\n",
       " 'beconfident': 1,\n",
       " 'AshesToAshes': 1,\n",
       " 'FN': 1,\n",
       " 'teen': 1,\n",
       " 'milf': 1,\n",
       " 'GH': 1,\n",
       " 'Takecare': 1,\n",
       " 'fly': 1,\n",
       " 'bored': 1,\n",
       " 'cats': 1,\n",
       " 'destruction': 1,\n",
       " 'badkitty': 1,\n",
       " 'Russian': 1,\n",
       " 'ThingsIhate': 1,\n",
       " 'JTW': 1,\n",
       " 'ORapInforma': 1,\n",
       " 'HHBU': 1,\n",
       " 'soundcloud': 1,\n",
       " 'RossBarton': 1,\n",
       " 'ashes2015': 1,\n",
       " 'momneedscoffee': 1,\n",
       " 'asap': 1,\n",
       " 'iwontmakeit': 1,\n",
       " 'Benediction': 1,\n",
       " 'SanelessTheory': 1,\n",
       " 'thriller': 1,\n",
       " 'SciFi': 1,\n",
       " 'StrategicPatience': 1,\n",
       " 'Genocide': 1,\n",
       " 'rain': 1,\n",
       " 'scwx': 1,\n",
       " 'drought': 1,\n",
       " 'CADrought': 1,\n",
       " 'LakeIsabella': 1,\n",
       " 'Live': 1,\n",
       " 'AllTheKidneyBeansAndSorbet4Misha': 1,\n",
       " 'YES': 1,\n",
       " 'wattpad': 1,\n",
       " 'promo': 1,\n",
       " 'summer2k15': 1,\n",
       " 'ICYMI': 1,\n",
       " 'Annoucement': 1,\n",
       " 'NashsNewVideo': 1,\n",
       " 'anxietyproblems': 1,\n",
       " 'Islamic': 1,\n",
       " 'state': 1,\n",
       " 'brochure': 1,\n",
       " 'bomb': 1,\n",
       " 'cogXbox': 1,\n",
       " 'XboxOne': 1,\n",
       " 'Xbox': 1,\n",
       " 'euroquake': 1,\n",
       " 'bb17': 1,\n",
       " 'USGS': 1,\n",
       " 'SM': 1,\n",
       " 'Sismo': 1,\n",
       " 'CS': 1,\n",
       " 'Borderlands': 1,\n",
       " 'Borderlands2': 1,\n",
       " 'OOCVG': 1,\n",
       " 'FTW': 1,\n",
       " 'Red': 1,\n",
       " 'Redblood': 1,\n",
       " 'videoclip': 1,\n",
       " 'SouthKorea': 1,\n",
       " '37592': 1,\n",
       " 'international': 1,\n",
       " 'drjustinmazur': 1,\n",
       " 'tookitlikeaman': 1,\n",
       " 'lovemydentist': 1,\n",
       " 'sore': 1,\n",
       " 'Anchorage': 1,\n",
       " 'Alaska': 1,\n",
       " 'ProtectDenaliWolves': 1,\n",
       " 'Retail': 1,\n",
       " 'nbc15': 1,\n",
       " 'Families': 1,\n",
       " 'autism': 1,\n",
       " 'specialneeds': 1,\n",
       " 'Torrance': 1,\n",
       " 'followme': 1,\n",
       " 'RN': 1,\n",
       " 'Emergency': 1,\n",
       " 'Henderson': 1,\n",
       " 'Tarzana': 1,\n",
       " 'LiteraryCakes': 1,\n",
       " 'boycottBears': 1,\n",
       " 'Tanzania': 1,\n",
       " 'whocares': 1,\n",
       " 'nazis': 1,\n",
       " 'TRC': 1,\n",
       " 'feelingmanly': 1,\n",
       " 'hitting': 1,\n",
       " 'load': 1,\n",
       " 'hotnewscake': 1,\n",
       " 'pets': 1,\n",
       " 'dogs': 1,\n",
       " 'animals': 1,\n",
       " '38745': 1,\n",
       " 'dating': 1,\n",
       " 'meet': 1,\n",
       " 'WORSTSUMMERJOB': 1,\n",
       " 'cum': 1,\n",
       " 'BitCoin': 1,\n",
       " 'Hangout': 1,\n",
       " 'Tampa': 1,\n",
       " 'dcubecrafts': 1,\n",
       " 'greetingcards': 1,\n",
       " 'Eyewitness': 1,\n",
       " 'UGC': 1,\n",
       " 'BokoHaram': 1,\n",
       " 'IARTG': 1,\n",
       " 'RWA': 1,\n",
       " 'tw4rw': 1,\n",
       " 'RRBC': 1,\n",
       " 'Dynamix': 1,\n",
       " 'education': 1,\n",
       " 'econom': 1,\n",
       " 'HSE': 1,\n",
       " 'GGIndependencMessage': 1,\n",
       " 'VisionZero': 1,\n",
       " 'Mystery': 1,\n",
       " 'Paranormal': 1,\n",
       " 'PerryChat': 1,\n",
       " 'BlackInAmerica': 1,\n",
       " 'GrowingUpBlack': 1,\n",
       " 'ChooseGod': 1,\n",
       " 'RestoringPaths': 1,\n",
       " 'TheXFiles201Days': 1,\n",
       " 'BestTalkRadio': 1,\n",
       " 'deltachildren': 1,\n",
       " 'instaquote': 1,\n",
       " 'quoteoftheday': 1,\n",
       " 'Disney': 1,\n",
       " 'WaltDisney': 1,\n",
       " 'auction': 1,\n",
       " 'CanonBringIt': 1,\n",
       " 'Fire': 1,\n",
       " 'CanonTattoo': 1,\n",
       " 'MN': 1,\n",
       " 'TheresMoreWhereThatCameFrom': 1,\n",
       " 'euro': 1,\n",
       " 'dontexpectnothing': 1,\n",
       " 'july': 1,\n",
       " 'fire': 1,\n",
       " 'RFP': 1,\n",
       " 'fireman': 1,\n",
       " 'filipino': 1,\n",
       " 'LukeBox': 1,\n",
       " 'charity': 1,\n",
       " 'run': 1,\n",
       " 'SmartTek': 1,\n",
       " 'mPERS': 1,\n",
       " 'safety': 1,\n",
       " 'gisuserPR': 1,\n",
       " 'geoTech': 1,\n",
       " 'paramedic': 1,\n",
       " 'EMS': 1,\n",
       " 'SBNation': 1,\n",
       " 'Flames': 1,\n",
       " 'PortgassDK': 1,\n",
       " 'RubyBot': 1,\n",
       " 'muaytai': 1,\n",
       " 'wantmyabsback': 1,\n",
       " 'strong': 1,\n",
       " 'CFC': 1,\n",
       " 'Floored4': 1,\n",
       " 'Flattened': 1,\n",
       " 'Muppet': 1,\n",
       " 'RobertCalifornia': 1,\n",
       " 'thereisonlysex': 1,\n",
       " 'HAIL': 1,\n",
       " '452': 1,\n",
       " 'homeimprovement': 1,\n",
       " 'Flooding': 1,\n",
       " 'mmda': 1,\n",
       " 'FrvrGrateful': 1,\n",
       " 'jazz': 1,\n",
       " 'Music': 1,\n",
       " 'trees': 1,\n",
       " 'deep': 1,\n",
       " 'Lake': 1,\n",
       " 'forest': 1,\n",
       " 'SirMixAlot': 1,\n",
       " 'WCW': 1,\n",
       " 'ParkChat': 1,\n",
       " 'CarlilesCanoeLivery': 1,\n",
       " 'LoveMyJob': 1,\n",
       " 'OTRATMETLIFE': 1,\n",
       " 'PlannedParenthood': 1,\n",
       " 'Lifestyle': 1,\n",
       " 'Chelsea': 1,\n",
       " 'Hazard': 1,\n",
       " 'WE': 1,\n",
       " 'WholeTeam3': 1,\n",
       " 'WholesaleEnt': 1,\n",
       " 'sustainable': 1,\n",
       " 'what': 1,\n",
       " 'tribal': 1,\n",
       " 'foodscare': 1,\n",
       " 'offers2go': 1,\n",
       " 'NestleIndia': 1,\n",
       " 'Magginoodle': 1,\n",
       " 'ban': 1,\n",
       " 'humanconsumption': 1,\n",
       " 'greatbritishbakeoff': 1,\n",
       " 'JAGM': 1,\n",
       " 'TOW': 1,\n",
       " 'mcgsecure': 1,\n",
       " 'FlavorChargedTea': 1,\n",
       " 'LH_movie': 1,\n",
       " 'indiefilm': 1,\n",
       " 'comingsoon': 1,\n",
       " 'Porn': 1,\n",
       " 'Clip': 1,\n",
       " 'adult': 1,\n",
       " 'tube': 1,\n",
       " 'WakeUpFlorida': 1,\n",
       " 'Floridians': 1,\n",
       " 'TrophyHunt': 1,\n",
       " 'golf': 1,\n",
       " 'riders': 1,\n",
       " 'GOP': 1,\n",
       " 'DisabledVeterans': 1,\n",
       " 'ThePartyofMeanness': 1,\n",
       " 'chinadotcom': 1,\n",
       " 'sports': 1,\n",
       " 'USMNT': 1,\n",
       " 'poster': 1,\n",
       " 'ergo': 1,\n",
       " 'cuff': 1,\n",
       " 'Injury': 1,\n",
       " 'PFT': 1,\n",
       " 'NYG': 1,\n",
       " 'NFL': 1,\n",
       " 'Playoffs': 1,\n",
       " 'TMS7': 1,\n",
       " 'Worm': 1,\n",
       " 'Mainstage': 1,\n",
       " 'KRO': 1,\n",
       " 'tech': 1,\n",
       " 'Q99': 1,\n",
       " 'Landslide': 1,\n",
       " '89X': 1,\n",
       " 'landslide': 1,\n",
       " 'skardu': 1,\n",
       " 'kidsthesedays': 1,\n",
       " 'e': 1,\n",
       " 'baby': 1,\n",
       " 'swim': 1,\n",
       " 'parents': 1,\n",
       " 'waterboarding': 1,\n",
       " 'lava': 1,\n",
       " 'shakeology': 1,\n",
       " 'iPhone': 1,\n",
       " '034': 1,\n",
       " 'Lightning': 1,\n",
       " 'ActionMoviesTaughtUs': 1,\n",
       " 'auspol': 1,\n",
       " 'Wimbledon': 1,\n",
       " 'FaroeIslands': 1,\n",
       " 'Grindhouse': 1,\n",
       " 'TexasChainsawMassacre': 1,\n",
       " 'BeCarefulHarry': 1,\n",
       " 'Giveaway': 1,\n",
       " 'MasterChef': 1,\n",
       " 'RT_4_A_MENTION': 1,\n",
       " 'TY': 1,\n",
       " 'Pitchwars': 1,\n",
       " 'Drum': 1,\n",
       " 'heavy': 1,\n",
       " 'nasty': 1,\n",
       " 'tangletalk': 1,\n",
       " 'Amazon': 1,\n",
       " '140': 1,\n",
       " '3': 1,\n",
       " 'winter': 1,\n",
       " 'russian': 1,\n",
       " 'cossack': 1,\n",
       " 'HillaryClinton': 1,\n",
       " 'Author': 1,\n",
       " 'Interview': 1,\n",
       " 'Gravity': 1,\n",
       " 'Mom': 1,\n",
       " 'TalkRadio': 1,\n",
       " 'tomclancy': 1,\n",
       " 'britishbakeoff': 1,\n",
       " 'paulhollywood': 1,\n",
       " 'mudslide': 1,\n",
       " 'AskConnor': 1,\n",
       " 'NoNuclearIran': 1,\n",
       " 'BadIranDeal': 1,\n",
       " 'fukushima': 1,\n",
       " 'GE': 1,\n",
       " 'robot': 1,\n",
       " 'winechat': 1,\n",
       " 'Subs': 1,\n",
       " 'Chernobyl': 1,\n",
       " 'RichHomeyDon': 1,\n",
       " 'Swag': 1,\n",
       " 'LIKES': 1,\n",
       " 'fun': 1,\n",
       " 'instagramers': 1,\n",
       " 'KneelBot': 1,\n",
       " 'LOL': 1,\n",
       " 'gym': 1,\n",
       " 'gymflow': 1,\n",
       " 'gymtime': 1,\n",
       " 'team': 1,\n",
       " 'assassins': 1,\n",
       " 'ovofest': 1,\n",
       " 'MicheleBachman': 1,\n",
       " 'GlobalWarming': 1,\n",
       " 'Zimmerman': 1,\n",
       " 'byebyesoundcloud': 1,\n",
       " 'TeamHennessy': 1,\n",
       " 'NJ': 1,\n",
       " 'SLAB': 1,\n",
       " 'Labour': 1,\n",
       " 'Labourleadership': 1,\n",
       " 'obliteration': 1,\n",
       " 'Homosexuality': 1,\n",
       " 'entrepreneur': 1,\n",
       " 'management': 1,\n",
       " 'leadership': 1,\n",
       " 'smallbiz': 1,\n",
       " 'CopaLibertadores': 1,\n",
       " 'Pandemonium': 1,\n",
       " 'BennyCapricon': 1,\n",
       " 'Shestooyoung': 1,\n",
       " 'cumshot': 1,\n",
       " 'video': 1,\n",
       " 'porno': 1,\n",
       " 'free': 1,\n",
       " 'justaguess': 1,\n",
       " 'Deals_UK': 1,\n",
       " 'autismawareness': 1,\n",
       " 'TroubleOnMyMind': 1,\n",
       " 'Royals': 1,\n",
       " 'NatsNation': 1,\n",
       " 'dream': 1,\n",
       " 'magic': 1,\n",
       " 'linden': 1,\n",
       " 'HS2': 1,\n",
       " 'romanticsuspense': 1,\n",
       " 'BAYONETS': 1,\n",
       " 'EvilEmpire': 1,\n",
       " 'JadeHelm15': 1,\n",
       " 'PP15000266818': 1,\n",
       " 'pdx911': 1,\n",
       " 'helpme': 1,\n",
       " 'Facebook': 1,\n",
       " 'strategy': 1,\n",
       " 'Technology': 1,\n",
       " 'technews': 1,\n",
       " 'puledo_tech_update': 1,\n",
       " 'Bangalore': 1,\n",
       " 'Startups': 1,\n",
       " 'in': 1,\n",
       " 'wired': 1,\n",
       " 'cc': 1,\n",
       " 'amageddon': 1,\n",
       " 'freespeech': 1,\n",
       " 'emergency': 1,\n",
       " 'procedures': 1,\n",
       " '06': 1,\n",
       " '24': 1,\n",
       " '09': 1,\n",
       " 'CCOT': 1,\n",
       " 'TCOT': 1,\n",
       " 'IWK': 1,\n",
       " 'lucky': 1,\n",
       " 'NewRelease': 1,\n",
       " 'Castle': 1,\n",
       " 'Dutton': 1,\n",
       " 'Abbott': 1,\n",
       " 'LNP': 1,\n",
       " 'CHOPPERGATE': 1,\n",
       " 'BRONWYNBISHOP': 1,\n",
       " 'AUSPOL': 1,\n",
       " 'christianvalues': 1,\n",
       " 'Turkish': 1,\n",
       " 'Syrian': 1,\n",
       " 'wedding': 1,\n",
       " 'Age': 1,\n",
       " 'KelbyTomlinson': 1,\n",
       " 'NewBeginningsAnimalRescue': 1,\n",
       " 'PPact': 1,\n",
       " 'psychrewatch': 1,\n",
       " 'summervibes': 1,\n",
       " 'california': 1,\n",
       " 'pitmix': 1,\n",
       " 'rescued': 1,\n",
       " 'brixton': 1,\n",
       " 'banksy': 1,\n",
       " 'happy': 1,\n",
       " 'mybabies': 1,\n",
       " 'Skyrim': 1,\n",
       " 'enkelbiljett': 1,\n",
       " 'menolippu': 1,\n",
       " 'childhooddefined': 1,\n",
       " 'menswear': 1,\n",
       " 'urbanfashion': 1,\n",
       " 'LoveIsLove': 1,\n",
       " 'Baltimore': 1,\n",
       " 'Rioting': 1,\n",
       " 'YAHIstorical': 1,\n",
       " 'UndergroundRailraod': 1,\n",
       " 'crazyideascollege': 1,\n",
       " ...}"
      ]
     },
     "execution_count": 131,
     "metadata": {},
     "output_type": "execute_result"
    }
   ],
   "source": [
    "a"
   ]
  },
  {
   "cell_type": "code",
   "execution_count": 132,
   "metadata": {},
   "outputs": [],
   "source": [
    "a0_values = list(a.keys())\n",
    "a0_count = list(a.values())"
   ]
  },
  {
   "cell_type": "code",
   "execution_count": 133,
   "metadata": {},
   "outputs": [],
   "source": [
    "hash11 = Counter(hash1)\n",
    "b = dict(hash11.most_common())"
   ]
  },
  {
   "cell_type": "code",
   "execution_count": 134,
   "metadata": {},
   "outputs": [],
   "source": [
    "b0_values = list(b.keys())\n",
    "b1_count = list(b.values())"
   ]
  },
  {
   "cell_type": "code",
   "execution_count": 139,
   "metadata": {},
   "outputs": [],
   "source": [
    "a = pd.DataFrame(a0_values[0:20],columns=['Non-disaster # words'])\n",
    "b = pd.DataFrame(a0_count[0:20],columns=['Frequency of non-disaster # words'])\n",
    "c = pd.DataFrame(b0_values[0:20],columns=['Disaster # words'])\n",
    "d = pd.DataFrame(b1_count[0:20],columns=['Frequency of disaster # words'])\n",
    "e = pd.concat([a,b,c,d],axis=1)"
   ]
  },
  {
   "cell_type": "code",
   "execution_count": 140,
   "metadata": {},
   "outputs": [
    {
     "data": {
      "text/html": [
       "<div>\n",
       "<style scoped>\n",
       "    .dataframe tbody tr th:only-of-type {\n",
       "        vertical-align: middle;\n",
       "    }\n",
       "\n",
       "    .dataframe tbody tr th {\n",
       "        vertical-align: top;\n",
       "    }\n",
       "\n",
       "    .dataframe thead th {\n",
       "        text-align: right;\n",
       "    }\n",
       "</style>\n",
       "<table border=\"1\" class=\"dataframe\">\n",
       "  <thead>\n",
       "    <tr style=\"text-align: right;\">\n",
       "      <th></th>\n",
       "      <th>Non-disaster # words</th>\n",
       "      <th>Frequency of non-disaster # words</th>\n",
       "      <th>Disaster # words</th>\n",
       "      <th>Frequency of disaster # words</th>\n",
       "    </tr>\n",
       "  </thead>\n",
       "  <tbody>\n",
       "    <tr>\n",
       "      <td>0</td>\n",
       "      <td>hot</td>\n",
       "      <td>18</td>\n",
       "      <td>News</td>\n",
       "      <td>33</td>\n",
       "    </tr>\n",
       "    <tr>\n",
       "      <td>1</td>\n",
       "      <td>prebreak</td>\n",
       "      <td>17</td>\n",
       "      <td>news</td>\n",
       "      <td>23</td>\n",
       "    </tr>\n",
       "    <tr>\n",
       "      <td>2</td>\n",
       "      <td>best</td>\n",
       "      <td>17</td>\n",
       "      <td>Hiroshima</td>\n",
       "      <td>21</td>\n",
       "    </tr>\n",
       "    <tr>\n",
       "      <td>3</td>\n",
       "      <td>news</td>\n",
       "      <td>15</td>\n",
       "      <td>hot</td>\n",
       "      <td>13</td>\n",
       "    </tr>\n",
       "    <tr>\n",
       "      <td>4</td>\n",
       "      <td>GBBO</td>\n",
       "      <td>13</td>\n",
       "      <td>prebreak</td>\n",
       "      <td>13</td>\n",
       "    </tr>\n",
       "    <tr>\n",
       "      <td>5</td>\n",
       "      <td>islam</td>\n",
       "      <td>11</td>\n",
       "      <td>best</td>\n",
       "      <td>13</td>\n",
       "    </tr>\n",
       "    <tr>\n",
       "      <td>6</td>\n",
       "      <td>NowPlaying</td>\n",
       "      <td>10</td>\n",
       "      <td>Japan</td>\n",
       "      <td>10</td>\n",
       "    </tr>\n",
       "    <tr>\n",
       "      <td>7</td>\n",
       "      <td>nowplaying</td>\n",
       "      <td>10</td>\n",
       "      <td>India</td>\n",
       "      <td>10</td>\n",
       "    </tr>\n",
       "    <tr>\n",
       "      <td>8</td>\n",
       "      <td>jobs</td>\n",
       "      <td>9</td>\n",
       "      <td>yyc</td>\n",
       "      <td>10</td>\n",
       "    </tr>\n",
       "    <tr>\n",
       "      <td>9</td>\n",
       "      <td>EDM</td>\n",
       "      <td>8</td>\n",
       "      <td>Sismo</td>\n",
       "      <td>9</td>\n",
       "    </tr>\n",
       "    <tr>\n",
       "      <td>10</td>\n",
       "      <td>DnB</td>\n",
       "      <td>8</td>\n",
       "      <td>earthquake</td>\n",
       "      <td>8</td>\n",
       "    </tr>\n",
       "    <tr>\n",
       "      <td>11</td>\n",
       "      <td>Beyhive</td>\n",
       "      <td>8</td>\n",
       "      <td>abstorm</td>\n",
       "      <td>8</td>\n",
       "    </tr>\n",
       "    <tr>\n",
       "      <td>12</td>\n",
       "      <td>Directioners</td>\n",
       "      <td>8</td>\n",
       "      <td>terrorism</td>\n",
       "      <td>8</td>\n",
       "    </tr>\n",
       "    <tr>\n",
       "      <td>13</td>\n",
       "      <td>RT</td>\n",
       "      <td>7</td>\n",
       "      <td>ISIS</td>\n",
       "      <td>8</td>\n",
       "    </tr>\n",
       "    <tr>\n",
       "      <td>14</td>\n",
       "      <td>Dubstep</td>\n",
       "      <td>7</td>\n",
       "      <td>BBC</td>\n",
       "      <td>7</td>\n",
       "    </tr>\n",
       "    <tr>\n",
       "      <td>15</td>\n",
       "      <td>TrapMusic</td>\n",
       "      <td>7</td>\n",
       "      <td>Earthquake</td>\n",
       "      <td>7</td>\n",
       "    </tr>\n",
       "    <tr>\n",
       "      <td>16</td>\n",
       "      <td>Dance</td>\n",
       "      <td>7</td>\n",
       "      <td>WX</td>\n",
       "      <td>7</td>\n",
       "    </tr>\n",
       "    <tr>\n",
       "      <td>17</td>\n",
       "      <td>Ices</td>\n",
       "      <td>7</td>\n",
       "      <td>hailstorm</td>\n",
       "      <td>7</td>\n",
       "    </tr>\n",
       "    <tr>\n",
       "      <td>18</td>\n",
       "      <td>animalrescue</td>\n",
       "      <td>7</td>\n",
       "      <td>disaster</td>\n",
       "      <td>6</td>\n",
       "    </tr>\n",
       "    <tr>\n",
       "      <td>19</td>\n",
       "      <td>MTVHottest</td>\n",
       "      <td>6</td>\n",
       "      <td>world</td>\n",
       "      <td>6</td>\n",
       "    </tr>\n",
       "  </tbody>\n",
       "</table>\n",
       "</div>"
      ],
      "text/plain": [
       "   Non-disaster # words  Frequency of non-disaster # words Disaster # words  \\\n",
       "0                   hot                                 18             News   \n",
       "1              prebreak                                 17             news   \n",
       "2                  best                                 17        Hiroshima   \n",
       "3                  news                                 15              hot   \n",
       "4                  GBBO                                 13         prebreak   \n",
       "5                 islam                                 11             best   \n",
       "6            NowPlaying                                 10            Japan   \n",
       "7            nowplaying                                 10            India   \n",
       "8                  jobs                                  9              yyc   \n",
       "9                   EDM                                  8            Sismo   \n",
       "10                  DnB                                  8       earthquake   \n",
       "11              Beyhive                                  8          abstorm   \n",
       "12         Directioners                                  8        terrorism   \n",
       "13                   RT                                  7             ISIS   \n",
       "14              Dubstep                                  7              BBC   \n",
       "15            TrapMusic                                  7       Earthquake   \n",
       "16                Dance                                  7               WX   \n",
       "17                 Ices                                  7        hailstorm   \n",
       "18         animalrescue                                  7         disaster   \n",
       "19           MTVHottest                                  6            world   \n",
       "\n",
       "    Frequency of disaster # words  \n",
       "0                              33  \n",
       "1                              23  \n",
       "2                              21  \n",
       "3                              13  \n",
       "4                              13  \n",
       "5                              13  \n",
       "6                              10  \n",
       "7                              10  \n",
       "8                              10  \n",
       "9                               9  \n",
       "10                              8  \n",
       "11                              8  \n",
       "12                              8  \n",
       "13                              8  \n",
       "14                              7  \n",
       "15                              7  \n",
       "16                              7  \n",
       "17                              7  \n",
       "18                              6  \n",
       "19                              6  "
      ]
     },
     "execution_count": 140,
     "metadata": {},
     "output_type": "execute_result"
    }
   ],
   "source": [
    "e"
   ]
  },
  {
   "cell_type": "code",
   "execution_count": 144,
   "metadata": {},
   "outputs": [
    {
     "data": {
      "application/vnd.plotly.v1+json": {
       "config": {
        "plotlyServerURL": "https://plot.ly"
       },
       "data": [
        {
         "alignmentgroup": "True",
         "hoverlabel": {
          "namelength": 0
         },
         "hovertemplate": "<b>%{hovertext}</b><br><br>Disaster # words=%{x}<br>Frequency of disaster # words=%{y}",
         "hovertext": [
          "News"
         ],
         "legendgroup": "News",
         "marker": {
          "color": "#636efa"
         },
         "name": "News",
         "offsetgroup": "News",
         "orientation": "v",
         "showlegend": true,
         "textposition": "auto",
         "type": "bar",
         "x": [
          "News"
         ],
         "xaxis": "x",
         "y": [
          33
         ],
         "yaxis": "y"
        },
        {
         "alignmentgroup": "True",
         "hoverlabel": {
          "namelength": 0
         },
         "hovertemplate": "<b>%{hovertext}</b><br><br>Disaster # words=%{x}<br>Frequency of disaster # words=%{y}",
         "hovertext": [
          "news"
         ],
         "legendgroup": "news",
         "marker": {
          "color": "#EF553B"
         },
         "name": "news",
         "offsetgroup": "news",
         "orientation": "v",
         "showlegend": true,
         "textposition": "auto",
         "type": "bar",
         "x": [
          "news"
         ],
         "xaxis": "x",
         "y": [
          23
         ],
         "yaxis": "y"
        },
        {
         "alignmentgroup": "True",
         "hoverlabel": {
          "namelength": 0
         },
         "hovertemplate": "<b>%{hovertext}</b><br><br>Disaster # words=%{x}<br>Frequency of disaster # words=%{y}",
         "hovertext": [
          "Hiroshima"
         ],
         "legendgroup": "Hiroshima",
         "marker": {
          "color": "#00cc96"
         },
         "name": "Hiroshima",
         "offsetgroup": "Hiroshima",
         "orientation": "v",
         "showlegend": true,
         "textposition": "auto",
         "type": "bar",
         "x": [
          "Hiroshima"
         ],
         "xaxis": "x",
         "y": [
          21
         ],
         "yaxis": "y"
        },
        {
         "alignmentgroup": "True",
         "hoverlabel": {
          "namelength": 0
         },
         "hovertemplate": "<b>%{hovertext}</b><br><br>Disaster # words=%{x}<br>Frequency of disaster # words=%{y}",
         "hovertext": [
          "hot"
         ],
         "legendgroup": "hot",
         "marker": {
          "color": "#ab63fa"
         },
         "name": "hot",
         "offsetgroup": "hot",
         "orientation": "v",
         "showlegend": true,
         "textposition": "auto",
         "type": "bar",
         "x": [
          "hot"
         ],
         "xaxis": "x",
         "y": [
          13
         ],
         "yaxis": "y"
        },
        {
         "alignmentgroup": "True",
         "hoverlabel": {
          "namelength": 0
         },
         "hovertemplate": "<b>%{hovertext}</b><br><br>Disaster # words=%{x}<br>Frequency of disaster # words=%{y}",
         "hovertext": [
          "prebreak"
         ],
         "legendgroup": "prebreak",
         "marker": {
          "color": "#FFA15A"
         },
         "name": "prebreak",
         "offsetgroup": "prebreak",
         "orientation": "v",
         "showlegend": true,
         "textposition": "auto",
         "type": "bar",
         "x": [
          "prebreak"
         ],
         "xaxis": "x",
         "y": [
          13
         ],
         "yaxis": "y"
        },
        {
         "alignmentgroup": "True",
         "hoverlabel": {
          "namelength": 0
         },
         "hovertemplate": "<b>%{hovertext}</b><br><br>Disaster # words=%{x}<br>Frequency of disaster # words=%{y}",
         "hovertext": [
          "best"
         ],
         "legendgroup": "best",
         "marker": {
          "color": "#19d3f3"
         },
         "name": "best",
         "offsetgroup": "best",
         "orientation": "v",
         "showlegend": true,
         "textposition": "auto",
         "type": "bar",
         "x": [
          "best"
         ],
         "xaxis": "x",
         "y": [
          13
         ],
         "yaxis": "y"
        },
        {
         "alignmentgroup": "True",
         "hoverlabel": {
          "namelength": 0
         },
         "hovertemplate": "<b>%{hovertext}</b><br><br>Disaster # words=%{x}<br>Frequency of disaster # words=%{y}",
         "hovertext": [
          "Japan"
         ],
         "legendgroup": "Japan",
         "marker": {
          "color": "#FF6692"
         },
         "name": "Japan",
         "offsetgroup": "Japan",
         "orientation": "v",
         "showlegend": true,
         "textposition": "auto",
         "type": "bar",
         "x": [
          "Japan"
         ],
         "xaxis": "x",
         "y": [
          10
         ],
         "yaxis": "y"
        },
        {
         "alignmentgroup": "True",
         "hoverlabel": {
          "namelength": 0
         },
         "hovertemplate": "<b>%{hovertext}</b><br><br>Disaster # words=%{x}<br>Frequency of disaster # words=%{y}",
         "hovertext": [
          "India"
         ],
         "legendgroup": "India",
         "marker": {
          "color": "#B6E880"
         },
         "name": "India",
         "offsetgroup": "India",
         "orientation": "v",
         "showlegend": true,
         "textposition": "auto",
         "type": "bar",
         "x": [
          "India"
         ],
         "xaxis": "x",
         "y": [
          10
         ],
         "yaxis": "y"
        },
        {
         "alignmentgroup": "True",
         "hoverlabel": {
          "namelength": 0
         },
         "hovertemplate": "<b>%{hovertext}</b><br><br>Disaster # words=%{x}<br>Frequency of disaster # words=%{y}",
         "hovertext": [
          "yyc"
         ],
         "legendgroup": "yyc",
         "marker": {
          "color": "#FF97FF"
         },
         "name": "yyc",
         "offsetgroup": "yyc",
         "orientation": "v",
         "showlegend": true,
         "textposition": "auto",
         "type": "bar",
         "x": [
          "yyc"
         ],
         "xaxis": "x",
         "y": [
          10
         ],
         "yaxis": "y"
        },
        {
         "alignmentgroup": "True",
         "hoverlabel": {
          "namelength": 0
         },
         "hovertemplate": "<b>%{hovertext}</b><br><br>Disaster # words=%{x}<br>Frequency of disaster # words=%{y}",
         "hovertext": [
          "Sismo"
         ],
         "legendgroup": "Sismo",
         "marker": {
          "color": "#FECB52"
         },
         "name": "Sismo",
         "offsetgroup": "Sismo",
         "orientation": "v",
         "showlegend": true,
         "textposition": "auto",
         "type": "bar",
         "x": [
          "Sismo"
         ],
         "xaxis": "x",
         "y": [
          9
         ],
         "yaxis": "y"
        },
        {
         "alignmentgroup": "True",
         "hoverlabel": {
          "namelength": 0
         },
         "hovertemplate": "<b>%{hovertext}</b><br><br>Disaster # words=%{x}<br>Frequency of disaster # words=%{y}",
         "hovertext": [
          "earthquake"
         ],
         "legendgroup": "earthquake",
         "marker": {
          "color": "#636efa"
         },
         "name": "earthquake",
         "offsetgroup": "earthquake",
         "orientation": "v",
         "showlegend": true,
         "textposition": "auto",
         "type": "bar",
         "x": [
          "earthquake"
         ],
         "xaxis": "x",
         "y": [
          8
         ],
         "yaxis": "y"
        },
        {
         "alignmentgroup": "True",
         "hoverlabel": {
          "namelength": 0
         },
         "hovertemplate": "<b>%{hovertext}</b><br><br>Disaster # words=%{x}<br>Frequency of disaster # words=%{y}",
         "hovertext": [
          "abstorm"
         ],
         "legendgroup": "abstorm",
         "marker": {
          "color": "#EF553B"
         },
         "name": "abstorm",
         "offsetgroup": "abstorm",
         "orientation": "v",
         "showlegend": true,
         "textposition": "auto",
         "type": "bar",
         "x": [
          "abstorm"
         ],
         "xaxis": "x",
         "y": [
          8
         ],
         "yaxis": "y"
        },
        {
         "alignmentgroup": "True",
         "hoverlabel": {
          "namelength": 0
         },
         "hovertemplate": "<b>%{hovertext}</b><br><br>Disaster # words=%{x}<br>Frequency of disaster # words=%{y}",
         "hovertext": [
          "terrorism"
         ],
         "legendgroup": "terrorism",
         "marker": {
          "color": "#00cc96"
         },
         "name": "terrorism",
         "offsetgroup": "terrorism",
         "orientation": "v",
         "showlegend": true,
         "textposition": "auto",
         "type": "bar",
         "x": [
          "terrorism"
         ],
         "xaxis": "x",
         "y": [
          8
         ],
         "yaxis": "y"
        },
        {
         "alignmentgroup": "True",
         "hoverlabel": {
          "namelength": 0
         },
         "hovertemplate": "<b>%{hovertext}</b><br><br>Disaster # words=%{x}<br>Frequency of disaster # words=%{y}",
         "hovertext": [
          "ISIS"
         ],
         "legendgroup": "ISIS",
         "marker": {
          "color": "#ab63fa"
         },
         "name": "ISIS",
         "offsetgroup": "ISIS",
         "orientation": "v",
         "showlegend": true,
         "textposition": "auto",
         "type": "bar",
         "x": [
          "ISIS"
         ],
         "xaxis": "x",
         "y": [
          8
         ],
         "yaxis": "y"
        },
        {
         "alignmentgroup": "True",
         "hoverlabel": {
          "namelength": 0
         },
         "hovertemplate": "<b>%{hovertext}</b><br><br>Disaster # words=%{x}<br>Frequency of disaster # words=%{y}",
         "hovertext": [
          "BBC"
         ],
         "legendgroup": "BBC",
         "marker": {
          "color": "#FFA15A"
         },
         "name": "BBC",
         "offsetgroup": "BBC",
         "orientation": "v",
         "showlegend": true,
         "textposition": "auto",
         "type": "bar",
         "x": [
          "BBC"
         ],
         "xaxis": "x",
         "y": [
          7
         ],
         "yaxis": "y"
        },
        {
         "alignmentgroup": "True",
         "hoverlabel": {
          "namelength": 0
         },
         "hovertemplate": "<b>%{hovertext}</b><br><br>Disaster # words=%{x}<br>Frequency of disaster # words=%{y}",
         "hovertext": [
          "Earthquake"
         ],
         "legendgroup": "Earthquake",
         "marker": {
          "color": "#19d3f3"
         },
         "name": "Earthquake",
         "offsetgroup": "Earthquake",
         "orientation": "v",
         "showlegend": true,
         "textposition": "auto",
         "type": "bar",
         "x": [
          "Earthquake"
         ],
         "xaxis": "x",
         "y": [
          7
         ],
         "yaxis": "y"
        },
        {
         "alignmentgroup": "True",
         "hoverlabel": {
          "namelength": 0
         },
         "hovertemplate": "<b>%{hovertext}</b><br><br>Disaster # words=%{x}<br>Frequency of disaster # words=%{y}",
         "hovertext": [
          "WX"
         ],
         "legendgroup": "WX",
         "marker": {
          "color": "#FF6692"
         },
         "name": "WX",
         "offsetgroup": "WX",
         "orientation": "v",
         "showlegend": true,
         "textposition": "auto",
         "type": "bar",
         "x": [
          "WX"
         ],
         "xaxis": "x",
         "y": [
          7
         ],
         "yaxis": "y"
        },
        {
         "alignmentgroup": "True",
         "hoverlabel": {
          "namelength": 0
         },
         "hovertemplate": "<b>%{hovertext}</b><br><br>Disaster # words=%{x}<br>Frequency of disaster # words=%{y}",
         "hovertext": [
          "hailstorm"
         ],
         "legendgroup": "hailstorm",
         "marker": {
          "color": "#B6E880"
         },
         "name": "hailstorm",
         "offsetgroup": "hailstorm",
         "orientation": "v",
         "showlegend": true,
         "textposition": "auto",
         "type": "bar",
         "x": [
          "hailstorm"
         ],
         "xaxis": "x",
         "y": [
          7
         ],
         "yaxis": "y"
        },
        {
         "alignmentgroup": "True",
         "hoverlabel": {
          "namelength": 0
         },
         "hovertemplate": "<b>%{hovertext}</b><br><br>Disaster # words=%{x}<br>Frequency of disaster # words=%{y}",
         "hovertext": [
          "disaster"
         ],
         "legendgroup": "disaster",
         "marker": {
          "color": "#FF97FF"
         },
         "name": "disaster",
         "offsetgroup": "disaster",
         "orientation": "v",
         "showlegend": true,
         "textposition": "auto",
         "type": "bar",
         "x": [
          "disaster"
         ],
         "xaxis": "x",
         "y": [
          6
         ],
         "yaxis": "y"
        },
        {
         "alignmentgroup": "True",
         "hoverlabel": {
          "namelength": 0
         },
         "hovertemplate": "<b>%{hovertext}</b><br><br>Disaster # words=%{x}<br>Frequency of disaster # words=%{y}",
         "hovertext": [
          "world"
         ],
         "legendgroup": "world",
         "marker": {
          "color": "#FECB52"
         },
         "name": "world",
         "offsetgroup": "world",
         "orientation": "v",
         "showlegend": true,
         "textposition": "auto",
         "type": "bar",
         "x": [
          "world"
         ],
         "xaxis": "x",
         "y": [
          6
         ],
         "yaxis": "y"
        }
       ],
       "layout": {
        "barmode": "relative",
        "legend": {
         "title": {
          "text": "Disaster # words"
         },
         "tracegroupgap": 0
        },
        "margin": {
         "t": 60
        },
        "template": {
         "data": {
          "bar": [
           {
            "error_x": {
             "color": "#2a3f5f"
            },
            "error_y": {
             "color": "#2a3f5f"
            },
            "marker": {
             "line": {
              "color": "#E5ECF6",
              "width": 0.5
             }
            },
            "type": "bar"
           }
          ],
          "barpolar": [
           {
            "marker": {
             "line": {
              "color": "#E5ECF6",
              "width": 0.5
             }
            },
            "type": "barpolar"
           }
          ],
          "carpet": [
           {
            "aaxis": {
             "endlinecolor": "#2a3f5f",
             "gridcolor": "white",
             "linecolor": "white",
             "minorgridcolor": "white",
             "startlinecolor": "#2a3f5f"
            },
            "baxis": {
             "endlinecolor": "#2a3f5f",
             "gridcolor": "white",
             "linecolor": "white",
             "minorgridcolor": "white",
             "startlinecolor": "#2a3f5f"
            },
            "type": "carpet"
           }
          ],
          "choropleth": [
           {
            "colorbar": {
             "outlinewidth": 0,
             "ticks": ""
            },
            "type": "choropleth"
           }
          ],
          "contour": [
           {
            "colorbar": {
             "outlinewidth": 0,
             "ticks": ""
            },
            "colorscale": [
             [
              0,
              "#0d0887"
             ],
             [
              0.1111111111111111,
              "#46039f"
             ],
             [
              0.2222222222222222,
              "#7201a8"
             ],
             [
              0.3333333333333333,
              "#9c179e"
             ],
             [
              0.4444444444444444,
              "#bd3786"
             ],
             [
              0.5555555555555556,
              "#d8576b"
             ],
             [
              0.6666666666666666,
              "#ed7953"
             ],
             [
              0.7777777777777778,
              "#fb9f3a"
             ],
             [
              0.8888888888888888,
              "#fdca26"
             ],
             [
              1,
              "#f0f921"
             ]
            ],
            "type": "contour"
           }
          ],
          "contourcarpet": [
           {
            "colorbar": {
             "outlinewidth": 0,
             "ticks": ""
            },
            "type": "contourcarpet"
           }
          ],
          "heatmap": [
           {
            "colorbar": {
             "outlinewidth": 0,
             "ticks": ""
            },
            "colorscale": [
             [
              0,
              "#0d0887"
             ],
             [
              0.1111111111111111,
              "#46039f"
             ],
             [
              0.2222222222222222,
              "#7201a8"
             ],
             [
              0.3333333333333333,
              "#9c179e"
             ],
             [
              0.4444444444444444,
              "#bd3786"
             ],
             [
              0.5555555555555556,
              "#d8576b"
             ],
             [
              0.6666666666666666,
              "#ed7953"
             ],
             [
              0.7777777777777778,
              "#fb9f3a"
             ],
             [
              0.8888888888888888,
              "#fdca26"
             ],
             [
              1,
              "#f0f921"
             ]
            ],
            "type": "heatmap"
           }
          ],
          "heatmapgl": [
           {
            "colorbar": {
             "outlinewidth": 0,
             "ticks": ""
            },
            "colorscale": [
             [
              0,
              "#0d0887"
             ],
             [
              0.1111111111111111,
              "#46039f"
             ],
             [
              0.2222222222222222,
              "#7201a8"
             ],
             [
              0.3333333333333333,
              "#9c179e"
             ],
             [
              0.4444444444444444,
              "#bd3786"
             ],
             [
              0.5555555555555556,
              "#d8576b"
             ],
             [
              0.6666666666666666,
              "#ed7953"
             ],
             [
              0.7777777777777778,
              "#fb9f3a"
             ],
             [
              0.8888888888888888,
              "#fdca26"
             ],
             [
              1,
              "#f0f921"
             ]
            ],
            "type": "heatmapgl"
           }
          ],
          "histogram": [
           {
            "marker": {
             "colorbar": {
              "outlinewidth": 0,
              "ticks": ""
             }
            },
            "type": "histogram"
           }
          ],
          "histogram2d": [
           {
            "colorbar": {
             "outlinewidth": 0,
             "ticks": ""
            },
            "colorscale": [
             [
              0,
              "#0d0887"
             ],
             [
              0.1111111111111111,
              "#46039f"
             ],
             [
              0.2222222222222222,
              "#7201a8"
             ],
             [
              0.3333333333333333,
              "#9c179e"
             ],
             [
              0.4444444444444444,
              "#bd3786"
             ],
             [
              0.5555555555555556,
              "#d8576b"
             ],
             [
              0.6666666666666666,
              "#ed7953"
             ],
             [
              0.7777777777777778,
              "#fb9f3a"
             ],
             [
              0.8888888888888888,
              "#fdca26"
             ],
             [
              1,
              "#f0f921"
             ]
            ],
            "type": "histogram2d"
           }
          ],
          "histogram2dcontour": [
           {
            "colorbar": {
             "outlinewidth": 0,
             "ticks": ""
            },
            "colorscale": [
             [
              0,
              "#0d0887"
             ],
             [
              0.1111111111111111,
              "#46039f"
             ],
             [
              0.2222222222222222,
              "#7201a8"
             ],
             [
              0.3333333333333333,
              "#9c179e"
             ],
             [
              0.4444444444444444,
              "#bd3786"
             ],
             [
              0.5555555555555556,
              "#d8576b"
             ],
             [
              0.6666666666666666,
              "#ed7953"
             ],
             [
              0.7777777777777778,
              "#fb9f3a"
             ],
             [
              0.8888888888888888,
              "#fdca26"
             ],
             [
              1,
              "#f0f921"
             ]
            ],
            "type": "histogram2dcontour"
           }
          ],
          "mesh3d": [
           {
            "colorbar": {
             "outlinewidth": 0,
             "ticks": ""
            },
            "type": "mesh3d"
           }
          ],
          "parcoords": [
           {
            "line": {
             "colorbar": {
              "outlinewidth": 0,
              "ticks": ""
             }
            },
            "type": "parcoords"
           }
          ],
          "pie": [
           {
            "automargin": true,
            "type": "pie"
           }
          ],
          "scatter": [
           {
            "marker": {
             "colorbar": {
              "outlinewidth": 0,
              "ticks": ""
             }
            },
            "type": "scatter"
           }
          ],
          "scatter3d": [
           {
            "line": {
             "colorbar": {
              "outlinewidth": 0,
              "ticks": ""
             }
            },
            "marker": {
             "colorbar": {
              "outlinewidth": 0,
              "ticks": ""
             }
            },
            "type": "scatter3d"
           }
          ],
          "scattercarpet": [
           {
            "marker": {
             "colorbar": {
              "outlinewidth": 0,
              "ticks": ""
             }
            },
            "type": "scattercarpet"
           }
          ],
          "scattergeo": [
           {
            "marker": {
             "colorbar": {
              "outlinewidth": 0,
              "ticks": ""
             }
            },
            "type": "scattergeo"
           }
          ],
          "scattergl": [
           {
            "marker": {
             "colorbar": {
              "outlinewidth": 0,
              "ticks": ""
             }
            },
            "type": "scattergl"
           }
          ],
          "scattermapbox": [
           {
            "marker": {
             "colorbar": {
              "outlinewidth": 0,
              "ticks": ""
             }
            },
            "type": "scattermapbox"
           }
          ],
          "scatterpolar": [
           {
            "marker": {
             "colorbar": {
              "outlinewidth": 0,
              "ticks": ""
             }
            },
            "type": "scatterpolar"
           }
          ],
          "scatterpolargl": [
           {
            "marker": {
             "colorbar": {
              "outlinewidth": 0,
              "ticks": ""
             }
            },
            "type": "scatterpolargl"
           }
          ],
          "scatterternary": [
           {
            "marker": {
             "colorbar": {
              "outlinewidth": 0,
              "ticks": ""
             }
            },
            "type": "scatterternary"
           }
          ],
          "surface": [
           {
            "colorbar": {
             "outlinewidth": 0,
             "ticks": ""
            },
            "colorscale": [
             [
              0,
              "#0d0887"
             ],
             [
              0.1111111111111111,
              "#46039f"
             ],
             [
              0.2222222222222222,
              "#7201a8"
             ],
             [
              0.3333333333333333,
              "#9c179e"
             ],
             [
              0.4444444444444444,
              "#bd3786"
             ],
             [
              0.5555555555555556,
              "#d8576b"
             ],
             [
              0.6666666666666666,
              "#ed7953"
             ],
             [
              0.7777777777777778,
              "#fb9f3a"
             ],
             [
              0.8888888888888888,
              "#fdca26"
             ],
             [
              1,
              "#f0f921"
             ]
            ],
            "type": "surface"
           }
          ],
          "table": [
           {
            "cells": {
             "fill": {
              "color": "#EBF0F8"
             },
             "line": {
              "color": "white"
             }
            },
            "header": {
             "fill": {
              "color": "#C8D4E3"
             },
             "line": {
              "color": "white"
             }
            },
            "type": "table"
           }
          ]
         },
         "layout": {
          "annotationdefaults": {
           "arrowcolor": "#2a3f5f",
           "arrowhead": 0,
           "arrowwidth": 1
          },
          "coloraxis": {
           "colorbar": {
            "outlinewidth": 0,
            "ticks": ""
           }
          },
          "colorscale": {
           "diverging": [
            [
             0,
             "#8e0152"
            ],
            [
             0.1,
             "#c51b7d"
            ],
            [
             0.2,
             "#de77ae"
            ],
            [
             0.3,
             "#f1b6da"
            ],
            [
             0.4,
             "#fde0ef"
            ],
            [
             0.5,
             "#f7f7f7"
            ],
            [
             0.6,
             "#e6f5d0"
            ],
            [
             0.7,
             "#b8e186"
            ],
            [
             0.8,
             "#7fbc41"
            ],
            [
             0.9,
             "#4d9221"
            ],
            [
             1,
             "#276419"
            ]
           ],
           "sequential": [
            [
             0,
             "#0d0887"
            ],
            [
             0.1111111111111111,
             "#46039f"
            ],
            [
             0.2222222222222222,
             "#7201a8"
            ],
            [
             0.3333333333333333,
             "#9c179e"
            ],
            [
             0.4444444444444444,
             "#bd3786"
            ],
            [
             0.5555555555555556,
             "#d8576b"
            ],
            [
             0.6666666666666666,
             "#ed7953"
            ],
            [
             0.7777777777777778,
             "#fb9f3a"
            ],
            [
             0.8888888888888888,
             "#fdca26"
            ],
            [
             1,
             "#f0f921"
            ]
           ],
           "sequentialminus": [
            [
             0,
             "#0d0887"
            ],
            [
             0.1111111111111111,
             "#46039f"
            ],
            [
             0.2222222222222222,
             "#7201a8"
            ],
            [
             0.3333333333333333,
             "#9c179e"
            ],
            [
             0.4444444444444444,
             "#bd3786"
            ],
            [
             0.5555555555555556,
             "#d8576b"
            ],
            [
             0.6666666666666666,
             "#ed7953"
            ],
            [
             0.7777777777777778,
             "#fb9f3a"
            ],
            [
             0.8888888888888888,
             "#fdca26"
            ],
            [
             1,
             "#f0f921"
            ]
           ]
          },
          "colorway": [
           "#636efa",
           "#EF553B",
           "#00cc96",
           "#ab63fa",
           "#FFA15A",
           "#19d3f3",
           "#FF6692",
           "#B6E880",
           "#FF97FF",
           "#FECB52"
          ],
          "font": {
           "color": "#2a3f5f"
          },
          "geo": {
           "bgcolor": "white",
           "lakecolor": "white",
           "landcolor": "#E5ECF6",
           "showlakes": true,
           "showland": true,
           "subunitcolor": "white"
          },
          "hoverlabel": {
           "align": "left"
          },
          "hovermode": "closest",
          "mapbox": {
           "style": "light"
          },
          "paper_bgcolor": "white",
          "plot_bgcolor": "#E5ECF6",
          "polar": {
           "angularaxis": {
            "gridcolor": "white",
            "linecolor": "white",
            "ticks": ""
           },
           "bgcolor": "#E5ECF6",
           "radialaxis": {
            "gridcolor": "white",
            "linecolor": "white",
            "ticks": ""
           }
          },
          "scene": {
           "xaxis": {
            "backgroundcolor": "#E5ECF6",
            "gridcolor": "white",
            "gridwidth": 2,
            "linecolor": "white",
            "showbackground": true,
            "ticks": "",
            "zerolinecolor": "white"
           },
           "yaxis": {
            "backgroundcolor": "#E5ECF6",
            "gridcolor": "white",
            "gridwidth": 2,
            "linecolor": "white",
            "showbackground": true,
            "ticks": "",
            "zerolinecolor": "white"
           },
           "zaxis": {
            "backgroundcolor": "#E5ECF6",
            "gridcolor": "white",
            "gridwidth": 2,
            "linecolor": "white",
            "showbackground": true,
            "ticks": "",
            "zerolinecolor": "white"
           }
          },
          "shapedefaults": {
           "line": {
            "color": "#2a3f5f"
           }
          },
          "ternary": {
           "aaxis": {
            "gridcolor": "white",
            "linecolor": "white",
            "ticks": ""
           },
           "baxis": {
            "gridcolor": "white",
            "linecolor": "white",
            "ticks": ""
           },
           "bgcolor": "#E5ECF6",
           "caxis": {
            "gridcolor": "white",
            "linecolor": "white",
            "ticks": ""
           }
          },
          "title": {
           "x": 0.05
          },
          "xaxis": {
           "automargin": true,
           "gridcolor": "white",
           "linecolor": "white",
           "ticks": "",
           "title": {
            "standoff": 15
           },
           "zerolinecolor": "white",
           "zerolinewidth": 2
          },
          "yaxis": {
           "automargin": true,
           "gridcolor": "white",
           "linecolor": "white",
           "ticks": "",
           "title": {
            "standoff": 15
           },
           "zerolinecolor": "white",
           "zerolinewidth": 2
          }
         }
        },
        "title": {
         "text": "Top 20 # words for disaster tweets",
         "x": 0.5
        },
        "xaxis": {
         "anchor": "y",
         "categoryarray": [
          "News",
          "news",
          "Hiroshima",
          "hot",
          "prebreak",
          "best",
          "Japan",
          "India",
          "yyc",
          "Sismo",
          "earthquake",
          "abstorm",
          "terrorism",
          "ISIS",
          "BBC",
          "Earthquake",
          "WX",
          "hailstorm",
          "disaster",
          "world"
         ],
         "categoryorder": "array",
         "domain": [
          0,
          1
         ],
         "title": {
          "text": "Disaster # words"
         }
        },
        "yaxis": {
         "anchor": "x",
         "domain": [
          0,
          1
         ],
         "title": {
          "text": "Frequency of disaster # words"
         }
        }
       }
      },
      "text/html": [
       "<div>\n",
       "        \n",
       "        \n",
       "            <div id=\"2c9b67e7-2da5-44bc-ba22-e39ed745b077\" class=\"plotly-graph-div\" style=\"height:525px; width:100%;\"></div>\n",
       "            <script type=\"text/javascript\">\n",
       "                require([\"plotly\"], function(Plotly) {\n",
       "                    window.PLOTLYENV=window.PLOTLYENV || {};\n",
       "                    \n",
       "                if (document.getElementById(\"2c9b67e7-2da5-44bc-ba22-e39ed745b077\")) {\n",
       "                    Plotly.newPlot(\n",
       "                        '2c9b67e7-2da5-44bc-ba22-e39ed745b077',\n",
       "                        [{\"alignmentgroup\": \"True\", \"hoverlabel\": {\"namelength\": 0}, \"hovertemplate\": \"<b>%{hovertext}</b><br><br>Disaster # words=%{x}<br>Frequency of disaster # words=%{y}\", \"hovertext\": [\"News\"], \"legendgroup\": \"News\", \"marker\": {\"color\": \"#636efa\"}, \"name\": \"News\", \"offsetgroup\": \"News\", \"orientation\": \"v\", \"showlegend\": true, \"textposition\": \"auto\", \"type\": \"bar\", \"x\": [\"News\"], \"xaxis\": \"x\", \"y\": [33], \"yaxis\": \"y\"}, {\"alignmentgroup\": \"True\", \"hoverlabel\": {\"namelength\": 0}, \"hovertemplate\": \"<b>%{hovertext}</b><br><br>Disaster # words=%{x}<br>Frequency of disaster # words=%{y}\", \"hovertext\": [\"news\"], \"legendgroup\": \"news\", \"marker\": {\"color\": \"#EF553B\"}, \"name\": \"news\", \"offsetgroup\": \"news\", \"orientation\": \"v\", \"showlegend\": true, \"textposition\": \"auto\", \"type\": \"bar\", \"x\": [\"news\"], \"xaxis\": \"x\", \"y\": [23], \"yaxis\": \"y\"}, {\"alignmentgroup\": \"True\", \"hoverlabel\": {\"namelength\": 0}, \"hovertemplate\": \"<b>%{hovertext}</b><br><br>Disaster # words=%{x}<br>Frequency of disaster # words=%{y}\", \"hovertext\": [\"Hiroshima\"], \"legendgroup\": \"Hiroshima\", \"marker\": {\"color\": \"#00cc96\"}, \"name\": \"Hiroshima\", \"offsetgroup\": \"Hiroshima\", \"orientation\": \"v\", \"showlegend\": true, \"textposition\": \"auto\", \"type\": \"bar\", \"x\": [\"Hiroshima\"], \"xaxis\": \"x\", \"y\": [21], \"yaxis\": \"y\"}, {\"alignmentgroup\": \"True\", \"hoverlabel\": {\"namelength\": 0}, \"hovertemplate\": \"<b>%{hovertext}</b><br><br>Disaster # words=%{x}<br>Frequency of disaster # words=%{y}\", \"hovertext\": [\"hot\"], \"legendgroup\": \"hot\", \"marker\": {\"color\": \"#ab63fa\"}, \"name\": \"hot\", \"offsetgroup\": \"hot\", \"orientation\": \"v\", \"showlegend\": true, \"textposition\": \"auto\", \"type\": \"bar\", \"x\": [\"hot\"], \"xaxis\": \"x\", \"y\": [13], \"yaxis\": \"y\"}, {\"alignmentgroup\": \"True\", \"hoverlabel\": {\"namelength\": 0}, \"hovertemplate\": \"<b>%{hovertext}</b><br><br>Disaster # words=%{x}<br>Frequency of disaster # words=%{y}\", \"hovertext\": [\"prebreak\"], \"legendgroup\": \"prebreak\", \"marker\": {\"color\": \"#FFA15A\"}, \"name\": \"prebreak\", \"offsetgroup\": \"prebreak\", \"orientation\": \"v\", \"showlegend\": true, \"textposition\": \"auto\", \"type\": \"bar\", \"x\": [\"prebreak\"], \"xaxis\": \"x\", \"y\": [13], \"yaxis\": \"y\"}, {\"alignmentgroup\": \"True\", \"hoverlabel\": {\"namelength\": 0}, \"hovertemplate\": \"<b>%{hovertext}</b><br><br>Disaster # words=%{x}<br>Frequency of disaster # words=%{y}\", \"hovertext\": [\"best\"], \"legendgroup\": \"best\", \"marker\": {\"color\": \"#19d3f3\"}, \"name\": \"best\", \"offsetgroup\": \"best\", \"orientation\": \"v\", \"showlegend\": true, \"textposition\": \"auto\", \"type\": \"bar\", \"x\": [\"best\"], \"xaxis\": \"x\", \"y\": [13], \"yaxis\": \"y\"}, {\"alignmentgroup\": \"True\", \"hoverlabel\": {\"namelength\": 0}, \"hovertemplate\": \"<b>%{hovertext}</b><br><br>Disaster # words=%{x}<br>Frequency of disaster # words=%{y}\", \"hovertext\": [\"Japan\"], \"legendgroup\": \"Japan\", \"marker\": {\"color\": \"#FF6692\"}, \"name\": \"Japan\", \"offsetgroup\": \"Japan\", \"orientation\": \"v\", \"showlegend\": true, \"textposition\": \"auto\", \"type\": \"bar\", \"x\": [\"Japan\"], \"xaxis\": \"x\", \"y\": [10], \"yaxis\": \"y\"}, {\"alignmentgroup\": \"True\", \"hoverlabel\": {\"namelength\": 0}, \"hovertemplate\": \"<b>%{hovertext}</b><br><br>Disaster # words=%{x}<br>Frequency of disaster # words=%{y}\", \"hovertext\": [\"India\"], \"legendgroup\": \"India\", \"marker\": {\"color\": \"#B6E880\"}, \"name\": \"India\", \"offsetgroup\": \"India\", \"orientation\": \"v\", \"showlegend\": true, \"textposition\": \"auto\", \"type\": \"bar\", \"x\": [\"India\"], \"xaxis\": \"x\", \"y\": [10], \"yaxis\": \"y\"}, {\"alignmentgroup\": \"True\", \"hoverlabel\": {\"namelength\": 0}, \"hovertemplate\": \"<b>%{hovertext}</b><br><br>Disaster # words=%{x}<br>Frequency of disaster # words=%{y}\", \"hovertext\": [\"yyc\"], \"legendgroup\": \"yyc\", \"marker\": {\"color\": \"#FF97FF\"}, \"name\": \"yyc\", \"offsetgroup\": \"yyc\", \"orientation\": \"v\", \"showlegend\": true, \"textposition\": \"auto\", \"type\": \"bar\", \"x\": [\"yyc\"], \"xaxis\": \"x\", \"y\": [10], \"yaxis\": \"y\"}, {\"alignmentgroup\": \"True\", \"hoverlabel\": {\"namelength\": 0}, \"hovertemplate\": \"<b>%{hovertext}</b><br><br>Disaster # words=%{x}<br>Frequency of disaster # words=%{y}\", \"hovertext\": [\"Sismo\"], \"legendgroup\": \"Sismo\", \"marker\": {\"color\": \"#FECB52\"}, \"name\": \"Sismo\", \"offsetgroup\": \"Sismo\", \"orientation\": \"v\", \"showlegend\": true, \"textposition\": \"auto\", \"type\": \"bar\", \"x\": [\"Sismo\"], \"xaxis\": \"x\", \"y\": [9], \"yaxis\": \"y\"}, {\"alignmentgroup\": \"True\", \"hoverlabel\": {\"namelength\": 0}, \"hovertemplate\": \"<b>%{hovertext}</b><br><br>Disaster # words=%{x}<br>Frequency of disaster # words=%{y}\", \"hovertext\": [\"earthquake\"], \"legendgroup\": \"earthquake\", \"marker\": {\"color\": \"#636efa\"}, \"name\": \"earthquake\", \"offsetgroup\": \"earthquake\", \"orientation\": \"v\", \"showlegend\": true, \"textposition\": \"auto\", \"type\": \"bar\", \"x\": [\"earthquake\"], \"xaxis\": \"x\", \"y\": [8], \"yaxis\": \"y\"}, {\"alignmentgroup\": \"True\", \"hoverlabel\": {\"namelength\": 0}, \"hovertemplate\": \"<b>%{hovertext}</b><br><br>Disaster # words=%{x}<br>Frequency of disaster # words=%{y}\", \"hovertext\": [\"abstorm\"], \"legendgroup\": \"abstorm\", \"marker\": {\"color\": \"#EF553B\"}, \"name\": \"abstorm\", \"offsetgroup\": \"abstorm\", \"orientation\": \"v\", \"showlegend\": true, \"textposition\": \"auto\", \"type\": \"bar\", \"x\": [\"abstorm\"], \"xaxis\": \"x\", \"y\": [8], \"yaxis\": \"y\"}, {\"alignmentgroup\": \"True\", \"hoverlabel\": {\"namelength\": 0}, \"hovertemplate\": \"<b>%{hovertext}</b><br><br>Disaster # words=%{x}<br>Frequency of disaster # words=%{y}\", \"hovertext\": [\"terrorism\"], \"legendgroup\": \"terrorism\", \"marker\": {\"color\": \"#00cc96\"}, \"name\": \"terrorism\", \"offsetgroup\": \"terrorism\", \"orientation\": \"v\", \"showlegend\": true, \"textposition\": \"auto\", \"type\": \"bar\", \"x\": [\"terrorism\"], \"xaxis\": \"x\", \"y\": [8], \"yaxis\": \"y\"}, {\"alignmentgroup\": \"True\", \"hoverlabel\": {\"namelength\": 0}, \"hovertemplate\": \"<b>%{hovertext}</b><br><br>Disaster # words=%{x}<br>Frequency of disaster # words=%{y}\", \"hovertext\": [\"ISIS\"], \"legendgroup\": \"ISIS\", \"marker\": {\"color\": \"#ab63fa\"}, \"name\": \"ISIS\", \"offsetgroup\": \"ISIS\", \"orientation\": \"v\", \"showlegend\": true, \"textposition\": \"auto\", \"type\": \"bar\", \"x\": [\"ISIS\"], \"xaxis\": \"x\", \"y\": [8], \"yaxis\": \"y\"}, {\"alignmentgroup\": \"True\", \"hoverlabel\": {\"namelength\": 0}, \"hovertemplate\": \"<b>%{hovertext}</b><br><br>Disaster # words=%{x}<br>Frequency of disaster # words=%{y}\", \"hovertext\": [\"BBC\"], \"legendgroup\": \"BBC\", \"marker\": {\"color\": \"#FFA15A\"}, \"name\": \"BBC\", \"offsetgroup\": \"BBC\", \"orientation\": \"v\", \"showlegend\": true, \"textposition\": \"auto\", \"type\": \"bar\", \"x\": [\"BBC\"], \"xaxis\": \"x\", \"y\": [7], \"yaxis\": \"y\"}, {\"alignmentgroup\": \"True\", \"hoverlabel\": {\"namelength\": 0}, \"hovertemplate\": \"<b>%{hovertext}</b><br><br>Disaster # words=%{x}<br>Frequency of disaster # words=%{y}\", \"hovertext\": [\"Earthquake\"], \"legendgroup\": \"Earthquake\", \"marker\": {\"color\": \"#19d3f3\"}, \"name\": \"Earthquake\", \"offsetgroup\": \"Earthquake\", \"orientation\": \"v\", \"showlegend\": true, \"textposition\": \"auto\", \"type\": \"bar\", \"x\": [\"Earthquake\"], \"xaxis\": \"x\", \"y\": [7], \"yaxis\": \"y\"}, {\"alignmentgroup\": \"True\", \"hoverlabel\": {\"namelength\": 0}, \"hovertemplate\": \"<b>%{hovertext}</b><br><br>Disaster # words=%{x}<br>Frequency of disaster # words=%{y}\", \"hovertext\": [\"WX\"], \"legendgroup\": \"WX\", \"marker\": {\"color\": \"#FF6692\"}, \"name\": \"WX\", \"offsetgroup\": \"WX\", \"orientation\": \"v\", \"showlegend\": true, \"textposition\": \"auto\", \"type\": \"bar\", \"x\": [\"WX\"], \"xaxis\": \"x\", \"y\": [7], \"yaxis\": \"y\"}, {\"alignmentgroup\": \"True\", \"hoverlabel\": {\"namelength\": 0}, \"hovertemplate\": \"<b>%{hovertext}</b><br><br>Disaster # words=%{x}<br>Frequency of disaster # words=%{y}\", \"hovertext\": [\"hailstorm\"], \"legendgroup\": \"hailstorm\", \"marker\": {\"color\": \"#B6E880\"}, \"name\": \"hailstorm\", \"offsetgroup\": \"hailstorm\", \"orientation\": \"v\", \"showlegend\": true, \"textposition\": \"auto\", \"type\": \"bar\", \"x\": [\"hailstorm\"], \"xaxis\": \"x\", \"y\": [7], \"yaxis\": \"y\"}, {\"alignmentgroup\": \"True\", \"hoverlabel\": {\"namelength\": 0}, \"hovertemplate\": \"<b>%{hovertext}</b><br><br>Disaster # words=%{x}<br>Frequency of disaster # words=%{y}\", \"hovertext\": [\"disaster\"], \"legendgroup\": \"disaster\", \"marker\": {\"color\": \"#FF97FF\"}, \"name\": \"disaster\", \"offsetgroup\": \"disaster\", \"orientation\": \"v\", \"showlegend\": true, \"textposition\": \"auto\", \"type\": \"bar\", \"x\": [\"disaster\"], \"xaxis\": \"x\", \"y\": [6], \"yaxis\": \"y\"}, {\"alignmentgroup\": \"True\", \"hoverlabel\": {\"namelength\": 0}, \"hovertemplate\": \"<b>%{hovertext}</b><br><br>Disaster # words=%{x}<br>Frequency of disaster # words=%{y}\", \"hovertext\": [\"world\"], \"legendgroup\": \"world\", \"marker\": {\"color\": \"#FECB52\"}, \"name\": \"world\", \"offsetgroup\": \"world\", \"orientation\": \"v\", \"showlegend\": true, \"textposition\": \"auto\", \"type\": \"bar\", \"x\": [\"world\"], \"xaxis\": \"x\", \"y\": [6], \"yaxis\": \"y\"}],\n",
       "                        {\"barmode\": \"relative\", \"legend\": {\"title\": {\"text\": \"Disaster # words\"}, \"tracegroupgap\": 0}, \"margin\": {\"t\": 60}, \"template\": {\"data\": {\"bar\": [{\"error_x\": {\"color\": \"#2a3f5f\"}, \"error_y\": {\"color\": \"#2a3f5f\"}, \"marker\": {\"line\": {\"color\": \"#E5ECF6\", \"width\": 0.5}}, \"type\": \"bar\"}], \"barpolar\": [{\"marker\": {\"line\": {\"color\": \"#E5ECF6\", \"width\": 0.5}}, \"type\": \"barpolar\"}], \"carpet\": [{\"aaxis\": {\"endlinecolor\": \"#2a3f5f\", \"gridcolor\": \"white\", \"linecolor\": \"white\", \"minorgridcolor\": \"white\", \"startlinecolor\": \"#2a3f5f\"}, \"baxis\": {\"endlinecolor\": \"#2a3f5f\", \"gridcolor\": \"white\", \"linecolor\": \"white\", \"minorgridcolor\": \"white\", \"startlinecolor\": \"#2a3f5f\"}, \"type\": \"carpet\"}], \"choropleth\": [{\"colorbar\": {\"outlinewidth\": 0, \"ticks\": \"\"}, \"type\": \"choropleth\"}], \"contour\": [{\"colorbar\": {\"outlinewidth\": 0, \"ticks\": \"\"}, \"colorscale\": [[0.0, \"#0d0887\"], [0.1111111111111111, \"#46039f\"], [0.2222222222222222, \"#7201a8\"], [0.3333333333333333, \"#9c179e\"], [0.4444444444444444, \"#bd3786\"], [0.5555555555555556, \"#d8576b\"], [0.6666666666666666, \"#ed7953\"], [0.7777777777777778, \"#fb9f3a\"], [0.8888888888888888, \"#fdca26\"], [1.0, \"#f0f921\"]], \"type\": \"contour\"}], \"contourcarpet\": [{\"colorbar\": {\"outlinewidth\": 0, \"ticks\": \"\"}, \"type\": \"contourcarpet\"}], \"heatmap\": [{\"colorbar\": {\"outlinewidth\": 0, \"ticks\": \"\"}, \"colorscale\": [[0.0, \"#0d0887\"], [0.1111111111111111, \"#46039f\"], [0.2222222222222222, \"#7201a8\"], [0.3333333333333333, \"#9c179e\"], [0.4444444444444444, \"#bd3786\"], [0.5555555555555556, \"#d8576b\"], [0.6666666666666666, \"#ed7953\"], [0.7777777777777778, \"#fb9f3a\"], [0.8888888888888888, \"#fdca26\"], [1.0, \"#f0f921\"]], \"type\": \"heatmap\"}], \"heatmapgl\": [{\"colorbar\": {\"outlinewidth\": 0, \"ticks\": \"\"}, \"colorscale\": [[0.0, \"#0d0887\"], [0.1111111111111111, \"#46039f\"], [0.2222222222222222, \"#7201a8\"], [0.3333333333333333, \"#9c179e\"], [0.4444444444444444, \"#bd3786\"], [0.5555555555555556, \"#d8576b\"], [0.6666666666666666, \"#ed7953\"], [0.7777777777777778, \"#fb9f3a\"], [0.8888888888888888, \"#fdca26\"], [1.0, \"#f0f921\"]], \"type\": \"heatmapgl\"}], \"histogram\": [{\"marker\": {\"colorbar\": {\"outlinewidth\": 0, \"ticks\": \"\"}}, \"type\": \"histogram\"}], \"histogram2d\": [{\"colorbar\": {\"outlinewidth\": 0, \"ticks\": \"\"}, \"colorscale\": [[0.0, \"#0d0887\"], [0.1111111111111111, \"#46039f\"], [0.2222222222222222, \"#7201a8\"], [0.3333333333333333, \"#9c179e\"], [0.4444444444444444, \"#bd3786\"], [0.5555555555555556, \"#d8576b\"], [0.6666666666666666, \"#ed7953\"], [0.7777777777777778, \"#fb9f3a\"], [0.8888888888888888, \"#fdca26\"], [1.0, \"#f0f921\"]], \"type\": \"histogram2d\"}], \"histogram2dcontour\": [{\"colorbar\": {\"outlinewidth\": 0, \"ticks\": \"\"}, \"colorscale\": [[0.0, \"#0d0887\"], [0.1111111111111111, \"#46039f\"], [0.2222222222222222, \"#7201a8\"], [0.3333333333333333, \"#9c179e\"], [0.4444444444444444, \"#bd3786\"], [0.5555555555555556, \"#d8576b\"], [0.6666666666666666, \"#ed7953\"], [0.7777777777777778, \"#fb9f3a\"], [0.8888888888888888, \"#fdca26\"], [1.0, \"#f0f921\"]], \"type\": \"histogram2dcontour\"}], \"mesh3d\": [{\"colorbar\": {\"outlinewidth\": 0, \"ticks\": \"\"}, \"type\": \"mesh3d\"}], \"parcoords\": [{\"line\": {\"colorbar\": {\"outlinewidth\": 0, \"ticks\": \"\"}}, \"type\": \"parcoords\"}], \"pie\": [{\"automargin\": true, \"type\": \"pie\"}], \"scatter\": [{\"marker\": {\"colorbar\": {\"outlinewidth\": 0, \"ticks\": \"\"}}, \"type\": \"scatter\"}], \"scatter3d\": [{\"line\": {\"colorbar\": {\"outlinewidth\": 0, \"ticks\": \"\"}}, \"marker\": {\"colorbar\": {\"outlinewidth\": 0, \"ticks\": \"\"}}, \"type\": \"scatter3d\"}], \"scattercarpet\": [{\"marker\": {\"colorbar\": {\"outlinewidth\": 0, \"ticks\": \"\"}}, \"type\": \"scattercarpet\"}], \"scattergeo\": [{\"marker\": {\"colorbar\": {\"outlinewidth\": 0, \"ticks\": \"\"}}, \"type\": \"scattergeo\"}], \"scattergl\": [{\"marker\": {\"colorbar\": {\"outlinewidth\": 0, \"ticks\": \"\"}}, \"type\": \"scattergl\"}], \"scattermapbox\": [{\"marker\": {\"colorbar\": {\"outlinewidth\": 0, \"ticks\": \"\"}}, \"type\": \"scattermapbox\"}], \"scatterpolar\": [{\"marker\": {\"colorbar\": {\"outlinewidth\": 0, \"ticks\": \"\"}}, \"type\": \"scatterpolar\"}], \"scatterpolargl\": [{\"marker\": {\"colorbar\": {\"outlinewidth\": 0, \"ticks\": \"\"}}, \"type\": \"scatterpolargl\"}], \"scatterternary\": [{\"marker\": {\"colorbar\": {\"outlinewidth\": 0, \"ticks\": \"\"}}, \"type\": \"scatterternary\"}], \"surface\": [{\"colorbar\": {\"outlinewidth\": 0, \"ticks\": \"\"}, \"colorscale\": [[0.0, \"#0d0887\"], [0.1111111111111111, \"#46039f\"], [0.2222222222222222, \"#7201a8\"], [0.3333333333333333, \"#9c179e\"], [0.4444444444444444, \"#bd3786\"], [0.5555555555555556, \"#d8576b\"], [0.6666666666666666, \"#ed7953\"], [0.7777777777777778, \"#fb9f3a\"], [0.8888888888888888, \"#fdca26\"], [1.0, \"#f0f921\"]], \"type\": \"surface\"}], \"table\": [{\"cells\": {\"fill\": {\"color\": \"#EBF0F8\"}, \"line\": {\"color\": \"white\"}}, \"header\": {\"fill\": {\"color\": \"#C8D4E3\"}, \"line\": {\"color\": \"white\"}}, \"type\": \"table\"}]}, \"layout\": {\"annotationdefaults\": {\"arrowcolor\": \"#2a3f5f\", \"arrowhead\": 0, \"arrowwidth\": 1}, \"coloraxis\": {\"colorbar\": {\"outlinewidth\": 0, \"ticks\": \"\"}}, \"colorscale\": {\"diverging\": [[0, \"#8e0152\"], [0.1, \"#c51b7d\"], [0.2, \"#de77ae\"], [0.3, \"#f1b6da\"], [0.4, \"#fde0ef\"], [0.5, \"#f7f7f7\"], [0.6, \"#e6f5d0\"], [0.7, \"#b8e186\"], [0.8, \"#7fbc41\"], [0.9, \"#4d9221\"], [1, \"#276419\"]], \"sequential\": [[0.0, \"#0d0887\"], [0.1111111111111111, \"#46039f\"], [0.2222222222222222, \"#7201a8\"], [0.3333333333333333, \"#9c179e\"], [0.4444444444444444, \"#bd3786\"], [0.5555555555555556, \"#d8576b\"], [0.6666666666666666, \"#ed7953\"], [0.7777777777777778, \"#fb9f3a\"], [0.8888888888888888, \"#fdca26\"], [1.0, \"#f0f921\"]], \"sequentialminus\": [[0.0, \"#0d0887\"], [0.1111111111111111, \"#46039f\"], [0.2222222222222222, \"#7201a8\"], [0.3333333333333333, \"#9c179e\"], [0.4444444444444444, \"#bd3786\"], [0.5555555555555556, \"#d8576b\"], [0.6666666666666666, \"#ed7953\"], [0.7777777777777778, \"#fb9f3a\"], [0.8888888888888888, \"#fdca26\"], [1.0, \"#f0f921\"]]}, \"colorway\": [\"#636efa\", \"#EF553B\", \"#00cc96\", \"#ab63fa\", \"#FFA15A\", \"#19d3f3\", \"#FF6692\", \"#B6E880\", \"#FF97FF\", \"#FECB52\"], \"font\": {\"color\": \"#2a3f5f\"}, \"geo\": {\"bgcolor\": \"white\", \"lakecolor\": \"white\", \"landcolor\": \"#E5ECF6\", \"showlakes\": true, \"showland\": true, \"subunitcolor\": \"white\"}, \"hoverlabel\": {\"align\": \"left\"}, \"hovermode\": \"closest\", \"mapbox\": {\"style\": \"light\"}, \"paper_bgcolor\": \"white\", \"plot_bgcolor\": \"#E5ECF6\", \"polar\": {\"angularaxis\": {\"gridcolor\": \"white\", \"linecolor\": \"white\", \"ticks\": \"\"}, \"bgcolor\": \"#E5ECF6\", \"radialaxis\": {\"gridcolor\": \"white\", \"linecolor\": \"white\", \"ticks\": \"\"}}, \"scene\": {\"xaxis\": {\"backgroundcolor\": \"#E5ECF6\", \"gridcolor\": \"white\", \"gridwidth\": 2, \"linecolor\": \"white\", \"showbackground\": true, \"ticks\": \"\", \"zerolinecolor\": \"white\"}, \"yaxis\": {\"backgroundcolor\": \"#E5ECF6\", \"gridcolor\": \"white\", \"gridwidth\": 2, \"linecolor\": \"white\", \"showbackground\": true, \"ticks\": \"\", \"zerolinecolor\": \"white\"}, \"zaxis\": {\"backgroundcolor\": \"#E5ECF6\", \"gridcolor\": \"white\", \"gridwidth\": 2, \"linecolor\": \"white\", \"showbackground\": true, \"ticks\": \"\", \"zerolinecolor\": \"white\"}}, \"shapedefaults\": {\"line\": {\"color\": \"#2a3f5f\"}}, \"ternary\": {\"aaxis\": {\"gridcolor\": \"white\", \"linecolor\": \"white\", \"ticks\": \"\"}, \"baxis\": {\"gridcolor\": \"white\", \"linecolor\": \"white\", \"ticks\": \"\"}, \"bgcolor\": \"#E5ECF6\", \"caxis\": {\"gridcolor\": \"white\", \"linecolor\": \"white\", \"ticks\": \"\"}}, \"title\": {\"x\": 0.05}, \"xaxis\": {\"automargin\": true, \"gridcolor\": \"white\", \"linecolor\": \"white\", \"ticks\": \"\", \"title\": {\"standoff\": 15}, \"zerolinecolor\": \"white\", \"zerolinewidth\": 2}, \"yaxis\": {\"automargin\": true, \"gridcolor\": \"white\", \"linecolor\": \"white\", \"ticks\": \"\", \"title\": {\"standoff\": 15}, \"zerolinecolor\": \"white\", \"zerolinewidth\": 2}}}, \"title\": {\"text\": \"Top 20 # words for disaster tweets\", \"x\": 0.5}, \"xaxis\": {\"anchor\": \"y\", \"categoryarray\": [\"News\", \"news\", \"Hiroshima\", \"hot\", \"prebreak\", \"best\", \"Japan\", \"India\", \"yyc\", \"Sismo\", \"earthquake\", \"abstorm\", \"terrorism\", \"ISIS\", \"BBC\", \"Earthquake\", \"WX\", \"hailstorm\", \"disaster\", \"world\"], \"categoryorder\": \"array\", \"domain\": [0.0, 1.0], \"title\": {\"text\": \"Disaster # words\"}}, \"yaxis\": {\"anchor\": \"x\", \"domain\": [0.0, 1.0], \"title\": {\"text\": \"Frequency of disaster # words\"}}},\n",
       "                        {\"responsive\": true}\n",
       "                    ).then(function(){\n",
       "                            \n",
       "var gd = document.getElementById('2c9b67e7-2da5-44bc-ba22-e39ed745b077');\n",
       "var x = new MutationObserver(function (mutations, observer) {{\n",
       "        var display = window.getComputedStyle(gd).display;\n",
       "        if (!display || display === 'none') {{\n",
       "            console.log([gd, 'removed!']);\n",
       "            Plotly.purge(gd);\n",
       "            observer.disconnect();\n",
       "        }}\n",
       "}});\n",
       "\n",
       "// Listen for the removal of the full notebook cells\n",
       "var notebookContainer = gd.closest('#notebook-container');\n",
       "if (notebookContainer) {{\n",
       "    x.observe(notebookContainer, {childList: true});\n",
       "}}\n",
       "\n",
       "// Listen for the clearing of the current output cell\n",
       "var outputEl = gd.closest('.output');\n",
       "if (outputEl) {{\n",
       "    x.observe(outputEl, {childList: true});\n",
       "}}\n",
       "\n",
       "                        })\n",
       "                };\n",
       "                });\n",
       "            </script>\n",
       "        </div>"
      ]
     },
     "metadata": {},
     "output_type": "display_data"
    }
   ],
   "source": [
    "#Normal histogram of Disaster # words\n",
    "fig = px.bar(e, x=\"Disaster # words\", y=\"Frequency of disaster # words\",\n",
    "            hover_name=\"Disaster # words\",color = 'Disaster # words')\n",
    "fig.update_layout(title='Top 20 # words for disaster tweets', title_x=0.5)\n",
    "fig.show()"
   ]
  },
  {
   "cell_type": "code",
   "execution_count": 147,
   "metadata": {},
   "outputs": [
    {
     "data": {
      "application/vnd.plotly.v1+json": {
       "config": {
        "plotlyServerURL": "https://plot.ly"
       },
       "data": [
        {
         "alignmentgroup": "True",
         "hoverlabel": {
          "namelength": 0
         },
         "hovertemplate": "<b>%{hovertext}</b><br><br>Non-disaster # words=%{x}<br>Frequency of non-disaster # words=%{marker.color}",
         "hovertext": [
          "hot",
          "prebreak",
          "best",
          "news",
          "GBBO",
          "islam",
          "NowPlaying",
          "nowplaying",
          "jobs",
          "EDM",
          "DnB",
          "Beyhive",
          "Directioners",
          "RT",
          "Dubstep",
          "TrapMusic",
          "Dance",
          "Ices",
          "animalrescue",
          "MTVHottest"
         ],
         "legendgroup": "",
         "marker": {
          "color": [
           18,
           17,
           17,
           15,
           13,
           11,
           10,
           10,
           9,
           8,
           8,
           8,
           8,
           7,
           7,
           7,
           7,
           7,
           7,
           6
          ],
          "coloraxis": "coloraxis"
         },
         "name": "",
         "offsetgroup": "",
         "orientation": "v",
         "showlegend": false,
         "textposition": "auto",
         "type": "bar",
         "x": [
          "hot",
          "prebreak",
          "best",
          "news",
          "GBBO",
          "islam",
          "NowPlaying",
          "nowplaying",
          "jobs",
          "EDM",
          "DnB",
          "Beyhive",
          "Directioners",
          "RT",
          "Dubstep",
          "TrapMusic",
          "Dance",
          "Ices",
          "animalrescue",
          "MTVHottest"
         ],
         "xaxis": "x",
         "y": [
          18,
          17,
          17,
          15,
          13,
          11,
          10,
          10,
          9,
          8,
          8,
          8,
          8,
          7,
          7,
          7,
          7,
          7,
          7,
          6
         ],
         "yaxis": "y"
        }
       ],
       "layout": {
        "barmode": "relative",
        "coloraxis": {
         "colorbar": {
          "title": {
           "text": "Frequency of non-disaster # words"
          }
         },
         "colorscale": [
          [
           0,
           "#0d0887"
          ],
          [
           0.1111111111111111,
           "#46039f"
          ],
          [
           0.2222222222222222,
           "#7201a8"
          ],
          [
           0.3333333333333333,
           "#9c179e"
          ],
          [
           0.4444444444444444,
           "#bd3786"
          ],
          [
           0.5555555555555556,
           "#d8576b"
          ],
          [
           0.6666666666666666,
           "#ed7953"
          ],
          [
           0.7777777777777778,
           "#fb9f3a"
          ],
          [
           0.8888888888888888,
           "#fdca26"
          ],
          [
           1,
           "#f0f921"
          ]
         ]
        },
        "legend": {
         "tracegroupgap": 0
        },
        "margin": {
         "t": 60
        },
        "template": {
         "data": {
          "bar": [
           {
            "error_x": {
             "color": "#2a3f5f"
            },
            "error_y": {
             "color": "#2a3f5f"
            },
            "marker": {
             "line": {
              "color": "#E5ECF6",
              "width": 0.5
             }
            },
            "type": "bar"
           }
          ],
          "barpolar": [
           {
            "marker": {
             "line": {
              "color": "#E5ECF6",
              "width": 0.5
             }
            },
            "type": "barpolar"
           }
          ],
          "carpet": [
           {
            "aaxis": {
             "endlinecolor": "#2a3f5f",
             "gridcolor": "white",
             "linecolor": "white",
             "minorgridcolor": "white",
             "startlinecolor": "#2a3f5f"
            },
            "baxis": {
             "endlinecolor": "#2a3f5f",
             "gridcolor": "white",
             "linecolor": "white",
             "minorgridcolor": "white",
             "startlinecolor": "#2a3f5f"
            },
            "type": "carpet"
           }
          ],
          "choropleth": [
           {
            "colorbar": {
             "outlinewidth": 0,
             "ticks": ""
            },
            "type": "choropleth"
           }
          ],
          "contour": [
           {
            "colorbar": {
             "outlinewidth": 0,
             "ticks": ""
            },
            "colorscale": [
             [
              0,
              "#0d0887"
             ],
             [
              0.1111111111111111,
              "#46039f"
             ],
             [
              0.2222222222222222,
              "#7201a8"
             ],
             [
              0.3333333333333333,
              "#9c179e"
             ],
             [
              0.4444444444444444,
              "#bd3786"
             ],
             [
              0.5555555555555556,
              "#d8576b"
             ],
             [
              0.6666666666666666,
              "#ed7953"
             ],
             [
              0.7777777777777778,
              "#fb9f3a"
             ],
             [
              0.8888888888888888,
              "#fdca26"
             ],
             [
              1,
              "#f0f921"
             ]
            ],
            "type": "contour"
           }
          ],
          "contourcarpet": [
           {
            "colorbar": {
             "outlinewidth": 0,
             "ticks": ""
            },
            "type": "contourcarpet"
           }
          ],
          "heatmap": [
           {
            "colorbar": {
             "outlinewidth": 0,
             "ticks": ""
            },
            "colorscale": [
             [
              0,
              "#0d0887"
             ],
             [
              0.1111111111111111,
              "#46039f"
             ],
             [
              0.2222222222222222,
              "#7201a8"
             ],
             [
              0.3333333333333333,
              "#9c179e"
             ],
             [
              0.4444444444444444,
              "#bd3786"
             ],
             [
              0.5555555555555556,
              "#d8576b"
             ],
             [
              0.6666666666666666,
              "#ed7953"
             ],
             [
              0.7777777777777778,
              "#fb9f3a"
             ],
             [
              0.8888888888888888,
              "#fdca26"
             ],
             [
              1,
              "#f0f921"
             ]
            ],
            "type": "heatmap"
           }
          ],
          "heatmapgl": [
           {
            "colorbar": {
             "outlinewidth": 0,
             "ticks": ""
            },
            "colorscale": [
             [
              0,
              "#0d0887"
             ],
             [
              0.1111111111111111,
              "#46039f"
             ],
             [
              0.2222222222222222,
              "#7201a8"
             ],
             [
              0.3333333333333333,
              "#9c179e"
             ],
             [
              0.4444444444444444,
              "#bd3786"
             ],
             [
              0.5555555555555556,
              "#d8576b"
             ],
             [
              0.6666666666666666,
              "#ed7953"
             ],
             [
              0.7777777777777778,
              "#fb9f3a"
             ],
             [
              0.8888888888888888,
              "#fdca26"
             ],
             [
              1,
              "#f0f921"
             ]
            ],
            "type": "heatmapgl"
           }
          ],
          "histogram": [
           {
            "marker": {
             "colorbar": {
              "outlinewidth": 0,
              "ticks": ""
             }
            },
            "type": "histogram"
           }
          ],
          "histogram2d": [
           {
            "colorbar": {
             "outlinewidth": 0,
             "ticks": ""
            },
            "colorscale": [
             [
              0,
              "#0d0887"
             ],
             [
              0.1111111111111111,
              "#46039f"
             ],
             [
              0.2222222222222222,
              "#7201a8"
             ],
             [
              0.3333333333333333,
              "#9c179e"
             ],
             [
              0.4444444444444444,
              "#bd3786"
             ],
             [
              0.5555555555555556,
              "#d8576b"
             ],
             [
              0.6666666666666666,
              "#ed7953"
             ],
             [
              0.7777777777777778,
              "#fb9f3a"
             ],
             [
              0.8888888888888888,
              "#fdca26"
             ],
             [
              1,
              "#f0f921"
             ]
            ],
            "type": "histogram2d"
           }
          ],
          "histogram2dcontour": [
           {
            "colorbar": {
             "outlinewidth": 0,
             "ticks": ""
            },
            "colorscale": [
             [
              0,
              "#0d0887"
             ],
             [
              0.1111111111111111,
              "#46039f"
             ],
             [
              0.2222222222222222,
              "#7201a8"
             ],
             [
              0.3333333333333333,
              "#9c179e"
             ],
             [
              0.4444444444444444,
              "#bd3786"
             ],
             [
              0.5555555555555556,
              "#d8576b"
             ],
             [
              0.6666666666666666,
              "#ed7953"
             ],
             [
              0.7777777777777778,
              "#fb9f3a"
             ],
             [
              0.8888888888888888,
              "#fdca26"
             ],
             [
              1,
              "#f0f921"
             ]
            ],
            "type": "histogram2dcontour"
           }
          ],
          "mesh3d": [
           {
            "colorbar": {
             "outlinewidth": 0,
             "ticks": ""
            },
            "type": "mesh3d"
           }
          ],
          "parcoords": [
           {
            "line": {
             "colorbar": {
              "outlinewidth": 0,
              "ticks": ""
             }
            },
            "type": "parcoords"
           }
          ],
          "pie": [
           {
            "automargin": true,
            "type": "pie"
           }
          ],
          "scatter": [
           {
            "marker": {
             "colorbar": {
              "outlinewidth": 0,
              "ticks": ""
             }
            },
            "type": "scatter"
           }
          ],
          "scatter3d": [
           {
            "line": {
             "colorbar": {
              "outlinewidth": 0,
              "ticks": ""
             }
            },
            "marker": {
             "colorbar": {
              "outlinewidth": 0,
              "ticks": ""
             }
            },
            "type": "scatter3d"
           }
          ],
          "scattercarpet": [
           {
            "marker": {
             "colorbar": {
              "outlinewidth": 0,
              "ticks": ""
             }
            },
            "type": "scattercarpet"
           }
          ],
          "scattergeo": [
           {
            "marker": {
             "colorbar": {
              "outlinewidth": 0,
              "ticks": ""
             }
            },
            "type": "scattergeo"
           }
          ],
          "scattergl": [
           {
            "marker": {
             "colorbar": {
              "outlinewidth": 0,
              "ticks": ""
             }
            },
            "type": "scattergl"
           }
          ],
          "scattermapbox": [
           {
            "marker": {
             "colorbar": {
              "outlinewidth": 0,
              "ticks": ""
             }
            },
            "type": "scattermapbox"
           }
          ],
          "scatterpolar": [
           {
            "marker": {
             "colorbar": {
              "outlinewidth": 0,
              "ticks": ""
             }
            },
            "type": "scatterpolar"
           }
          ],
          "scatterpolargl": [
           {
            "marker": {
             "colorbar": {
              "outlinewidth": 0,
              "ticks": ""
             }
            },
            "type": "scatterpolargl"
           }
          ],
          "scatterternary": [
           {
            "marker": {
             "colorbar": {
              "outlinewidth": 0,
              "ticks": ""
             }
            },
            "type": "scatterternary"
           }
          ],
          "surface": [
           {
            "colorbar": {
             "outlinewidth": 0,
             "ticks": ""
            },
            "colorscale": [
             [
              0,
              "#0d0887"
             ],
             [
              0.1111111111111111,
              "#46039f"
             ],
             [
              0.2222222222222222,
              "#7201a8"
             ],
             [
              0.3333333333333333,
              "#9c179e"
             ],
             [
              0.4444444444444444,
              "#bd3786"
             ],
             [
              0.5555555555555556,
              "#d8576b"
             ],
             [
              0.6666666666666666,
              "#ed7953"
             ],
             [
              0.7777777777777778,
              "#fb9f3a"
             ],
             [
              0.8888888888888888,
              "#fdca26"
             ],
             [
              1,
              "#f0f921"
             ]
            ],
            "type": "surface"
           }
          ],
          "table": [
           {
            "cells": {
             "fill": {
              "color": "#EBF0F8"
             },
             "line": {
              "color": "white"
             }
            },
            "header": {
             "fill": {
              "color": "#C8D4E3"
             },
             "line": {
              "color": "white"
             }
            },
            "type": "table"
           }
          ]
         },
         "layout": {
          "annotationdefaults": {
           "arrowcolor": "#2a3f5f",
           "arrowhead": 0,
           "arrowwidth": 1
          },
          "coloraxis": {
           "colorbar": {
            "outlinewidth": 0,
            "ticks": ""
           }
          },
          "colorscale": {
           "diverging": [
            [
             0,
             "#8e0152"
            ],
            [
             0.1,
             "#c51b7d"
            ],
            [
             0.2,
             "#de77ae"
            ],
            [
             0.3,
             "#f1b6da"
            ],
            [
             0.4,
             "#fde0ef"
            ],
            [
             0.5,
             "#f7f7f7"
            ],
            [
             0.6,
             "#e6f5d0"
            ],
            [
             0.7,
             "#b8e186"
            ],
            [
             0.8,
             "#7fbc41"
            ],
            [
             0.9,
             "#4d9221"
            ],
            [
             1,
             "#276419"
            ]
           ],
           "sequential": [
            [
             0,
             "#0d0887"
            ],
            [
             0.1111111111111111,
             "#46039f"
            ],
            [
             0.2222222222222222,
             "#7201a8"
            ],
            [
             0.3333333333333333,
             "#9c179e"
            ],
            [
             0.4444444444444444,
             "#bd3786"
            ],
            [
             0.5555555555555556,
             "#d8576b"
            ],
            [
             0.6666666666666666,
             "#ed7953"
            ],
            [
             0.7777777777777778,
             "#fb9f3a"
            ],
            [
             0.8888888888888888,
             "#fdca26"
            ],
            [
             1,
             "#f0f921"
            ]
           ],
           "sequentialminus": [
            [
             0,
             "#0d0887"
            ],
            [
             0.1111111111111111,
             "#46039f"
            ],
            [
             0.2222222222222222,
             "#7201a8"
            ],
            [
             0.3333333333333333,
             "#9c179e"
            ],
            [
             0.4444444444444444,
             "#bd3786"
            ],
            [
             0.5555555555555556,
             "#d8576b"
            ],
            [
             0.6666666666666666,
             "#ed7953"
            ],
            [
             0.7777777777777778,
             "#fb9f3a"
            ],
            [
             0.8888888888888888,
             "#fdca26"
            ],
            [
             1,
             "#f0f921"
            ]
           ]
          },
          "colorway": [
           "#636efa",
           "#EF553B",
           "#00cc96",
           "#ab63fa",
           "#FFA15A",
           "#19d3f3",
           "#FF6692",
           "#B6E880",
           "#FF97FF",
           "#FECB52"
          ],
          "font": {
           "color": "#2a3f5f"
          },
          "geo": {
           "bgcolor": "white",
           "lakecolor": "white",
           "landcolor": "#E5ECF6",
           "showlakes": true,
           "showland": true,
           "subunitcolor": "white"
          },
          "hoverlabel": {
           "align": "left"
          },
          "hovermode": "closest",
          "mapbox": {
           "style": "light"
          },
          "paper_bgcolor": "white",
          "plot_bgcolor": "#E5ECF6",
          "polar": {
           "angularaxis": {
            "gridcolor": "white",
            "linecolor": "white",
            "ticks": ""
           },
           "bgcolor": "#E5ECF6",
           "radialaxis": {
            "gridcolor": "white",
            "linecolor": "white",
            "ticks": ""
           }
          },
          "scene": {
           "xaxis": {
            "backgroundcolor": "#E5ECF6",
            "gridcolor": "white",
            "gridwidth": 2,
            "linecolor": "white",
            "showbackground": true,
            "ticks": "",
            "zerolinecolor": "white"
           },
           "yaxis": {
            "backgroundcolor": "#E5ECF6",
            "gridcolor": "white",
            "gridwidth": 2,
            "linecolor": "white",
            "showbackground": true,
            "ticks": "",
            "zerolinecolor": "white"
           },
           "zaxis": {
            "backgroundcolor": "#E5ECF6",
            "gridcolor": "white",
            "gridwidth": 2,
            "linecolor": "white",
            "showbackground": true,
            "ticks": "",
            "zerolinecolor": "white"
           }
          },
          "shapedefaults": {
           "line": {
            "color": "#2a3f5f"
           }
          },
          "ternary": {
           "aaxis": {
            "gridcolor": "white",
            "linecolor": "white",
            "ticks": ""
           },
           "baxis": {
            "gridcolor": "white",
            "linecolor": "white",
            "ticks": ""
           },
           "bgcolor": "#E5ECF6",
           "caxis": {
            "gridcolor": "white",
            "linecolor": "white",
            "ticks": ""
           }
          },
          "title": {
           "x": 0.05
          },
          "xaxis": {
           "automargin": true,
           "gridcolor": "white",
           "linecolor": "white",
           "ticks": "",
           "title": {
            "standoff": 15
           },
           "zerolinecolor": "white",
           "zerolinewidth": 2
          },
          "yaxis": {
           "automargin": true,
           "gridcolor": "white",
           "linecolor": "white",
           "ticks": "",
           "title": {
            "standoff": 15
           },
           "zerolinecolor": "white",
           "zerolinewidth": 2
          }
         }
        },
        "title": {
         "text": "Top 20 # words for non-disaster tweets",
         "x": 0.5
        },
        "xaxis": {
         "anchor": "y",
         "domain": [
          0,
          1
         ],
         "title": {
          "text": "Non-disaster # words"
         }
        },
        "yaxis": {
         "anchor": "x",
         "domain": [
          0,
          1
         ],
         "title": {
          "text": "Frequency of non-disaster # words"
         }
        }
       }
      },
      "text/html": [
       "<div>\n",
       "        \n",
       "        \n",
       "            <div id=\"f8f59a31-3a00-450f-831b-7d0f465a085e\" class=\"plotly-graph-div\" style=\"height:525px; width:100%;\"></div>\n",
       "            <script type=\"text/javascript\">\n",
       "                require([\"plotly\"], function(Plotly) {\n",
       "                    window.PLOTLYENV=window.PLOTLYENV || {};\n",
       "                    \n",
       "                if (document.getElementById(\"f8f59a31-3a00-450f-831b-7d0f465a085e\")) {\n",
       "                    Plotly.newPlot(\n",
       "                        'f8f59a31-3a00-450f-831b-7d0f465a085e',\n",
       "                        [{\"alignmentgroup\": \"True\", \"hoverlabel\": {\"namelength\": 0}, \"hovertemplate\": \"<b>%{hovertext}</b><br><br>Non-disaster # words=%{x}<br>Frequency of non-disaster # words=%{marker.color}\", \"hovertext\": [\"hot\", \"prebreak\", \"best\", \"news\", \"GBBO\", \"islam\", \"NowPlaying\", \"nowplaying\", \"jobs\", \"EDM\", \"DnB\", \"Beyhive\", \"Directioners\", \"RT\", \"Dubstep\", \"TrapMusic\", \"Dance\", \"Ices\", \"animalrescue\", \"MTVHottest\"], \"legendgroup\": \"\", \"marker\": {\"color\": [18, 17, 17, 15, 13, 11, 10, 10, 9, 8, 8, 8, 8, 7, 7, 7, 7, 7, 7, 6], \"coloraxis\": \"coloraxis\"}, \"name\": \"\", \"offsetgroup\": \"\", \"orientation\": \"v\", \"showlegend\": false, \"textposition\": \"auto\", \"type\": \"bar\", \"x\": [\"hot\", \"prebreak\", \"best\", \"news\", \"GBBO\", \"islam\", \"NowPlaying\", \"nowplaying\", \"jobs\", \"EDM\", \"DnB\", \"Beyhive\", \"Directioners\", \"RT\", \"Dubstep\", \"TrapMusic\", \"Dance\", \"Ices\", \"animalrescue\", \"MTVHottest\"], \"xaxis\": \"x\", \"y\": [18, 17, 17, 15, 13, 11, 10, 10, 9, 8, 8, 8, 8, 7, 7, 7, 7, 7, 7, 6], \"yaxis\": \"y\"}],\n",
       "                        {\"barmode\": \"relative\", \"coloraxis\": {\"colorbar\": {\"title\": {\"text\": \"Frequency of non-disaster # words\"}}, \"colorscale\": [[0.0, \"#0d0887\"], [0.1111111111111111, \"#46039f\"], [0.2222222222222222, \"#7201a8\"], [0.3333333333333333, \"#9c179e\"], [0.4444444444444444, \"#bd3786\"], [0.5555555555555556, \"#d8576b\"], [0.6666666666666666, \"#ed7953\"], [0.7777777777777778, \"#fb9f3a\"], [0.8888888888888888, \"#fdca26\"], [1.0, \"#f0f921\"]]}, \"legend\": {\"tracegroupgap\": 0}, \"margin\": {\"t\": 60}, \"template\": {\"data\": {\"bar\": [{\"error_x\": {\"color\": \"#2a3f5f\"}, \"error_y\": {\"color\": \"#2a3f5f\"}, \"marker\": {\"line\": {\"color\": \"#E5ECF6\", \"width\": 0.5}}, \"type\": \"bar\"}], \"barpolar\": [{\"marker\": {\"line\": {\"color\": \"#E5ECF6\", \"width\": 0.5}}, \"type\": \"barpolar\"}], \"carpet\": [{\"aaxis\": {\"endlinecolor\": \"#2a3f5f\", \"gridcolor\": \"white\", \"linecolor\": \"white\", \"minorgridcolor\": \"white\", \"startlinecolor\": \"#2a3f5f\"}, \"baxis\": {\"endlinecolor\": \"#2a3f5f\", \"gridcolor\": \"white\", \"linecolor\": \"white\", \"minorgridcolor\": \"white\", \"startlinecolor\": \"#2a3f5f\"}, \"type\": \"carpet\"}], \"choropleth\": [{\"colorbar\": {\"outlinewidth\": 0, \"ticks\": \"\"}, \"type\": \"choropleth\"}], \"contour\": [{\"colorbar\": {\"outlinewidth\": 0, \"ticks\": \"\"}, \"colorscale\": [[0.0, \"#0d0887\"], [0.1111111111111111, \"#46039f\"], [0.2222222222222222, \"#7201a8\"], [0.3333333333333333, \"#9c179e\"], [0.4444444444444444, \"#bd3786\"], [0.5555555555555556, \"#d8576b\"], [0.6666666666666666, \"#ed7953\"], [0.7777777777777778, \"#fb9f3a\"], [0.8888888888888888, \"#fdca26\"], [1.0, \"#f0f921\"]], \"type\": \"contour\"}], \"contourcarpet\": [{\"colorbar\": {\"outlinewidth\": 0, \"ticks\": \"\"}, \"type\": \"contourcarpet\"}], \"heatmap\": [{\"colorbar\": {\"outlinewidth\": 0, \"ticks\": \"\"}, \"colorscale\": [[0.0, \"#0d0887\"], [0.1111111111111111, \"#46039f\"], [0.2222222222222222, \"#7201a8\"], [0.3333333333333333, \"#9c179e\"], [0.4444444444444444, \"#bd3786\"], [0.5555555555555556, \"#d8576b\"], [0.6666666666666666, \"#ed7953\"], [0.7777777777777778, \"#fb9f3a\"], [0.8888888888888888, \"#fdca26\"], [1.0, \"#f0f921\"]], \"type\": \"heatmap\"}], \"heatmapgl\": [{\"colorbar\": {\"outlinewidth\": 0, \"ticks\": \"\"}, \"colorscale\": [[0.0, \"#0d0887\"], [0.1111111111111111, \"#46039f\"], [0.2222222222222222, \"#7201a8\"], [0.3333333333333333, \"#9c179e\"], [0.4444444444444444, \"#bd3786\"], [0.5555555555555556, \"#d8576b\"], [0.6666666666666666, \"#ed7953\"], [0.7777777777777778, \"#fb9f3a\"], [0.8888888888888888, \"#fdca26\"], [1.0, \"#f0f921\"]], \"type\": \"heatmapgl\"}], \"histogram\": [{\"marker\": {\"colorbar\": {\"outlinewidth\": 0, \"ticks\": \"\"}}, \"type\": \"histogram\"}], \"histogram2d\": [{\"colorbar\": {\"outlinewidth\": 0, \"ticks\": \"\"}, \"colorscale\": [[0.0, \"#0d0887\"], [0.1111111111111111, \"#46039f\"], [0.2222222222222222, \"#7201a8\"], [0.3333333333333333, \"#9c179e\"], [0.4444444444444444, \"#bd3786\"], [0.5555555555555556, \"#d8576b\"], [0.6666666666666666, \"#ed7953\"], [0.7777777777777778, \"#fb9f3a\"], [0.8888888888888888, \"#fdca26\"], [1.0, \"#f0f921\"]], \"type\": \"histogram2d\"}], \"histogram2dcontour\": [{\"colorbar\": {\"outlinewidth\": 0, \"ticks\": \"\"}, \"colorscale\": [[0.0, \"#0d0887\"], [0.1111111111111111, \"#46039f\"], [0.2222222222222222, \"#7201a8\"], [0.3333333333333333, \"#9c179e\"], [0.4444444444444444, \"#bd3786\"], [0.5555555555555556, \"#d8576b\"], [0.6666666666666666, \"#ed7953\"], [0.7777777777777778, \"#fb9f3a\"], [0.8888888888888888, \"#fdca26\"], [1.0, \"#f0f921\"]], \"type\": \"histogram2dcontour\"}], \"mesh3d\": [{\"colorbar\": {\"outlinewidth\": 0, \"ticks\": \"\"}, \"type\": \"mesh3d\"}], \"parcoords\": [{\"line\": {\"colorbar\": {\"outlinewidth\": 0, \"ticks\": \"\"}}, \"type\": \"parcoords\"}], \"pie\": [{\"automargin\": true, \"type\": \"pie\"}], \"scatter\": [{\"marker\": {\"colorbar\": {\"outlinewidth\": 0, \"ticks\": \"\"}}, \"type\": \"scatter\"}], \"scatter3d\": [{\"line\": {\"colorbar\": {\"outlinewidth\": 0, \"ticks\": \"\"}}, \"marker\": {\"colorbar\": {\"outlinewidth\": 0, \"ticks\": \"\"}}, \"type\": \"scatter3d\"}], \"scattercarpet\": [{\"marker\": {\"colorbar\": {\"outlinewidth\": 0, \"ticks\": \"\"}}, \"type\": \"scattercarpet\"}], \"scattergeo\": [{\"marker\": {\"colorbar\": {\"outlinewidth\": 0, \"ticks\": \"\"}}, \"type\": \"scattergeo\"}], \"scattergl\": [{\"marker\": {\"colorbar\": {\"outlinewidth\": 0, \"ticks\": \"\"}}, \"type\": \"scattergl\"}], \"scattermapbox\": [{\"marker\": {\"colorbar\": {\"outlinewidth\": 0, \"ticks\": \"\"}}, \"type\": \"scattermapbox\"}], \"scatterpolar\": [{\"marker\": {\"colorbar\": {\"outlinewidth\": 0, \"ticks\": \"\"}}, \"type\": \"scatterpolar\"}], \"scatterpolargl\": [{\"marker\": {\"colorbar\": {\"outlinewidth\": 0, \"ticks\": \"\"}}, \"type\": \"scatterpolargl\"}], \"scatterternary\": [{\"marker\": {\"colorbar\": {\"outlinewidth\": 0, \"ticks\": \"\"}}, \"type\": \"scatterternary\"}], \"surface\": [{\"colorbar\": {\"outlinewidth\": 0, \"ticks\": \"\"}, \"colorscale\": [[0.0, \"#0d0887\"], [0.1111111111111111, \"#46039f\"], [0.2222222222222222, \"#7201a8\"], [0.3333333333333333, \"#9c179e\"], [0.4444444444444444, \"#bd3786\"], [0.5555555555555556, \"#d8576b\"], [0.6666666666666666, \"#ed7953\"], [0.7777777777777778, \"#fb9f3a\"], [0.8888888888888888, \"#fdca26\"], [1.0, \"#f0f921\"]], \"type\": \"surface\"}], \"table\": [{\"cells\": {\"fill\": {\"color\": \"#EBF0F8\"}, \"line\": {\"color\": \"white\"}}, \"header\": {\"fill\": {\"color\": \"#C8D4E3\"}, \"line\": {\"color\": \"white\"}}, \"type\": \"table\"}]}, \"layout\": {\"annotationdefaults\": {\"arrowcolor\": \"#2a3f5f\", \"arrowhead\": 0, \"arrowwidth\": 1}, \"coloraxis\": {\"colorbar\": {\"outlinewidth\": 0, \"ticks\": \"\"}}, \"colorscale\": {\"diverging\": [[0, \"#8e0152\"], [0.1, \"#c51b7d\"], [0.2, \"#de77ae\"], [0.3, \"#f1b6da\"], [0.4, \"#fde0ef\"], [0.5, \"#f7f7f7\"], [0.6, \"#e6f5d0\"], [0.7, \"#b8e186\"], [0.8, \"#7fbc41\"], [0.9, \"#4d9221\"], [1, \"#276419\"]], \"sequential\": [[0.0, \"#0d0887\"], [0.1111111111111111, \"#46039f\"], [0.2222222222222222, \"#7201a8\"], [0.3333333333333333, \"#9c179e\"], [0.4444444444444444, \"#bd3786\"], [0.5555555555555556, \"#d8576b\"], [0.6666666666666666, \"#ed7953\"], [0.7777777777777778, \"#fb9f3a\"], [0.8888888888888888, \"#fdca26\"], [1.0, \"#f0f921\"]], \"sequentialminus\": [[0.0, \"#0d0887\"], [0.1111111111111111, \"#46039f\"], [0.2222222222222222, \"#7201a8\"], [0.3333333333333333, \"#9c179e\"], [0.4444444444444444, \"#bd3786\"], [0.5555555555555556, \"#d8576b\"], [0.6666666666666666, \"#ed7953\"], [0.7777777777777778, \"#fb9f3a\"], [0.8888888888888888, \"#fdca26\"], [1.0, \"#f0f921\"]]}, \"colorway\": [\"#636efa\", \"#EF553B\", \"#00cc96\", \"#ab63fa\", \"#FFA15A\", \"#19d3f3\", \"#FF6692\", \"#B6E880\", \"#FF97FF\", \"#FECB52\"], \"font\": {\"color\": \"#2a3f5f\"}, \"geo\": {\"bgcolor\": \"white\", \"lakecolor\": \"white\", \"landcolor\": \"#E5ECF6\", \"showlakes\": true, \"showland\": true, \"subunitcolor\": \"white\"}, \"hoverlabel\": {\"align\": \"left\"}, \"hovermode\": \"closest\", \"mapbox\": {\"style\": \"light\"}, \"paper_bgcolor\": \"white\", \"plot_bgcolor\": \"#E5ECF6\", \"polar\": {\"angularaxis\": {\"gridcolor\": \"white\", \"linecolor\": \"white\", \"ticks\": \"\"}, \"bgcolor\": \"#E5ECF6\", \"radialaxis\": {\"gridcolor\": \"white\", \"linecolor\": \"white\", \"ticks\": \"\"}}, \"scene\": {\"xaxis\": {\"backgroundcolor\": \"#E5ECF6\", \"gridcolor\": \"white\", \"gridwidth\": 2, \"linecolor\": \"white\", \"showbackground\": true, \"ticks\": \"\", \"zerolinecolor\": \"white\"}, \"yaxis\": {\"backgroundcolor\": \"#E5ECF6\", \"gridcolor\": \"white\", \"gridwidth\": 2, \"linecolor\": \"white\", \"showbackground\": true, \"ticks\": \"\", \"zerolinecolor\": \"white\"}, \"zaxis\": {\"backgroundcolor\": \"#E5ECF6\", \"gridcolor\": \"white\", \"gridwidth\": 2, \"linecolor\": \"white\", \"showbackground\": true, \"ticks\": \"\", \"zerolinecolor\": \"white\"}}, \"shapedefaults\": {\"line\": {\"color\": \"#2a3f5f\"}}, \"ternary\": {\"aaxis\": {\"gridcolor\": \"white\", \"linecolor\": \"white\", \"ticks\": \"\"}, \"baxis\": {\"gridcolor\": \"white\", \"linecolor\": \"white\", \"ticks\": \"\"}, \"bgcolor\": \"#E5ECF6\", \"caxis\": {\"gridcolor\": \"white\", \"linecolor\": \"white\", \"ticks\": \"\"}}, \"title\": {\"x\": 0.05}, \"xaxis\": {\"automargin\": true, \"gridcolor\": \"white\", \"linecolor\": \"white\", \"ticks\": \"\", \"title\": {\"standoff\": 15}, \"zerolinecolor\": \"white\", \"zerolinewidth\": 2}, \"yaxis\": {\"automargin\": true, \"gridcolor\": \"white\", \"linecolor\": \"white\", \"ticks\": \"\", \"title\": {\"standoff\": 15}, \"zerolinecolor\": \"white\", \"zerolinewidth\": 2}}}, \"title\": {\"text\": \"Top 20 # words for non-disaster tweets\", \"x\": 0.5}, \"xaxis\": {\"anchor\": \"y\", \"domain\": [0.0, 1.0], \"title\": {\"text\": \"Non-disaster # words\"}}, \"yaxis\": {\"anchor\": \"x\", \"domain\": [0.0, 1.0], \"title\": {\"text\": \"Frequency of non-disaster # words\"}}},\n",
       "                        {\"responsive\": true}\n",
       "                    ).then(function(){\n",
       "                            \n",
       "var gd = document.getElementById('f8f59a31-3a00-450f-831b-7d0f465a085e');\n",
       "var x = new MutationObserver(function (mutations, observer) {{\n",
       "        var display = window.getComputedStyle(gd).display;\n",
       "        if (!display || display === 'none') {{\n",
       "            console.log([gd, 'removed!']);\n",
       "            Plotly.purge(gd);\n",
       "            observer.disconnect();\n",
       "        }}\n",
       "}});\n",
       "\n",
       "// Listen for the removal of the full notebook cells\n",
       "var notebookContainer = gd.closest('#notebook-container');\n",
       "if (notebookContainer) {{\n",
       "    x.observe(notebookContainer, {childList: true});\n",
       "}}\n",
       "\n",
       "// Listen for the clearing of the current output cell\n",
       "var outputEl = gd.closest('.output');\n",
       "if (outputEl) {{\n",
       "    x.observe(outputEl, {childList: true});\n",
       "}}\n",
       "\n",
       "                        })\n",
       "                };\n",
       "                });\n",
       "            </script>\n",
       "        </div>"
      ]
     },
     "metadata": {},
     "output_type": "display_data"
    }
   ],
   "source": [
    "#Normal histogram of non-disaster # words\n",
    "fig = px.bar(e, x=\"Non-disaster # words\", y=\"Frequency of non-disaster # words\",\n",
    "            hover_name=\"Non-disaster # words\",color = 'Frequency of non-disaster # words')\n",
    "fig.update_layout(title='Top 20 # words for non-disaster tweets', title_x=0.5)\n",
    "fig.show()"
   ]
  },
  {
   "cell_type": "code",
   "execution_count": 879,
   "metadata": {},
   "outputs": [
    {
     "data": {
      "text/html": [
       "<div>\n",
       "<style scoped>\n",
       "    .dataframe tbody tr th:only-of-type {\n",
       "        vertical-align: middle;\n",
       "    }\n",
       "\n",
       "    .dataframe tbody tr th {\n",
       "        vertical-align: top;\n",
       "    }\n",
       "\n",
       "    .dataframe thead th {\n",
       "        text-align: right;\n",
       "    }\n",
       "</style>\n",
       "<table border=\"1\" class=\"dataframe\">\n",
       "  <thead>\n",
       "    <tr style=\"text-align: right;\">\n",
       "      <th></th>\n",
       "      <th>id</th>\n",
       "      <th>keyword</th>\n",
       "      <th>location</th>\n",
       "      <th>text</th>\n",
       "      <th>target</th>\n",
       "      <th>length</th>\n",
       "      <th>char_count</th>\n",
       "      <th>unique</th>\n",
       "      <th>mention</th>\n",
       "      <th>#</th>\n",
       "      <th>polarity</th>\n",
       "      <th>Sentiment</th>\n",
       "      <th>clean_text</th>\n",
       "      <th>punct</th>\n",
       "      <th>punct1</th>\n",
       "    </tr>\n",
       "  </thead>\n",
       "  <tbody>\n",
       "    <tr>\n",
       "      <td>15</td>\n",
       "      <td>23</td>\n",
       "      <td>Unknown</td>\n",
       "      <td>Other_location</td>\n",
       "      <td>what's up man?</td>\n",
       "      <td>0</td>\n",
       "      <td>14</td>\n",
       "      <td>3</td>\n",
       "      <td>3</td>\n",
       "      <td>0</td>\n",
       "      <td></td>\n",
       "      <td>0.0</td>\n",
       "      <td>Neutral</td>\n",
       "      <td>what's man?</td>\n",
       "      <td>2</td>\n",
       "      <td>[', ?]</td>\n",
       "    </tr>\n",
       "    <tr>\n",
       "      <td>16</td>\n",
       "      <td>24</td>\n",
       "      <td>Unknown</td>\n",
       "      <td>Other_location</td>\n",
       "      <td>i love fruits</td>\n",
       "      <td>0</td>\n",
       "      <td>13</td>\n",
       "      <td>3</td>\n",
       "      <td>3</td>\n",
       "      <td>0</td>\n",
       "      <td></td>\n",
       "      <td>0.5</td>\n",
       "      <td>Positive</td>\n",
       "      <td>love fruits</td>\n",
       "      <td>0</td>\n",
       "      <td>[]</td>\n",
       "    </tr>\n",
       "    <tr>\n",
       "      <td>17</td>\n",
       "      <td>25</td>\n",
       "      <td>Unknown</td>\n",
       "      <td>Other_location</td>\n",
       "      <td>summer is lovely</td>\n",
       "      <td>0</td>\n",
       "      <td>16</td>\n",
       "      <td>3</td>\n",
       "      <td>3</td>\n",
       "      <td>0</td>\n",
       "      <td></td>\n",
       "      <td>0.5</td>\n",
       "      <td>Positive</td>\n",
       "      <td>summer lovely</td>\n",
       "      <td>0</td>\n",
       "      <td>[]</td>\n",
       "    </tr>\n",
       "    <tr>\n",
       "      <td>18</td>\n",
       "      <td>26</td>\n",
       "      <td>Unknown</td>\n",
       "      <td>Other_location</td>\n",
       "      <td>my car is so fast</td>\n",
       "      <td>0</td>\n",
       "      <td>17</td>\n",
       "      <td>5</td>\n",
       "      <td>5</td>\n",
       "      <td>0</td>\n",
       "      <td></td>\n",
       "      <td>0.2</td>\n",
       "      <td>Positive</td>\n",
       "      <td>car fast</td>\n",
       "      <td>0</td>\n",
       "      <td>[]</td>\n",
       "    </tr>\n",
       "    <tr>\n",
       "      <td>19</td>\n",
       "      <td>28</td>\n",
       "      <td>Unknown</td>\n",
       "      <td>Other_location</td>\n",
       "      <td>what a goooooooaaaaaal!!!!!!</td>\n",
       "      <td>0</td>\n",
       "      <td>28</td>\n",
       "      <td>3</td>\n",
       "      <td>3</td>\n",
       "      <td>0</td>\n",
       "      <td></td>\n",
       "      <td>0.0</td>\n",
       "      <td>Neutral</td>\n",
       "      <td>goooooooaaaaaal!!!!!!</td>\n",
       "      <td>6</td>\n",
       "      <td>[!, !, !, !, !, !]</td>\n",
       "    </tr>\n",
       "  </tbody>\n",
       "</table>\n",
       "</div>"
      ],
      "text/plain": [
       "    id  keyword        location                          text  target  length  \\\n",
       "15  23  Unknown  Other_location                what's up man?       0      14   \n",
       "16  24  Unknown  Other_location                 i love fruits       0      13   \n",
       "17  25  Unknown  Other_location              summer is lovely       0      16   \n",
       "18  26  Unknown  Other_location             my car is so fast       0      17   \n",
       "19  28  Unknown  Other_location  what a goooooooaaaaaal!!!!!!       0      28   \n",
       "\n",
       "    char_count  unique  mention #  polarity Sentiment             clean_text  \\\n",
       "15           3       3        0         0.0   Neutral            what's man?   \n",
       "16           3       3        0         0.5  Positive            love fruits   \n",
       "17           3       3        0         0.5  Positive          summer lovely   \n",
       "18           5       5        0         0.2  Positive               car fast   \n",
       "19           3       3        0         0.0   Neutral  goooooooaaaaaal!!!!!!   \n",
       "\n",
       "    punct              punct1  \n",
       "15      2              [', ?]  \n",
       "16      0                  []  \n",
       "17      0                  []  \n",
       "18      0                  []  \n",
       "19      6  [!, !, !, !, !, !]  "
      ]
     },
     "execution_count": 879,
     "metadata": {},
     "output_type": "execute_result"
    }
   ],
   "source": [
    "df_0.head()"
   ]
  },
  {
   "cell_type": "code",
   "execution_count": 888,
   "metadata": {},
   "outputs": [],
   "source": [
    "def mentions_extract(x):\n",
    "    mentions = []\n",
    "    # Loop over the words in the tweet\n",
    "    for i in x:\n",
    "        ht = re.findall(r\"@(\\w+)\", i)\n",
    "        mentions.append(ht)\n",
    "\n",
    "    return hashtags\n",
    "\n",
    "men0 = hashtag_extract(df_0['text'])\n",
    "\n",
    "# extracting hashtags from disaster tweets\n",
    "men1 = hashtag_extract(df_1['text'])\n",
    "\n",
    "# Converting a multidimensional list to a 1-D list\n",
    "men0 = sum(men0,[])\n",
    "men1 = sum(men1,[])"
   ]
  },
  {
   "cell_type": "code",
   "execution_count": 891,
   "metadata": {},
   "outputs": [],
   "source": [
    "z = Counter(men0)\n",
    "a = dict(z.most_common())\n",
    "a0_values = list(a.keys())\n",
    "a0_count = list(a.values())\n",
    "\n",
    "x = Counter(men1)\n",
    "b = dict(x.most_common())\n",
    "b0_values = list(b.keys())\n",
    "b1_count = list(b.values())\n",
    "\n",
    "p = pd.DataFrame(a0_values[0:20],columns=['Non-disaster mentions'])\n",
    "q = pd.DataFrame(a0_count[0:20],columns=['Frequency of non-disaster mentions'])\n",
    "r = pd.DataFrame(b0_values[0:20],columns=['Disaster mentions'])\n",
    "s = pd.DataFrame(b1_count[0:20],columns=['Frequency of disaster mentions'])\n",
    "t = pd.concat([p,q,r,s],axis=1)"
   ]
  },
  {
   "cell_type": "code",
   "execution_count": 895,
   "metadata": {},
   "outputs": [],
   "source": [
    "t.to_excel('Mentions.xlsx')"
   ]
  },
  {
   "cell_type": "code",
   "execution_count": 893,
   "metadata": {},
   "outputs": [
    {
     "data": {
      "application/vnd.plotly.v1+json": {
       "config": {
        "plotlyServerURL": "https://plot.ly"
       },
       "data": [
        {
         "alignmentgroup": "True",
         "hoverlabel": {
          "namelength": 0
         },
         "hovertemplate": "<b>%{hovertext}</b><br><br>Disaster mentions=%{x}<br>Frequency of disaster mentions=%{y}",
         "hovertext": [
          "news"
         ],
         "legendgroup": "news",
         "marker": {
          "color": "#636efa"
         },
         "name": "news",
         "offsetgroup": "news",
         "orientation": "v",
         "showlegend": true,
         "textposition": "auto",
         "type": "bar",
         "x": [
          "news"
         ],
         "xaxis": "x",
         "y": [
          56
         ],
         "yaxis": "y"
        },
        {
         "alignmentgroup": "True",
         "hoverlabel": {
          "namelength": 0
         },
         "hovertemplate": "<b>%{hovertext}</b><br><br>Disaster mentions=%{x}<br>Frequency of disaster mentions=%{y}",
         "hovertext": [
          "hiroshima"
         ],
         "legendgroup": "hiroshima",
         "marker": {
          "color": "#EF553B"
         },
         "name": "hiroshima",
         "offsetgroup": "hiroshima",
         "orientation": "v",
         "showlegend": true,
         "textposition": "auto",
         "type": "bar",
         "x": [
          "hiroshima"
         ],
         "xaxis": "x",
         "y": [
          22
         ],
         "yaxis": "y"
        },
        {
         "alignmentgroup": "True",
         "hoverlabel": {
          "namelength": 0
         },
         "hovertemplate": "<b>%{hovertext}</b><br><br>Disaster mentions=%{x}<br>Frequency of disaster mentions=%{y}",
         "hovertext": [
          "earthquake"
         ],
         "legendgroup": "earthquake",
         "marker": {
          "color": "#00cc96"
         },
         "name": "earthquake",
         "offsetgroup": "earthquake",
         "orientation": "v",
         "showlegend": true,
         "textposition": "auto",
         "type": "bar",
         "x": [
          "earthquake"
         ],
         "xaxis": "x",
         "y": [
          19
         ],
         "yaxis": "y"
        },
        {
         "alignmentgroup": "True",
         "hoverlabel": {
          "namelength": 0
         },
         "hovertemplate": "<b>%{hovertext}</b><br><br>Disaster mentions=%{x}<br>Frequency of disaster mentions=%{y}",
         "hovertext": [
          "hot"
         ],
         "legendgroup": "hot",
         "marker": {
          "color": "#ab63fa"
         },
         "name": "hot",
         "offsetgroup": "hot",
         "orientation": "v",
         "showlegend": true,
         "textposition": "auto",
         "type": "bar",
         "x": [
          "hot"
         ],
         "xaxis": "x",
         "y": [
          13
         ],
         "yaxis": "y"
        },
        {
         "alignmentgroup": "True",
         "hoverlabel": {
          "namelength": 0
         },
         "hovertemplate": "<b>%{hovertext}</b><br><br>Disaster mentions=%{x}<br>Frequency of disaster mentions=%{y}",
         "hovertext": [
          "prebreak"
         ],
         "legendgroup": "prebreak",
         "marker": {
          "color": "#FFA15A"
         },
         "name": "prebreak",
         "offsetgroup": "prebreak",
         "orientation": "v",
         "showlegend": true,
         "textposition": "auto",
         "type": "bar",
         "x": [
          "prebreak"
         ],
         "xaxis": "x",
         "y": [
          13
         ],
         "yaxis": "y"
        },
        {
         "alignmentgroup": "True",
         "hoverlabel": {
          "namelength": 0
         },
         "hovertemplate": "<b>%{hovertext}</b><br><br>Disaster mentions=%{x}<br>Frequency of disaster mentions=%{y}",
         "hovertext": [
          "best"
         ],
         "legendgroup": "best",
         "marker": {
          "color": "#19d3f3"
         },
         "name": "best",
         "offsetgroup": "best",
         "orientation": "v",
         "showlegend": true,
         "textposition": "auto",
         "type": "bar",
         "x": [
          "best"
         ],
         "xaxis": "x",
         "y": [
          13
         ],
         "yaxis": "y"
        },
        {
         "alignmentgroup": "True",
         "hoverlabel": {
          "namelength": 0
         },
         "hovertemplate": "<b>%{hovertext}</b><br><br>Disaster mentions=%{x}<br>Frequency of disaster mentions=%{y}",
         "hovertext": [
          "japan"
         ],
         "legendgroup": "japan",
         "marker": {
          "color": "#FF6692"
         },
         "name": "japan",
         "offsetgroup": "japan",
         "orientation": "v",
         "showlegend": true,
         "textposition": "auto",
         "type": "bar",
         "x": [
          "japan"
         ],
         "xaxis": "x",
         "y": [
          11
         ],
         "yaxis": "y"
        },
        {
         "alignmentgroup": "True",
         "hoverlabel": {
          "namelength": 0
         },
         "hovertemplate": "<b>%{hovertext}</b><br><br>Disaster mentions=%{x}<br>Frequency of disaster mentions=%{y}",
         "hovertext": [
          "india"
         ],
         "legendgroup": "india",
         "marker": {
          "color": "#B6E880"
         },
         "name": "india",
         "offsetgroup": "india",
         "orientation": "v",
         "showlegend": true,
         "textposition": "auto",
         "type": "bar",
         "x": [
          "india"
         ],
         "xaxis": "x",
         "y": [
          10
         ],
         "yaxis": "y"
        },
        {
         "alignmentgroup": "True",
         "hoverlabel": {
          "namelength": 0
         },
         "hovertemplate": "<b>%{hovertext}</b><br><br>Disaster mentions=%{x}<br>Frequency of disaster mentions=%{y}",
         "hovertext": [
          "yyc"
         ],
         "legendgroup": "yyc",
         "marker": {
          "color": "#FF97FF"
         },
         "name": "yyc",
         "offsetgroup": "yyc",
         "orientation": "v",
         "showlegend": true,
         "textposition": "auto",
         "type": "bar",
         "x": [
          "yyc"
         ],
         "xaxis": "x",
         "y": [
          10
         ],
         "yaxis": "y"
        },
        {
         "alignmentgroup": "True",
         "hoverlabel": {
          "namelength": 0
         },
         "hovertemplate": "<b>%{hovertext}</b><br><br>Disaster mentions=%{x}<br>Frequency of disaster mentions=%{y}",
         "hovertext": [
          "breaking"
         ],
         "legendgroup": "breaking",
         "marker": {
          "color": "#FECB52"
         },
         "name": "breaking",
         "offsetgroup": "breaking",
         "orientation": "v",
         "showlegend": true,
         "textposition": "auto",
         "type": "bar",
         "x": [
          "breaking"
         ],
         "xaxis": "x",
         "y": [
          9
         ],
         "yaxis": "y"
        },
        {
         "alignmentgroup": "True",
         "hoverlabel": {
          "namelength": 0
         },
         "hovertemplate": "<b>%{hovertext}</b><br><br>Disaster mentions=%{x}<br>Frequency of disaster mentions=%{y}",
         "hovertext": [
          "worldnews"
         ],
         "legendgroup": "worldnews",
         "marker": {
          "color": "#636efa"
         },
         "name": "worldnews",
         "offsetgroup": "worldnews",
         "orientation": "v",
         "showlegend": true,
         "textposition": "auto",
         "type": "bar",
         "x": [
          "worldnews"
         ],
         "xaxis": "x",
         "y": [
          9
         ],
         "yaxis": "y"
        },
        {
         "alignmentgroup": "True",
         "hoverlabel": {
          "namelength": 0
         },
         "hovertemplate": "<b>%{hovertext}</b><br><br>Disaster mentions=%{x}<br>Frequency of disaster mentions=%{y}",
         "hovertext": [
          "world"
         ],
         "legendgroup": "world",
         "marker": {
          "color": "#EF553B"
         },
         "name": "world",
         "offsetgroup": "world",
         "orientation": "v",
         "showlegend": true,
         "textposition": "auto",
         "type": "bar",
         "x": [
          "world"
         ],
         "xaxis": "x",
         "y": [
          9
         ],
         "yaxis": "y"
        },
        {
         "alignmentgroup": "True",
         "hoverlabel": {
          "namelength": 0
         },
         "hovertemplate": "<b>%{hovertext}</b><br><br>Disaster mentions=%{x}<br>Frequency of disaster mentions=%{y}",
         "hovertext": [
          "isis"
         ],
         "legendgroup": "isis",
         "marker": {
          "color": "#00cc96"
         },
         "name": "isis",
         "offsetgroup": "isis",
         "orientation": "v",
         "showlegend": true,
         "textposition": "auto",
         "type": "bar",
         "x": [
          "isis"
         ],
         "xaxis": "x",
         "y": [
          9
         ],
         "yaxis": "y"
        },
        {
         "alignmentgroup": "True",
         "hoverlabel": {
          "namelength": 0
         },
         "hovertemplate": "<b>%{hovertext}</b><br><br>Disaster mentions=%{x}<br>Frequency of disaster mentions=%{y}",
         "hovertext": [
          "sismo"
         ],
         "legendgroup": "sismo",
         "marker": {
          "color": "#ab63fa"
         },
         "name": "sismo",
         "offsetgroup": "sismo",
         "orientation": "v",
         "showlegend": true,
         "textposition": "auto",
         "type": "bar",
         "x": [
          "sismo"
         ],
         "xaxis": "x",
         "y": [
          9
         ],
         "yaxis": "y"
        },
        {
         "alignmentgroup": "True",
         "hoverlabel": {
          "namelength": 0
         },
         "hovertemplate": "<b>%{hovertext}</b><br><br>Disaster mentions=%{x}<br>Frequency of disaster mentions=%{y}",
         "hovertext": [
          "abstorm"
         ],
         "legendgroup": "abstorm",
         "marker": {
          "color": "#FFA15A"
         },
         "name": "abstorm",
         "offsetgroup": "abstorm",
         "orientation": "v",
         "showlegend": true,
         "textposition": "auto",
         "type": "bar",
         "x": [
          "abstorm"
         ],
         "xaxis": "x",
         "y": [
          9
         ],
         "yaxis": "y"
        },
        {
         "alignmentgroup": "True",
         "hoverlabel": {
          "namelength": 0
         },
         "hovertemplate": "<b>%{hovertext}</b><br><br>Disaster mentions=%{x}<br>Frequency of disaster mentions=%{y}",
         "hovertext": [
          "islam"
         ],
         "legendgroup": "islam",
         "marker": {
          "color": "#19d3f3"
         },
         "name": "islam",
         "offsetgroup": "islam",
         "orientation": "v",
         "showlegend": true,
         "textposition": "auto",
         "type": "bar",
         "x": [
          "islam"
         ],
         "xaxis": "x",
         "y": [
          9
         ],
         "yaxis": "y"
        },
        {
         "alignmentgroup": "True",
         "hoverlabel": {
          "namelength": 0
         },
         "hovertemplate": "<b>%{hovertext}</b><br><br>Disaster mentions=%{x}<br>Frequency of disaster mentions=%{y}",
         "hovertext": [
          "disaster"
         ],
         "legendgroup": "disaster",
         "marker": {
          "color": "#FF6692"
         },
         "name": "disaster",
         "offsetgroup": "disaster",
         "orientation": "v",
         "showlegend": true,
         "textposition": "auto",
         "type": "bar",
         "x": [
          "disaster"
         ],
         "xaxis": "x",
         "y": [
          8
         ],
         "yaxis": "y"
        },
        {
         "alignmentgroup": "True",
         "hoverlabel": {
          "namelength": 0
         },
         "hovertemplate": "<b>%{hovertext}</b><br><br>Disaster mentions=%{x}<br>Frequency of disaster mentions=%{y}",
         "hovertext": [
          "wildfire"
         ],
         "legendgroup": "wildfire",
         "marker": {
          "color": "#B6E880"
         },
         "name": "wildfire",
         "offsetgroup": "wildfire",
         "orientation": "v",
         "showlegend": true,
         "textposition": "auto",
         "type": "bar",
         "x": [
          "wildfire"
         ],
         "xaxis": "x",
         "y": [
          8
         ],
         "yaxis": "y"
        },
        {
         "alignmentgroup": "True",
         "hoverlabel": {
          "namelength": 0
         },
         "hovertemplate": "<b>%{hovertext}</b><br><br>Disaster mentions=%{x}<br>Frequency of disaster mentions=%{y}",
         "hovertext": [
          "terrorism"
         ],
         "legendgroup": "terrorism",
         "marker": {
          "color": "#FF97FF"
         },
         "name": "terrorism",
         "offsetgroup": "terrorism",
         "orientation": "v",
         "showlegend": true,
         "textposition": "auto",
         "type": "bar",
         "x": [
          "terrorism"
         ],
         "xaxis": "x",
         "y": [
          8
         ],
         "yaxis": "y"
        },
        {
         "alignmentgroup": "True",
         "hoverlabel": {
          "namelength": 0
         },
         "hovertemplate": "<b>%{hovertext}</b><br><br>Disaster mentions=%{x}<br>Frequency of disaster mentions=%{y}",
         "hovertext": [
          "fukushima"
         ],
         "legendgroup": "fukushima",
         "marker": {
          "color": "#FECB52"
         },
         "name": "fukushima",
         "offsetgroup": "fukushima",
         "orientation": "v",
         "showlegend": true,
         "textposition": "auto",
         "type": "bar",
         "x": [
          "fukushima"
         ],
         "xaxis": "x",
         "y": [
          8
         ],
         "yaxis": "y"
        }
       ],
       "layout": {
        "barmode": "relative",
        "legend": {
         "title": {
          "text": "Disaster mentions"
         },
         "tracegroupgap": 0
        },
        "margin": {
         "t": 60
        },
        "template": {
         "data": {
          "bar": [
           {
            "error_x": {
             "color": "#2a3f5f"
            },
            "error_y": {
             "color": "#2a3f5f"
            },
            "marker": {
             "line": {
              "color": "#E5ECF6",
              "width": 0.5
             }
            },
            "type": "bar"
           }
          ],
          "barpolar": [
           {
            "marker": {
             "line": {
              "color": "#E5ECF6",
              "width": 0.5
             }
            },
            "type": "barpolar"
           }
          ],
          "carpet": [
           {
            "aaxis": {
             "endlinecolor": "#2a3f5f",
             "gridcolor": "white",
             "linecolor": "white",
             "minorgridcolor": "white",
             "startlinecolor": "#2a3f5f"
            },
            "baxis": {
             "endlinecolor": "#2a3f5f",
             "gridcolor": "white",
             "linecolor": "white",
             "minorgridcolor": "white",
             "startlinecolor": "#2a3f5f"
            },
            "type": "carpet"
           }
          ],
          "choropleth": [
           {
            "colorbar": {
             "outlinewidth": 0,
             "ticks": ""
            },
            "type": "choropleth"
           }
          ],
          "contour": [
           {
            "colorbar": {
             "outlinewidth": 0,
             "ticks": ""
            },
            "colorscale": [
             [
              0,
              "#0d0887"
             ],
             [
              0.1111111111111111,
              "#46039f"
             ],
             [
              0.2222222222222222,
              "#7201a8"
             ],
             [
              0.3333333333333333,
              "#9c179e"
             ],
             [
              0.4444444444444444,
              "#bd3786"
             ],
             [
              0.5555555555555556,
              "#d8576b"
             ],
             [
              0.6666666666666666,
              "#ed7953"
             ],
             [
              0.7777777777777778,
              "#fb9f3a"
             ],
             [
              0.8888888888888888,
              "#fdca26"
             ],
             [
              1,
              "#f0f921"
             ]
            ],
            "type": "contour"
           }
          ],
          "contourcarpet": [
           {
            "colorbar": {
             "outlinewidth": 0,
             "ticks": ""
            },
            "type": "contourcarpet"
           }
          ],
          "heatmap": [
           {
            "colorbar": {
             "outlinewidth": 0,
             "ticks": ""
            },
            "colorscale": [
             [
              0,
              "#0d0887"
             ],
             [
              0.1111111111111111,
              "#46039f"
             ],
             [
              0.2222222222222222,
              "#7201a8"
             ],
             [
              0.3333333333333333,
              "#9c179e"
             ],
             [
              0.4444444444444444,
              "#bd3786"
             ],
             [
              0.5555555555555556,
              "#d8576b"
             ],
             [
              0.6666666666666666,
              "#ed7953"
             ],
             [
              0.7777777777777778,
              "#fb9f3a"
             ],
             [
              0.8888888888888888,
              "#fdca26"
             ],
             [
              1,
              "#f0f921"
             ]
            ],
            "type": "heatmap"
           }
          ],
          "heatmapgl": [
           {
            "colorbar": {
             "outlinewidth": 0,
             "ticks": ""
            },
            "colorscale": [
             [
              0,
              "#0d0887"
             ],
             [
              0.1111111111111111,
              "#46039f"
             ],
             [
              0.2222222222222222,
              "#7201a8"
             ],
             [
              0.3333333333333333,
              "#9c179e"
             ],
             [
              0.4444444444444444,
              "#bd3786"
             ],
             [
              0.5555555555555556,
              "#d8576b"
             ],
             [
              0.6666666666666666,
              "#ed7953"
             ],
             [
              0.7777777777777778,
              "#fb9f3a"
             ],
             [
              0.8888888888888888,
              "#fdca26"
             ],
             [
              1,
              "#f0f921"
             ]
            ],
            "type": "heatmapgl"
           }
          ],
          "histogram": [
           {
            "marker": {
             "colorbar": {
              "outlinewidth": 0,
              "ticks": ""
             }
            },
            "type": "histogram"
           }
          ],
          "histogram2d": [
           {
            "colorbar": {
             "outlinewidth": 0,
             "ticks": ""
            },
            "colorscale": [
             [
              0,
              "#0d0887"
             ],
             [
              0.1111111111111111,
              "#46039f"
             ],
             [
              0.2222222222222222,
              "#7201a8"
             ],
             [
              0.3333333333333333,
              "#9c179e"
             ],
             [
              0.4444444444444444,
              "#bd3786"
             ],
             [
              0.5555555555555556,
              "#d8576b"
             ],
             [
              0.6666666666666666,
              "#ed7953"
             ],
             [
              0.7777777777777778,
              "#fb9f3a"
             ],
             [
              0.8888888888888888,
              "#fdca26"
             ],
             [
              1,
              "#f0f921"
             ]
            ],
            "type": "histogram2d"
           }
          ],
          "histogram2dcontour": [
           {
            "colorbar": {
             "outlinewidth": 0,
             "ticks": ""
            },
            "colorscale": [
             [
              0,
              "#0d0887"
             ],
             [
              0.1111111111111111,
              "#46039f"
             ],
             [
              0.2222222222222222,
              "#7201a8"
             ],
             [
              0.3333333333333333,
              "#9c179e"
             ],
             [
              0.4444444444444444,
              "#bd3786"
             ],
             [
              0.5555555555555556,
              "#d8576b"
             ],
             [
              0.6666666666666666,
              "#ed7953"
             ],
             [
              0.7777777777777778,
              "#fb9f3a"
             ],
             [
              0.8888888888888888,
              "#fdca26"
             ],
             [
              1,
              "#f0f921"
             ]
            ],
            "type": "histogram2dcontour"
           }
          ],
          "mesh3d": [
           {
            "colorbar": {
             "outlinewidth": 0,
             "ticks": ""
            },
            "type": "mesh3d"
           }
          ],
          "parcoords": [
           {
            "line": {
             "colorbar": {
              "outlinewidth": 0,
              "ticks": ""
             }
            },
            "type": "parcoords"
           }
          ],
          "pie": [
           {
            "automargin": true,
            "type": "pie"
           }
          ],
          "scatter": [
           {
            "marker": {
             "colorbar": {
              "outlinewidth": 0,
              "ticks": ""
             }
            },
            "type": "scatter"
           }
          ],
          "scatter3d": [
           {
            "line": {
             "colorbar": {
              "outlinewidth": 0,
              "ticks": ""
             }
            },
            "marker": {
             "colorbar": {
              "outlinewidth": 0,
              "ticks": ""
             }
            },
            "type": "scatter3d"
           }
          ],
          "scattercarpet": [
           {
            "marker": {
             "colorbar": {
              "outlinewidth": 0,
              "ticks": ""
             }
            },
            "type": "scattercarpet"
           }
          ],
          "scattergeo": [
           {
            "marker": {
             "colorbar": {
              "outlinewidth": 0,
              "ticks": ""
             }
            },
            "type": "scattergeo"
           }
          ],
          "scattergl": [
           {
            "marker": {
             "colorbar": {
              "outlinewidth": 0,
              "ticks": ""
             }
            },
            "type": "scattergl"
           }
          ],
          "scattermapbox": [
           {
            "marker": {
             "colorbar": {
              "outlinewidth": 0,
              "ticks": ""
             }
            },
            "type": "scattermapbox"
           }
          ],
          "scatterpolar": [
           {
            "marker": {
             "colorbar": {
              "outlinewidth": 0,
              "ticks": ""
             }
            },
            "type": "scatterpolar"
           }
          ],
          "scatterpolargl": [
           {
            "marker": {
             "colorbar": {
              "outlinewidth": 0,
              "ticks": ""
             }
            },
            "type": "scatterpolargl"
           }
          ],
          "scatterternary": [
           {
            "marker": {
             "colorbar": {
              "outlinewidth": 0,
              "ticks": ""
             }
            },
            "type": "scatterternary"
           }
          ],
          "surface": [
           {
            "colorbar": {
             "outlinewidth": 0,
             "ticks": ""
            },
            "colorscale": [
             [
              0,
              "#0d0887"
             ],
             [
              0.1111111111111111,
              "#46039f"
             ],
             [
              0.2222222222222222,
              "#7201a8"
             ],
             [
              0.3333333333333333,
              "#9c179e"
             ],
             [
              0.4444444444444444,
              "#bd3786"
             ],
             [
              0.5555555555555556,
              "#d8576b"
             ],
             [
              0.6666666666666666,
              "#ed7953"
             ],
             [
              0.7777777777777778,
              "#fb9f3a"
             ],
             [
              0.8888888888888888,
              "#fdca26"
             ],
             [
              1,
              "#f0f921"
             ]
            ],
            "type": "surface"
           }
          ],
          "table": [
           {
            "cells": {
             "fill": {
              "color": "#EBF0F8"
             },
             "line": {
              "color": "white"
             }
            },
            "header": {
             "fill": {
              "color": "#C8D4E3"
             },
             "line": {
              "color": "white"
             }
            },
            "type": "table"
           }
          ]
         },
         "layout": {
          "annotationdefaults": {
           "arrowcolor": "#2a3f5f",
           "arrowhead": 0,
           "arrowwidth": 1
          },
          "coloraxis": {
           "colorbar": {
            "outlinewidth": 0,
            "ticks": ""
           }
          },
          "colorscale": {
           "diverging": [
            [
             0,
             "#8e0152"
            ],
            [
             0.1,
             "#c51b7d"
            ],
            [
             0.2,
             "#de77ae"
            ],
            [
             0.3,
             "#f1b6da"
            ],
            [
             0.4,
             "#fde0ef"
            ],
            [
             0.5,
             "#f7f7f7"
            ],
            [
             0.6,
             "#e6f5d0"
            ],
            [
             0.7,
             "#b8e186"
            ],
            [
             0.8,
             "#7fbc41"
            ],
            [
             0.9,
             "#4d9221"
            ],
            [
             1,
             "#276419"
            ]
           ],
           "sequential": [
            [
             0,
             "#0d0887"
            ],
            [
             0.1111111111111111,
             "#46039f"
            ],
            [
             0.2222222222222222,
             "#7201a8"
            ],
            [
             0.3333333333333333,
             "#9c179e"
            ],
            [
             0.4444444444444444,
             "#bd3786"
            ],
            [
             0.5555555555555556,
             "#d8576b"
            ],
            [
             0.6666666666666666,
             "#ed7953"
            ],
            [
             0.7777777777777778,
             "#fb9f3a"
            ],
            [
             0.8888888888888888,
             "#fdca26"
            ],
            [
             1,
             "#f0f921"
            ]
           ],
           "sequentialminus": [
            [
             0,
             "#0d0887"
            ],
            [
             0.1111111111111111,
             "#46039f"
            ],
            [
             0.2222222222222222,
             "#7201a8"
            ],
            [
             0.3333333333333333,
             "#9c179e"
            ],
            [
             0.4444444444444444,
             "#bd3786"
            ],
            [
             0.5555555555555556,
             "#d8576b"
            ],
            [
             0.6666666666666666,
             "#ed7953"
            ],
            [
             0.7777777777777778,
             "#fb9f3a"
            ],
            [
             0.8888888888888888,
             "#fdca26"
            ],
            [
             1,
             "#f0f921"
            ]
           ]
          },
          "colorway": [
           "#636efa",
           "#EF553B",
           "#00cc96",
           "#ab63fa",
           "#FFA15A",
           "#19d3f3",
           "#FF6692",
           "#B6E880",
           "#FF97FF",
           "#FECB52"
          ],
          "font": {
           "color": "#2a3f5f"
          },
          "geo": {
           "bgcolor": "white",
           "lakecolor": "white",
           "landcolor": "#E5ECF6",
           "showlakes": true,
           "showland": true,
           "subunitcolor": "white"
          },
          "hoverlabel": {
           "align": "left"
          },
          "hovermode": "closest",
          "mapbox": {
           "style": "light"
          },
          "paper_bgcolor": "white",
          "plot_bgcolor": "#E5ECF6",
          "polar": {
           "angularaxis": {
            "gridcolor": "white",
            "linecolor": "white",
            "ticks": ""
           },
           "bgcolor": "#E5ECF6",
           "radialaxis": {
            "gridcolor": "white",
            "linecolor": "white",
            "ticks": ""
           }
          },
          "scene": {
           "xaxis": {
            "backgroundcolor": "#E5ECF6",
            "gridcolor": "white",
            "gridwidth": 2,
            "linecolor": "white",
            "showbackground": true,
            "ticks": "",
            "zerolinecolor": "white"
           },
           "yaxis": {
            "backgroundcolor": "#E5ECF6",
            "gridcolor": "white",
            "gridwidth": 2,
            "linecolor": "white",
            "showbackground": true,
            "ticks": "",
            "zerolinecolor": "white"
           },
           "zaxis": {
            "backgroundcolor": "#E5ECF6",
            "gridcolor": "white",
            "gridwidth": 2,
            "linecolor": "white",
            "showbackground": true,
            "ticks": "",
            "zerolinecolor": "white"
           }
          },
          "shapedefaults": {
           "line": {
            "color": "#2a3f5f"
           }
          },
          "ternary": {
           "aaxis": {
            "gridcolor": "white",
            "linecolor": "white",
            "ticks": ""
           },
           "baxis": {
            "gridcolor": "white",
            "linecolor": "white",
            "ticks": ""
           },
           "bgcolor": "#E5ECF6",
           "caxis": {
            "gridcolor": "white",
            "linecolor": "white",
            "ticks": ""
           }
          },
          "title": {
           "x": 0.05
          },
          "xaxis": {
           "automargin": true,
           "gridcolor": "white",
           "linecolor": "white",
           "ticks": "",
           "title": {
            "standoff": 15
           },
           "zerolinecolor": "white",
           "zerolinewidth": 2
          },
          "yaxis": {
           "automargin": true,
           "gridcolor": "white",
           "linecolor": "white",
           "ticks": "",
           "title": {
            "standoff": 15
           },
           "zerolinecolor": "white",
           "zerolinewidth": 2
          }
         }
        },
        "title": {
         "text": "Top 20 mentions for disaster tweets",
         "x": 0.5
        },
        "xaxis": {
         "anchor": "y",
         "categoryarray": [
          "news",
          "hiroshima",
          "earthquake",
          "hot",
          "prebreak",
          "best",
          "japan",
          "india",
          "yyc",
          "breaking",
          "worldnews",
          "world",
          "isis",
          "sismo",
          "abstorm",
          "islam",
          "disaster",
          "wildfire",
          "terrorism",
          "fukushima"
         ],
         "categoryorder": "array",
         "domain": [
          0,
          1
         ],
         "title": {
          "text": "Disaster mentions"
         }
        },
        "yaxis": {
         "anchor": "x",
         "domain": [
          0,
          1
         ],
         "title": {
          "text": "Frequency of disaster mentions"
         }
        }
       }
      },
      "text/html": [
       "<div>\n",
       "        \n",
       "        \n",
       "            <div id=\"a051f07f-eb5f-4187-9a5f-6f7f6041f532\" class=\"plotly-graph-div\" style=\"height:525px; width:100%;\"></div>\n",
       "            <script type=\"text/javascript\">\n",
       "                require([\"plotly\"], function(Plotly) {\n",
       "                    window.PLOTLYENV=window.PLOTLYENV || {};\n",
       "                    \n",
       "                if (document.getElementById(\"a051f07f-eb5f-4187-9a5f-6f7f6041f532\")) {\n",
       "                    Plotly.newPlot(\n",
       "                        'a051f07f-eb5f-4187-9a5f-6f7f6041f532',\n",
       "                        [{\"alignmentgroup\": \"True\", \"hoverlabel\": {\"namelength\": 0}, \"hovertemplate\": \"<b>%{hovertext}</b><br><br>Disaster mentions=%{x}<br>Frequency of disaster mentions=%{y}\", \"hovertext\": [\"news\"], \"legendgroup\": \"news\", \"marker\": {\"color\": \"#636efa\"}, \"name\": \"news\", \"offsetgroup\": \"news\", \"orientation\": \"v\", \"showlegend\": true, \"textposition\": \"auto\", \"type\": \"bar\", \"x\": [\"news\"], \"xaxis\": \"x\", \"y\": [56], \"yaxis\": \"y\"}, {\"alignmentgroup\": \"True\", \"hoverlabel\": {\"namelength\": 0}, \"hovertemplate\": \"<b>%{hovertext}</b><br><br>Disaster mentions=%{x}<br>Frequency of disaster mentions=%{y}\", \"hovertext\": [\"hiroshima\"], \"legendgroup\": \"hiroshima\", \"marker\": {\"color\": \"#EF553B\"}, \"name\": \"hiroshima\", \"offsetgroup\": \"hiroshima\", \"orientation\": \"v\", \"showlegend\": true, \"textposition\": \"auto\", \"type\": \"bar\", \"x\": [\"hiroshima\"], \"xaxis\": \"x\", \"y\": [22], \"yaxis\": \"y\"}, {\"alignmentgroup\": \"True\", \"hoverlabel\": {\"namelength\": 0}, \"hovertemplate\": \"<b>%{hovertext}</b><br><br>Disaster mentions=%{x}<br>Frequency of disaster mentions=%{y}\", \"hovertext\": [\"earthquake\"], \"legendgroup\": \"earthquake\", \"marker\": {\"color\": \"#00cc96\"}, \"name\": \"earthquake\", \"offsetgroup\": \"earthquake\", \"orientation\": \"v\", \"showlegend\": true, \"textposition\": \"auto\", \"type\": \"bar\", \"x\": [\"earthquake\"], \"xaxis\": \"x\", \"y\": [19], \"yaxis\": \"y\"}, {\"alignmentgroup\": \"True\", \"hoverlabel\": {\"namelength\": 0}, \"hovertemplate\": \"<b>%{hovertext}</b><br><br>Disaster mentions=%{x}<br>Frequency of disaster mentions=%{y}\", \"hovertext\": [\"hot\"], \"legendgroup\": \"hot\", \"marker\": {\"color\": \"#ab63fa\"}, \"name\": \"hot\", \"offsetgroup\": \"hot\", \"orientation\": \"v\", \"showlegend\": true, \"textposition\": \"auto\", \"type\": \"bar\", \"x\": [\"hot\"], \"xaxis\": \"x\", \"y\": [13], \"yaxis\": \"y\"}, {\"alignmentgroup\": \"True\", \"hoverlabel\": {\"namelength\": 0}, \"hovertemplate\": \"<b>%{hovertext}</b><br><br>Disaster mentions=%{x}<br>Frequency of disaster mentions=%{y}\", \"hovertext\": [\"prebreak\"], \"legendgroup\": \"prebreak\", \"marker\": {\"color\": \"#FFA15A\"}, \"name\": \"prebreak\", \"offsetgroup\": \"prebreak\", \"orientation\": \"v\", \"showlegend\": true, \"textposition\": \"auto\", \"type\": \"bar\", \"x\": [\"prebreak\"], \"xaxis\": \"x\", \"y\": [13], \"yaxis\": \"y\"}, {\"alignmentgroup\": \"True\", \"hoverlabel\": {\"namelength\": 0}, \"hovertemplate\": \"<b>%{hovertext}</b><br><br>Disaster mentions=%{x}<br>Frequency of disaster mentions=%{y}\", \"hovertext\": [\"best\"], \"legendgroup\": \"best\", \"marker\": {\"color\": \"#19d3f3\"}, \"name\": \"best\", \"offsetgroup\": \"best\", \"orientation\": \"v\", \"showlegend\": true, \"textposition\": \"auto\", \"type\": \"bar\", \"x\": [\"best\"], \"xaxis\": \"x\", \"y\": [13], \"yaxis\": \"y\"}, {\"alignmentgroup\": \"True\", \"hoverlabel\": {\"namelength\": 0}, \"hovertemplate\": \"<b>%{hovertext}</b><br><br>Disaster mentions=%{x}<br>Frequency of disaster mentions=%{y}\", \"hovertext\": [\"japan\"], \"legendgroup\": \"japan\", \"marker\": {\"color\": \"#FF6692\"}, \"name\": \"japan\", \"offsetgroup\": \"japan\", \"orientation\": \"v\", \"showlegend\": true, \"textposition\": \"auto\", \"type\": \"bar\", \"x\": [\"japan\"], \"xaxis\": \"x\", \"y\": [11], \"yaxis\": \"y\"}, {\"alignmentgroup\": \"True\", \"hoverlabel\": {\"namelength\": 0}, \"hovertemplate\": \"<b>%{hovertext}</b><br><br>Disaster mentions=%{x}<br>Frequency of disaster mentions=%{y}\", \"hovertext\": [\"india\"], \"legendgroup\": \"india\", \"marker\": {\"color\": \"#B6E880\"}, \"name\": \"india\", \"offsetgroup\": \"india\", \"orientation\": \"v\", \"showlegend\": true, \"textposition\": \"auto\", \"type\": \"bar\", \"x\": [\"india\"], \"xaxis\": \"x\", \"y\": [10], \"yaxis\": \"y\"}, {\"alignmentgroup\": \"True\", \"hoverlabel\": {\"namelength\": 0}, \"hovertemplate\": \"<b>%{hovertext}</b><br><br>Disaster mentions=%{x}<br>Frequency of disaster mentions=%{y}\", \"hovertext\": [\"yyc\"], \"legendgroup\": \"yyc\", \"marker\": {\"color\": \"#FF97FF\"}, \"name\": \"yyc\", \"offsetgroup\": \"yyc\", \"orientation\": \"v\", \"showlegend\": true, \"textposition\": \"auto\", \"type\": \"bar\", \"x\": [\"yyc\"], \"xaxis\": \"x\", \"y\": [10], \"yaxis\": \"y\"}, {\"alignmentgroup\": \"True\", \"hoverlabel\": {\"namelength\": 0}, \"hovertemplate\": \"<b>%{hovertext}</b><br><br>Disaster mentions=%{x}<br>Frequency of disaster mentions=%{y}\", \"hovertext\": [\"breaking\"], \"legendgroup\": \"breaking\", \"marker\": {\"color\": \"#FECB52\"}, \"name\": \"breaking\", \"offsetgroup\": \"breaking\", \"orientation\": \"v\", \"showlegend\": true, \"textposition\": \"auto\", \"type\": \"bar\", \"x\": [\"breaking\"], \"xaxis\": \"x\", \"y\": [9], \"yaxis\": \"y\"}, {\"alignmentgroup\": \"True\", \"hoverlabel\": {\"namelength\": 0}, \"hovertemplate\": \"<b>%{hovertext}</b><br><br>Disaster mentions=%{x}<br>Frequency of disaster mentions=%{y}\", \"hovertext\": [\"worldnews\"], \"legendgroup\": \"worldnews\", \"marker\": {\"color\": \"#636efa\"}, \"name\": \"worldnews\", \"offsetgroup\": \"worldnews\", \"orientation\": \"v\", \"showlegend\": true, \"textposition\": \"auto\", \"type\": \"bar\", \"x\": [\"worldnews\"], \"xaxis\": \"x\", \"y\": [9], \"yaxis\": \"y\"}, {\"alignmentgroup\": \"True\", \"hoverlabel\": {\"namelength\": 0}, \"hovertemplate\": \"<b>%{hovertext}</b><br><br>Disaster mentions=%{x}<br>Frequency of disaster mentions=%{y}\", \"hovertext\": [\"world\"], \"legendgroup\": \"world\", \"marker\": {\"color\": \"#EF553B\"}, \"name\": \"world\", \"offsetgroup\": \"world\", \"orientation\": \"v\", \"showlegend\": true, \"textposition\": \"auto\", \"type\": \"bar\", \"x\": [\"world\"], \"xaxis\": \"x\", \"y\": [9], \"yaxis\": \"y\"}, {\"alignmentgroup\": \"True\", \"hoverlabel\": {\"namelength\": 0}, \"hovertemplate\": \"<b>%{hovertext}</b><br><br>Disaster mentions=%{x}<br>Frequency of disaster mentions=%{y}\", \"hovertext\": [\"isis\"], \"legendgroup\": \"isis\", \"marker\": {\"color\": \"#00cc96\"}, \"name\": \"isis\", \"offsetgroup\": \"isis\", \"orientation\": \"v\", \"showlegend\": true, \"textposition\": \"auto\", \"type\": \"bar\", \"x\": [\"isis\"], \"xaxis\": \"x\", \"y\": [9], \"yaxis\": \"y\"}, {\"alignmentgroup\": \"True\", \"hoverlabel\": {\"namelength\": 0}, \"hovertemplate\": \"<b>%{hovertext}</b><br><br>Disaster mentions=%{x}<br>Frequency of disaster mentions=%{y}\", \"hovertext\": [\"sismo\"], \"legendgroup\": \"sismo\", \"marker\": {\"color\": \"#ab63fa\"}, \"name\": \"sismo\", \"offsetgroup\": \"sismo\", \"orientation\": \"v\", \"showlegend\": true, \"textposition\": \"auto\", \"type\": \"bar\", \"x\": [\"sismo\"], \"xaxis\": \"x\", \"y\": [9], \"yaxis\": \"y\"}, {\"alignmentgroup\": \"True\", \"hoverlabel\": {\"namelength\": 0}, \"hovertemplate\": \"<b>%{hovertext}</b><br><br>Disaster mentions=%{x}<br>Frequency of disaster mentions=%{y}\", \"hovertext\": [\"abstorm\"], \"legendgroup\": \"abstorm\", \"marker\": {\"color\": \"#FFA15A\"}, \"name\": \"abstorm\", \"offsetgroup\": \"abstorm\", \"orientation\": \"v\", \"showlegend\": true, \"textposition\": \"auto\", \"type\": \"bar\", \"x\": [\"abstorm\"], \"xaxis\": \"x\", \"y\": [9], \"yaxis\": \"y\"}, {\"alignmentgroup\": \"True\", \"hoverlabel\": {\"namelength\": 0}, \"hovertemplate\": \"<b>%{hovertext}</b><br><br>Disaster mentions=%{x}<br>Frequency of disaster mentions=%{y}\", \"hovertext\": [\"islam\"], \"legendgroup\": \"islam\", \"marker\": {\"color\": \"#19d3f3\"}, \"name\": \"islam\", \"offsetgroup\": \"islam\", \"orientation\": \"v\", \"showlegend\": true, \"textposition\": \"auto\", \"type\": \"bar\", \"x\": [\"islam\"], \"xaxis\": \"x\", \"y\": [9], \"yaxis\": \"y\"}, {\"alignmentgroup\": \"True\", \"hoverlabel\": {\"namelength\": 0}, \"hovertemplate\": \"<b>%{hovertext}</b><br><br>Disaster mentions=%{x}<br>Frequency of disaster mentions=%{y}\", \"hovertext\": [\"disaster\"], \"legendgroup\": \"disaster\", \"marker\": {\"color\": \"#FF6692\"}, \"name\": \"disaster\", \"offsetgroup\": \"disaster\", \"orientation\": \"v\", \"showlegend\": true, \"textposition\": \"auto\", \"type\": \"bar\", \"x\": [\"disaster\"], \"xaxis\": \"x\", \"y\": [8], \"yaxis\": \"y\"}, {\"alignmentgroup\": \"True\", \"hoverlabel\": {\"namelength\": 0}, \"hovertemplate\": \"<b>%{hovertext}</b><br><br>Disaster mentions=%{x}<br>Frequency of disaster mentions=%{y}\", \"hovertext\": [\"wildfire\"], \"legendgroup\": \"wildfire\", \"marker\": {\"color\": \"#B6E880\"}, \"name\": \"wildfire\", \"offsetgroup\": \"wildfire\", \"orientation\": \"v\", \"showlegend\": true, \"textposition\": \"auto\", \"type\": \"bar\", \"x\": [\"wildfire\"], \"xaxis\": \"x\", \"y\": [8], \"yaxis\": \"y\"}, {\"alignmentgroup\": \"True\", \"hoverlabel\": {\"namelength\": 0}, \"hovertemplate\": \"<b>%{hovertext}</b><br><br>Disaster mentions=%{x}<br>Frequency of disaster mentions=%{y}\", \"hovertext\": [\"terrorism\"], \"legendgroup\": \"terrorism\", \"marker\": {\"color\": \"#FF97FF\"}, \"name\": \"terrorism\", \"offsetgroup\": \"terrorism\", \"orientation\": \"v\", \"showlegend\": true, \"textposition\": \"auto\", \"type\": \"bar\", \"x\": [\"terrorism\"], \"xaxis\": \"x\", \"y\": [8], \"yaxis\": \"y\"}, {\"alignmentgroup\": \"True\", \"hoverlabel\": {\"namelength\": 0}, \"hovertemplate\": \"<b>%{hovertext}</b><br><br>Disaster mentions=%{x}<br>Frequency of disaster mentions=%{y}\", \"hovertext\": [\"fukushima\"], \"legendgroup\": \"fukushima\", \"marker\": {\"color\": \"#FECB52\"}, \"name\": \"fukushima\", \"offsetgroup\": \"fukushima\", \"orientation\": \"v\", \"showlegend\": true, \"textposition\": \"auto\", \"type\": \"bar\", \"x\": [\"fukushima\"], \"xaxis\": \"x\", \"y\": [8], \"yaxis\": \"y\"}],\n",
       "                        {\"barmode\": \"relative\", \"legend\": {\"title\": {\"text\": \"Disaster mentions\"}, \"tracegroupgap\": 0}, \"margin\": {\"t\": 60}, \"template\": {\"data\": {\"bar\": [{\"error_x\": {\"color\": \"#2a3f5f\"}, \"error_y\": {\"color\": \"#2a3f5f\"}, \"marker\": {\"line\": {\"color\": \"#E5ECF6\", \"width\": 0.5}}, \"type\": \"bar\"}], \"barpolar\": [{\"marker\": {\"line\": {\"color\": \"#E5ECF6\", \"width\": 0.5}}, \"type\": \"barpolar\"}], \"carpet\": [{\"aaxis\": {\"endlinecolor\": \"#2a3f5f\", \"gridcolor\": \"white\", \"linecolor\": \"white\", \"minorgridcolor\": \"white\", \"startlinecolor\": \"#2a3f5f\"}, \"baxis\": {\"endlinecolor\": \"#2a3f5f\", \"gridcolor\": \"white\", \"linecolor\": \"white\", \"minorgridcolor\": \"white\", \"startlinecolor\": \"#2a3f5f\"}, \"type\": \"carpet\"}], \"choropleth\": [{\"colorbar\": {\"outlinewidth\": 0, \"ticks\": \"\"}, \"type\": \"choropleth\"}], \"contour\": [{\"colorbar\": {\"outlinewidth\": 0, \"ticks\": \"\"}, \"colorscale\": [[0.0, \"#0d0887\"], [0.1111111111111111, \"#46039f\"], [0.2222222222222222, \"#7201a8\"], [0.3333333333333333, \"#9c179e\"], [0.4444444444444444, \"#bd3786\"], [0.5555555555555556, \"#d8576b\"], [0.6666666666666666, \"#ed7953\"], [0.7777777777777778, \"#fb9f3a\"], [0.8888888888888888, \"#fdca26\"], [1.0, \"#f0f921\"]], \"type\": \"contour\"}], \"contourcarpet\": [{\"colorbar\": {\"outlinewidth\": 0, \"ticks\": \"\"}, \"type\": \"contourcarpet\"}], \"heatmap\": [{\"colorbar\": {\"outlinewidth\": 0, \"ticks\": \"\"}, \"colorscale\": [[0.0, \"#0d0887\"], [0.1111111111111111, \"#46039f\"], [0.2222222222222222, \"#7201a8\"], [0.3333333333333333, \"#9c179e\"], [0.4444444444444444, \"#bd3786\"], [0.5555555555555556, \"#d8576b\"], [0.6666666666666666, \"#ed7953\"], [0.7777777777777778, \"#fb9f3a\"], [0.8888888888888888, \"#fdca26\"], [1.0, \"#f0f921\"]], \"type\": \"heatmap\"}], \"heatmapgl\": [{\"colorbar\": {\"outlinewidth\": 0, \"ticks\": \"\"}, \"colorscale\": [[0.0, \"#0d0887\"], [0.1111111111111111, \"#46039f\"], [0.2222222222222222, \"#7201a8\"], [0.3333333333333333, \"#9c179e\"], [0.4444444444444444, \"#bd3786\"], [0.5555555555555556, \"#d8576b\"], [0.6666666666666666, \"#ed7953\"], [0.7777777777777778, \"#fb9f3a\"], [0.8888888888888888, \"#fdca26\"], [1.0, \"#f0f921\"]], \"type\": \"heatmapgl\"}], \"histogram\": [{\"marker\": {\"colorbar\": {\"outlinewidth\": 0, \"ticks\": \"\"}}, \"type\": \"histogram\"}], \"histogram2d\": [{\"colorbar\": {\"outlinewidth\": 0, \"ticks\": \"\"}, \"colorscale\": [[0.0, \"#0d0887\"], [0.1111111111111111, \"#46039f\"], [0.2222222222222222, \"#7201a8\"], [0.3333333333333333, \"#9c179e\"], [0.4444444444444444, \"#bd3786\"], [0.5555555555555556, \"#d8576b\"], [0.6666666666666666, \"#ed7953\"], [0.7777777777777778, \"#fb9f3a\"], [0.8888888888888888, \"#fdca26\"], [1.0, \"#f0f921\"]], \"type\": \"histogram2d\"}], \"histogram2dcontour\": [{\"colorbar\": {\"outlinewidth\": 0, \"ticks\": \"\"}, \"colorscale\": [[0.0, \"#0d0887\"], [0.1111111111111111, \"#46039f\"], [0.2222222222222222, \"#7201a8\"], [0.3333333333333333, \"#9c179e\"], [0.4444444444444444, \"#bd3786\"], [0.5555555555555556, \"#d8576b\"], [0.6666666666666666, \"#ed7953\"], [0.7777777777777778, \"#fb9f3a\"], [0.8888888888888888, \"#fdca26\"], [1.0, \"#f0f921\"]], \"type\": \"histogram2dcontour\"}], \"mesh3d\": [{\"colorbar\": {\"outlinewidth\": 0, \"ticks\": \"\"}, \"type\": \"mesh3d\"}], \"parcoords\": [{\"line\": {\"colorbar\": {\"outlinewidth\": 0, \"ticks\": \"\"}}, \"type\": \"parcoords\"}], \"pie\": [{\"automargin\": true, \"type\": \"pie\"}], \"scatter\": [{\"marker\": {\"colorbar\": {\"outlinewidth\": 0, \"ticks\": \"\"}}, \"type\": \"scatter\"}], \"scatter3d\": [{\"line\": {\"colorbar\": {\"outlinewidth\": 0, \"ticks\": \"\"}}, \"marker\": {\"colorbar\": {\"outlinewidth\": 0, \"ticks\": \"\"}}, \"type\": \"scatter3d\"}], \"scattercarpet\": [{\"marker\": {\"colorbar\": {\"outlinewidth\": 0, \"ticks\": \"\"}}, \"type\": \"scattercarpet\"}], \"scattergeo\": [{\"marker\": {\"colorbar\": {\"outlinewidth\": 0, \"ticks\": \"\"}}, \"type\": \"scattergeo\"}], \"scattergl\": [{\"marker\": {\"colorbar\": {\"outlinewidth\": 0, \"ticks\": \"\"}}, \"type\": \"scattergl\"}], \"scattermapbox\": [{\"marker\": {\"colorbar\": {\"outlinewidth\": 0, \"ticks\": \"\"}}, \"type\": \"scattermapbox\"}], \"scatterpolar\": [{\"marker\": {\"colorbar\": {\"outlinewidth\": 0, \"ticks\": \"\"}}, \"type\": \"scatterpolar\"}], \"scatterpolargl\": [{\"marker\": {\"colorbar\": {\"outlinewidth\": 0, \"ticks\": \"\"}}, \"type\": \"scatterpolargl\"}], \"scatterternary\": [{\"marker\": {\"colorbar\": {\"outlinewidth\": 0, \"ticks\": \"\"}}, \"type\": \"scatterternary\"}], \"surface\": [{\"colorbar\": {\"outlinewidth\": 0, \"ticks\": \"\"}, \"colorscale\": [[0.0, \"#0d0887\"], [0.1111111111111111, \"#46039f\"], [0.2222222222222222, \"#7201a8\"], [0.3333333333333333, \"#9c179e\"], [0.4444444444444444, \"#bd3786\"], [0.5555555555555556, \"#d8576b\"], [0.6666666666666666, \"#ed7953\"], [0.7777777777777778, \"#fb9f3a\"], [0.8888888888888888, \"#fdca26\"], [1.0, \"#f0f921\"]], \"type\": \"surface\"}], \"table\": [{\"cells\": {\"fill\": {\"color\": \"#EBF0F8\"}, \"line\": {\"color\": \"white\"}}, \"header\": {\"fill\": {\"color\": \"#C8D4E3\"}, \"line\": {\"color\": \"white\"}}, \"type\": \"table\"}]}, \"layout\": {\"annotationdefaults\": {\"arrowcolor\": \"#2a3f5f\", \"arrowhead\": 0, \"arrowwidth\": 1}, \"coloraxis\": {\"colorbar\": {\"outlinewidth\": 0, \"ticks\": \"\"}}, \"colorscale\": {\"diverging\": [[0, \"#8e0152\"], [0.1, \"#c51b7d\"], [0.2, \"#de77ae\"], [0.3, \"#f1b6da\"], [0.4, \"#fde0ef\"], [0.5, \"#f7f7f7\"], [0.6, \"#e6f5d0\"], [0.7, \"#b8e186\"], [0.8, \"#7fbc41\"], [0.9, \"#4d9221\"], [1, \"#276419\"]], \"sequential\": [[0.0, \"#0d0887\"], [0.1111111111111111, \"#46039f\"], [0.2222222222222222, \"#7201a8\"], [0.3333333333333333, \"#9c179e\"], [0.4444444444444444, \"#bd3786\"], [0.5555555555555556, \"#d8576b\"], [0.6666666666666666, \"#ed7953\"], [0.7777777777777778, \"#fb9f3a\"], [0.8888888888888888, \"#fdca26\"], [1.0, \"#f0f921\"]], \"sequentialminus\": [[0.0, \"#0d0887\"], [0.1111111111111111, \"#46039f\"], [0.2222222222222222, \"#7201a8\"], [0.3333333333333333, \"#9c179e\"], [0.4444444444444444, \"#bd3786\"], [0.5555555555555556, \"#d8576b\"], [0.6666666666666666, \"#ed7953\"], [0.7777777777777778, \"#fb9f3a\"], [0.8888888888888888, \"#fdca26\"], [1.0, \"#f0f921\"]]}, \"colorway\": [\"#636efa\", \"#EF553B\", \"#00cc96\", \"#ab63fa\", \"#FFA15A\", \"#19d3f3\", \"#FF6692\", \"#B6E880\", \"#FF97FF\", \"#FECB52\"], \"font\": {\"color\": \"#2a3f5f\"}, \"geo\": {\"bgcolor\": \"white\", \"lakecolor\": \"white\", \"landcolor\": \"#E5ECF6\", \"showlakes\": true, \"showland\": true, \"subunitcolor\": \"white\"}, \"hoverlabel\": {\"align\": \"left\"}, \"hovermode\": \"closest\", \"mapbox\": {\"style\": \"light\"}, \"paper_bgcolor\": \"white\", \"plot_bgcolor\": \"#E5ECF6\", \"polar\": {\"angularaxis\": {\"gridcolor\": \"white\", \"linecolor\": \"white\", \"ticks\": \"\"}, \"bgcolor\": \"#E5ECF6\", \"radialaxis\": {\"gridcolor\": \"white\", \"linecolor\": \"white\", \"ticks\": \"\"}}, \"scene\": {\"xaxis\": {\"backgroundcolor\": \"#E5ECF6\", \"gridcolor\": \"white\", \"gridwidth\": 2, \"linecolor\": \"white\", \"showbackground\": true, \"ticks\": \"\", \"zerolinecolor\": \"white\"}, \"yaxis\": {\"backgroundcolor\": \"#E5ECF6\", \"gridcolor\": \"white\", \"gridwidth\": 2, \"linecolor\": \"white\", \"showbackground\": true, \"ticks\": \"\", \"zerolinecolor\": \"white\"}, \"zaxis\": {\"backgroundcolor\": \"#E5ECF6\", \"gridcolor\": \"white\", \"gridwidth\": 2, \"linecolor\": \"white\", \"showbackground\": true, \"ticks\": \"\", \"zerolinecolor\": \"white\"}}, \"shapedefaults\": {\"line\": {\"color\": \"#2a3f5f\"}}, \"ternary\": {\"aaxis\": {\"gridcolor\": \"white\", \"linecolor\": \"white\", \"ticks\": \"\"}, \"baxis\": {\"gridcolor\": \"white\", \"linecolor\": \"white\", \"ticks\": \"\"}, \"bgcolor\": \"#E5ECF6\", \"caxis\": {\"gridcolor\": \"white\", \"linecolor\": \"white\", \"ticks\": \"\"}}, \"title\": {\"x\": 0.05}, \"xaxis\": {\"automargin\": true, \"gridcolor\": \"white\", \"linecolor\": \"white\", \"ticks\": \"\", \"title\": {\"standoff\": 15}, \"zerolinecolor\": \"white\", \"zerolinewidth\": 2}, \"yaxis\": {\"automargin\": true, \"gridcolor\": \"white\", \"linecolor\": \"white\", \"ticks\": \"\", \"title\": {\"standoff\": 15}, \"zerolinecolor\": \"white\", \"zerolinewidth\": 2}}}, \"title\": {\"text\": \"Top 20 mentions for disaster tweets\", \"x\": 0.5}, \"xaxis\": {\"anchor\": \"y\", \"categoryarray\": [\"news\", \"hiroshima\", \"earthquake\", \"hot\", \"prebreak\", \"best\", \"japan\", \"india\", \"yyc\", \"breaking\", \"worldnews\", \"world\", \"isis\", \"sismo\", \"abstorm\", \"islam\", \"disaster\", \"wildfire\", \"terrorism\", \"fukushima\"], \"categoryorder\": \"array\", \"domain\": [0.0, 1.0], \"title\": {\"text\": \"Disaster mentions\"}}, \"yaxis\": {\"anchor\": \"x\", \"domain\": [0.0, 1.0], \"title\": {\"text\": \"Frequency of disaster mentions\"}}},\n",
       "                        {\"responsive\": true}\n",
       "                    ).then(function(){\n",
       "                            \n",
       "var gd = document.getElementById('a051f07f-eb5f-4187-9a5f-6f7f6041f532');\n",
       "var x = new MutationObserver(function (mutations, observer) {{\n",
       "        var display = window.getComputedStyle(gd).display;\n",
       "        if (!display || display === 'none') {{\n",
       "            console.log([gd, 'removed!']);\n",
       "            Plotly.purge(gd);\n",
       "            observer.disconnect();\n",
       "        }}\n",
       "}});\n",
       "\n",
       "// Listen for the removal of the full notebook cells\n",
       "var notebookContainer = gd.closest('#notebook-container');\n",
       "if (notebookContainer) {{\n",
       "    x.observe(notebookContainer, {childList: true});\n",
       "}}\n",
       "\n",
       "// Listen for the clearing of the current output cell\n",
       "var outputEl = gd.closest('.output');\n",
       "if (outputEl) {{\n",
       "    x.observe(outputEl, {childList: true});\n",
       "}}\n",
       "\n",
       "                        })\n",
       "                };\n",
       "                });\n",
       "            </script>\n",
       "        </div>"
      ]
     },
     "metadata": {},
     "output_type": "display_data"
    }
   ],
   "source": [
    "#Normal histogram of Disaster # words\n",
    "fig = px.bar(t, x=\"Disaster mentions\", y=\"Frequency of disaster mentions\",\n",
    "            hover_name=\"Disaster mentions\",color = 'Disaster mentions')\n",
    "fig.update_layout(title='Top 20 mentions for disaster tweets', title_x=0.5)\n",
    "fig.show()"
   ]
  },
  {
   "cell_type": "code",
   "execution_count": null,
   "metadata": {},
   "outputs": [],
   "source": [
    "#Normal histogram of Disaster # words\n",
    "fig = px.bar(t, x=\"Disaster mentions\", y=\"Frequency of disaster mentions\",\n",
    "            hover_name=\"Disaster mentions\",color = 'Disaster mentions')\n",
    "fig.update_layout(title='Top 20 mentions for disaster tweets', title_x=0.5)\n",
    "fig.show()"
   ]
  },
  {
   "cell_type": "code",
   "execution_count": 148,
   "metadata": {},
   "outputs": [
    {
     "data": {
      "text/html": [
       "<div>\n",
       "<style scoped>\n",
       "    .dataframe tbody tr th:only-of-type {\n",
       "        vertical-align: middle;\n",
       "    }\n",
       "\n",
       "    .dataframe tbody tr th {\n",
       "        vertical-align: top;\n",
       "    }\n",
       "\n",
       "    .dataframe thead th {\n",
       "        text-align: right;\n",
       "    }\n",
       "</style>\n",
       "<table border=\"1\" class=\"dataframe\">\n",
       "  <thead>\n",
       "    <tr style=\"text-align: right;\">\n",
       "      <th></th>\n",
       "      <th>id</th>\n",
       "      <th>keyword</th>\n",
       "      <th>location</th>\n",
       "      <th>text</th>\n",
       "      <th>target</th>\n",
       "      <th>length</th>\n",
       "      <th>char_count</th>\n",
       "      <th>unique</th>\n",
       "      <th>mention</th>\n",
       "      <th>#</th>\n",
       "    </tr>\n",
       "  </thead>\n",
       "  <tbody>\n",
       "    <tr>\n",
       "      <td>15</td>\n",
       "      <td>23</td>\n",
       "      <td>Unknown</td>\n",
       "      <td>Other_location</td>\n",
       "      <td>What's up man?</td>\n",
       "      <td>0</td>\n",
       "      <td>14</td>\n",
       "      <td>3</td>\n",
       "      <td>3</td>\n",
       "      <td>0</td>\n",
       "      <td></td>\n",
       "    </tr>\n",
       "    <tr>\n",
       "      <td>16</td>\n",
       "      <td>24</td>\n",
       "      <td>Unknown</td>\n",
       "      <td>Other_location</td>\n",
       "      <td>I love fruits</td>\n",
       "      <td>0</td>\n",
       "      <td>13</td>\n",
       "      <td>3</td>\n",
       "      <td>3</td>\n",
       "      <td>0</td>\n",
       "      <td></td>\n",
       "    </tr>\n",
       "    <tr>\n",
       "      <td>17</td>\n",
       "      <td>25</td>\n",
       "      <td>Unknown</td>\n",
       "      <td>Other_location</td>\n",
       "      <td>Summer is lovely</td>\n",
       "      <td>0</td>\n",
       "      <td>16</td>\n",
       "      <td>3</td>\n",
       "      <td>3</td>\n",
       "      <td>0</td>\n",
       "      <td></td>\n",
       "    </tr>\n",
       "    <tr>\n",
       "      <td>18</td>\n",
       "      <td>26</td>\n",
       "      <td>Unknown</td>\n",
       "      <td>Other_location</td>\n",
       "      <td>My car is so fast</td>\n",
       "      <td>0</td>\n",
       "      <td>17</td>\n",
       "      <td>5</td>\n",
       "      <td>5</td>\n",
       "      <td>0</td>\n",
       "      <td></td>\n",
       "    </tr>\n",
       "    <tr>\n",
       "      <td>19</td>\n",
       "      <td>28</td>\n",
       "      <td>Unknown</td>\n",
       "      <td>Other_location</td>\n",
       "      <td>What a goooooooaaaaaal!!!!!!</td>\n",
       "      <td>0</td>\n",
       "      <td>28</td>\n",
       "      <td>3</td>\n",
       "      <td>3</td>\n",
       "      <td>0</td>\n",
       "      <td></td>\n",
       "    </tr>\n",
       "  </tbody>\n",
       "</table>\n",
       "</div>"
      ],
      "text/plain": [
       "    id  keyword        location                          text  target  length  \\\n",
       "15  23  Unknown  Other_location                What's up man?       0      14   \n",
       "16  24  Unknown  Other_location                 I love fruits       0      13   \n",
       "17  25  Unknown  Other_location              Summer is lovely       0      16   \n",
       "18  26  Unknown  Other_location             My car is so fast       0      17   \n",
       "19  28  Unknown  Other_location  What a goooooooaaaaaal!!!!!!       0      28   \n",
       "\n",
       "    char_count  unique  mention #  \n",
       "15           3       3        0    \n",
       "16           3       3        0    \n",
       "17           3       3        0    \n",
       "18           5       5        0    \n",
       "19           3       3        0    "
      ]
     },
     "execution_count": 148,
     "metadata": {},
     "output_type": "execute_result"
    }
   ],
   "source": [
    "df_0.head()"
   ]
  },
  {
   "cell_type": "code",
   "execution_count": 149,
   "metadata": {},
   "outputs": [
    {
     "name": "stdout",
     "output_type": "stream",
     "text": [
      "Collecting TextBlob\n",
      "  Using cached https://files.pythonhosted.org/packages/60/f0/1d9bfcc8ee6b83472ec571406bd0dd51c0e6330ff1a51b2d29861d389e85/textblob-0.15.3-py2.py3-none-any.whl\n",
      "Requirement already satisfied: nltk>=3.1 in ./opt/anaconda3/lib/python3.7/site-packages (from TextBlob) (3.4.5)\n",
      "Requirement already satisfied: six in ./opt/anaconda3/lib/python3.7/site-packages (from nltk>=3.1->TextBlob) (1.12.0)\n",
      "Installing collected packages: TextBlob\n",
      "Successfully installed TextBlob-0.15.3\n",
      "Note: you may need to restart the kernel to use updated packages.\n"
     ]
    }
   ],
   "source": [
    "pip install TextBlob"
   ]
  },
  {
   "cell_type": "code",
   "execution_count": 153,
   "metadata": {},
   "outputs": [
    {
     "name": "stderr",
     "output_type": "stream",
     "text": [
      "/Users/adwait/opt/anaconda3/lib/python3.7/site-packages/ipykernel_launcher.py:2: SettingWithCopyWarning:\n",
      "\n",
      "\n",
      "A value is trying to be set on a copy of a slice from a DataFrame.\n",
      "Try using .loc[row_indexer,col_indexer] = value instead\n",
      "\n",
      "See the caveats in the documentation: http://pandas.pydata.org/pandas-docs/stable/user_guide/indexing.html#returning-a-view-versus-a-copy\n",
      "\n",
      "/Users/adwait/opt/anaconda3/lib/python3.7/site-packages/ipykernel_launcher.py:3: SettingWithCopyWarning:\n",
      "\n",
      "\n",
      "A value is trying to be set on a copy of a slice from a DataFrame.\n",
      "Try using .loc[row_indexer,col_indexer] = value instead\n",
      "\n",
      "See the caveats in the documentation: http://pandas.pydata.org/pandas-docs/stable/user_guide/indexing.html#returning-a-view-versus-a-copy\n",
      "\n"
     ]
    }
   ],
   "source": [
    "from textblob import TextBlob\n",
    "df_0['polarity'] = df_0['text'].apply(lambda x: TextBlob(x).sentiment.polarity)\n",
    "df_1['polarity'] = df_1['text'].apply(lambda x: TextBlob(x).sentiment.polarity)"
   ]
  },
  {
   "cell_type": "code",
   "execution_count": 155,
   "metadata": {},
   "outputs": [],
   "source": [
    "#Writing file for tableau visualisations\n",
    "df_0.to_excel('df_0pol.xlsx')\n",
    "df_1.to_excel('df_1pol.xlsx')"
   ]
  },
  {
   "cell_type": "code",
   "execution_count": 157,
   "metadata": {},
   "outputs": [],
   "source": [
    "def sentiment(x):\n",
    "    if x<0:\n",
    "        return 'Negative'\n",
    "    elif x==0:\n",
    "        return 'Neutral'\n",
    "    else:\n",
    "        return 'Positive'"
   ]
  },
  {
   "cell_type": "code",
   "execution_count": 162,
   "metadata": {},
   "outputs": [
    {
     "name": "stderr",
     "output_type": "stream",
     "text": [
      "/Users/adwait/opt/anaconda3/lib/python3.7/site-packages/ipykernel_launcher.py:1: SettingWithCopyWarning:\n",
      "\n",
      "\n",
      "A value is trying to be set on a copy of a slice from a DataFrame.\n",
      "Try using .loc[row_indexer,col_indexer] = value instead\n",
      "\n",
      "See the caveats in the documentation: http://pandas.pydata.org/pandas-docs/stable/user_guide/indexing.html#returning-a-view-versus-a-copy\n",
      "\n",
      "/Users/adwait/opt/anaconda3/lib/python3.7/site-packages/ipykernel_launcher.py:2: SettingWithCopyWarning:\n",
      "\n",
      "\n",
      "A value is trying to be set on a copy of a slice from a DataFrame.\n",
      "Try using .loc[row_indexer,col_indexer] = value instead\n",
      "\n",
      "See the caveats in the documentation: http://pandas.pydata.org/pandas-docs/stable/user_guide/indexing.html#returning-a-view-versus-a-copy\n",
      "\n"
     ]
    }
   ],
   "source": [
    "df_0['Sentiment'] = df_0['polarity'].apply(lambda x : sentiment(x))\n",
    "df_1['Sentiment'] = df_1['polarity'].apply(lambda x : sentiment(x))"
   ]
  },
  {
   "cell_type": "code",
   "execution_count": 163,
   "metadata": {},
   "outputs": [
    {
     "data": {
      "text/html": [
       "<div>\n",
       "<style scoped>\n",
       "    .dataframe tbody tr th:only-of-type {\n",
       "        vertical-align: middle;\n",
       "    }\n",
       "\n",
       "    .dataframe tbody tr th {\n",
       "        vertical-align: top;\n",
       "    }\n",
       "\n",
       "    .dataframe thead th {\n",
       "        text-align: right;\n",
       "    }\n",
       "</style>\n",
       "<table border=\"1\" class=\"dataframe\">\n",
       "  <thead>\n",
       "    <tr style=\"text-align: right;\">\n",
       "      <th></th>\n",
       "      <th>id</th>\n",
       "      <th>keyword</th>\n",
       "      <th>location</th>\n",
       "      <th>text</th>\n",
       "      <th>target</th>\n",
       "      <th>length</th>\n",
       "      <th>char_count</th>\n",
       "      <th>unique</th>\n",
       "      <th>mention</th>\n",
       "      <th>#</th>\n",
       "      <th>polarity</th>\n",
       "      <th>Sentiment</th>\n",
       "    </tr>\n",
       "  </thead>\n",
       "  <tbody>\n",
       "    <tr>\n",
       "      <td>15</td>\n",
       "      <td>23</td>\n",
       "      <td>Unknown</td>\n",
       "      <td>Other_location</td>\n",
       "      <td>What's up man?</td>\n",
       "      <td>0</td>\n",
       "      <td>14</td>\n",
       "      <td>3</td>\n",
       "      <td>3</td>\n",
       "      <td>0</td>\n",
       "      <td></td>\n",
       "      <td>0.0</td>\n",
       "      <td>Neutral</td>\n",
       "    </tr>\n",
       "    <tr>\n",
       "      <td>16</td>\n",
       "      <td>24</td>\n",
       "      <td>Unknown</td>\n",
       "      <td>Other_location</td>\n",
       "      <td>I love fruits</td>\n",
       "      <td>0</td>\n",
       "      <td>13</td>\n",
       "      <td>3</td>\n",
       "      <td>3</td>\n",
       "      <td>0</td>\n",
       "      <td></td>\n",
       "      <td>0.5</td>\n",
       "      <td>Positive</td>\n",
       "    </tr>\n",
       "    <tr>\n",
       "      <td>17</td>\n",
       "      <td>25</td>\n",
       "      <td>Unknown</td>\n",
       "      <td>Other_location</td>\n",
       "      <td>Summer is lovely</td>\n",
       "      <td>0</td>\n",
       "      <td>16</td>\n",
       "      <td>3</td>\n",
       "      <td>3</td>\n",
       "      <td>0</td>\n",
       "      <td></td>\n",
       "      <td>0.5</td>\n",
       "      <td>Positive</td>\n",
       "    </tr>\n",
       "    <tr>\n",
       "      <td>18</td>\n",
       "      <td>26</td>\n",
       "      <td>Unknown</td>\n",
       "      <td>Other_location</td>\n",
       "      <td>My car is so fast</td>\n",
       "      <td>0</td>\n",
       "      <td>17</td>\n",
       "      <td>5</td>\n",
       "      <td>5</td>\n",
       "      <td>0</td>\n",
       "      <td></td>\n",
       "      <td>0.2</td>\n",
       "      <td>Positive</td>\n",
       "    </tr>\n",
       "    <tr>\n",
       "      <td>19</td>\n",
       "      <td>28</td>\n",
       "      <td>Unknown</td>\n",
       "      <td>Other_location</td>\n",
       "      <td>What a goooooooaaaaaal!!!!!!</td>\n",
       "      <td>0</td>\n",
       "      <td>28</td>\n",
       "      <td>3</td>\n",
       "      <td>3</td>\n",
       "      <td>0</td>\n",
       "      <td></td>\n",
       "      <td>0.0</td>\n",
       "      <td>Neutral</td>\n",
       "    </tr>\n",
       "  </tbody>\n",
       "</table>\n",
       "</div>"
      ],
      "text/plain": [
       "    id  keyword        location                          text  target  length  \\\n",
       "15  23  Unknown  Other_location                What's up man?       0      14   \n",
       "16  24  Unknown  Other_location                 I love fruits       0      13   \n",
       "17  25  Unknown  Other_location              Summer is lovely       0      16   \n",
       "18  26  Unknown  Other_location             My car is so fast       0      17   \n",
       "19  28  Unknown  Other_location  What a goooooooaaaaaal!!!!!!       0      28   \n",
       "\n",
       "    char_count  unique  mention #  polarity Sentiment  \n",
       "15           3       3        0         0.0   Neutral  \n",
       "16           3       3        0         0.5  Positive  \n",
       "17           3       3        0         0.5  Positive  \n",
       "18           5       5        0         0.2  Positive  \n",
       "19           3       3        0         0.0   Neutral  "
      ]
     },
     "execution_count": 163,
     "metadata": {},
     "output_type": "execute_result"
    }
   ],
   "source": [
    "df_0.head()"
   ]
  },
  {
   "cell_type": "code",
   "execution_count": 166,
   "metadata": {},
   "outputs": [
    {
     "data": {
      "text/plain": [
       "Text(0.5, 0, 'Sentiment')"
      ]
     },
     "execution_count": 166,
     "metadata": {},
     "output_type": "execute_result"
    },
    {
     "data": {
      "image/png": "[encoded data removed]",
      "text/plain": [
       "<Figure size 432x288 with 1 Axes>"
      ]
     },
     "metadata": {
      "needs_background": "light"
     },
     "output_type": "display_data"
    }
   ],
   "source": [
    "#Sentiment for non-disaster tweet\n",
    "plt.bar(df_0.Sentiment.value_counts().index,\n",
    "        df_0.Sentiment.value_counts())\n",
    "plt.title('Sentiment for non-disaster tweets')\n",
    "plt.ylabel('Frequency')\n",
    "plt.xlabel('Sentiment')"
   ]
  },
  {
   "cell_type": "code",
   "execution_count": 167,
   "metadata": {},
   "outputs": [
    {
     "data": {
      "text/plain": [
       "Text(0.5, 0, 'Sentiment')"
      ]
     },
     "execution_count": 167,
     "metadata": {},
     "output_type": "execute_result"
    },
    {
     "data": {
      "image/png": "[encoded data removed]",
      "text/plain": [
       "<Figure size 432x288 with 1 Axes>"
      ]
     },
     "metadata": {
      "needs_background": "light"
     },
     "output_type": "display_data"
    }
   ],
   "source": [
    "#Sentiment for disaster tweet\n",
    "plt.bar(df_1.Sentiment.value_counts().index,\n",
    "        df_1.Sentiment.value_counts())\n",
    "plt.title('Sentiment for Disaster tweets')\n",
    "plt.ylabel('Frequency')\n",
    "plt.xlabel('Sentiment')"
   ]
  },
  {
   "cell_type": "code",
   "execution_count": 170,
   "metadata": {},
   "outputs": [
    {
     "data": {
      "text/plain": [
       "Sentiment(polarity=-0.2, subjectivity=0.0)"
      ]
     },
     "execution_count": 170,
     "metadata": {},
     "output_type": "execute_result"
    }
   ],
   "source": [
    "TextBlob('100 people killed').sentiment"
   ]
  },
  {
   "cell_type": "code",
   "execution_count": 171,
   "metadata": {},
   "outputs": [
    {
     "data": {
      "text/html": [
       "<div>\n",
       "<style scoped>\n",
       "    .dataframe tbody tr th:only-of-type {\n",
       "        vertical-align: middle;\n",
       "    }\n",
       "\n",
       "    .dataframe tbody tr th {\n",
       "        vertical-align: top;\n",
       "    }\n",
       "\n",
       "    .dataframe thead th {\n",
       "        text-align: right;\n",
       "    }\n",
       "</style>\n",
       "<table border=\"1\" class=\"dataframe\">\n",
       "  <thead>\n",
       "    <tr style=\"text-align: right;\">\n",
       "      <th></th>\n",
       "      <th>id</th>\n",
       "      <th>keyword</th>\n",
       "      <th>location</th>\n",
       "      <th>text</th>\n",
       "      <th>target</th>\n",
       "    </tr>\n",
       "  </thead>\n",
       "  <tbody>\n",
       "    <tr>\n",
       "      <td>0</td>\n",
       "      <td>1</td>\n",
       "      <td>Unknown</td>\n",
       "      <td>Other_location</td>\n",
       "      <td>Our Deeds are the Reason of this #earthquake M...</td>\n",
       "      <td>1</td>\n",
       "    </tr>\n",
       "    <tr>\n",
       "      <td>1</td>\n",
       "      <td>4</td>\n",
       "      <td>Unknown</td>\n",
       "      <td>Other_location</td>\n",
       "      <td>Forest fire near La Ronge Sask. Canada</td>\n",
       "      <td>1</td>\n",
       "    </tr>\n",
       "    <tr>\n",
       "      <td>2</td>\n",
       "      <td>5</td>\n",
       "      <td>Unknown</td>\n",
       "      <td>Other_location</td>\n",
       "      <td>All residents asked to 'shelter in place' are ...</td>\n",
       "      <td>1</td>\n",
       "    </tr>\n",
       "    <tr>\n",
       "      <td>3</td>\n",
       "      <td>6</td>\n",
       "      <td>Unknown</td>\n",
       "      <td>Other_location</td>\n",
       "      <td>13,000 people receive #wildfires evacuation or...</td>\n",
       "      <td>1</td>\n",
       "    </tr>\n",
       "    <tr>\n",
       "      <td>4</td>\n",
       "      <td>7</td>\n",
       "      <td>Unknown</td>\n",
       "      <td>Other_location</td>\n",
       "      <td>Just got sent this photo from Ruby #Alaska as ...</td>\n",
       "      <td>1</td>\n",
       "    </tr>\n",
       "  </tbody>\n",
       "</table>\n",
       "</div>"
      ],
      "text/plain": [
       "   id  keyword        location  \\\n",
       "0   1  Unknown  Other_location   \n",
       "1   4  Unknown  Other_location   \n",
       "2   5  Unknown  Other_location   \n",
       "3   6  Unknown  Other_location   \n",
       "4   7  Unknown  Other_location   \n",
       "\n",
       "                                                text  target  \n",
       "0  Our Deeds are the Reason of this #earthquake M...       1  \n",
       "1             Forest fire near La Ronge Sask. Canada       1  \n",
       "2  All residents asked to 'shelter in place' are ...       1  \n",
       "3  13,000 people receive #wildfires evacuation or...       1  \n",
       "4  Just got sent this photo from Ruby #Alaska as ...       1  "
      ]
     },
     "execution_count": 171,
     "metadata": {},
     "output_type": "execute_result"
    }
   ],
   "source": [
    "train.head()"
   ]
  },
  {
   "cell_type": "code",
   "execution_count": 184,
   "metadata": {},
   "outputs": [
    {
     "data": {
      "text/html": [
       "<div>\n",
       "<style scoped>\n",
       "    .dataframe tbody tr th:only-of-type {\n",
       "        vertical-align: middle;\n",
       "    }\n",
       "\n",
       "    .dataframe tbody tr th {\n",
       "        vertical-align: top;\n",
       "    }\n",
       "\n",
       "    .dataframe thead th {\n",
       "        text-align: right;\n",
       "    }\n",
       "</style>\n",
       "<table border=\"1\" class=\"dataframe\">\n",
       "  <thead>\n",
       "    <tr style=\"text-align: right;\">\n",
       "      <th></th>\n",
       "      <th>id</th>\n",
       "      <th>keyword</th>\n",
       "      <th>location</th>\n",
       "      <th>text</th>\n",
       "      <th>target</th>\n",
       "      <th>length</th>\n",
       "      <th>char_count</th>\n",
       "      <th>unique</th>\n",
       "      <th>mention</th>\n",
       "      <th>#</th>\n",
       "      <th>polarity</th>\n",
       "      <th>Sentiment</th>\n",
       "    </tr>\n",
       "  </thead>\n",
       "  <tbody>\n",
       "    <tr>\n",
       "      <td>15</td>\n",
       "      <td>23</td>\n",
       "      <td>Unknown</td>\n",
       "      <td>Other_location</td>\n",
       "      <td>What's up man?</td>\n",
       "      <td>0</td>\n",
       "      <td>14</td>\n",
       "      <td>3</td>\n",
       "      <td>3</td>\n",
       "      <td>0</td>\n",
       "      <td></td>\n",
       "      <td>0.0</td>\n",
       "      <td>Neutral</td>\n",
       "    </tr>\n",
       "    <tr>\n",
       "      <td>16</td>\n",
       "      <td>24</td>\n",
       "      <td>Unknown</td>\n",
       "      <td>Other_location</td>\n",
       "      <td>I love fruits</td>\n",
       "      <td>0</td>\n",
       "      <td>13</td>\n",
       "      <td>3</td>\n",
       "      <td>3</td>\n",
       "      <td>0</td>\n",
       "      <td></td>\n",
       "      <td>0.5</td>\n",
       "      <td>Positive</td>\n",
       "    </tr>\n",
       "    <tr>\n",
       "      <td>17</td>\n",
       "      <td>25</td>\n",
       "      <td>Unknown</td>\n",
       "      <td>Other_location</td>\n",
       "      <td>Summer is lovely</td>\n",
       "      <td>0</td>\n",
       "      <td>16</td>\n",
       "      <td>3</td>\n",
       "      <td>3</td>\n",
       "      <td>0</td>\n",
       "      <td></td>\n",
       "      <td>0.5</td>\n",
       "      <td>Positive</td>\n",
       "    </tr>\n",
       "    <tr>\n",
       "      <td>18</td>\n",
       "      <td>26</td>\n",
       "      <td>Unknown</td>\n",
       "      <td>Other_location</td>\n",
       "      <td>My car is so fast</td>\n",
       "      <td>0</td>\n",
       "      <td>17</td>\n",
       "      <td>5</td>\n",
       "      <td>5</td>\n",
       "      <td>0</td>\n",
       "      <td></td>\n",
       "      <td>0.2</td>\n",
       "      <td>Positive</td>\n",
       "    </tr>\n",
       "    <tr>\n",
       "      <td>19</td>\n",
       "      <td>28</td>\n",
       "      <td>Unknown</td>\n",
       "      <td>Other_location</td>\n",
       "      <td>What a goooooooaaaaaal!!!!!!</td>\n",
       "      <td>0</td>\n",
       "      <td>28</td>\n",
       "      <td>3</td>\n",
       "      <td>3</td>\n",
       "      <td>0</td>\n",
       "      <td></td>\n",
       "      <td>0.0</td>\n",
       "      <td>Neutral</td>\n",
       "    </tr>\n",
       "  </tbody>\n",
       "</table>\n",
       "</div>"
      ],
      "text/plain": [
       "    id  keyword        location                          text  target  length  \\\n",
       "15  23  Unknown  Other_location                What's up man?       0      14   \n",
       "16  24  Unknown  Other_location                 I love fruits       0      13   \n",
       "17  25  Unknown  Other_location              Summer is lovely       0      16   \n",
       "18  26  Unknown  Other_location             My car is so fast       0      17   \n",
       "19  28  Unknown  Other_location  What a goooooooaaaaaal!!!!!!       0      28   \n",
       "\n",
       "    char_count  unique  mention #  polarity Sentiment  \n",
       "15           3       3        0         0.0   Neutral  \n",
       "16           3       3        0         0.5  Positive  \n",
       "17           3       3        0         0.5  Positive  \n",
       "18           5       5        0         0.2  Positive  \n",
       "19           3       3        0         0.0   Neutral  "
      ]
     },
     "execution_count": 184,
     "metadata": {},
     "output_type": "execute_result"
    }
   ],
   "source": [
    "df_0.head()"
   ]
  },
  {
   "cell_type": "code",
   "execution_count": 904,
   "metadata": {},
   "outputs": [
    {
     "data": {
      "text/html": [
       "<div>\n",
       "<style scoped>\n",
       "    .dataframe tbody tr th:only-of-type {\n",
       "        vertical-align: middle;\n",
       "    }\n",
       "\n",
       "    .dataframe tbody tr th {\n",
       "        vertical-align: top;\n",
       "    }\n",
       "\n",
       "    .dataframe thead th {\n",
       "        text-align: right;\n",
       "    }\n",
       "</style>\n",
       "<table border=\"1\" class=\"dataframe\">\n",
       "  <thead>\n",
       "    <tr style=\"text-align: right;\">\n",
       "      <th></th>\n",
       "      <th>id</th>\n",
       "      <th>keyword</th>\n",
       "      <th>location</th>\n",
       "      <th>text</th>\n",
       "      <th>target</th>\n",
       "    </tr>\n",
       "  </thead>\n",
       "  <tbody>\n",
       "    <tr>\n",
       "      <td>0</td>\n",
       "      <td>1</td>\n",
       "      <td>Unknown</td>\n",
       "      <td>Other_location</td>\n",
       "      <td>Our Deeds are the Reason of this #earthquake M...</td>\n",
       "      <td>1</td>\n",
       "    </tr>\n",
       "    <tr>\n",
       "      <td>1</td>\n",
       "      <td>4</td>\n",
       "      <td>Unknown</td>\n",
       "      <td>Other_location</td>\n",
       "      <td>Forest fire near La Ronge Sask. Canada</td>\n",
       "      <td>1</td>\n",
       "    </tr>\n",
       "    <tr>\n",
       "      <td>2</td>\n",
       "      <td>5</td>\n",
       "      <td>Unknown</td>\n",
       "      <td>Other_location</td>\n",
       "      <td>All residents asked to 'shelter in place' are ...</td>\n",
       "      <td>1</td>\n",
       "    </tr>\n",
       "    <tr>\n",
       "      <td>3</td>\n",
       "      <td>6</td>\n",
       "      <td>Unknown</td>\n",
       "      <td>Other_location</td>\n",
       "      <td>13,000 people receive #wildfires evacuation or...</td>\n",
       "      <td>1</td>\n",
       "    </tr>\n",
       "    <tr>\n",
       "      <td>4</td>\n",
       "      <td>7</td>\n",
       "      <td>Unknown</td>\n",
       "      <td>Other_location</td>\n",
       "      <td>Just got sent this photo from Ruby #Alaska as ...</td>\n",
       "      <td>1</td>\n",
       "    </tr>\n",
       "  </tbody>\n",
       "</table>\n",
       "</div>"
      ],
      "text/plain": [
       "   id  keyword        location  \\\n",
       "0   1  Unknown  Other_location   \n",
       "1   4  Unknown  Other_location   \n",
       "2   5  Unknown  Other_location   \n",
       "3   6  Unknown  Other_location   \n",
       "4   7  Unknown  Other_location   \n",
       "\n",
       "                                                text  target  \n",
       "0  Our Deeds are the Reason of this #earthquake M...       1  \n",
       "1             Forest fire near La Ronge Sask. Canada       1  \n",
       "2  All residents asked to 'shelter in place' are ...       1  \n",
       "3  13,000 people receive #wildfires evacuation or...       1  \n",
       "4  Just got sent this photo from Ruby #Alaska as ...       1  "
      ]
     },
     "execution_count": 904,
     "metadata": {},
     "output_type": "execute_result"
    }
   ],
   "source": [
    "train.head()"
   ]
  },
  {
   "cell_type": "code",
   "execution_count": 905,
   "metadata": {},
   "outputs": [],
   "source": [
    "#Data Cleaning and EDA\n",
    "ps = PorterStemmer()\n",
    "train['clean_tweet'] = train['text'].apply(lambda x : ' '.join([ps.stem(word) for word in x.split()]))"
   ]
  },
  {
   "cell_type": "code",
   "execution_count": 908,
   "metadata": {},
   "outputs": [
    {
     "data": {
      "text/html": [
       "<div>\n",
       "<style scoped>\n",
       "    .dataframe tbody tr th:only-of-type {\n",
       "        vertical-align: middle;\n",
       "    }\n",
       "\n",
       "    .dataframe tbody tr th {\n",
       "        vertical-align: top;\n",
       "    }\n",
       "\n",
       "    .dataframe thead th {\n",
       "        text-align: right;\n",
       "    }\n",
       "</style>\n",
       "<table border=\"1\" class=\"dataframe\">\n",
       "  <thead>\n",
       "    <tr style=\"text-align: right;\">\n",
       "      <th></th>\n",
       "      <th>id</th>\n",
       "      <th>keyword</th>\n",
       "      <th>location</th>\n",
       "      <th>text</th>\n",
       "      <th>target</th>\n",
       "      <th>clean_tweet</th>\n",
       "    </tr>\n",
       "  </thead>\n",
       "  <tbody>\n",
       "    <tr>\n",
       "      <td>0</td>\n",
       "      <td>1</td>\n",
       "      <td>Unknown</td>\n",
       "      <td>Other_location</td>\n",
       "      <td>Our Deeds are the Reason of this #earthquake M...</td>\n",
       "      <td>1</td>\n",
       "      <td>our deed are the reason of thi #earthquak may ...</td>\n",
       "    </tr>\n",
       "    <tr>\n",
       "      <td>1</td>\n",
       "      <td>4</td>\n",
       "      <td>Unknown</td>\n",
       "      <td>Other_location</td>\n",
       "      <td>Forest fire near La Ronge Sask. Canada</td>\n",
       "      <td>1</td>\n",
       "      <td>forest fire near La rong sask. canada</td>\n",
       "    </tr>\n",
       "    <tr>\n",
       "      <td>2</td>\n",
       "      <td>5</td>\n",
       "      <td>Unknown</td>\n",
       "      <td>Other_location</td>\n",
       "      <td>All residents asked to 'shelter in place' are ...</td>\n",
       "      <td>1</td>\n",
       "      <td>all resid ask to 'shelter in place' are be not...</td>\n",
       "    </tr>\n",
       "    <tr>\n",
       "      <td>3</td>\n",
       "      <td>6</td>\n",
       "      <td>Unknown</td>\n",
       "      <td>Other_location</td>\n",
       "      <td>13,000 people receive #wildfires evacuation or...</td>\n",
       "      <td>1</td>\n",
       "      <td>13,000 peopl receiv #wildfir evacu order in ca...</td>\n",
       "    </tr>\n",
       "    <tr>\n",
       "      <td>4</td>\n",
       "      <td>7</td>\n",
       "      <td>Unknown</td>\n",
       "      <td>Other_location</td>\n",
       "      <td>Just got sent this photo from Ruby #Alaska as ...</td>\n",
       "      <td>1</td>\n",
       "      <td>just got sent thi photo from rubi #alaska as s...</td>\n",
       "    </tr>\n",
       "  </tbody>\n",
       "</table>\n",
       "</div>"
      ],
      "text/plain": [
       "   id  keyword        location  \\\n",
       "0   1  Unknown  Other_location   \n",
       "1   4  Unknown  Other_location   \n",
       "2   5  Unknown  Other_location   \n",
       "3   6  Unknown  Other_location   \n",
       "4   7  Unknown  Other_location   \n",
       "\n",
       "                                                text  target  \\\n",
       "0  Our Deeds are the Reason of this #earthquake M...       1   \n",
       "1             Forest fire near La Ronge Sask. Canada       1   \n",
       "2  All residents asked to 'shelter in place' are ...       1   \n",
       "3  13,000 people receive #wildfires evacuation or...       1   \n",
       "4  Just got sent this photo from Ruby #Alaska as ...       1   \n",
       "\n",
       "                                         clean_tweet  \n",
       "0  our deed are the reason of thi #earthquak may ...  \n",
       "1              forest fire near La rong sask. canada  \n",
       "2  all resid ask to 'shelter in place' are be not...  \n",
       "3  13,000 peopl receiv #wildfir evacu order in ca...  \n",
       "4  just got sent thi photo from rubi #alaska as s...  "
      ]
     },
     "execution_count": 908,
     "metadata": {},
     "output_type": "execute_result"
    }
   ],
   "source": [
    "train.head()"
   ]
  },
  {
   "cell_type": "code",
   "execution_count": 906,
   "metadata": {},
   "outputs": [
    {
     "data": {
      "text/plain": [
       "{'a',\n",
       " 'about',\n",
       " 'above',\n",
       " 'after',\n",
       " 'again',\n",
       " 'against',\n",
       " 'ain',\n",
       " 'all',\n",
       " 'am',\n",
       " 'an',\n",
       " 'and',\n",
       " 'any',\n",
       " 'are',\n",
       " 'aren',\n",
       " \"aren't\",\n",
       " 'as',\n",
       " 'at',\n",
       " 'be',\n",
       " 'because',\n",
       " 'been',\n",
       " 'before',\n",
       " 'being',\n",
       " 'below',\n",
       " 'between',\n",
       " 'both',\n",
       " 'but',\n",
       " 'by',\n",
       " 'can',\n",
       " 'couldn',\n",
       " \"couldn't\",\n",
       " 'd',\n",
       " 'did',\n",
       " 'didn',\n",
       " \"didn't\",\n",
       " 'do',\n",
       " 'does',\n",
       " 'doesn',\n",
       " \"doesn't\",\n",
       " 'doing',\n",
       " 'don',\n",
       " \"don't\",\n",
       " 'down',\n",
       " 'during',\n",
       " 'each',\n",
       " 'few',\n",
       " 'for',\n",
       " 'from',\n",
       " 'further',\n",
       " 'had',\n",
       " 'hadn',\n",
       " \"hadn't\",\n",
       " 'has',\n",
       " 'hasn',\n",
       " \"hasn't\",\n",
       " 'have',\n",
       " 'haven',\n",
       " \"haven't\",\n",
       " 'having',\n",
       " 'he',\n",
       " 'her',\n",
       " 'here',\n",
       " 'hers',\n",
       " 'herself',\n",
       " 'him',\n",
       " 'himself',\n",
       " 'his',\n",
       " 'how',\n",
       " 'i',\n",
       " 'if',\n",
       " 'in',\n",
       " 'into',\n",
       " 'is',\n",
       " 'isn',\n",
       " \"isn't\",\n",
       " 'it',\n",
       " \"it's\",\n",
       " 'its',\n",
       " 'itself',\n",
       " 'just',\n",
       " 'll',\n",
       " 'm',\n",
       " 'ma',\n",
       " 'me',\n",
       " 'mightn',\n",
       " \"mightn't\",\n",
       " 'more',\n",
       " 'most',\n",
       " 'mustn',\n",
       " \"mustn't\",\n",
       " 'my',\n",
       " 'myself',\n",
       " 'needn',\n",
       " \"needn't\",\n",
       " 'no',\n",
       " 'nor',\n",
       " 'not',\n",
       " 'now',\n",
       " 'o',\n",
       " 'of',\n",
       " 'off',\n",
       " 'on',\n",
       " 'once',\n",
       " 'only',\n",
       " 'or',\n",
       " 'other',\n",
       " 'our',\n",
       " 'ours',\n",
       " 'ourselves',\n",
       " 'out',\n",
       " 'over',\n",
       " 'own',\n",
       " 're',\n",
       " 's',\n",
       " 'same',\n",
       " 'shan',\n",
       " \"shan't\",\n",
       " 'she',\n",
       " \"she's\",\n",
       " 'should',\n",
       " \"should've\",\n",
       " 'shouldn',\n",
       " \"shouldn't\",\n",
       " 'so',\n",
       " 'some',\n",
       " 'such',\n",
       " 't',\n",
       " 'than',\n",
       " 'that',\n",
       " \"that'll\",\n",
       " 'the',\n",
       " 'their',\n",
       " 'theirs',\n",
       " 'them',\n",
       " 'themselves',\n",
       " 'then',\n",
       " 'there',\n",
       " 'these',\n",
       " 'they',\n",
       " 'this',\n",
       " 'those',\n",
       " 'through',\n",
       " 'to',\n",
       " 'too',\n",
       " 'under',\n",
       " 'until',\n",
       " 'up',\n",
       " 've',\n",
       " 'very',\n",
       " 'was',\n",
       " 'wasn',\n",
       " \"wasn't\",\n",
       " 'we',\n",
       " 'were',\n",
       " 'weren',\n",
       " \"weren't\",\n",
       " 'what',\n",
       " 'when',\n",
       " 'where',\n",
       " 'which',\n",
       " 'while',\n",
       " 'who',\n",
       " 'whom',\n",
       " 'why',\n",
       " 'will',\n",
       " 'with',\n",
       " 'won',\n",
       " \"won't\",\n",
       " 'wouldn',\n",
       " \"wouldn't\",\n",
       " 'y',\n",
       " 'you',\n",
       " \"you'd\",\n",
       " \"you'll\",\n",
       " \"you're\",\n",
       " \"you've\",\n",
       " 'your',\n",
       " 'yours',\n",
       " 'yourself',\n",
       " 'yourselves'}"
      ]
     },
     "execution_count": 906,
     "metadata": {},
     "output_type": "execute_result"
    }
   ],
   "source": [
    "#List of stopwords\n",
    "set(stopwords.words('english'))"
   ]
  },
  {
   "cell_type": "code",
   "execution_count": 909,
   "metadata": {},
   "outputs": [],
   "source": [
    "train['clean_tweet'] = train['clean_tweet'].apply(lambda x : ' '.join([word for word in x.split() if word not in stop]))"
   ]
  },
  {
   "cell_type": "code",
   "execution_count": 198,
   "metadata": {},
   "outputs": [
    {
     "name": "stderr",
     "output_type": "stream",
     "text": [
      "/Users/adwait/opt/anaconda3/lib/python3.7/site-packages/ipykernel_launcher.py:3: SettingWithCopyWarning:\n",
      "\n",
      "\n",
      "A value is trying to be set on a copy of a slice from a DataFrame.\n",
      "Try using .loc[row_indexer,col_indexer] = value instead\n",
      "\n",
      "See the caveats in the documentation: http://pandas.pydata.org/pandas-docs/stable/user_guide/indexing.html#returning-a-view-versus-a-copy\n",
      "\n",
      "/Users/adwait/opt/anaconda3/lib/python3.7/site-packages/ipykernel_launcher.py:4: SettingWithCopyWarning:\n",
      "\n",
      "\n",
      "A value is trying to be set on a copy of a slice from a DataFrame.\n",
      "Try using .loc[row_indexer,col_indexer] = value instead\n",
      "\n",
      "See the caveats in the documentation: http://pandas.pydata.org/pandas-docs/stable/user_guide/indexing.html#returning-a-view-versus-a-copy\n",
      "\n",
      "/Users/adwait/opt/anaconda3/lib/python3.7/site-packages/ipykernel_launcher.py:5: SettingWithCopyWarning:\n",
      "\n",
      "\n",
      "A value is trying to be set on a copy of a slice from a DataFrame.\n",
      "Try using .loc[row_indexer,col_indexer] = value instead\n",
      "\n",
      "See the caveats in the documentation: http://pandas.pydata.org/pandas-docs/stable/user_guide/indexing.html#returning-a-view-versus-a-copy\n",
      "\n",
      "/Users/adwait/opt/anaconda3/lib/python3.7/site-packages/ipykernel_launcher.py:6: SettingWithCopyWarning:\n",
      "\n",
      "\n",
      "A value is trying to be set on a copy of a slice from a DataFrame.\n",
      "Try using .loc[row_indexer,col_indexer] = value instead\n",
      "\n",
      "See the caveats in the documentation: http://pandas.pydata.org/pandas-docs/stable/user_guide/indexing.html#returning-a-view-versus-a-copy\n",
      "\n"
     ]
    }
   ],
   "source": [
    "#removing stopwords first\n",
    "stop = set(stopwords.words('english'))\n",
    "df_0['text'] = df_0['text'].str.lower()\n",
    "df_0['clean_text'] = df_0['text'].apply(lambda x : ' '.join([word for word in x.split() if word not in stop]))\n",
    "df_1['text'] = df_1['text'].str.lower()\n",
    "df_1['clean_text'] = df_1['text'].apply(lambda x : ' '.join([word for word in x.split() if word not in stop]))"
   ]
  },
  {
   "cell_type": "code",
   "execution_count": 199,
   "metadata": {},
   "outputs": [
    {
     "data": {
      "text/html": [
       "<div>\n",
       "<style scoped>\n",
       "    .dataframe tbody tr th:only-of-type {\n",
       "        vertical-align: middle;\n",
       "    }\n",
       "\n",
       "    .dataframe tbody tr th {\n",
       "        vertical-align: top;\n",
       "    }\n",
       "\n",
       "    .dataframe thead th {\n",
       "        text-align: right;\n",
       "    }\n",
       "</style>\n",
       "<table border=\"1\" class=\"dataframe\">\n",
       "  <thead>\n",
       "    <tr style=\"text-align: right;\">\n",
       "      <th></th>\n",
       "      <th>id</th>\n",
       "      <th>keyword</th>\n",
       "      <th>location</th>\n",
       "      <th>text</th>\n",
       "      <th>target</th>\n",
       "      <th>length</th>\n",
       "      <th>char_count</th>\n",
       "      <th>unique</th>\n",
       "      <th>mention</th>\n",
       "      <th>#</th>\n",
       "      <th>polarity</th>\n",
       "      <th>Sentiment</th>\n",
       "      <th>clean_text</th>\n",
       "    </tr>\n",
       "  </thead>\n",
       "  <tbody>\n",
       "    <tr>\n",
       "      <td>15</td>\n",
       "      <td>23</td>\n",
       "      <td>Unknown</td>\n",
       "      <td>Other_location</td>\n",
       "      <td>what's up man?</td>\n",
       "      <td>0</td>\n",
       "      <td>14</td>\n",
       "      <td>3</td>\n",
       "      <td>3</td>\n",
       "      <td>0</td>\n",
       "      <td></td>\n",
       "      <td>0.0</td>\n",
       "      <td>Neutral</td>\n",
       "      <td>what's man?</td>\n",
       "    </tr>\n",
       "    <tr>\n",
       "      <td>16</td>\n",
       "      <td>24</td>\n",
       "      <td>Unknown</td>\n",
       "      <td>Other_location</td>\n",
       "      <td>i love fruits</td>\n",
       "      <td>0</td>\n",
       "      <td>13</td>\n",
       "      <td>3</td>\n",
       "      <td>3</td>\n",
       "      <td>0</td>\n",
       "      <td></td>\n",
       "      <td>0.5</td>\n",
       "      <td>Positive</td>\n",
       "      <td>love fruits</td>\n",
       "    </tr>\n",
       "    <tr>\n",
       "      <td>17</td>\n",
       "      <td>25</td>\n",
       "      <td>Unknown</td>\n",
       "      <td>Other_location</td>\n",
       "      <td>summer is lovely</td>\n",
       "      <td>0</td>\n",
       "      <td>16</td>\n",
       "      <td>3</td>\n",
       "      <td>3</td>\n",
       "      <td>0</td>\n",
       "      <td></td>\n",
       "      <td>0.5</td>\n",
       "      <td>Positive</td>\n",
       "      <td>summer lovely</td>\n",
       "    </tr>\n",
       "    <tr>\n",
       "      <td>18</td>\n",
       "      <td>26</td>\n",
       "      <td>Unknown</td>\n",
       "      <td>Other_location</td>\n",
       "      <td>my car is so fast</td>\n",
       "      <td>0</td>\n",
       "      <td>17</td>\n",
       "      <td>5</td>\n",
       "      <td>5</td>\n",
       "      <td>0</td>\n",
       "      <td></td>\n",
       "      <td>0.2</td>\n",
       "      <td>Positive</td>\n",
       "      <td>car fast</td>\n",
       "    </tr>\n",
       "    <tr>\n",
       "      <td>19</td>\n",
       "      <td>28</td>\n",
       "      <td>Unknown</td>\n",
       "      <td>Other_location</td>\n",
       "      <td>what a goooooooaaaaaal!!!!!!</td>\n",
       "      <td>0</td>\n",
       "      <td>28</td>\n",
       "      <td>3</td>\n",
       "      <td>3</td>\n",
       "      <td>0</td>\n",
       "      <td></td>\n",
       "      <td>0.0</td>\n",
       "      <td>Neutral</td>\n",
       "      <td>goooooooaaaaaal!!!!!!</td>\n",
       "    </tr>\n",
       "  </tbody>\n",
       "</table>\n",
       "</div>"
      ],
      "text/plain": [
       "    id  keyword        location                          text  target  length  \\\n",
       "15  23  Unknown  Other_location                what's up man?       0      14   \n",
       "16  24  Unknown  Other_location                 i love fruits       0      13   \n",
       "17  25  Unknown  Other_location              summer is lovely       0      16   \n",
       "18  26  Unknown  Other_location             my car is so fast       0      17   \n",
       "19  28  Unknown  Other_location  what a goooooooaaaaaal!!!!!!       0      28   \n",
       "\n",
       "    char_count  unique  mention #  polarity Sentiment             clean_text  \n",
       "15           3       3        0         0.0   Neutral            what's man?  \n",
       "16           3       3        0         0.5  Positive            love fruits  \n",
       "17           3       3        0         0.5  Positive          summer lovely  \n",
       "18           5       5        0         0.2  Positive               car fast  \n",
       "19           3       3        0         0.0   Neutral  goooooooaaaaaal!!!!!!  "
      ]
     },
     "execution_count": 199,
     "metadata": {},
     "output_type": "execute_result"
    }
   ],
   "source": [
    "df_0.head()"
   ]
  },
  {
   "cell_type": "code",
   "execution_count": 213,
   "metadata": {},
   "outputs": [
    {
     "data": {
      "text/plain": [
       "['m', 'a', 'n', '?']"
      ]
     },
     "execution_count": 213,
     "metadata": {},
     "output_type": "execute_result"
    }
   ],
   "source": [
    "d = 'man?'\n",
    "s = [a for a in d ] \n",
    "s"
   ]
  },
  {
   "cell_type": "code",
   "execution_count": 200,
   "metadata": {},
   "outputs": [
    {
     "data": {
      "text/html": [
       "<div>\n",
       "<style scoped>\n",
       "    .dataframe tbody tr th:only-of-type {\n",
       "        vertical-align: middle;\n",
       "    }\n",
       "\n",
       "    .dataframe tbody tr th {\n",
       "        vertical-align: top;\n",
       "    }\n",
       "\n",
       "    .dataframe thead th {\n",
       "        text-align: right;\n",
       "    }\n",
       "</style>\n",
       "<table border=\"1\" class=\"dataframe\">\n",
       "  <thead>\n",
       "    <tr style=\"text-align: right;\">\n",
       "      <th></th>\n",
       "      <th>id</th>\n",
       "      <th>keyword</th>\n",
       "      <th>location</th>\n",
       "      <th>text</th>\n",
       "      <th>target</th>\n",
       "      <th>length</th>\n",
       "      <th>char_count</th>\n",
       "      <th>unique</th>\n",
       "      <th>mean</th>\n",
       "      <th>mention</th>\n",
       "      <th>#</th>\n",
       "      <th>polarity</th>\n",
       "      <th>Sentiment</th>\n",
       "      <th>clean_text</th>\n",
       "    </tr>\n",
       "  </thead>\n",
       "  <tbody>\n",
       "    <tr>\n",
       "      <td>0</td>\n",
       "      <td>1</td>\n",
       "      <td>Unknown</td>\n",
       "      <td>Other_location</td>\n",
       "      <td>our deeds are the reason of this #earthquake m...</td>\n",
       "      <td>1</td>\n",
       "      <td>69</td>\n",
       "      <td>13</td>\n",
       "      <td>13</td>\n",
       "      <td>13.0</td>\n",
       "      <td>0</td>\n",
       "      <td>#earthquake</td>\n",
       "      <td>0.00000</td>\n",
       "      <td>Neutral</td>\n",
       "      <td>deeds reason #earthquake may allah forgive us</td>\n",
       "    </tr>\n",
       "    <tr>\n",
       "      <td>1</td>\n",
       "      <td>4</td>\n",
       "      <td>Unknown</td>\n",
       "      <td>Other_location</td>\n",
       "      <td>forest fire near la ronge sask. canada</td>\n",
       "      <td>1</td>\n",
       "      <td>38</td>\n",
       "      <td>7</td>\n",
       "      <td>7</td>\n",
       "      <td>7.0</td>\n",
       "      <td>0</td>\n",
       "      <td></td>\n",
       "      <td>0.10000</td>\n",
       "      <td>Positive</td>\n",
       "      <td>forest fire near la ronge sask. canada</td>\n",
       "    </tr>\n",
       "    <tr>\n",
       "      <td>2</td>\n",
       "      <td>5</td>\n",
       "      <td>Unknown</td>\n",
       "      <td>Other_location</td>\n",
       "      <td>all residents asked to 'shelter in place' are ...</td>\n",
       "      <td>1</td>\n",
       "      <td>133</td>\n",
       "      <td>22</td>\n",
       "      <td>20</td>\n",
       "      <td>20.0</td>\n",
       "      <td>0</td>\n",
       "      <td></td>\n",
       "      <td>-0.01875</td>\n",
       "      <td>Negative</td>\n",
       "      <td>residents asked 'shelter place' notified offic...</td>\n",
       "    </tr>\n",
       "    <tr>\n",
       "      <td>3</td>\n",
       "      <td>6</td>\n",
       "      <td>Unknown</td>\n",
       "      <td>Other_location</td>\n",
       "      <td>13,000 people receive #wildfires evacuation or...</td>\n",
       "      <td>1</td>\n",
       "      <td>65</td>\n",
       "      <td>8</td>\n",
       "      <td>8</td>\n",
       "      <td>8.0</td>\n",
       "      <td>0</td>\n",
       "      <td>#wildfires</td>\n",
       "      <td>0.00000</td>\n",
       "      <td>Neutral</td>\n",
       "      <td>13,000 people receive #wildfires evacuation or...</td>\n",
       "    </tr>\n",
       "    <tr>\n",
       "      <td>4</td>\n",
       "      <td>7</td>\n",
       "      <td>Unknown</td>\n",
       "      <td>Other_location</td>\n",
       "      <td>just got sent this photo from ruby #alaska as ...</td>\n",
       "      <td>1</td>\n",
       "      <td>88</td>\n",
       "      <td>16</td>\n",
       "      <td>15</td>\n",
       "      <td>15.0</td>\n",
       "      <td>0</td>\n",
       "      <td>#Alaska #wildfires</td>\n",
       "      <td>0.00000</td>\n",
       "      <td>Neutral</td>\n",
       "      <td>got sent photo ruby #alaska smoke #wildfires p...</td>\n",
       "    </tr>\n",
       "  </tbody>\n",
       "</table>\n",
       "</div>"
      ],
      "text/plain": [
       "   id  keyword        location  \\\n",
       "0   1  Unknown  Other_location   \n",
       "1   4  Unknown  Other_location   \n",
       "2   5  Unknown  Other_location   \n",
       "3   6  Unknown  Other_location   \n",
       "4   7  Unknown  Other_location   \n",
       "\n",
       "                                                text  target  length  \\\n",
       "0  our deeds are the reason of this #earthquake m...       1      69   \n",
       "1             forest fire near la ronge sask. canada       1      38   \n",
       "2  all residents asked to 'shelter in place' are ...       1     133   \n",
       "3  13,000 people receive #wildfires evacuation or...       1      65   \n",
       "4  just got sent this photo from ruby #alaska as ...       1      88   \n",
       "\n",
       "   char_count  unique  mean  mention                   #  polarity Sentiment  \\\n",
       "0          13      13  13.0        0         #earthquake   0.00000   Neutral   \n",
       "1           7       7   7.0        0                       0.10000  Positive   \n",
       "2          22      20  20.0        0                      -0.01875  Negative   \n",
       "3           8       8   8.0        0          #wildfires   0.00000   Neutral   \n",
       "4          16      15  15.0        0  #Alaska #wildfires   0.00000   Neutral   \n",
       "\n",
       "                                          clean_text  \n",
       "0      deeds reason #earthquake may allah forgive us  \n",
       "1             forest fire near la ronge sask. canada  \n",
       "2  residents asked 'shelter place' notified offic...  \n",
       "3  13,000 people receive #wildfires evacuation or...  \n",
       "4  got sent photo ruby #alaska smoke #wildfires p...  "
      ]
     },
     "execution_count": 200,
     "metadata": {},
     "output_type": "execute_result"
    }
   ],
   "source": [
    "df_1.head()"
   ]
  },
  {
   "cell_type": "code",
   "execution_count": 910,
   "metadata": {},
   "outputs": [
    {
     "name": "stdout",
     "output_type": "stream",
     "text": [
      "!\"#$%&'()*+,-./:;<=>?@[\\]^_`{|}~\n"
     ]
    }
   ],
   "source": [
    "# Storing the set of punctuations in variable result  \n",
    "result = string.punctuation      \n",
    "# Printing the punctuation values  \n",
    "print(result) "
   ]
  },
  {
   "cell_type": "code",
   "execution_count": 911,
   "metadata": {},
   "outputs": [],
   "source": [
    "train['clean_tweet'] = train['clean_tweet'].apply(lambda x : ' '.join([word for word in x.split() if word not in result]))"
   ]
  },
  {
   "cell_type": "code",
   "execution_count": 219,
   "metadata": {},
   "outputs": [
    {
     "name": "stderr",
     "output_type": "stream",
     "text": [
      "/Users/adwait/opt/anaconda3/lib/python3.7/site-packages/ipykernel_launcher.py:2: SettingWithCopyWarning:\n",
      "\n",
      "\n",
      "A value is trying to be set on a copy of a slice from a DataFrame.\n",
      "Try using .loc[row_indexer,col_indexer] = value instead\n",
      "\n",
      "See the caveats in the documentation: http://pandas.pydata.org/pandas-docs/stable/user_guide/indexing.html#returning-a-view-versus-a-copy\n",
      "\n",
      "/Users/adwait/opt/anaconda3/lib/python3.7/site-packages/ipykernel_launcher.py:3: SettingWithCopyWarning:\n",
      "\n",
      "\n",
      "A value is trying to be set on a copy of a slice from a DataFrame.\n",
      "Try using .loc[row_indexer,col_indexer] = value instead\n",
      "\n",
      "See the caveats in the documentation: http://pandas.pydata.org/pandas-docs/stable/user_guide/indexing.html#returning-a-view-versus-a-copy\n",
      "\n",
      "/Users/adwait/opt/anaconda3/lib/python3.7/site-packages/ipykernel_launcher.py:4: SettingWithCopyWarning:\n",
      "\n",
      "\n",
      "A value is trying to be set on a copy of a slice from a DataFrame.\n",
      "Try using .loc[row_indexer,col_indexer] = value instead\n",
      "\n",
      "See the caveats in the documentation: http://pandas.pydata.org/pandas-docs/stable/user_guide/indexing.html#returning-a-view-versus-a-copy\n",
      "\n",
      "/Users/adwait/opt/anaconda3/lib/python3.7/site-packages/ipykernel_launcher.py:5: SettingWithCopyWarning:\n",
      "\n",
      "\n",
      "A value is trying to be set on a copy of a slice from a DataFrame.\n",
      "Try using .loc[row_indexer,col_indexer] = value instead\n",
      "\n",
      "See the caveats in the documentation: http://pandas.pydata.org/pandas-docs/stable/user_guide/indexing.html#returning-a-view-versus-a-copy\n",
      "\n"
     ]
    }
   ],
   "source": [
    "#CHecking the distribution of punctuations\n",
    "df_0['punct'] = df_0['clean_text'].apply(lambda x : len([word for word in x if word in result]))\n",
    "df_0['punct1'] = df_0['clean_text'].apply(lambda x : ([word for word in x if word in result]))\n",
    "df_1['punct'] = df_1['clean_text'].apply(lambda x : len([word for word in x if word in result]))\n",
    "df_1['punct1'] = df_1['clean_text'].apply(lambda x : ([word for word in x if word in result]))"
   ]
  },
  {
   "cell_type": "code",
   "execution_count": 217,
   "metadata": {},
   "outputs": [
    {
     "data": {
      "text/html": [
       "<div>\n",
       "<style scoped>\n",
       "    .dataframe tbody tr th:only-of-type {\n",
       "        vertical-align: middle;\n",
       "    }\n",
       "\n",
       "    .dataframe tbody tr th {\n",
       "        vertical-align: top;\n",
       "    }\n",
       "\n",
       "    .dataframe thead th {\n",
       "        text-align: right;\n",
       "    }\n",
       "</style>\n",
       "<table border=\"1\" class=\"dataframe\">\n",
       "  <thead>\n",
       "    <tr style=\"text-align: right;\">\n",
       "      <th></th>\n",
       "      <th>id</th>\n",
       "      <th>keyword</th>\n",
       "      <th>location</th>\n",
       "      <th>text</th>\n",
       "      <th>target</th>\n",
       "      <th>length</th>\n",
       "      <th>char_count</th>\n",
       "      <th>unique</th>\n",
       "      <th>mention</th>\n",
       "      <th>#</th>\n",
       "      <th>polarity</th>\n",
       "      <th>Sentiment</th>\n",
       "      <th>clean_text</th>\n",
       "      <th>punct</th>\n",
       "      <th>punct1</th>\n",
       "    </tr>\n",
       "  </thead>\n",
       "  <tbody>\n",
       "    <tr>\n",
       "      <td>15</td>\n",
       "      <td>23</td>\n",
       "      <td>Unknown</td>\n",
       "      <td>Other_location</td>\n",
       "      <td>what's up man?</td>\n",
       "      <td>0</td>\n",
       "      <td>14</td>\n",
       "      <td>3</td>\n",
       "      <td>3</td>\n",
       "      <td>0</td>\n",
       "      <td></td>\n",
       "      <td>0.0</td>\n",
       "      <td>Neutral</td>\n",
       "      <td>what's man?</td>\n",
       "      <td>2</td>\n",
       "      <td>[', ?]</td>\n",
       "    </tr>\n",
       "    <tr>\n",
       "      <td>16</td>\n",
       "      <td>24</td>\n",
       "      <td>Unknown</td>\n",
       "      <td>Other_location</td>\n",
       "      <td>i love fruits</td>\n",
       "      <td>0</td>\n",
       "      <td>13</td>\n",
       "      <td>3</td>\n",
       "      <td>3</td>\n",
       "      <td>0</td>\n",
       "      <td></td>\n",
       "      <td>0.5</td>\n",
       "      <td>Positive</td>\n",
       "      <td>love fruits</td>\n",
       "      <td>0</td>\n",
       "      <td>[]</td>\n",
       "    </tr>\n",
       "    <tr>\n",
       "      <td>17</td>\n",
       "      <td>25</td>\n",
       "      <td>Unknown</td>\n",
       "      <td>Other_location</td>\n",
       "      <td>summer is lovely</td>\n",
       "      <td>0</td>\n",
       "      <td>16</td>\n",
       "      <td>3</td>\n",
       "      <td>3</td>\n",
       "      <td>0</td>\n",
       "      <td></td>\n",
       "      <td>0.5</td>\n",
       "      <td>Positive</td>\n",
       "      <td>summer lovely</td>\n",
       "      <td>0</td>\n",
       "      <td>[]</td>\n",
       "    </tr>\n",
       "    <tr>\n",
       "      <td>18</td>\n",
       "      <td>26</td>\n",
       "      <td>Unknown</td>\n",
       "      <td>Other_location</td>\n",
       "      <td>my car is so fast</td>\n",
       "      <td>0</td>\n",
       "      <td>17</td>\n",
       "      <td>5</td>\n",
       "      <td>5</td>\n",
       "      <td>0</td>\n",
       "      <td></td>\n",
       "      <td>0.2</td>\n",
       "      <td>Positive</td>\n",
       "      <td>car fast</td>\n",
       "      <td>0</td>\n",
       "      <td>[]</td>\n",
       "    </tr>\n",
       "    <tr>\n",
       "      <td>19</td>\n",
       "      <td>28</td>\n",
       "      <td>Unknown</td>\n",
       "      <td>Other_location</td>\n",
       "      <td>what a goooooooaaaaaal!!!!!!</td>\n",
       "      <td>0</td>\n",
       "      <td>28</td>\n",
       "      <td>3</td>\n",
       "      <td>3</td>\n",
       "      <td>0</td>\n",
       "      <td></td>\n",
       "      <td>0.0</td>\n",
       "      <td>Neutral</td>\n",
       "      <td>goooooooaaaaaal!!!!!!</td>\n",
       "      <td>6</td>\n",
       "      <td>[!, !, !, !, !, !]</td>\n",
       "    </tr>\n",
       "  </tbody>\n",
       "</table>\n",
       "</div>"
      ],
      "text/plain": [
       "    id  keyword        location                          text  target  length  \\\n",
       "15  23  Unknown  Other_location                what's up man?       0      14   \n",
       "16  24  Unknown  Other_location                 i love fruits       0      13   \n",
       "17  25  Unknown  Other_location              summer is lovely       0      16   \n",
       "18  26  Unknown  Other_location             my car is so fast       0      17   \n",
       "19  28  Unknown  Other_location  what a goooooooaaaaaal!!!!!!       0      28   \n",
       "\n",
       "    char_count  unique  mention #  polarity Sentiment             clean_text  \\\n",
       "15           3       3        0         0.0   Neutral            what's man?   \n",
       "16           3       3        0         0.5  Positive            love fruits   \n",
       "17           3       3        0         0.5  Positive          summer lovely   \n",
       "18           5       5        0         0.2  Positive               car fast   \n",
       "19           3       3        0         0.0   Neutral  goooooooaaaaaal!!!!!!   \n",
       "\n",
       "    punct              punct1  \n",
       "15      2              [', ?]  \n",
       "16      0                  []  \n",
       "17      0                  []  \n",
       "18      0                  []  \n",
       "19      6  [!, !, !, !, !, !]  "
      ]
     },
     "execution_count": 217,
     "metadata": {},
     "output_type": "execute_result"
    }
   ],
   "source": [
    "df_0.head()"
   ]
  },
  {
   "cell_type": "code",
   "execution_count": 224,
   "metadata": {},
   "outputs": [
    {
     "data": {
      "text/plain": [
       "0                                                  [None]\n",
       "1                                                  [None]\n",
       "2                                      [None, None, None]\n",
       "3                                            [None, None]\n",
       "4                                            [None, None]\n",
       "                              ...                        \n",
       "7608                       [None, None, None, None, None]\n",
       "7609                       [None, None, None, None, None]\n",
       "7610    [None, None, None, None, None, None, None, Non...\n",
       "7611                       [None, None, None, None, None]\n",
       "7612           [None, None, None, None, None, None, None]\n",
       "Name: clean_text, Length: 3271, dtype: object"
      ]
     },
     "execution_count": 224,
     "metadata": {},
     "output_type": "execute_result"
    }
   ],
   "source": [
    "#Punctuations\n",
    "p1 = []\n",
    "p2 = []\n",
    "df_0['clean_text'].apply(lambda x : ([p1.append(word) for word in x if word in result]))\n",
    "df_1['clean_text'].apply(lambda x : ([p2.append(word) for word in x if word in result]))"
   ]
  },
  {
   "cell_type": "code",
   "execution_count": 226,
   "metadata": {},
   "outputs": [],
   "source": [
    "p1_dict = Counter(p1)\n",
    "p2_dict = Counter(p2)"
   ]
  },
  {
   "cell_type": "code",
   "execution_count": 241,
   "metadata": {},
   "outputs": [],
   "source": [
    "#Punctuation dataframe creation\n",
    "a1 = dict(p1_dict.most_common())\n",
    "a1_values = list(a1.keys())\n",
    "a1_count = list(a1.values())\n",
    "x1 = pd.DataFrame(a1_values[0:20],columns=['Punctuation marks'])\n",
    "x2 = pd.DataFrame(a1_count[0:20],columns=['Count'])\n",
    "\n",
    "b1 = dict(p2_dict.most_common())\n",
    "b1_values = list(b1.keys())\n",
    "b1_count = list(b1.values())\n",
    "y1 = pd.DataFrame(b1_values[0:20],columns=['Punctuation marks'])\n",
    "y2 = pd.DataFrame(b1_count[0:20],columns=['Count'])\n",
    "\n",
    "z1 = pd.concat([x1,x2],axis = 1) #Non-disaster\n",
    "z2 = pd.concat([y1,y2],axis = 1) #Disaster"
   ]
  },
  {
   "cell_type": "code",
   "execution_count": 242,
   "metadata": {},
   "outputs": [
    {
     "data": {
      "text/html": [
       "<div>\n",
       "<style scoped>\n",
       "    .dataframe tbody tr th:only-of-type {\n",
       "        vertical-align: middle;\n",
       "    }\n",
       "\n",
       "    .dataframe tbody tr th {\n",
       "        vertical-align: top;\n",
       "    }\n",
       "\n",
       "    .dataframe thead th {\n",
       "        text-align: right;\n",
       "    }\n",
       "</style>\n",
       "<table border=\"1\" class=\"dataframe\">\n",
       "  <thead>\n",
       "    <tr style=\"text-align: right;\">\n",
       "      <th></th>\n",
       "      <th>Punctuation marks</th>\n",
       "      <th>Count</th>\n",
       "    </tr>\n",
       "  </thead>\n",
       "  <tbody>\n",
       "    <tr>\n",
       "      <td>0</td>\n",
       "      <td>/</td>\n",
       "      <td>6798</td>\n",
       "    </tr>\n",
       "    <tr>\n",
       "      <td>1</td>\n",
       "      <td>.</td>\n",
       "      <td>5752</td>\n",
       "    </tr>\n",
       "    <tr>\n",
       "      <td>2</td>\n",
       "      <td>:</td>\n",
       "      <td>3079</td>\n",
       "    </tr>\n",
       "    <tr>\n",
       "      <td>3</td>\n",
       "      <td>?</td>\n",
       "      <td>2364</td>\n",
       "    </tr>\n",
       "    <tr>\n",
       "      <td>4</td>\n",
       "      <td>@</td>\n",
       "      <td>1854</td>\n",
       "    </tr>\n",
       "    <tr>\n",
       "      <td>5</td>\n",
       "      <td>#</td>\n",
       "      <td>1700</td>\n",
       "    </tr>\n",
       "    <tr>\n",
       "      <td>6</td>\n",
       "      <td>'</td>\n",
       "      <td>1606</td>\n",
       "    </tr>\n",
       "    <tr>\n",
       "      <td>7</td>\n",
       "      <td>!</td>\n",
       "      <td>843</td>\n",
       "    </tr>\n",
       "    <tr>\n",
       "      <td>8</td>\n",
       "      <td>-</td>\n",
       "      <td>810</td>\n",
       "    </tr>\n",
       "    <tr>\n",
       "      <td>9</td>\n",
       "      <td>_</td>\n",
       "      <td>538</td>\n",
       "    </tr>\n",
       "    <tr>\n",
       "      <td>10</td>\n",
       "      <td>;</td>\n",
       "      <td>336</td>\n",
       "    </tr>\n",
       "    <tr>\n",
       "      <td>11</td>\n",
       "      <td>&amp;</td>\n",
       "      <td>293</td>\n",
       "    </tr>\n",
       "    <tr>\n",
       "      <td>12</td>\n",
       "      <td>)</td>\n",
       "      <td>229</td>\n",
       "    </tr>\n",
       "    <tr>\n",
       "      <td>13</td>\n",
       "      <td>(</td>\n",
       "      <td>207</td>\n",
       "    </tr>\n",
       "    <tr>\n",
       "      <td>14</td>\n",
       "      <td>*</td>\n",
       "      <td>121</td>\n",
       "    </tr>\n",
       "    <tr>\n",
       "      <td>15</td>\n",
       "      <td>|</td>\n",
       "      <td>99</td>\n",
       "    </tr>\n",
       "    <tr>\n",
       "      <td>16</td>\n",
       "      <td>]</td>\n",
       "      <td>72</td>\n",
       "    </tr>\n",
       "    <tr>\n",
       "      <td>17</td>\n",
       "      <td>[</td>\n",
       "      <td>71</td>\n",
       "    </tr>\n",
       "    <tr>\n",
       "      <td>18</td>\n",
       "      <td>+</td>\n",
       "      <td>57</td>\n",
       "    </tr>\n",
       "    <tr>\n",
       "      <td>19</td>\n",
       "      <td>$</td>\n",
       "      <td>32</td>\n",
       "    </tr>\n",
       "  </tbody>\n",
       "</table>\n",
       "</div>"
      ],
      "text/plain": [
       "   Punctuation marks  Count\n",
       "0                  /   6798\n",
       "1                  .   5752\n",
       "2                  :   3079\n",
       "3                  ?   2364\n",
       "4                  @   1854\n",
       "5                  #   1700\n",
       "6                  '   1606\n",
       "7                  !    843\n",
       "8                  -    810\n",
       "9                  _    538\n",
       "10                 ;    336\n",
       "11                 &    293\n",
       "12                 )    229\n",
       "13                 (    207\n",
       "14                 *    121\n",
       "15                 |     99\n",
       "16                 ]     72\n",
       "17                 [     71\n",
       "18                 +     57\n",
       "19                 $     32"
      ]
     },
     "execution_count": 242,
     "metadata": {},
     "output_type": "execute_result"
    }
   ],
   "source": []
  },
  {
   "cell_type": "code",
   "execution_count": 246,
   "metadata": {},
   "outputs": [
    {
     "data": {
      "text/plain": [
       "<matplotlib.axes._subplots.AxesSubplot at 0x1a31ceddd0>"
      ]
     },
     "execution_count": 246,
     "metadata": {},
     "output_type": "execute_result"
    },
    {
     "data": {
      "image/png": "[encoded data removed]",
      "text/plain": [
       "<Figure size 432x288 with 1 Axes>"
      ]
     },
     "metadata": {
      "needs_background": "light"
     },
     "output_type": "display_data"
    }
   ],
   "source": [
    "#Punctuations in non-disaster\n",
    "sb.barplot(x = 'Punctuation marks',y = 'Count',data = z1)"
   ]
  },
  {
   "cell_type": "code",
   "execution_count": 247,
   "metadata": {},
   "outputs": [
    {
     "data": {
      "text/plain": [
       "<matplotlib.axes._subplots.AxesSubplot at 0x1a31ceccd0>"
      ]
     },
     "execution_count": 247,
     "metadata": {},
     "output_type": "execute_result"
    },
    {
     "data": {
      "image/png": "[encoded data removed]",
      "text/plain": [
       "<Figure size 432x288 with 1 Axes>"
      ]
     },
     "metadata": {
      "needs_background": "light"
     },
     "output_type": "display_data"
    }
   ],
   "source": [
    "#Punctuations in Disaster\n",
    "sb.barplot(x = 'Punctuation marks',y = 'Count',data = z2)"
   ]
  },
  {
   "cell_type": "code",
   "execution_count": 281,
   "metadata": {},
   "outputs": [],
   "source": [
    "#Data cleaning"
   ]
  },
  {
   "cell_type": "code",
   "execution_count": 547,
   "metadata": {},
   "outputs": [],
   "source": [
    "#Removing stopwords\n",
    "stop = set(stopwords.words('english'))\n",
    "train['text'] = train['text'].str.lower()\n",
    "train['clean_text'] = train['text'].apply(lambda x : ' '.join([word for word in x.split() if word not in stop]))"
   ]
  },
  {
   "cell_type": "code",
   "execution_count": 548,
   "metadata": {},
   "outputs": [
    {
     "data": {
      "text/html": [
       "<div>\n",
       "<style scoped>\n",
       "    .dataframe tbody tr th:only-of-type {\n",
       "        vertical-align: middle;\n",
       "    }\n",
       "\n",
       "    .dataframe tbody tr th {\n",
       "        vertical-align: top;\n",
       "    }\n",
       "\n",
       "    .dataframe thead th {\n",
       "        text-align: right;\n",
       "    }\n",
       "</style>\n",
       "<table border=\"1\" class=\"dataframe\">\n",
       "  <thead>\n",
       "    <tr style=\"text-align: right;\">\n",
       "      <th></th>\n",
       "      <th>id</th>\n",
       "      <th>keyword</th>\n",
       "      <th>location</th>\n",
       "      <th>text</th>\n",
       "      <th>target</th>\n",
       "      <th>clean_text</th>\n",
       "    </tr>\n",
       "  </thead>\n",
       "  <tbody>\n",
       "    <tr>\n",
       "      <td>0</td>\n",
       "      <td>1</td>\n",
       "      <td>Unknown</td>\n",
       "      <td>Other_location</td>\n",
       "      <td>our deeds are the reason of this #earthquake m...</td>\n",
       "      <td>1</td>\n",
       "      <td>deeds reason #earthquake may allah forgive us</td>\n",
       "    </tr>\n",
       "    <tr>\n",
       "      <td>1</td>\n",
       "      <td>4</td>\n",
       "      <td>Unknown</td>\n",
       "      <td>Other_location</td>\n",
       "      <td>forest fire near la ronge sask. canada</td>\n",
       "      <td>1</td>\n",
       "      <td>forest fire near la ronge sask. canada</td>\n",
       "    </tr>\n",
       "    <tr>\n",
       "      <td>2</td>\n",
       "      <td>5</td>\n",
       "      <td>Unknown</td>\n",
       "      <td>Other_location</td>\n",
       "      <td>all residents asked to 'shelter in place' are ...</td>\n",
       "      <td>1</td>\n",
       "      <td>residents asked 'shelter place' notified offic...</td>\n",
       "    </tr>\n",
       "    <tr>\n",
       "      <td>3</td>\n",
       "      <td>6</td>\n",
       "      <td>Unknown</td>\n",
       "      <td>Other_location</td>\n",
       "      <td>13,000 people receive #wildfires evacuation or...</td>\n",
       "      <td>1</td>\n",
       "      <td>13,000 people receive #wildfires evacuation or...</td>\n",
       "    </tr>\n",
       "    <tr>\n",
       "      <td>4</td>\n",
       "      <td>7</td>\n",
       "      <td>Unknown</td>\n",
       "      <td>Other_location</td>\n",
       "      <td>just got sent this photo from ruby #alaska as ...</td>\n",
       "      <td>1</td>\n",
       "      <td>got sent photo ruby #alaska smoke #wildfires p...</td>\n",
       "    </tr>\n",
       "  </tbody>\n",
       "</table>\n",
       "</div>"
      ],
      "text/plain": [
       "   id  keyword        location  \\\n",
       "0   1  Unknown  Other_location   \n",
       "1   4  Unknown  Other_location   \n",
       "2   5  Unknown  Other_location   \n",
       "3   6  Unknown  Other_location   \n",
       "4   7  Unknown  Other_location   \n",
       "\n",
       "                                                text  target  \\\n",
       "0  our deeds are the reason of this #earthquake m...       1   \n",
       "1             forest fire near la ronge sask. canada       1   \n",
       "2  all residents asked to 'shelter in place' are ...       1   \n",
       "3  13,000 people receive #wildfires evacuation or...       1   \n",
       "4  just got sent this photo from ruby #alaska as ...       1   \n",
       "\n",
       "                                          clean_text  \n",
       "0      deeds reason #earthquake may allah forgive us  \n",
       "1             forest fire near la ronge sask. canada  \n",
       "2  residents asked 'shelter place' notified offic...  \n",
       "3  13,000 people receive #wildfires evacuation or...  \n",
       "4  got sent photo ruby #alaska smoke #wildfires p...  "
      ]
     },
     "execution_count": 548,
     "metadata": {},
     "output_type": "execute_result"
    }
   ],
   "source": [
    "train.head()"
   ]
  },
  {
   "cell_type": "code",
   "execution_count": 913,
   "metadata": {},
   "outputs": [],
   "source": [
    "#Lemmatization\n",
    "lemmatizer = WordNetLemmatizer()\n",
    "train['clean_tweet'] = train['clean_tweet'].apply(lambda x : ' '.join([lemmatizer.lemmatize(word) for word in x.split()]))"
   ]
  },
  {
   "cell_type": "code",
   "execution_count": 914,
   "metadata": {},
   "outputs": [],
   "source": [
    "#Removing http and https\n",
    "train['clean_tweet'] = train['clean_tweet'].apply(lambda x :' '.join([word for word in x.split() if not word.startswith('http')]))\n",
    "train['clean_tweet'] = train['clean_tweet'].apply(lambda x :' '.join([word for word in x.split() if not word.startswith('https')]))"
   ]
  },
  {
   "cell_type": "code",
   "execution_count": 551,
   "metadata": {},
   "outputs": [
    {
     "data": {
      "text/plain": [
       "(7613, 6)"
      ]
     },
     "execution_count": 551,
     "metadata": {},
     "output_type": "execute_result"
    }
   ],
   "source": [
    "train.shape"
   ]
  },
  {
   "cell_type": "code",
   "execution_count": 556,
   "metadata": {},
   "outputs": [
    {
     "data": {
      "text/html": [
       "<div>\n",
       "<style scoped>\n",
       "    .dataframe tbody tr th:only-of-type {\n",
       "        vertical-align: middle;\n",
       "    }\n",
       "\n",
       "    .dataframe tbody tr th {\n",
       "        vertical-align: top;\n",
       "    }\n",
       "\n",
       "    .dataframe thead th {\n",
       "        text-align: right;\n",
       "    }\n",
       "</style>\n",
       "<table border=\"1\" class=\"dataframe\">\n",
       "  <thead>\n",
       "    <tr style=\"text-align: right;\">\n",
       "      <th></th>\n",
       "      <th>id</th>\n",
       "      <th>keyword</th>\n",
       "      <th>location</th>\n",
       "      <th>text</th>\n",
       "      <th>target</th>\n",
       "      <th>clean_text</th>\n",
       "    </tr>\n",
       "  </thead>\n",
       "  <tbody>\n",
       "    <tr>\n",
       "      <td>0</td>\n",
       "      <td>1</td>\n",
       "      <td>Unknown</td>\n",
       "      <td>Other_location</td>\n",
       "      <td>our deeds are the reason of this #earthquake m...</td>\n",
       "      <td>1</td>\n",
       "      <td>deed reason #earthquak may allah forgiv u</td>\n",
       "    </tr>\n",
       "    <tr>\n",
       "      <td>1</td>\n",
       "      <td>4</td>\n",
       "      <td>Unknown</td>\n",
       "      <td>Other_location</td>\n",
       "      <td>forest fire near la ronge sask. canada</td>\n",
       "      <td>1</td>\n",
       "      <td>forest fire near la rong sask. canada</td>\n",
       "    </tr>\n",
       "    <tr>\n",
       "      <td>2</td>\n",
       "      <td>5</td>\n",
       "      <td>Unknown</td>\n",
       "      <td>Other_location</td>\n",
       "      <td>all residents asked to 'shelter in place' are ...</td>\n",
       "      <td>1</td>\n",
       "      <td>resid ask 'shelter place' notifi officers. eva...</td>\n",
       "    </tr>\n",
       "    <tr>\n",
       "      <td>3</td>\n",
       "      <td>6</td>\n",
       "      <td>Unknown</td>\n",
       "      <td>Other_location</td>\n",
       "      <td>13,000 people receive #wildfires evacuation or...</td>\n",
       "      <td>1</td>\n",
       "      <td>13,000 peopl receiv #wildfir evacu order calif...</td>\n",
       "    </tr>\n",
       "    <tr>\n",
       "      <td>4</td>\n",
       "      <td>7</td>\n",
       "      <td>Unknown</td>\n",
       "      <td>Other_location</td>\n",
       "      <td>just got sent this photo from ruby #alaska as ...</td>\n",
       "      <td>1</td>\n",
       "      <td>got sent photo rubi #alaska smoke #wildfir pou...</td>\n",
       "    </tr>\n",
       "  </tbody>\n",
       "</table>\n",
       "</div>"
      ],
      "text/plain": [
       "   id  keyword        location  \\\n",
       "0   1  Unknown  Other_location   \n",
       "1   4  Unknown  Other_location   \n",
       "2   5  Unknown  Other_location   \n",
       "3   6  Unknown  Other_location   \n",
       "4   7  Unknown  Other_location   \n",
       "\n",
       "                                                text  target  \\\n",
       "0  our deeds are the reason of this #earthquake m...       1   \n",
       "1             forest fire near la ronge sask. canada       1   \n",
       "2  all residents asked to 'shelter in place' are ...       1   \n",
       "3  13,000 people receive #wildfires evacuation or...       1   \n",
       "4  just got sent this photo from ruby #alaska as ...       1   \n",
       "\n",
       "                                          clean_text  \n",
       "0          deed reason #earthquak may allah forgiv u  \n",
       "1              forest fire near la rong sask. canada  \n",
       "2  resid ask 'shelter place' notifi officers. eva...  \n",
       "3  13,000 peopl receiv #wildfir evacu order calif...  \n",
       "4  got sent photo rubi #alaska smoke #wildfir pou...  "
      ]
     },
     "execution_count": 556,
     "metadata": {},
     "output_type": "execute_result"
    }
   ],
   "source": [
    "train.head()"
   ]
  },
  {
   "cell_type": "code",
   "execution_count": 566,
   "metadata": {},
   "outputs": [],
   "source": [
    "train1 = train"
   ]
  },
  {
   "cell_type": "code",
   "execution_count": 567,
   "metadata": {},
   "outputs": [],
   "source": [
    "train1.drop('id',inplace=True,axis=1)\n",
    "train1.drop('keyword',inplace=True,axis=1)\n",
    "train1.drop('location',inplace=True,axis=1)\n",
    "train1.drop('text',inplace=True,axis=1)"
   ]
  },
  {
   "cell_type": "code",
   "execution_count": 569,
   "metadata": {},
   "outputs": [],
   "source": [
    "train1 = train1[['clean_text','target']]"
   ]
  },
  {
   "cell_type": "code",
   "execution_count": 656,
   "metadata": {},
   "outputs": [
    {
     "data": {
      "text/html": [
       "<div>\n",
       "<style scoped>\n",
       "    .dataframe tbody tr th:only-of-type {\n",
       "        vertical-align: middle;\n",
       "    }\n",
       "\n",
       "    .dataframe tbody tr th {\n",
       "        vertical-align: top;\n",
       "    }\n",
       "\n",
       "    .dataframe thead th {\n",
       "        text-align: right;\n",
       "    }\n",
       "</style>\n",
       "<table border=\"1\" class=\"dataframe\">\n",
       "  <thead>\n",
       "    <tr style=\"text-align: right;\">\n",
       "      <th></th>\n",
       "      <th>Clean_Text</th>\n",
       "      <th>target</th>\n",
       "    </tr>\n",
       "  </thead>\n",
       "  <tbody>\n",
       "    <tr>\n",
       "      <td>0</td>\n",
       "      <td>deed reason earthquak may allah forgiv u</td>\n",
       "      <td>1</td>\n",
       "    </tr>\n",
       "    <tr>\n",
       "      <td>1</td>\n",
       "      <td>forest fire near la rong sask canada</td>\n",
       "      <td>1</td>\n",
       "    </tr>\n",
       "    <tr>\n",
       "      <td>2</td>\n",
       "      <td>resid ask shelter place notifi offic evacu she...</td>\n",
       "      <td>1</td>\n",
       "    </tr>\n",
       "    <tr>\n",
       "      <td>3</td>\n",
       "      <td>peopl receiv wildfir evacu order california</td>\n",
       "      <td>1</td>\n",
       "    </tr>\n",
       "    <tr>\n",
       "      <td>4</td>\n",
       "      <td>got sent photo rubi alaska smoke wildfir pour ...</td>\n",
       "      <td>1</td>\n",
       "    </tr>\n",
       "  </tbody>\n",
       "</table>\n",
       "</div>"
      ],
      "text/plain": [
       "                                          Clean_Text  target\n",
       "0           deed reason earthquak may allah forgiv u       1\n",
       "1               forest fire near la rong sask canada       1\n",
       "2  resid ask shelter place notifi offic evacu she...       1\n",
       "3        peopl receiv wildfir evacu order california       1\n",
       "4  got sent photo rubi alaska smoke wildfir pour ...       1"
      ]
     },
     "execution_count": 656,
     "metadata": {},
     "output_type": "execute_result"
    }
   ],
   "source": [
    "train1.head()"
   ]
  },
  {
   "cell_type": "code",
   "execution_count": 915,
   "metadata": {},
   "outputs": [],
   "source": [
    "#Tokenization\n",
    "corpus_list = []\n",
    "for i in range(0,7613):\n",
    "    tweet = re.sub('[^a-zA-Z]',' ',train['clean_tweet'][i])\n",
    "    tweet = tweet.lower()\n",
    "    tweet = tweet.split()\n",
    "    tweet = [ps.stem(word) for word in tweet if not word in set(stopwords.words('english'))]\n",
    "    tweet = ' '.join(tweet)\n",
    "    corpus_list.append(tweet)"
   ]
  },
  {
   "cell_type": "code",
   "execution_count": 916,
   "metadata": {},
   "outputs": [
    {
     "name": "stdout",
     "output_type": "stream",
     "text": [
      "['deed reason thi earthquak may allah forgiv u', 'forest fire near la rong sask canada', 'resid ask shelter place notifi offic evacu shelter place order expect', 'peopl receiv wildfir evacu order california', 'got sent thi photo rubi alaska smoke wildfir pour school']\n",
      "7613\n"
     ]
    }
   ],
   "source": [
    "#Checking the created corpus\n",
    "print(corpus_list[0:5])\n",
    "print(len(corpus_list))"
   ]
  },
  {
   "cell_type": "code",
   "execution_count": null,
   "metadata": {},
   "outputs": [],
   "source": []
  },
  {
   "cell_type": "code",
   "execution_count": 921,
   "metadata": {},
   "outputs": [],
   "source": [
    "#Converting the list to a dataframe to visualise a wordcloud\n",
    "corp2 = pd.DataFrame(corpus_list)\n",
    "corp2.head()\n",
    "train1 = pd.concat([train,corp2],axis = 1)"
   ]
  },
  {
   "cell_type": "code",
   "execution_count": 922,
   "metadata": {},
   "outputs": [
    {
     "data": {
      "text/html": [
       "<div>\n",
       "<style scoped>\n",
       "    .dataframe tbody tr th:only-of-type {\n",
       "        vertical-align: middle;\n",
       "    }\n",
       "\n",
       "    .dataframe tbody tr th {\n",
       "        vertical-align: top;\n",
       "    }\n",
       "\n",
       "    .dataframe thead th {\n",
       "        text-align: right;\n",
       "    }\n",
       "</style>\n",
       "<table border=\"1\" class=\"dataframe\">\n",
       "  <thead>\n",
       "    <tr style=\"text-align: right;\">\n",
       "      <th></th>\n",
       "      <th>id</th>\n",
       "      <th>keyword</th>\n",
       "      <th>location</th>\n",
       "      <th>text</th>\n",
       "      <th>target</th>\n",
       "      <th>clean_tweet</th>\n",
       "      <th>0</th>\n",
       "    </tr>\n",
       "  </thead>\n",
       "  <tbody>\n",
       "    <tr>\n",
       "      <td>0</td>\n",
       "      <td>1</td>\n",
       "      <td>Unknown</td>\n",
       "      <td>Other_location</td>\n",
       "      <td>Our Deeds are the Reason of this #earthquake M...</td>\n",
       "      <td>1</td>\n",
       "      <td>deed reason thi #earthquak may allah forgiv u</td>\n",
       "      <td>deed reason thi earthquak may allah forgiv u</td>\n",
       "    </tr>\n",
       "    <tr>\n",
       "      <td>1</td>\n",
       "      <td>4</td>\n",
       "      <td>Unknown</td>\n",
       "      <td>Other_location</td>\n",
       "      <td>Forest fire near La Ronge Sask. Canada</td>\n",
       "      <td>1</td>\n",
       "      <td>forest fire near La rong sask. canada</td>\n",
       "      <td>forest fire near la rong sask canada</td>\n",
       "    </tr>\n",
       "    <tr>\n",
       "      <td>2</td>\n",
       "      <td>5</td>\n",
       "      <td>Unknown</td>\n",
       "      <td>Other_location</td>\n",
       "      <td>All residents asked to 'shelter in place' are ...</td>\n",
       "      <td>1</td>\n",
       "      <td>resid ask 'shelter place' notifi officers. No ...</td>\n",
       "      <td>resid ask shelter place notifi offic evacu she...</td>\n",
       "    </tr>\n",
       "    <tr>\n",
       "      <td>3</td>\n",
       "      <td>6</td>\n",
       "      <td>Unknown</td>\n",
       "      <td>Other_location</td>\n",
       "      <td>13,000 people receive #wildfires evacuation or...</td>\n",
       "      <td>1</td>\n",
       "      <td>13,000 peopl receiv #wildfir evacu order calif...</td>\n",
       "      <td>peopl receiv wildfir evacu order california</td>\n",
       "    </tr>\n",
       "    <tr>\n",
       "      <td>4</td>\n",
       "      <td>7</td>\n",
       "      <td>Unknown</td>\n",
       "      <td>Other_location</td>\n",
       "      <td>Just got sent this photo from Ruby #Alaska as ...</td>\n",
       "      <td>1</td>\n",
       "      <td>got sent thi photo rubi #alaska smoke #wildfir...</td>\n",
       "      <td>got sent thi photo rubi alaska smoke wildfir p...</td>\n",
       "    </tr>\n",
       "  </tbody>\n",
       "</table>\n",
       "</div>"
      ],
      "text/plain": [
       "   id  keyword        location  \\\n",
       "0   1  Unknown  Other_location   \n",
       "1   4  Unknown  Other_location   \n",
       "2   5  Unknown  Other_location   \n",
       "3   6  Unknown  Other_location   \n",
       "4   7  Unknown  Other_location   \n",
       "\n",
       "                                                text  target  \\\n",
       "0  Our Deeds are the Reason of this #earthquake M...       1   \n",
       "1             Forest fire near La Ronge Sask. Canada       1   \n",
       "2  All residents asked to 'shelter in place' are ...       1   \n",
       "3  13,000 people receive #wildfires evacuation or...       1   \n",
       "4  Just got sent this photo from Ruby #Alaska as ...       1   \n",
       "\n",
       "                                         clean_tweet  \\\n",
       "0      deed reason thi #earthquak may allah forgiv u   \n",
       "1              forest fire near La rong sask. canada   \n",
       "2  resid ask 'shelter place' notifi officers. No ...   \n",
       "3  13,000 peopl receiv #wildfir evacu order calif...   \n",
       "4  got sent thi photo rubi #alaska smoke #wildfir...   \n",
       "\n",
       "                                                   0  \n",
       "0       deed reason thi earthquak may allah forgiv u  \n",
       "1               forest fire near la rong sask canada  \n",
       "2  resid ask shelter place notifi offic evacu she...  \n",
       "3        peopl receiv wildfir evacu order california  \n",
       "4  got sent thi photo rubi alaska smoke wildfir p...  "
      ]
     },
     "execution_count": 922,
     "metadata": {},
     "output_type": "execute_result"
    }
   ],
   "source": [
    "train1.head()"
   ]
  },
  {
   "cell_type": "code",
   "execution_count": 923,
   "metadata": {},
   "outputs": [
    {
     "data": {
      "text/html": [
       "<div>\n",
       "<style scoped>\n",
       "    .dataframe tbody tr th:only-of-type {\n",
       "        vertical-align: middle;\n",
       "    }\n",
       "\n",
       "    .dataframe tbody tr th {\n",
       "        vertical-align: top;\n",
       "    }\n",
       "\n",
       "    .dataframe thead th {\n",
       "        text-align: right;\n",
       "    }\n",
       "</style>\n",
       "<table border=\"1\" class=\"dataframe\">\n",
       "  <thead>\n",
       "    <tr style=\"text-align: right;\">\n",
       "      <th></th>\n",
       "      <th>id</th>\n",
       "      <th>keyword</th>\n",
       "      <th>location</th>\n",
       "      <th>text</th>\n",
       "      <th>target</th>\n",
       "      <th>clean_tweet</th>\n",
       "      <th>0</th>\n",
       "    </tr>\n",
       "  </thead>\n",
       "  <tbody>\n",
       "    <tr>\n",
       "      <td>0</td>\n",
       "      <td>1</td>\n",
       "      <td>Unknown</td>\n",
       "      <td>Other_location</td>\n",
       "      <td>Our Deeds are the Reason of this #earthquake M...</td>\n",
       "      <td>1</td>\n",
       "      <td>deed reason thi #earthquak may allah forgiv u</td>\n",
       "      <td>deed reason thi earthquak may allah forgiv u</td>\n",
       "    </tr>\n",
       "    <tr>\n",
       "      <td>1</td>\n",
       "      <td>4</td>\n",
       "      <td>Unknown</td>\n",
       "      <td>Other_location</td>\n",
       "      <td>Forest fire near La Ronge Sask. Canada</td>\n",
       "      <td>1</td>\n",
       "      <td>forest fire near La rong sask. canada</td>\n",
       "      <td>forest fire near la rong sask canada</td>\n",
       "    </tr>\n",
       "    <tr>\n",
       "      <td>2</td>\n",
       "      <td>5</td>\n",
       "      <td>Unknown</td>\n",
       "      <td>Other_location</td>\n",
       "      <td>All residents asked to 'shelter in place' are ...</td>\n",
       "      <td>1</td>\n",
       "      <td>resid ask 'shelter place' notifi officers. No ...</td>\n",
       "      <td>resid ask shelter place notifi offic evacu she...</td>\n",
       "    </tr>\n",
       "    <tr>\n",
       "      <td>3</td>\n",
       "      <td>6</td>\n",
       "      <td>Unknown</td>\n",
       "      <td>Other_location</td>\n",
       "      <td>13,000 people receive #wildfires evacuation or...</td>\n",
       "      <td>1</td>\n",
       "      <td>13,000 peopl receiv #wildfir evacu order calif...</td>\n",
       "      <td>peopl receiv wildfir evacu order california</td>\n",
       "    </tr>\n",
       "    <tr>\n",
       "      <td>4</td>\n",
       "      <td>7</td>\n",
       "      <td>Unknown</td>\n",
       "      <td>Other_location</td>\n",
       "      <td>Just got sent this photo from Ruby #Alaska as ...</td>\n",
       "      <td>1</td>\n",
       "      <td>got sent thi photo rubi #alaska smoke #wildfir...</td>\n",
       "      <td>got sent thi photo rubi alaska smoke wildfir p...</td>\n",
       "    </tr>\n",
       "  </tbody>\n",
       "</table>\n",
       "</div>"
      ],
      "text/plain": [
       "   id  keyword        location  \\\n",
       "0   1  Unknown  Other_location   \n",
       "1   4  Unknown  Other_location   \n",
       "2   5  Unknown  Other_location   \n",
       "3   6  Unknown  Other_location   \n",
       "4   7  Unknown  Other_location   \n",
       "\n",
       "                                                text  target  \\\n",
       "0  Our Deeds are the Reason of this #earthquake M...       1   \n",
       "1             Forest fire near La Ronge Sask. Canada       1   \n",
       "2  All residents asked to 'shelter in place' are ...       1   \n",
       "3  13,000 people receive #wildfires evacuation or...       1   \n",
       "4  Just got sent this photo from Ruby #Alaska as ...       1   \n",
       "\n",
       "                                         clean_tweet  \\\n",
       "0      deed reason thi #earthquak may allah forgiv u   \n",
       "1              forest fire near La rong sask. canada   \n",
       "2  resid ask 'shelter place' notifi officers. No ...   \n",
       "3  13,000 peopl receiv #wildfir evacu order calif...   \n",
       "4  got sent thi photo rubi #alaska smoke #wildfir...   \n",
       "\n",
       "                                                   0  \n",
       "0       deed reason thi earthquak may allah forgiv u  \n",
       "1               forest fire near la rong sask canada  \n",
       "2  resid ask shelter place notifi offic evacu she...  \n",
       "3        peopl receiv wildfir evacu order california  \n",
       "4  got sent thi photo rubi alaska smoke wildfir p...  "
      ]
     },
     "execution_count": 923,
     "metadata": {},
     "output_type": "execute_result"
    }
   ],
   "source": [
    "train1.head()"
   ]
  },
  {
   "cell_type": "code",
   "execution_count": 924,
   "metadata": {},
   "outputs": [
    {
     "data": {
      "text/html": [
       "<div>\n",
       "<style scoped>\n",
       "    .dataframe tbody tr th:only-of-type {\n",
       "        vertical-align: middle;\n",
       "    }\n",
       "\n",
       "    .dataframe tbody tr th {\n",
       "        vertical-align: top;\n",
       "    }\n",
       "\n",
       "    .dataframe thead th {\n",
       "        text-align: right;\n",
       "    }\n",
       "</style>\n",
       "<table border=\"1\" class=\"dataframe\">\n",
       "  <thead>\n",
       "    <tr style=\"text-align: right;\">\n",
       "      <th></th>\n",
       "      <th>id</th>\n",
       "      <th>keyword</th>\n",
       "      <th>location</th>\n",
       "      <th>text</th>\n",
       "      <th>target</th>\n",
       "      <th>clean_tweet</th>\n",
       "      <th>0</th>\n",
       "    </tr>\n",
       "  </thead>\n",
       "  <tbody>\n",
       "    <tr>\n",
       "      <td>0</td>\n",
       "      <td>1</td>\n",
       "      <td>Unknown</td>\n",
       "      <td>Other_location</td>\n",
       "      <td>Our Deeds are the Reason of this #earthquake M...</td>\n",
       "      <td>1</td>\n",
       "      <td>deed reason thi #earthquak may allah forgiv u</td>\n",
       "      <td>deed reason thi earthquak may allah forgiv u</td>\n",
       "    </tr>\n",
       "    <tr>\n",
       "      <td>1</td>\n",
       "      <td>4</td>\n",
       "      <td>Unknown</td>\n",
       "      <td>Other_location</td>\n",
       "      <td>Forest fire near La Ronge Sask. Canada</td>\n",
       "      <td>1</td>\n",
       "      <td>forest fire near La rong sask. canada</td>\n",
       "      <td>forest fire near la rong sask canada</td>\n",
       "    </tr>\n",
       "    <tr>\n",
       "      <td>2</td>\n",
       "      <td>5</td>\n",
       "      <td>Unknown</td>\n",
       "      <td>Other_location</td>\n",
       "      <td>All residents asked to 'shelter in place' are ...</td>\n",
       "      <td>1</td>\n",
       "      <td>resid ask 'shelter place' notifi officers. No ...</td>\n",
       "      <td>resid ask shelter place notifi offic evacu she...</td>\n",
       "    </tr>\n",
       "    <tr>\n",
       "      <td>3</td>\n",
       "      <td>6</td>\n",
       "      <td>Unknown</td>\n",
       "      <td>Other_location</td>\n",
       "      <td>13,000 people receive #wildfires evacuation or...</td>\n",
       "      <td>1</td>\n",
       "      <td>13,000 peopl receiv #wildfir evacu order calif...</td>\n",
       "      <td>peopl receiv wildfir evacu order california</td>\n",
       "    </tr>\n",
       "    <tr>\n",
       "      <td>4</td>\n",
       "      <td>7</td>\n",
       "      <td>Unknown</td>\n",
       "      <td>Other_location</td>\n",
       "      <td>Just got sent this photo from Ruby #Alaska as ...</td>\n",
       "      <td>1</td>\n",
       "      <td>got sent thi photo rubi #alaska smoke #wildfir...</td>\n",
       "      <td>got sent thi photo rubi alaska smoke wildfir p...</td>\n",
       "    </tr>\n",
       "  </tbody>\n",
       "</table>\n",
       "</div>"
      ],
      "text/plain": [
       "   id  keyword        location  \\\n",
       "0   1  Unknown  Other_location   \n",
       "1   4  Unknown  Other_location   \n",
       "2   5  Unknown  Other_location   \n",
       "3   6  Unknown  Other_location   \n",
       "4   7  Unknown  Other_location   \n",
       "\n",
       "                                                text  target  \\\n",
       "0  Our Deeds are the Reason of this #earthquake M...       1   \n",
       "1             Forest fire near La Ronge Sask. Canada       1   \n",
       "2  All residents asked to 'shelter in place' are ...       1   \n",
       "3  13,000 people receive #wildfires evacuation or...       1   \n",
       "4  Just got sent this photo from Ruby #Alaska as ...       1   \n",
       "\n",
       "                                         clean_tweet  \\\n",
       "0      deed reason thi #earthquak may allah forgiv u   \n",
       "1              forest fire near La rong sask. canada   \n",
       "2  resid ask 'shelter place' notifi officers. No ...   \n",
       "3  13,000 peopl receiv #wildfir evacu order calif...   \n",
       "4  got sent thi photo rubi #alaska smoke #wildfir...   \n",
       "\n",
       "                                                   0  \n",
       "0       deed reason thi earthquak may allah forgiv u  \n",
       "1               forest fire near la rong sask canada  \n",
       "2  resid ask shelter place notifi offic evacu she...  \n",
       "3        peopl receiv wildfir evacu order california  \n",
       "4  got sent thi photo rubi alaska smoke wildfir p...  "
      ]
     },
     "execution_count": 924,
     "metadata": {},
     "output_type": "execute_result"
    }
   ],
   "source": [
    "train1.head()"
   ]
  },
  {
   "cell_type": "code",
   "execution_count": 925,
   "metadata": {},
   "outputs": [],
   "source": [
    "train1 = train1.rename({0:'Clean_Text'},axis = 'columns')"
   ]
  },
  {
   "cell_type": "code",
   "execution_count": 929,
   "metadata": {},
   "outputs": [],
   "source": [
    "train1.drop('location',inplace=True,axis=1)"
   ]
  },
  {
   "cell_type": "code",
   "execution_count": 930,
   "metadata": {},
   "outputs": [
    {
     "data": {
      "text/html": [
       "<div>\n",
       "<style scoped>\n",
       "    .dataframe tbody tr th:only-of-type {\n",
       "        vertical-align: middle;\n",
       "    }\n",
       "\n",
       "    .dataframe tbody tr th {\n",
       "        vertical-align: top;\n",
       "    }\n",
       "\n",
       "    .dataframe thead th {\n",
       "        text-align: right;\n",
       "    }\n",
       "</style>\n",
       "<table border=\"1\" class=\"dataframe\">\n",
       "  <thead>\n",
       "    <tr style=\"text-align: right;\">\n",
       "      <th></th>\n",
       "      <th>target</th>\n",
       "      <th>Clean_Text</th>\n",
       "    </tr>\n",
       "  </thead>\n",
       "  <tbody>\n",
       "    <tr>\n",
       "      <td>0</td>\n",
       "      <td>1</td>\n",
       "      <td>deed reason thi earthquak may allah forgiv u</td>\n",
       "    </tr>\n",
       "    <tr>\n",
       "      <td>1</td>\n",
       "      <td>1</td>\n",
       "      <td>forest fire near la rong sask canada</td>\n",
       "    </tr>\n",
       "    <tr>\n",
       "      <td>2</td>\n",
       "      <td>1</td>\n",
       "      <td>resid ask shelter place notifi offic evacu she...</td>\n",
       "    </tr>\n",
       "    <tr>\n",
       "      <td>3</td>\n",
       "      <td>1</td>\n",
       "      <td>peopl receiv wildfir evacu order california</td>\n",
       "    </tr>\n",
       "    <tr>\n",
       "      <td>4</td>\n",
       "      <td>1</td>\n",
       "      <td>got sent thi photo rubi alaska smoke wildfir p...</td>\n",
       "    </tr>\n",
       "  </tbody>\n",
       "</table>\n",
       "</div>"
      ],
      "text/plain": [
       "   target                                         Clean_Text\n",
       "0       1       deed reason thi earthquak may allah forgiv u\n",
       "1       1               forest fire near la rong sask canada\n",
       "2       1  resid ask shelter place notifi offic evacu she...\n",
       "3       1        peopl receiv wildfir evacu order california\n",
       "4       1  got sent thi photo rubi alaska smoke wildfir p..."
      ]
     },
     "execution_count": 930,
     "metadata": {},
     "output_type": "execute_result"
    }
   ],
   "source": [
    "train1.head()"
   ]
  },
  {
   "cell_type": "code",
   "execution_count": 931,
   "metadata": {},
   "outputs": [],
   "source": [
    "#Rearranging columns\n",
    "train1 = train1[['Clean_Text','target']]"
   ]
  },
  {
   "cell_type": "code",
   "execution_count": 932,
   "metadata": {},
   "outputs": [
    {
     "data": {
      "text/html": [
       "<div>\n",
       "<style scoped>\n",
       "    .dataframe tbody tr th:only-of-type {\n",
       "        vertical-align: middle;\n",
       "    }\n",
       "\n",
       "    .dataframe tbody tr th {\n",
       "        vertical-align: top;\n",
       "    }\n",
       "\n",
       "    .dataframe thead th {\n",
       "        text-align: right;\n",
       "    }\n",
       "</style>\n",
       "<table border=\"1\" class=\"dataframe\">\n",
       "  <thead>\n",
       "    <tr style=\"text-align: right;\">\n",
       "      <th></th>\n",
       "      <th>Clean_Text</th>\n",
       "      <th>target</th>\n",
       "    </tr>\n",
       "  </thead>\n",
       "  <tbody>\n",
       "    <tr>\n",
       "      <td>0</td>\n",
       "      <td>deed reason thi earthquak may allah forgiv u</td>\n",
       "      <td>1</td>\n",
       "    </tr>\n",
       "    <tr>\n",
       "      <td>1</td>\n",
       "      <td>forest fire near la rong sask canada</td>\n",
       "      <td>1</td>\n",
       "    </tr>\n",
       "    <tr>\n",
       "      <td>2</td>\n",
       "      <td>resid ask shelter place notifi offic evacu she...</td>\n",
       "      <td>1</td>\n",
       "    </tr>\n",
       "    <tr>\n",
       "      <td>3</td>\n",
       "      <td>peopl receiv wildfir evacu order california</td>\n",
       "      <td>1</td>\n",
       "    </tr>\n",
       "    <tr>\n",
       "      <td>4</td>\n",
       "      <td>got sent thi photo rubi alaska smoke wildfir p...</td>\n",
       "      <td>1</td>\n",
       "    </tr>\n",
       "  </tbody>\n",
       "</table>\n",
       "</div>"
      ],
      "text/plain": [
       "                                          Clean_Text  target\n",
       "0       deed reason thi earthquak may allah forgiv u       1\n",
       "1               forest fire near la rong sask canada       1\n",
       "2  resid ask shelter place notifi offic evacu she...       1\n",
       "3        peopl receiv wildfir evacu order california       1\n",
       "4  got sent thi photo rubi alaska smoke wildfir p...       1"
      ]
     },
     "execution_count": 932,
     "metadata": {},
     "output_type": "execute_result"
    }
   ],
   "source": [
    "train1.head()"
   ]
  },
  {
   "cell_type": "code",
   "execution_count": 933,
   "metadata": {},
   "outputs": [],
   "source": [
    "train1.to_csv('Disdata.csv')"
   ]
  },
  {
   "cell_type": "code",
   "execution_count": 585,
   "metadata": {},
   "outputs": [],
   "source": [
    "#Generating word cloud\n",
    "from PIL import Image\n",
    "from wordcloud import WordCloud, STOPWORDS\n",
    "from IPython.display import Image as im\n",
    "mask = np.array(Image.open('mask.png'))"
   ]
  },
  {
   "cell_type": "code",
   "execution_count": 586,
   "metadata": {},
   "outputs": [
    {
     "data": {
      "image/png": "[encoded data removed]",
      "text/plain": [
       "<Figure size 1440x720 with 1 Axes>"
      ]
     },
     "metadata": {
      "needs_background": "light"
     },
     "output_type": "display_data"
    }
   ],
   "source": [
    "#Non-disaster tweets\n",
    "normal_words = ' '.join([word for word in train1['Clean_Text'][train1['target'] == 0]])\n",
    "wc = WordCloud(background_color=\"white\", max_words=100, mask=mask,collocations=False)\n",
    "wc.generate(normal_words)\n",
    "plt.figure(figsize= (20,10))\n",
    "plt.imshow(wc, interpolation='bilinear')\n",
    "#plt.title('Twitter Generated Cloud', size=40)\n",
    "plt.axis(\"off\")\n",
    "plt.show()"
   ]
  },
  {
   "cell_type": "code",
   "execution_count": 587,
   "metadata": {},
   "outputs": [
    {
     "data": {
      "image/png": "[encoded data removed]",
      "text/plain": [
       "<Figure size 1440x720 with 1 Axes>"
      ]
     },
     "metadata": {
      "needs_background": "light"
     },
     "output_type": "display_data"
    }
   ],
   "source": [
    "#Disaster tweets\n",
    "mask = np.array(Image.open('mask.png'))\n",
    "normal_words = ' '.join([word for word in train1['Clean_Text'][train1['target'] == 1]])\n",
    "wc = WordCloud(background_color=\"white\", max_words=100, mask=mask,collocations=False)\n",
    "wc.generate(normal_words)\n",
    "plt.figure(figsize= (20,10))\n",
    "plt.imshow(wc, interpolation='bilinear')\n",
    "#plt.title('Twitter Generated Cloud', size=40)\n",
    "plt.axis(\"off\")\n",
    "plt.show()"
   ]
  },
  {
   "cell_type": "code",
   "execution_count": 693,
   "metadata": {},
   "outputs": [],
   "source": [
    "#Bag of words vectorizer Unigrams\n",
    "X_train, X_test, y_train, y_test = train_test_split(train1['Clean_Text'], train1['target'], test_size = 0.3, random_state=0, shuffle = True, stratify=train1['target'])\n",
    "bow_vectorizer = CountVectorizer()\n",
    "X_train_vect = bow_vectorizer.fit_transform(X_train)"
   ]
  },
  {
   "cell_type": "code",
   "execution_count": 694,
   "metadata": {},
   "outputs": [],
   "source": [
    "#TF-IDF vectorizer Unigrams\n",
    "X1_train, X1_test, y1_train, y1_test = train_test_split(train1['Clean_Text'], train1['target'], test_size = 0.3, random_state=0, shuffle = True, stratify=train1['target'])\n",
    "tfidf_vectorizer = TfidfVectorizer()\n",
    "X1_train_vect = tfidf_vectorizer.fit_transform(X1_train)"
   ]
  },
  {
   "cell_type": "code",
   "execution_count": 597,
   "metadata": {},
   "outputs": [
    {
     "name": "stdout",
     "output_type": "stream",
     "text": [
      "Predicted     0    1\n",
      "Actual              \n",
      "0          1185  118\n",
      "1           369  612\n",
      "              precision    recall  f1-score   support\n",
      "\n",
      "           0       0.76      0.91      0.83      1303\n",
      "           1       0.84      0.62      0.72       981\n",
      "\n",
      "    accuracy                           0.79      2284\n",
      "   macro avg       0.80      0.77      0.77      2284\n",
      "weighted avg       0.80      0.79      0.78      2284\n",
      "\n",
      "Accuracy of the model is 78.67775831873905 %\n",
      "0.7153711279953243\n"
     ]
    }
   ],
   "source": [
    "#Random Forest with Bag of words\n",
    "rf = Pipeline([('bow_vectorizer', CountVectorizer()), ('rf', RandomForestClassifier())])\n",
    "rf.fit(X_train, y_train)\n",
    "y_pred = rf.predict(X_test)\n",
    "print(pd.crosstab(y_test,y_pred,rownames=['Actual'],colnames=['Predicted']))\n",
    "print(classification_report(y_test, y_pred))\n",
    "print('Accuracy of the model is',accuracy_score(y_test, y_pred)*100,'%')\n",
    "print(f1_score(y_test, y_pred))"
   ]
  },
  {
   "cell_type": "code",
   "execution_count": 598,
   "metadata": {},
   "outputs": [
    {
     "name": "stdout",
     "output_type": "stream",
     "text": [
      "Predicted     0    1\n",
      "Actual              \n",
      "0          1155  148\n",
      "1           367  614\n",
      "              precision    recall  f1-score   support\n",
      "\n",
      "           0       0.76      0.89      0.82      1303\n",
      "           1       0.81      0.63      0.70       981\n",
      "\n",
      "    accuracy                           0.77      2284\n",
      "   macro avg       0.78      0.76      0.76      2284\n",
      "weighted avg       0.78      0.77      0.77      2284\n",
      "\n",
      "Accuracy of the model is 77.45183887915937 %\n",
      "0.7045324153757887\n"
     ]
    }
   ],
   "source": [
    "#Random Forest with TF-IDF\n",
    "rf1 = Pipeline([('tfidf_vectorizer', TfidfVectorizer()), ('rf1', RandomForestClassifier())])\n",
    "rf1.fit(X1_train, y1_train)\n",
    "y1_pred = rf1.predict(X1_test)\n",
    "print(pd.crosstab(y1_test,y1_pred,rownames=['Actual'],colnames=['Predicted']))\n",
    "print(classification_report(y1_test, y1_pred))\n",
    "print('Accuracy of the model is',accuracy_score(y1_test, y1_pred)*100,'%')\n",
    "print(f1_score(y1_test, y1_pred))"
   ]
  },
  {
   "cell_type": "code",
   "execution_count": 601,
   "metadata": {},
   "outputs": [
    {
     "name": "stdout",
     "output_type": "stream",
     "text": [
      "Predicted     0    1\n",
      "Actual              \n",
      "0          1147  156\n",
      "1           294  687\n",
      "              precision    recall  f1-score   support\n",
      "\n",
      "           0       0.80      0.88      0.84      1303\n",
      "           1       0.81      0.70      0.75       981\n",
      "\n",
      "    accuracy                           0.80      2284\n",
      "   macro avg       0.81      0.79      0.79      2284\n",
      "weighted avg       0.80      0.80      0.80      2284\n",
      "\n",
      "Accuracy of the model is 80.29772329246934 %\n",
      "0.7532894736842106\n"
     ]
    }
   ],
   "source": [
    "#Logistic Regression with Bag of words\n",
    "lr = Pipeline([('bow_vectorizer', CountVectorizer()), ('lr', LogisticRegression())])\n",
    "lr.fit(X_train, y_train)\n",
    "y_pred = lr.predict(X_test)\n",
    "print(pd.crosstab(y_test,y_pred,rownames=['Actual'],colnames=['Predicted']))\n",
    "print(classification_report(y_test, y_pred))\n",
    "print('Accuracy of the model is',accuracy_score(y_test, y_pred)*100,'%')\n",
    "print(f1_score(y_test, y_pred))"
   ]
  },
  {
   "cell_type": "code",
   "execution_count": 603,
   "metadata": {},
   "outputs": [
    {
     "name": "stdout",
     "output_type": "stream",
     "text": [
      "Predicted     0    1\n",
      "Actual              \n",
      "0          1143  160\n",
      "1           367  614\n",
      "              precision    recall  f1-score   support\n",
      "\n",
      "           0       0.76      0.88      0.81      1303\n",
      "           1       0.79      0.63      0.70       981\n",
      "\n",
      "    accuracy                           0.77      2284\n",
      "   macro avg       0.78      0.75      0.76      2284\n",
      "weighted avg       0.77      0.77      0.76      2284\n",
      "\n",
      "Accuracy of the model is 76.92644483362521 %\n",
      "0.6997150997150997\n"
     ]
    }
   ],
   "source": [
    "#Logistic Regression with TF-IDF\n",
    "lr1 = Pipeline([('tfidf_vectorizer', TfidfVectorizer()), ('lr1', RandomForestClassifier())])\n",
    "lr1.fit(X1_train, y1_train)\n",
    "y1_pred = lr1.predict(X1_test)\n",
    "print(pd.crosstab(y1_test,y1_pred,rownames=['Actual'],colnames=['Predicted']))\n",
    "print(classification_report(y1_test, y1_pred))\n",
    "print('Accuracy of the model is',accuracy_score(y1_test, y1_pred)*100,'%')\n",
    "print(f1_score(y1_test, y1_pred))"
   ]
  },
  {
   "cell_type": "code",
   "execution_count": 606,
   "metadata": {},
   "outputs": [
    {
     "name": "stdout",
     "output_type": "stream",
     "text": [
      "Predicted     0    1\n",
      "Actual              \n",
      "0          1119  184\n",
      "1           265  716\n",
      "              precision    recall  f1-score   support\n",
      "\n",
      "           0       0.81      0.86      0.83      1303\n",
      "           1       0.80      0.73      0.76       981\n",
      "\n",
      "    accuracy                           0.80      2284\n",
      "   macro avg       0.80      0.79      0.80      2284\n",
      "weighted avg       0.80      0.80      0.80      2284\n",
      "\n",
      "Accuracy of the model is 80.34150612959719 %\n",
      "0.7612971823498139\n"
     ]
    }
   ],
   "source": [
    "#Naive Bayes with Bag of words\n",
    "nb = Pipeline([('bow_vectorizer', CountVectorizer()), ('nb', MultinomialNB())])\n",
    "nb.fit(X_train, y_train)\n",
    "y_pred = nb.predict(X_test)\n",
    "print(pd.crosstab(y_test,y_pred,rownames=['Actual'],colnames=['Predicted']))\n",
    "print(classification_report(y_test, y_pred))\n",
    "print('Accuracy of the model is',accuracy_score(y_test, y_pred)*100,'%')\n",
    "print(f1_score(y_test, y_pred))"
   ]
  },
  {
   "cell_type": "code",
   "execution_count": 610,
   "metadata": {},
   "outputs": [
    {
     "name": "stdout",
     "output_type": "stream",
     "text": [
      "Predicted     0    1\n",
      "Actual              \n",
      "0          1175  128\n",
      "1           324  657\n",
      "              precision    recall  f1-score   support\n",
      "\n",
      "           0       0.78      0.90      0.84      1303\n",
      "           1       0.84      0.67      0.74       981\n",
      "\n",
      "    accuracy                           0.80      2284\n",
      "   macro avg       0.81      0.79      0.79      2284\n",
      "weighted avg       0.81      0.80      0.80      2284\n",
      "\n",
      "Accuracy of the model is 80.21015761821366 %\n",
      "0.7440543601359004\n"
     ]
    }
   ],
   "source": [
    "#Naive Bayes with TF-IDF\n",
    "nb1 = Pipeline([('tfidf_vectorizer', TfidfVectorizer()), ('nb1', MultinomialNB())])\n",
    "nb1.fit(X1_train, y1_train)\n",
    "y1_pred = nb1.predict(X1_test)\n",
    "print(pd.crosstab(y1_test,y1_pred,rownames=['Actual'],colnames=['Predicted']))\n",
    "print(classification_report(y1_test, y1_pred))\n",
    "print('Accuracy of the model is',accuracy_score(y1_test, y1_pred)*100,'%')\n",
    "print(f1_score(y1_test, y1_pred))"
   ]
  },
  {
   "cell_type": "code",
   "execution_count": 613,
   "metadata": {},
   "outputs": [
    {
     "name": "stdout",
     "output_type": "stream",
     "text": [
      "Predicted     0    1\n",
      "Actual              \n",
      "0          1073  230\n",
      "1           325  656\n",
      "              precision    recall  f1-score   support\n",
      "\n",
      "           0       0.77      0.82      0.79      1303\n",
      "           1       0.74      0.67      0.70       981\n",
      "\n",
      "    accuracy                           0.76      2284\n",
      "   macro avg       0.75      0.75      0.75      2284\n",
      "weighted avg       0.76      0.76      0.76      2284\n",
      "\n",
      "Accuracy of the model is 75.70052539404554 %\n",
      "0.7027316550615962\n"
     ]
    }
   ],
   "source": [
    "#Decision tree with Bag of words\n",
    "dt = Pipeline([('bow_vectorizer', CountVectorizer()), ('dt', DecisionTreeClassifier())])\n",
    "dt.fit(X_train, y_train)\n",
    "y_pred = dt.predict(X_test)\n",
    "print(pd.crosstab(y_test,y_pred,rownames=['Actual'],colnames=['Predicted']))\n",
    "print(classification_report(y_test, y_pred))\n",
    "print('Accuracy of the model is',accuracy_score(y_test, y_pred)*100,'%')\n",
    "print(f1_score(y_test, y_pred))"
   ]
  },
  {
   "cell_type": "code",
   "execution_count": 615,
   "metadata": {},
   "outputs": [
    {
     "name": "stdout",
     "output_type": "stream",
     "text": [
      "Predicted     0    1\n",
      "Actual              \n",
      "0          1013  290\n",
      "1           310  671\n",
      "              precision    recall  f1-score   support\n",
      "\n",
      "           0       0.77      0.78      0.77      1303\n",
      "           1       0.70      0.68      0.69       981\n",
      "\n",
      "    accuracy                           0.74      2284\n",
      "   macro avg       0.73      0.73      0.73      2284\n",
      "weighted avg       0.74      0.74      0.74      2284\n",
      "\n",
      "Accuracy of the model is 73.73029772329247 %\n",
      "0.6910401647785788\n"
     ]
    }
   ],
   "source": [
    "#Decision Tree with TF-IDF\n",
    "dt1 = Pipeline([('tfidf_vectorizer', TfidfVectorizer()), ('dt1', DecisionTreeClassifier())])\n",
    "dt1.fit(X1_train, y1_train)\n",
    "y1_pred = dt1.predict(X1_test)\n",
    "print(pd.crosstab(y1_test,y1_pred,rownames=['Actual'],colnames=['Predicted']))\n",
    "print(classification_report(y1_test, y1_pred))\n",
    "print('Accuracy of the model is',accuracy_score(y1_test, y1_pred)*100,'%')\n",
    "print(f1_score(y1_test, y1_pred))"
   ]
  },
  {
   "cell_type": "code",
   "execution_count": 632,
   "metadata": {},
   "outputs": [],
   "source": [
    "#Bag of words vectorizer(Bigrams)\n",
    "X_train, X_test, y_train, y_test = train_test_split(train1['Clean_Text'], train1['target'], test_size = 0.3, random_state=0, shuffle = True, stratify=train1['target'])\n",
    "bow_vectorizer = CountVectorizer(stop_words='english',ngram_range=(1,2))\n",
    "X_train_vect = bow_vectorizer.fit_transform(X_train)"
   ]
  },
  {
   "cell_type": "code",
   "execution_count": 633,
   "metadata": {},
   "outputs": [],
   "source": [
    "#TF-IDF vectorizer(Bigrams)\n",
    "X1_train, X1_test, y1_train, y1_test = train_test_split(train1['Clean_Text'], train1['target'], test_size = 0.3, random_state=0, shuffle = True, stratify=train1['target'])\n",
    "tfidf_vectorizer = TfidfVectorizer(stop_words='english',ngram_range=(1,2))\n",
    "X1_train_vect = tfidf_vectorizer.fit_transform(X1_train)"
   ]
  },
  {
   "cell_type": "code",
   "execution_count": 638,
   "metadata": {},
   "outputs": [
    {
     "name": "stdout",
     "output_type": "stream",
     "text": [
      "Predicted     0    1\n",
      "Actual              \n",
      "0          1207   96\n",
      "1           439  542\n",
      "              precision    recall  f1-score   support\n",
      "\n",
      "           0       0.73      0.93      0.82      1303\n",
      "           1       0.85      0.55      0.67       981\n",
      "\n",
      "    accuracy                           0.77      2284\n",
      "   macro avg       0.79      0.74      0.74      2284\n",
      "weighted avg       0.78      0.77      0.75      2284\n",
      "\n",
      "Accuracy of the model is 76.57618213660245 %\n",
      "0.6695491043854231\n"
     ]
    }
   ],
   "source": [
    "#Random Forest with Bag of words(Bigrams)\n",
    "rf = Pipeline([('bow_vectorizer', CountVectorizer(stop_words='english',ngram_range=(1,2))), ('rf', RandomForestClassifier())])\n",
    "rf.fit(X_train, y_train)\n",
    "y_pred = rf.predict(X_test)\n",
    "print(pd.crosstab(y_test,y_pred,rownames=['Actual'],colnames=['Predicted']))\n",
    "print(classification_report(y_test, y_pred))\n",
    "print('Accuracy of the model is',accuracy_score(y_test, y_pred)*100,'%')\n",
    "print(f1_score(y_test, y_pred))"
   ]
  },
  {
   "cell_type": "code",
   "execution_count": 640,
   "metadata": {},
   "outputs": [
    {
     "name": "stdout",
     "output_type": "stream",
     "text": [
      "Predicted     0    1\n",
      "Actual              \n",
      "0          1196  107\n",
      "1           431  550\n",
      "              precision    recall  f1-score   support\n",
      "\n",
      "           0       0.74      0.92      0.82      1303\n",
      "           1       0.84      0.56      0.67       981\n",
      "\n",
      "    accuracy                           0.76      2284\n",
      "   macro avg       0.79      0.74      0.74      2284\n",
      "weighted avg       0.78      0.76      0.75      2284\n",
      "\n",
      "Accuracy of the model is 76.4448336252189 %\n",
      "0.6715506715506715\n"
     ]
    }
   ],
   "source": [
    "#Random Forest with TF-IDF(Bigrams)\n",
    "rf1 = Pipeline([('tfidf_vectorizer', TfidfVectorizer(stop_words='english',ngram_range=(1,2))), ('rf1', RandomForestClassifier())])\n",
    "rf1.fit(X1_train, y1_train)\n",
    "y1_pred = rf1.predict(X1_test)\n",
    "print(pd.crosstab(y1_test,y1_pred,rownames=['Actual'],colnames=['Predicted']))\n",
    "print(classification_report(y1_test, y1_pred))\n",
    "print('Accuracy of the model is',accuracy_score(y1_test, y1_pred)*100,'%')\n",
    "print(f1_score(y1_test, y1_pred))"
   ]
  },
  {
   "cell_type": "code",
   "execution_count": 643,
   "metadata": {},
   "outputs": [
    {
     "name": "stdout",
     "output_type": "stream",
     "text": [
      "Predicted     0    1\n",
      "Actual              \n",
      "0          1259   44\n",
      "1           559  422\n",
      "              precision    recall  f1-score   support\n",
      "\n",
      "           0       0.69      0.97      0.81      1303\n",
      "           1       0.91      0.43      0.58       981\n",
      "\n",
      "    accuracy                           0.74      2284\n",
      "   macro avg       0.80      0.70      0.70      2284\n",
      "weighted avg       0.78      0.74      0.71      2284\n",
      "\n",
      "Accuracy of the model is 73.59894921190893 %\n",
      "0.5832757429163787\n"
     ]
    }
   ],
   "source": [
    "#Logistic Regression with Bag of words(Bigrams)\n",
    "lr = Pipeline([('bow_vectorizer', CountVectorizer(stop_words='english',ngram_range=(2,2))), ('lr', LogisticRegression())])\n",
    "lr.fit(X_train, y_train)\n",
    "y_pred = lr.predict(X_test)\n",
    "print(pd.crosstab(y_test,y_pred,rownames=['Actual'],colnames=['Predicted']))\n",
    "print(classification_report(y_test, y_pred))\n",
    "print('Accuracy of the model is',accuracy_score(y_test, y_pred)*100,'%')\n",
    "print(f1_score(y_test, y_pred))"
   ]
  },
  {
   "cell_type": "code",
   "execution_count": 646,
   "metadata": {},
   "outputs": [
    {
     "name": "stdout",
     "output_type": "stream",
     "text": [
      "Predicted     0    1\n",
      "Actual              \n",
      "0          1167  136\n",
      "1           376  605\n",
      "              precision    recall  f1-score   support\n",
      "\n",
      "           0       0.76      0.90      0.82      1303\n",
      "           1       0.82      0.62      0.70       981\n",
      "\n",
      "    accuracy                           0.78      2284\n",
      "   macro avg       0.79      0.76      0.76      2284\n",
      "weighted avg       0.78      0.78      0.77      2284\n",
      "\n",
      "Accuracy of the model is 77.5831873905429 %\n",
      "0.7026713124274099\n"
     ]
    }
   ],
   "source": [
    "#Logistic Regression with TF-IDF(Bigrams)\n",
    "lr1 = Pipeline([('tfidf_vectorizer', TfidfVectorizer(stop_words='english',ngram_range=(1,2))), ('lr1', RandomForestClassifier())])\n",
    "lr1.fit(X1_train, y1_train)\n",
    "y1_pred = lr1.predict(X1_test)\n",
    "print(pd.crosstab(y1_test,y1_pred,rownames=['Actual'],colnames=['Predicted']))\n",
    "print(classification_report(y1_test, y1_pred))\n",
    "print('Accuracy of the model is',accuracy_score(y1_test, y1_pred)*100,'%')\n",
    "print(f1_score(y1_test, y1_pred))"
   ]
  },
  {
   "cell_type": "code",
   "execution_count": 651,
   "metadata": {},
   "outputs": [
    {
     "name": "stdout",
     "output_type": "stream",
     "text": [
      "Predicted     0    1\n",
      "Actual              \n",
      "0          1129  174\n",
      "1           275  706\n",
      "              precision    recall  f1-score   support\n",
      "\n",
      "           0       0.80      0.87      0.83      1303\n",
      "           1       0.80      0.72      0.76       981\n",
      "\n",
      "    accuracy                           0.80      2284\n",
      "   macro avg       0.80      0.79      0.80      2284\n",
      "weighted avg       0.80      0.80      0.80      2284\n",
      "\n",
      "Accuracy of the model is 80.34150612959719 %\n",
      "0.7587318645889307\n"
     ]
    }
   ],
   "source": [
    "#Naive Bayes with Bag of words(Bigrams)\n",
    "nb = Pipeline([('bow_vectorizer', CountVectorizer(ngram_range=(1,2))), ('nb', MultinomialNB())])\n",
    "nb.fit(X_train, y_train)\n",
    "y_pred = nb.predict(X_test)\n",
    "print(pd.crosstab(y_test,y_pred,rownames=['Actual'],colnames=['Predicted']))\n",
    "print(classification_report(y_test, y_pred))\n",
    "print('Accuracy of the model is',accuracy_score(y_test, y_pred)*100,'%')\n",
    "print(f1_score(y_test, y_pred))"
   ]
  },
  {
   "cell_type": "code",
   "execution_count": 654,
   "metadata": {},
   "outputs": [
    {
     "name": "stdout",
     "output_type": "stream",
     "text": [
      "Predicted     0    1\n",
      "Actual              \n",
      "0          1194  109\n",
      "1           338  643\n",
      "              precision    recall  f1-score   support\n",
      "\n",
      "           0       0.78      0.92      0.84      1303\n",
      "           1       0.86      0.66      0.74       981\n",
      "\n",
      "    accuracy                           0.80      2284\n",
      "   macro avg       0.82      0.79      0.79      2284\n",
      "weighted avg       0.81      0.80      0.80      2284\n",
      "\n",
      "Accuracy of the model is 80.42907180385289 %\n",
      "0.742065781881131\n"
     ]
    }
   ],
   "source": [
    "#Naive Bayes with TF-IDF(Bigrams)\n",
    "nb1 = Pipeline([('tfidf_vectorizer', TfidfVectorizer(ngram_range=(1,2))), ('nb1', MultinomialNB())])\n",
    "nb1.fit(X1_train, y1_train)\n",
    "y1_pred = nb1.predict(X1_test)\n",
    "print(pd.crosstab(y1_test,y1_pred,rownames=['Actual'],colnames=['Predicted']))\n",
    "print(classification_report(y1_test, y1_pred))\n",
    "print('Accuracy of the model is',accuracy_score(y1_test, y1_pred)*100,'%')\n",
    "print(f1_score(y1_test, y1_pred))"
   ]
  },
  {
   "cell_type": "code",
   "execution_count": 668,
   "metadata": {},
   "outputs": [],
   "source": [
    "#Training models with cross validation\n",
    "#Bag of words\n",
    "from sklearn.feature_extraction.text import CountVectorizer  \n",
    "cv = CountVectorizer(max_df=0.90, min_df=2, stop_words='english')  \n",
    "X = cv.fit_transform(cor).toarray()\n",
    "z = pd.DataFrame(X)"
   ]
  },
  {
   "cell_type": "code",
   "execution_count": 670,
   "metadata": {},
   "outputs": [],
   "source": [
    "from sklearn.feature_extraction.text import TfidfVectorizer\n",
    "tfidf_vectorizer = TfidfVectorizer(max_df=0.90, min_df=2, stop_words='english')\n",
    "# TF-IDF feature matrix\n",
    "X1 = tfidf_vectorizer.fit_transform(cor).toarray()"
   ]
  },
  {
   "cell_type": "code",
   "execution_count": 672,
   "metadata": {},
   "outputs": [],
   "source": [
    "#Preparing the test array\n",
    "Y = train1.iloc[:,1].values"
   ]
  },
  {
   "cell_type": "code",
   "execution_count": 678,
   "metadata": {},
   "outputs": [
    {
     "name": "stdout",
     "output_type": "stream",
     "text": [
      "[0.71166448 0.55511811 0.52299606 0.51116951 0.56504599 0.63600526\n",
      " 0.6412615  0.6346912  0.71353482 0.73193167]\n",
      "0.6223418597799146\n"
     ]
    }
   ],
   "source": [
    "#Logistic Regression using 10 fold - cross validation(Bag of words)\n",
    "from sklearn.model_selection import cross_val_score\n",
    "lr = LogisticRegression()\n",
    "scores = cross_val_score(lr, X, Y, cv=10, scoring='accuracy')\n",
    "print(scores)\n",
    "s0 = scores.mean()\n",
    "print(s0)"
   ]
  },
  {
   "cell_type": "code",
   "execution_count": 679,
   "metadata": {},
   "outputs": [
    {
     "name": "stdout",
     "output_type": "stream",
     "text": [
      "[0.72477064 0.62204724 0.58869908 0.61498029 0.62680683 0.65045992\n",
      " 0.65571616 0.64914586 0.71222076 0.78318003]\n",
      "0.6628026821907362\n"
     ]
    }
   ],
   "source": [
    "#Logistic Regression using 10 fold - cross validation(TFIDF)\n",
    "from sklearn.model_selection import cross_val_score\n",
    "lr = LogisticRegression()\n",
    "scores = cross_val_score(lr, X1, Y, cv=10, scoring='accuracy')\n",
    "print(scores)\n",
    "s0 = scores.mean()\n",
    "print(s0)"
   ]
  },
  {
   "cell_type": "code",
   "execution_count": 680,
   "metadata": {},
   "outputs": [
    {
     "name": "stdout",
     "output_type": "stream",
     "text": [
      "[0.71952818 0.61417323 0.61103811 0.52036794 0.6412615  0.6609724\n",
      " 0.69382392 0.70302234 0.72404731 0.73587385]\n",
      "0.6624108765328733\n"
     ]
    }
   ],
   "source": [
    "#Naive Bayes using 10 fold - cross validation(Bag of words)\n",
    "from sklearn.model_selection import cross_val_score\n",
    "nb = MultinomialNB()\n",
    "scores = cross_val_score(nb, X, Y, cv=10, scoring='accuracy')\n",
    "print(scores)\n",
    "s0 = scores.mean()\n",
    "print(s0)"
   ]
  },
  {
   "cell_type": "code",
   "execution_count": 681,
   "metadata": {},
   "outputs": [
    {
     "name": "stdout",
     "output_type": "stream",
     "text": [
      "[0.71952818 0.62860892 0.63994744 0.5781866  0.67411301 0.67148489\n",
      " 0.70696452 0.68988173 0.75689882 0.76346912]\n",
      "0.6829083225649971\n"
     ]
    }
   ],
   "source": [
    "#Naive Bayes using 10 fold - cross validation(Bag of words)\n",
    "from sklearn.model_selection import cross_val_score\n",
    "nb = MultinomialNB()\n",
    "scores = cross_val_score(nb, X1, Y, cv=10, scoring='accuracy')\n",
    "print(scores)\n",
    "s0 = scores.mean()\n",
    "print(s0)"
   ]
  },
  {
   "cell_type": "code",
   "execution_count": 682,
   "metadata": {},
   "outputs": [
    {
     "name": "stdout",
     "output_type": "stream",
     "text": [
      "[0.69593709 0.55380577 0.45729304 0.38633377 0.48883049 0.60972405\n",
      " 0.53745072 0.60052562 0.6346912  0.6544021 ]\n",
      "0.5618993850256053\n"
     ]
    }
   ],
   "source": [
    "#Random Forest using 10 fold - cross validation(Bag of words)\n",
    "from sklearn.model_selection import cross_val_score\n",
    "rf = RandomForestClassifier()\n",
    "scores = cross_val_score(rf, X, Y, cv=10, scoring='accuracy')\n",
    "print(scores)\n",
    "s0 = scores.mean()\n",
    "print(s0)"
   ]
  },
  {
   "cell_type": "code",
   "execution_count": 714,
   "metadata": {},
   "outputs": [
    {
     "data": {
      "text/html": [
       "<div>\n",
       "<style scoped>\n",
       "    .dataframe tbody tr th:only-of-type {\n",
       "        vertical-align: middle;\n",
       "    }\n",
       "\n",
       "    .dataframe tbody tr th {\n",
       "        vertical-align: top;\n",
       "    }\n",
       "\n",
       "    .dataframe thead th {\n",
       "        text-align: right;\n",
       "    }\n",
       "</style>\n",
       "<table border=\"1\" class=\"dataframe\">\n",
       "  <thead>\n",
       "    <tr style=\"text-align: right;\">\n",
       "      <th></th>\n",
       "      <th>Clean_Text</th>\n",
       "      <th>target</th>\n",
       "    </tr>\n",
       "  </thead>\n",
       "  <tbody>\n",
       "    <tr>\n",
       "      <td>0</td>\n",
       "      <td>deed reason earthquak may allah forgiv u</td>\n",
       "      <td>1</td>\n",
       "    </tr>\n",
       "    <tr>\n",
       "      <td>1</td>\n",
       "      <td>forest fire near la rong sask canada</td>\n",
       "      <td>1</td>\n",
       "    </tr>\n",
       "    <tr>\n",
       "      <td>2</td>\n",
       "      <td>resid ask shelter place notifi offic evacu she...</td>\n",
       "      <td>1</td>\n",
       "    </tr>\n",
       "    <tr>\n",
       "      <td>3</td>\n",
       "      <td>peopl receiv wildfir evacu order california</td>\n",
       "      <td>1</td>\n",
       "    </tr>\n",
       "    <tr>\n",
       "      <td>4</td>\n",
       "      <td>got sent photo rubi alaska smoke wildfir pour ...</td>\n",
       "      <td>1</td>\n",
       "    </tr>\n",
       "  </tbody>\n",
       "</table>\n",
       "</div>"
      ],
      "text/plain": [
       "                                          Clean_Text  target\n",
       "0           deed reason earthquak may allah forgiv u       1\n",
       "1               forest fire near la rong sask canada       1\n",
       "2  resid ask shelter place notifi offic evacu she...       1\n",
       "3        peopl receiv wildfir evacu order california       1\n",
       "4  got sent photo rubi alaska smoke wildfir pour ...       1"
      ]
     },
     "execution_count": 714,
     "metadata": {},
     "output_type": "execute_result"
    }
   ],
   "source": [
    "train1.head()"
   ]
  },
  {
   "cell_type": "code",
   "execution_count": 843,
   "metadata": {},
   "outputs": [],
   "source": [
    "#Modelling part 2 (Without pipeline)\n",
    "#Bag of words\n",
    "cv = CountVectorizer()\n",
    "X = cv.fit_transform(cor1)\n",
    "y = train1['target'].values\n",
    "\n",
    "#TFIDF\n",
    "tfidf = TfidfVectorizer()\n",
    "X = cv.fit_transform(cor1)\n",
    "y = train1['target'].values"
   ]
  },
  {
   "cell_type": "code",
   "execution_count": 718,
   "metadata": {},
   "outputs": [],
   "source": [
    "#Split the train data set to train and test data\n",
    "X_train , X_test , y_train , y_test = train_test_split(X,y,test_size=0.2, random_state=2020)\n",
    "X1_train , X1_test , y1_train , y1_test = train_test_split(X1,y,test_size=0.2, random_state=2020)\n"
   ]
  },
  {
   "cell_type": "code",
   "execution_count": null,
   "metadata": {},
   "outputs": [],
   "source": []
  },
  {
   "cell_type": "code",
   "execution_count": 722,
   "metadata": {},
   "outputs": [
    {
     "name": "stdout",
     "output_type": "stream",
     "text": [
      "Predicted    0    1\n",
      "Actual             \n",
      "0          755   94\n",
      "1          197  477\n",
      "              precision    recall  f1-score   support\n",
      "\n",
      "           0       0.79      0.89      0.84       849\n",
      "           1       0.84      0.71      0.77       674\n",
      "\n",
      "    accuracy                           0.81      1523\n",
      "   macro avg       0.81      0.80      0.80      1523\n",
      "weighted avg       0.81      0.81      0.81      1523\n",
      "\n",
      "Logistic Regression Model Accuracy Score for Train Data set is 0.9533661740558292\n",
      "Logistic Regression Model Accuracy Score for Test Data set is 0.8089297439264609\n",
      "Logistic Regression Model F1 Score is 0.7662650602409639\n"
     ]
    }
   ],
   "source": [
    "#Logistic Regression(Bag of words)\n",
    "# Fitting Logistic Regression Model to the Training set\n",
    "lr = LogisticRegression()\n",
    "lr.fit(X_train, y_train)\n",
    "# Predicting the Train data set results\n",
    "y_pred_lr = lr.predict(X_test)\n",
    "# Making the Confusion Matrix\n",
    "print(pd.crosstab(y_test,y_pred_lr,rownames=['Actual'],colnames=['Predicted']))\n",
    "print(classification_report(y_test, y_pred_lr))\n",
    "\n",
    "#Calculating Model Accuracy\n",
    "print('Logistic Regression Model Accuracy Score for Train Data set is {}'.format(lr.score(X_train, y_train)))\n",
    "print('Logistic Regression Model Accuracy Score for Test Data set is {}'.format(lr.score(X_test, y_test)))\n",
    "print('Logistic Regression Model F1 Score is {}'.format(f1_score(y_test, y_pred_lr)))"
   ]
  },
  {
   "cell_type": "code",
   "execution_count": 727,
   "metadata": {},
   "outputs": [
    {
     "name": "stdout",
     "output_type": "stream",
     "text": [
      "Predicted    0    1\n",
      "Actual             \n",
      "0          795   54\n",
      "1          242  432\n",
      "              precision    recall  f1-score   support\n",
      "\n",
      "           0       0.77      0.94      0.84       849\n",
      "           1       0.89      0.64      0.74       674\n",
      "\n",
      "    accuracy                           0.81      1523\n",
      "   macro avg       0.83      0.79      0.79      1523\n",
      "weighted avg       0.82      0.81      0.80      1523\n",
      "\n",
      "Logistic Regression Model Accuracy Score for Train Data set is 0.8839080459770114\n",
      "Logistic Regression Model Accuracy Score for Test Data set is 0.8056467498358503\n",
      "Logistic Regression Model F1 Score is 0.7448275862068966\n"
     ]
    }
   ],
   "source": [
    "#Logistic Regression(TFIDF)\n",
    "# Fitting Logistic Regression Model to the Training set\n",
    "lr = LogisticRegression()\n",
    "lr.fit(X1_train, y1_train)\n",
    "# Predicting the Train data set results\n",
    "y_pred_lr = lr.predict(X1_test)\n",
    "# Making the Confusion Matrix\n",
    "print(pd.crosstab(y1_test,y_pred_lr,rownames=['Actual'],colnames=['Predicted']))\n",
    "print(classification_report(y1_test, y_pred_lr))\n",
    "\n",
    "#Calculating Model Accuracy\n",
    "print('Logistic Regression Model Accuracy Score for Train Data set is {}'.format(lr.score(X1_train, y1_train)))\n",
    "print('Logistic Regression Model Accuracy Score for Test Data set is {}'.format(lr.score(X1_test, y1_test)))\n",
    "print('Logistic Regression Model F1 Score is {}'.format(f1_score(y1_test, y_pred_lr)))"
   ]
  },
  {
   "cell_type": "code",
   "execution_count": 732,
   "metadata": {},
   "outputs": [
    {
     "name": "stdout",
     "output_type": "stream",
     "text": [
      "Predicted    0    1\n",
      "Actual             \n",
      "0          764   85\n",
      "1          267  407\n",
      "              precision    recall  f1-score   support\n",
      "\n",
      "           0       0.74      0.90      0.81       849\n",
      "           1       0.83      0.60      0.70       674\n",
      "\n",
      "    accuracy                           0.77      1523\n",
      "   macro avg       0.78      0.75      0.76      1523\n",
      "weighted avg       0.78      0.77      0.76      1523\n",
      "\n",
      "Random Forest Model Accuracy Score for Train Data set is 0.9706075533661741\n",
      "Random Forest Model Accuracy Score for Test Data set is 0.7688772160210111\n",
      "Random Forest Model F1 Score is 0.6981132075471698\n"
     ]
    }
   ],
   "source": [
    "#Random Forest with bag of words -\n",
    "rf = RandomForestClassifier()\n",
    "rf.fit(X_train, y_train)\n",
    "# Predicting the Train data set results\n",
    "y_pred_rf = rf.predict(X_test)\n",
    "# Making the Confusion Matrix\n",
    "print(pd.crosstab(y_test,y_pred_rf,rownames=['Actual'],colnames=['Predicted']))\n",
    "print(classification_report(y_test, y_pred_rf))\n",
    "\n",
    "#Calculating Model Accuracy\n",
    "print('Random Forest Model Accuracy Score for Train Data set is {}'.format(rf.score(X_train, y_train)))\n",
    "print('Random Forest Model Accuracy Score for Test Data set is {}'.format(rf.score(X_test, y_test)))\n",
    "print('Random Forest Model F1 Score is {}'.format(f1_score(y_test, y_pred_rf)))"
   ]
  },
  {
   "cell_type": "code",
   "execution_count": 755,
   "metadata": {},
   "outputs": [
    {
     "name": "stdout",
     "output_type": "stream",
     "text": [
      "Predicted    0    1\n",
      "Actual             \n",
      "0          764   85\n",
      "1          248  426\n",
      "              precision    recall  f1-score   support\n",
      "\n",
      "           0       0.75      0.90      0.82       849\n",
      "           1       0.83      0.63      0.72       674\n",
      "\n",
      "    accuracy                           0.78      1523\n",
      "   macro avg       0.79      0.77      0.77      1523\n",
      "weighted avg       0.79      0.78      0.78      1523\n",
      "\n",
      "Random Forest Model Accuracy Score for Train Data set is 0.9669950738916256\n",
      "Random Forest Model Accuracy Score for Test Data set is 0.7813525935653316\n",
      "Random Forest Model F1 Score is 0.7189873417721517\n"
     ]
    }
   ],
   "source": [
    "#Random Forest(TFIDF)\n",
    "rf1 = RandomForestClassifier()\n",
    "rf1.fit(X1_train, y1_train)\n",
    "# Predicting the Train data set results\n",
    "y_pred_rf1 = rf1.predict(X1_test)\n",
    "# Making the Confusion Matrix\n",
    "print(pd.crosstab(y1_test,y_pred_rf1,rownames=['Actual'],colnames=['Predicted']))\n",
    "print(classification_report(y1_test, y_pred_rf1))\n",
    "\n",
    "#Calculating Model Accuracy\n",
    "print('Random Forest Model Accuracy Score for Train Data set is {}'.format(rf1.score(X1_train, y1_train)))\n",
    "print('Random Forest Model Accuracy Score for Test Data set is {}'.format(rf1.score(X1_test, y1_test)))\n",
    "print('Random Forest Model F1 Score is {}'.format(f1_score(y1_test, y_pred_rf1)))"
   ]
  },
  {
   "cell_type": "code",
   "execution_count": 799,
   "metadata": {},
   "outputs": [
    {
     "name": "stdout",
     "output_type": "stream",
     "text": [
      "Predicted    0    1\n",
      "Actual             \n",
      "0          718  131\n",
      "1          180  494\n",
      "              precision    recall  f1-score   support\n",
      "\n",
      "           0       0.80      0.85      0.82       849\n",
      "           1       0.79      0.73      0.76       674\n",
      "\n",
      "    accuracy                           0.80      1523\n",
      "   macro avg       0.79      0.79      0.79      1523\n",
      "weighted avg       0.80      0.80      0.79      1523\n",
      "\n",
      "Naive Bayes Model Accuracy Score for Train Data set is 0.906568144499179\n",
      "Naive Bayes Model Accuracy Score for Test Data set is 0.7957977675640184\n",
      "Naive Bayes Model F1 Score is 0.7605850654349501\n"
     ]
    }
   ],
   "source": [
    "#Naive Bayes with bag of words -\n",
    "nb = MultinomialNB()\n",
    "nb.fit(X_train, y_train)\n",
    "# Predicting the Train data set results\n",
    "y_pred_nb = nb.predict(X_test)\n",
    "# Making the Confusion Matrix\n",
    "print(pd.crosstab(y_test,y_pred_nb,rownames=['Actual'],colnames=['Predicted']))\n",
    "print(classification_report(y_test, y_pred_nb))\n",
    "\n",
    "#Calculating Model Accuracy\n",
    "print('Naive Bayes Model Accuracy Score for Train Data set is {}'.format(nb.score(X_train, y_train)))\n",
    "print('Naive Bayes Model Accuracy Score for Test Data set is {}'.format(nb.score(X_test, y_test)))\n",
    "print('Naive Bayes Model F1 Score is {}'.format(f1_score(y_test, y_pred_nb)))"
   ]
  },
  {
   "cell_type": "code",
   "execution_count": 778,
   "metadata": {},
   "outputs": [
    {
     "name": "stdout",
     "output_type": "stream",
     "text": [
      "Predicted    0    1\n",
      "Actual             \n",
      "0          768   81\n",
      "1          221  453\n",
      "              precision    recall  f1-score   support\n",
      "\n",
      "           0       0.78      0.90      0.84       849\n",
      "           1       0.85      0.67      0.75       674\n",
      "\n",
      "    accuracy                           0.80      1523\n",
      "   macro avg       0.81      0.79      0.79      1523\n",
      "weighted avg       0.81      0.80      0.80      1523\n",
      "\n",
      "Naive Bayes Model Accuracy Score for Train Data set is 0.8940886699507389\n",
      "Naive Bayes Model Accuracy Score for Test Data set is 0.8017071569271176\n",
      "Naive Bayes Model F1 Score is 0.7499999999999999\n"
     ]
    }
   ],
   "source": [
    "#Naive Bayes(TFIDF)\n",
    "nb1 = MultinomialNB()\n",
    "nb1.fit(X1_train, y1_train)\n",
    "# Predicting the Train data set results\n",
    "y_pred_nb1 = nb1.predict(X1_test)\n",
    "# Making the Confusion Matrix\n",
    "print(pd.crosstab(y1_test,y_pred_nb1,rownames=['Actual'],colnames=['Predicted']))\n",
    "print(classification_report(y1_test, y_pred_nb1))\n",
    "\n",
    "#Calculating Model Accuracy\n",
    "print('Naive Bayes Model Accuracy Score for Train Data set is {}'.format(nb1.score(X1_train, y1_train)))\n",
    "print('Naive Bayes Model Accuracy Score for Test Data set is {}'.format(nb1.score(X1_test, y1_test)))\n",
    "print('Naive Bayes Model F1 Score is {}'.format(f1_score(y1_test, y_pred_nb1)))"
   ]
  },
  {
   "cell_type": "code",
   "execution_count": 781,
   "metadata": {},
   "outputs": [
    {
     "data": {
      "text/plain": [
       "MultinomialNB(alpha=1.0, class_prior=None, fit_prior=True)"
      ]
     },
     "execution_count": 781,
     "metadata": {},
     "output_type": "execute_result"
    }
   ],
   "source": [
    "#Thus the best model is Naive bayes with least number of False Negatives.\n",
    "nb"
   ]
  },
  {
   "cell_type": "code",
   "execution_count": 857,
   "metadata": {},
   "outputs": [],
   "source": [
    "test = pd.read_csv(\"Disaster_test.csv\")\n",
    "df = pd.read_csv(\"sample_submission.csv\")"
   ]
  },
  {
   "cell_type": "code",
   "execution_count": 858,
   "metadata": {},
   "outputs": [
    {
     "data": {
      "text/html": [
       "<div>\n",
       "<style scoped>\n",
       "    .dataframe tbody tr th:only-of-type {\n",
       "        vertical-align: middle;\n",
       "    }\n",
       "\n",
       "    .dataframe tbody tr th {\n",
       "        vertical-align: top;\n",
       "    }\n",
       "\n",
       "    .dataframe thead th {\n",
       "        text-align: right;\n",
       "    }\n",
       "</style>\n",
       "<table border=\"1\" class=\"dataframe\">\n",
       "  <thead>\n",
       "    <tr style=\"text-align: right;\">\n",
       "      <th></th>\n",
       "      <th>Clean_Text</th>\n",
       "      <th>target</th>\n",
       "    </tr>\n",
       "  </thead>\n",
       "  <tbody>\n",
       "    <tr>\n",
       "      <td>0</td>\n",
       "      <td>deed reason earthquak may allah forgiv u</td>\n",
       "      <td>1</td>\n",
       "    </tr>\n",
       "    <tr>\n",
       "      <td>1</td>\n",
       "      <td>forest fire near la rong sask canada</td>\n",
       "      <td>1</td>\n",
       "    </tr>\n",
       "    <tr>\n",
       "      <td>2</td>\n",
       "      <td>resid ask shelter place notifi offic evacu she...</td>\n",
       "      <td>1</td>\n",
       "    </tr>\n",
       "    <tr>\n",
       "      <td>3</td>\n",
       "      <td>peopl receiv wildfir evacu order california</td>\n",
       "      <td>1</td>\n",
       "    </tr>\n",
       "    <tr>\n",
       "      <td>4</td>\n",
       "      <td>got sent photo rubi alaska smoke wildfir pour ...</td>\n",
       "      <td>1</td>\n",
       "    </tr>\n",
       "  </tbody>\n",
       "</table>\n",
       "</div>"
      ],
      "text/plain": [
       "                                          Clean_Text  target\n",
       "0           deed reason earthquak may allah forgiv u       1\n",
       "1               forest fire near la rong sask canada       1\n",
       "2  resid ask shelter place notifi offic evacu she...       1\n",
       "3        peopl receiv wildfir evacu order california       1\n",
       "4  got sent photo rubi alaska smoke wildfir pour ...       1"
      ]
     },
     "execution_count": 858,
     "metadata": {},
     "output_type": "execute_result"
    }
   ],
   "source": [
    "train1.head()"
   ]
  },
  {
   "cell_type": "code",
   "execution_count": 859,
   "metadata": {},
   "outputs": [],
   "source": [
    "x = train1[\"Clean_Text\"]\n",
    "y = train1[\"target\"]"
   ]
  },
  {
   "cell_type": "code",
   "execution_count": 860,
   "metadata": {},
   "outputs": [],
   "source": [
    "X_train, X_test, y_train, y_test = train_test_split(x, y, test_size=0.2, random_state=42)"
   ]
  },
  {
   "cell_type": "code",
   "execution_count": 861,
   "metadata": {},
   "outputs": [],
   "source": [
    "cv = CountVectorizer(stop_words = 'english')\n",
    "x_train_cv = vect.fit_transform(X_train)\n",
    "x_test_cv = vect.transform(X_test)"
   ]
  },
  {
   "cell_type": "code",
   "execution_count": 873,
   "metadata": {},
   "outputs": [
    {
     "name": "stdout",
     "output_type": "stream",
     "text": [
      "Predicted    0    1\n",
      "Actual             \n",
      "0          727  147\n",
      "1          174  475\n",
      "              precision    recall  f1-score   support\n",
      "\n",
      "           0       0.81      0.83      0.82       874\n",
      "           1       0.76      0.73      0.75       649\n",
      "\n",
      "    accuracy                           0.79      1523\n",
      "   macro avg       0.79      0.78      0.78      1523\n",
      "weighted avg       0.79      0.79      0.79      1523\n",
      "\n",
      "Accuracy of the model is 79.0%\n"
     ]
    }
   ],
   "source": [
    "nb = MultinomialNB()\n",
    "nb.fit(x_train_cv, y_train)\n",
    "pred = nb.predict(x_test_cv)\n",
    "print(pd.crosstab(y_test,pred,rownames=['Actual'],colnames=['Predicted']))\n",
    "print(classification_report(y_test, pred))\n",
    "print('Accuracy of the model is {}%'.format(round(accuracy_score(y_test,pred)*100),2))"
   ]
  },
  {
   "cell_type": "code",
   "execution_count": 874,
   "metadata": {},
   "outputs": [
    {
     "data": {
      "text/html": [
       "<div>\n",
       "<style scoped>\n",
       "    .dataframe tbody tr th:only-of-type {\n",
       "        vertical-align: middle;\n",
       "    }\n",
       "\n",
       "    .dataframe tbody tr th {\n",
       "        vertical-align: top;\n",
       "    }\n",
       "\n",
       "    .dataframe thead th {\n",
       "        text-align: right;\n",
       "    }\n",
       "</style>\n",
       "<table border=\"1\" class=\"dataframe\">\n",
       "  <thead>\n",
       "    <tr style=\"text-align: right;\">\n",
       "      <th></th>\n",
       "      <th>id</th>\n",
       "      <th>keyword</th>\n",
       "      <th>location</th>\n",
       "      <th>text</th>\n",
       "    </tr>\n",
       "  </thead>\n",
       "  <tbody>\n",
       "    <tr>\n",
       "      <td>0</td>\n",
       "      <td>0</td>\n",
       "      <td>NaN</td>\n",
       "      <td>NaN</td>\n",
       "      <td>Just happened a terrible car crash</td>\n",
       "    </tr>\n",
       "    <tr>\n",
       "      <td>1</td>\n",
       "      <td>2</td>\n",
       "      <td>NaN</td>\n",
       "      <td>NaN</td>\n",
       "      <td>Heard about #earthquake is different cities, s...</td>\n",
       "    </tr>\n",
       "    <tr>\n",
       "      <td>2</td>\n",
       "      <td>3</td>\n",
       "      <td>NaN</td>\n",
       "      <td>NaN</td>\n",
       "      <td>there is a forest fire at spot pond, geese are...</td>\n",
       "    </tr>\n",
       "    <tr>\n",
       "      <td>3</td>\n",
       "      <td>9</td>\n",
       "      <td>NaN</td>\n",
       "      <td>NaN</td>\n",
       "      <td>Apocalypse lighting. #Spokane #wildfires</td>\n",
       "    </tr>\n",
       "    <tr>\n",
       "      <td>4</td>\n",
       "      <td>11</td>\n",
       "      <td>NaN</td>\n",
       "      <td>NaN</td>\n",
       "      <td>Typhoon Soudelor kills 28 in China and Taiwan</td>\n",
       "    </tr>\n",
       "  </tbody>\n",
       "</table>\n",
       "</div>"
      ],
      "text/plain": [
       "   id keyword location                                               text\n",
       "0   0     NaN      NaN                 Just happened a terrible car crash\n",
       "1   2     NaN      NaN  Heard about #earthquake is different cities, s...\n",
       "2   3     NaN      NaN  there is a forest fire at spot pond, geese are...\n",
       "3   9     NaN      NaN           Apocalypse lighting. #Spokane #wildfires\n",
       "4  11     NaN      NaN      Typhoon Soudelor kills 28 in China and Taiwan"
      ]
     },
     "execution_count": 874,
     "metadata": {},
     "output_type": "execute_result"
    }
   ],
   "source": [
    "test.head()"
   ]
  },
  {
   "cell_type": "code",
   "execution_count": 876,
   "metadata": {},
   "outputs": [],
   "source": [
    "#Predicting on the test dataset\n",
    "y_test = test[\"text\"]\n",
    "y_test_cv = vect.transform(y_test)\n",
    "preds = nb.predict(y_test_cv)"
   ]
  },
  {
   "cell_type": "code",
   "execution_count": 934,
   "metadata": {},
   "outputs": [],
   "source": [
    "#Preparing the submission file\n",
    "df[\"target\"] = preds\n",
    "df.to_csv(\"submission.csv\",index=False)"
   ]
  },
  {
   "cell_type": "code",
   "execution_count": null,
   "metadata": {},
   "outputs": [],
   "source": []
  }
 ],
 "metadata": {
  "kernelspec": {
   "display_name": "Python 3",
   "language": "python",
   "name": "python3"
  },
  "language_info": {
   "codemirror_mode": {
    "name": "ipython",
    "version": 3
   },
   "file_extension": ".py",
   "mimetype": "text/x-python",
   "name": "python",
   "nbconvert_exporter": "python",
   "pygments_lexer": "ipython3",
   "version": "3.7.4"
  }
 },
 "nbformat": 4,
 "nbformat_minor": 2
}
